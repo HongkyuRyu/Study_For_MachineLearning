{
 "cells": [
  {
   "cell_type": "markdown",
   "metadata": {
    "id": "y1J78TFSRrSA"
   },
   "source": [
    "<center><img src='https://raw.githubusercontent.com/Jangrae/img/master/ml_python.png' width=600/></center>"
   ]
  },
  {
   "cell_type": "markdown",
   "metadata": {},
   "source": [
    "<img src = \"https://github.com/Jangrae/img/blob/master/medical2.png?raw=true\" width=800 align=\"left\"/>"
   ]
  },
  {
   "cell_type": "markdown",
   "metadata": {
    "id": "elUlK1gCJHGh"
   },
   "source": [
    "# 실습 내용\n",
    "\n",
    "- 다양한 알고리즘으로 모델을 만들고 성능을 예측합니다.\n",
    "- 성능이 좋을 것으로 판단된 모델의 성능을 튜닝합니다.\n",
    "- 튜닝된 모델의 성능을 평가합니다."
   ]
  },
  {
   "cell_type": "markdown",
   "metadata": {
    "id": "IciCQGJy5PO-"
   },
   "source": [
    "# 1.환경 준비\n",
    "\n",
    "- 기본 라이브러리와 대상 데이터를 가져와 이후 과정을 준비합니다."
   ]
  },
  {
   "cell_type": "code",
   "execution_count": 178,
   "metadata": {
    "executionInfo": {
     "elapsed": 10,
     "status": "ok",
     "timestamp": 1641733720381,
     "user": {
      "displayName": "Jangrae Lee",
      "photoUrl": "https://lh3.googleusercontent.com/a-/AOh14Gh1Pd8OuWJU2cv7uTt-fURrgvty7atx_Wtarmx0-A=s64",
      "userId": "08475661575434032088"
     },
     "user_tz": -540
    },
    "id": "jB0l6oqDsG8B"
   },
   "outputs": [],
   "source": [
    "# 라이브러리 불러오기\n",
    "import numpy as np\n",
    "import pandas as pd\n",
    "import matplotlib.pyplot as plt\n",
    "import seaborn as sns\n",
    "import warnings\n",
    "\n",
    "import sklearn.ensemble\n",
    "\n",
    "warnings.filterwarnings(action='ignore')\n",
    "%config InlineBackend.figure_format = 'retina'"
   ]
  },
  {
   "cell_type": "code",
   "execution_count": 179,
   "metadata": {
    "executionInfo": {
     "elapsed": 317,
     "status": "ok",
     "timestamp": 1641733720692,
     "user": {
      "displayName": "Jangrae Lee",
      "photoUrl": "https://lh3.googleusercontent.com/a-/AOh14Gh1Pd8OuWJU2cv7uTt-fURrgvty7atx_Wtarmx0-A=s64",
      "userId": "08475661575434032088"
     },
     "user_tz": -540
    },
    "id": "PXqyu_0LsG8C"
   },
   "outputs": [],
   "source": [
    "# 데이터 불러오기\n",
    "path = 'https://raw.githubusercontent.com/jangrae/csv/master/insurance.csv'\n",
    "data = pd.read_csv(path)"
   ]
  },
  {
   "cell_type": "markdown",
   "metadata": {
    "id": "hDHOQrUbNGSK"
   },
   "source": [
    "# 2.데이터 이해\n",
    "\n",
    "- 분석할 데이터를 충분히 이해할 수 있도록 다양한 탐색 과정을 수행합니다."
   ]
  },
  {
   "cell_type": "markdown",
   "source": [
    "- 의료비를 예측하는 것이다."
   ],
   "metadata": {
    "collapsed": false
   }
  },
  {
   "cell_type": "code",
   "execution_count": 180,
   "metadata": {
    "colab": {
     "base_uri": "https://localhost:8080/",
     "height": 206
    },
    "executionInfo": {
     "elapsed": 8,
     "status": "ok",
     "timestamp": 1641733720693,
     "user": {
      "displayName": "Jangrae Lee",
      "photoUrl": "https://lh3.googleusercontent.com/a-/AOh14Gh1Pd8OuWJU2cv7uTt-fURrgvty7atx_Wtarmx0-A=s64",
      "userId": "08475661575434032088"
     },
     "user_tz": -540
    },
    "id": "Z1ahypi3irLz",
    "outputId": "c2ebfe3a-0e79-481c-8b5b-5ee6859b5806"
   },
   "outputs": [
    {
     "data": {
      "text/plain": "   age     sex     bmi  children smoker     region      charges\n0   19  female  27.900         0    yes  southwest  16884.92400\n1   18    male  33.770         1     no  southeast   1725.55230\n2   28    male  33.000         3     no  southeast   4449.46200\n3   33    male  22.705         0     no  northwest  21984.47061\n4   32    male  28.880         0     no  northwest   3866.85520",
      "text/html": "<div>\n<style scoped>\n    .dataframe tbody tr th:only-of-type {\n        vertical-align: middle;\n    }\n\n    .dataframe tbody tr th {\n        vertical-align: top;\n    }\n\n    .dataframe thead th {\n        text-align: right;\n    }\n</style>\n<table border=\"1\" class=\"dataframe\">\n  <thead>\n    <tr style=\"text-align: right;\">\n      <th></th>\n      <th>age</th>\n      <th>sex</th>\n      <th>bmi</th>\n      <th>children</th>\n      <th>smoker</th>\n      <th>region</th>\n      <th>charges</th>\n    </tr>\n  </thead>\n  <tbody>\n    <tr>\n      <th>0</th>\n      <td>19</td>\n      <td>female</td>\n      <td>27.900</td>\n      <td>0</td>\n      <td>yes</td>\n      <td>southwest</td>\n      <td>16884.92400</td>\n    </tr>\n    <tr>\n      <th>1</th>\n      <td>18</td>\n      <td>male</td>\n      <td>33.770</td>\n      <td>1</td>\n      <td>no</td>\n      <td>southeast</td>\n      <td>1725.55230</td>\n    </tr>\n    <tr>\n      <th>2</th>\n      <td>28</td>\n      <td>male</td>\n      <td>33.000</td>\n      <td>3</td>\n      <td>no</td>\n      <td>southeast</td>\n      <td>4449.46200</td>\n    </tr>\n    <tr>\n      <th>3</th>\n      <td>33</td>\n      <td>male</td>\n      <td>22.705</td>\n      <td>0</td>\n      <td>no</td>\n      <td>northwest</td>\n      <td>21984.47061</td>\n    </tr>\n    <tr>\n      <th>4</th>\n      <td>32</td>\n      <td>male</td>\n      <td>28.880</td>\n      <td>0</td>\n      <td>no</td>\n      <td>northwest</td>\n      <td>3866.85520</td>\n    </tr>\n  </tbody>\n</table>\n</div>"
     },
     "execution_count": 180,
     "metadata": {},
     "output_type": "execute_result"
    }
   ],
   "source": [
    "# 데이터 살펴보기\n",
    "data.head()"
   ]
  },
  {
   "cell_type": "markdown",
   "metadata": {},
   "source": [
    "**데이터 설명**\n",
    "\n",
    "- age: 나이\n",
    "- sex: 성별(female, male)\n",
    "- bmi: 체질량지수(체중을 키의 제곱으로 나눈 값, 적정수준:18.5 - 24.9)\n",
    "- children: 자녀 수\n",
    "- smoker: 흡연 여부\n",
    "- region: 거주지역(northeast, southeast, southwest, northwest)\n",
    "- charges: 건강보험에서 지불한 의료비 - Target"
   ]
  },
  {
   "cell_type": "code",
   "execution_count": 181,
   "metadata": {
    "colab": {
     "base_uri": "https://localhost:8080/",
     "height": 300
    },
    "executionInfo": {
     "elapsed": 287,
     "status": "ok",
     "timestamp": 1641733720974,
     "user": {
      "displayName": "Jangrae Lee",
      "photoUrl": "https://lh3.googleusercontent.com/a-/AOh14Gh1Pd8OuWJU2cv7uTt-fURrgvty7atx_Wtarmx0-A=s64",
      "userId": "08475661575434032088"
     },
     "user_tz": -540
    },
    "id": "HGHlgWSwtSYh",
    "outputId": "b1ec2c59-48c7-44eb-cdd9-bd00c7b35ed4"
   },
   "outputs": [
    {
     "data": {
      "text/plain": "               age          bmi     children       charges\ncount  1338.000000  1338.000000  1338.000000   1338.000000\nmean     39.207025    30.663397     1.094918  13270.422265\nstd      14.049960     6.098187     1.205493  12110.011237\nmin      18.000000    15.960000     0.000000   1121.873900\n25%      27.000000    26.296250     0.000000   4740.287150\n50%      39.000000    30.400000     1.000000   9382.033000\n75%      51.000000    34.693750     2.000000  16639.912515\nmax      64.000000    53.130000     5.000000  63770.428010",
      "text/html": "<div>\n<style scoped>\n    .dataframe tbody tr th:only-of-type {\n        vertical-align: middle;\n    }\n\n    .dataframe tbody tr th {\n        vertical-align: top;\n    }\n\n    .dataframe thead th {\n        text-align: right;\n    }\n</style>\n<table border=\"1\" class=\"dataframe\">\n  <thead>\n    <tr style=\"text-align: right;\">\n      <th></th>\n      <th>age</th>\n      <th>bmi</th>\n      <th>children</th>\n      <th>charges</th>\n    </tr>\n  </thead>\n  <tbody>\n    <tr>\n      <th>count</th>\n      <td>1338.000000</td>\n      <td>1338.000000</td>\n      <td>1338.000000</td>\n      <td>1338.000000</td>\n    </tr>\n    <tr>\n      <th>mean</th>\n      <td>39.207025</td>\n      <td>30.663397</td>\n      <td>1.094918</td>\n      <td>13270.422265</td>\n    </tr>\n    <tr>\n      <th>std</th>\n      <td>14.049960</td>\n      <td>6.098187</td>\n      <td>1.205493</td>\n      <td>12110.011237</td>\n    </tr>\n    <tr>\n      <th>min</th>\n      <td>18.000000</td>\n      <td>15.960000</td>\n      <td>0.000000</td>\n      <td>1121.873900</td>\n    </tr>\n    <tr>\n      <th>25%</th>\n      <td>27.000000</td>\n      <td>26.296250</td>\n      <td>0.000000</td>\n      <td>4740.287150</td>\n    </tr>\n    <tr>\n      <th>50%</th>\n      <td>39.000000</td>\n      <td>30.400000</td>\n      <td>1.000000</td>\n      <td>9382.033000</td>\n    </tr>\n    <tr>\n      <th>75%</th>\n      <td>51.000000</td>\n      <td>34.693750</td>\n      <td>2.000000</td>\n      <td>16639.912515</td>\n    </tr>\n    <tr>\n      <th>max</th>\n      <td>64.000000</td>\n      <td>53.130000</td>\n      <td>5.000000</td>\n      <td>63770.428010</td>\n    </tr>\n  </tbody>\n</table>\n</div>"
     },
     "execution_count": 181,
     "metadata": {},
     "output_type": "execute_result"
    }
   ],
   "source": [
    "# 기술통계 확인\n",
    "data.describe()"
   ]
  },
  {
   "cell_type": "markdown",
   "metadata": {
    "id": "xyfvv8VLTvgu",
    "tags": []
   },
   "source": [
    "# 3.데이터 준비\n",
    "\n",
    "- 전처리 과정을 통해 머신러닝 알고리즘에 사용할 수 있는 형태의 데이터를 준비합니다."
   ]
  },
  {
   "cell_type": "markdown",
   "metadata": {
    "id": "BE_0rwxPdErC"
   },
   "source": [
    "**1) x, y 분리**"
   ]
  },
  {
   "cell_type": "code",
   "execution_count": 182,
   "metadata": {
    "id": "Ops0CDL2dEDe"
   },
   "outputs": [
    {
     "name": "stdout",
     "output_type": "stream",
     "text": [
      "(1338, 6) (1338,)\n"
     ]
    }
   ],
   "source": [
    "# target 확인\n",
    "target = 'charges'\n",
    "\n",
    "# 데이터 분리\n",
    "x = data.drop(target, axis=1)\n",
    "y = data.loc[:, target]\n",
    "\n",
    "print(x.shape, y.shape)"
   ]
  },
  {
   "cell_type": "markdown",
   "metadata": {
    "id": "FmptGbWLBHn5"
   },
   "source": [
    "**2) 가변수화**"
   ]
  },
  {
   "cell_type": "code",
   "execution_count": 183,
   "metadata": {
    "id": "CDnjJtWVfGyx"
   },
   "outputs": [
    {
     "data": {
      "text/plain": "   age     bmi  children  sex_male  smoker_yes  region_northwest  \\\n0   19  27.900         0         0           1                 0   \n1   18  33.770         1         1           0                 0   \n2   28  33.000         3         1           0                 0   \n3   33  22.705         0         1           0                 1   \n4   32  28.880         0         1           0                 1   \n\n   region_southeast  region_southwest  \n0                 0                 1  \n1                 1                 0  \n2                 1                 0  \n3                 0                 0  \n4                 0                 0  ",
      "text/html": "<div>\n<style scoped>\n    .dataframe tbody tr th:only-of-type {\n        vertical-align: middle;\n    }\n\n    .dataframe tbody tr th {\n        vertical-align: top;\n    }\n\n    .dataframe thead th {\n        text-align: right;\n    }\n</style>\n<table border=\"1\" class=\"dataframe\">\n  <thead>\n    <tr style=\"text-align: right;\">\n      <th></th>\n      <th>age</th>\n      <th>bmi</th>\n      <th>children</th>\n      <th>sex_male</th>\n      <th>smoker_yes</th>\n      <th>region_northwest</th>\n      <th>region_southeast</th>\n      <th>region_southwest</th>\n    </tr>\n  </thead>\n  <tbody>\n    <tr>\n      <th>0</th>\n      <td>19</td>\n      <td>27.900</td>\n      <td>0</td>\n      <td>0</td>\n      <td>1</td>\n      <td>0</td>\n      <td>0</td>\n      <td>1</td>\n    </tr>\n    <tr>\n      <th>1</th>\n      <td>18</td>\n      <td>33.770</td>\n      <td>1</td>\n      <td>1</td>\n      <td>0</td>\n      <td>0</td>\n      <td>1</td>\n      <td>0</td>\n    </tr>\n    <tr>\n      <th>2</th>\n      <td>28</td>\n      <td>33.000</td>\n      <td>3</td>\n      <td>1</td>\n      <td>0</td>\n      <td>0</td>\n      <td>1</td>\n      <td>0</td>\n    </tr>\n    <tr>\n      <th>3</th>\n      <td>33</td>\n      <td>22.705</td>\n      <td>0</td>\n      <td>1</td>\n      <td>0</td>\n      <td>1</td>\n      <td>0</td>\n      <td>0</td>\n    </tr>\n    <tr>\n      <th>4</th>\n      <td>32</td>\n      <td>28.880</td>\n      <td>0</td>\n      <td>1</td>\n      <td>0</td>\n      <td>1</td>\n      <td>0</td>\n      <td>0</td>\n    </tr>\n  </tbody>\n</table>\n</div>"
     },
     "execution_count": 183,
     "metadata": {},
     "output_type": "execute_result"
    }
   ],
   "source": [
    "# 가변수화 대상: sex, smoker, region\n",
    "dumm_cols = ['sex', 'smoker', 'region']\n",
    "\n",
    "# 가변수화\n",
    "x = pd.get_dummies(x, columns=dumm_cols, drop_first=True)\n",
    "\n",
    "# 확인\n",
    "x.head()"
   ]
  },
  {
   "cell_type": "markdown",
   "metadata": {
    "id": "CIZn6GJhTPQy"
   },
   "source": [
    "**3) 학습용, 평가용 데이터 분리**"
   ]
  },
  {
   "cell_type": "code",
   "execution_count": 184,
   "metadata": {
    "id": "PktSAf43CpOB"
   },
   "outputs": [],
   "source": [
    "# 모듈 불러오기\n",
    "from sklearn.model_selection import train_test_split\n",
    "\n",
    "# 데이터 분리\n",
    "x_train, x_test, y_train, y_test = train_test_split(x, y, test_size=0.3, random_state=1)"
   ]
  },
  {
   "cell_type": "code",
   "execution_count": 185,
   "outputs": [
    {
     "data": {
      "text/plain": "((936, 8), (936,))"
     },
     "execution_count": 185,
     "metadata": {},
     "output_type": "execute_result"
    }
   ],
   "source": [
    "x_train.shape, y_train.shape"
   ],
   "metadata": {
    "collapsed": false
   }
  },
  {
   "cell_type": "markdown",
   "metadata": {
    "id": "3flw-FxfTMAs"
   },
   "source": [
    "**4) 정규화**"
   ]
  },
  {
   "cell_type": "code",
   "execution_count": 186,
   "metadata": {
    "colab": {
     "base_uri": "https://localhost:8080/",
     "height": 206
    },
    "executionInfo": {
     "elapsed": 7,
     "status": "ok",
     "timestamp": 1641221304886,
     "user": {
      "displayName": "Jangrae Lee",
      "photoUrl": "https://lh3.googleusercontent.com/a-/AOh14Gh1Pd8OuWJU2cv7uTt-fURrgvty7atx_Wtarmx0-A=s64",
      "userId": "08475661575434032088"
     },
     "user_tz": -540
    },
    "id": "yr7ohkRzCpr4",
    "outputId": "3766c160-7789-4b04-baf7-a2f1c7b0e036"
   },
   "outputs": [],
   "source": [
    "# 모듈 불러오기\n",
    "from sklearn.preprocessing import MinMaxScaler\n",
    "\n",
    "scaler = MinMaxScaler()\n",
    "scaler.fit(x_train)\n",
    "# 정규화\n",
    "x_train_s = scaler.transform(x_train)\n",
    "x_test_s = scaler.transform(x_test)\n"
   ]
  },
  {
   "cell_type": "markdown",
   "metadata": {
    "id": "BYr1vtpd8uw4",
    "tags": []
   },
   "source": [
    "# 4.성능 예측\n",
    "\n",
    "- 여러 알고리즘으로 모델을 만들고 K-Fold CV로 성능을 예측합니다.\n",
    "- 하이퍼파라미터를 설정하지 않고 진행합니다.\n",
    "- 각 모델의 성능 정보를 수집해 마지막에 비교합니다."
   ]
  },
  {
   "cell_type": "code",
   "execution_count": 187,
   "metadata": {},
   "outputs": [],
   "source": [
    "# xgboost 설치\n",
    "# pip install xgboost"
   ]
  },
  {
   "cell_type": "code",
   "execution_count": 188,
   "metadata": {},
   "outputs": [],
   "source": [
    "# lightgbm 설치\n",
    "# pip install lightgbm"
   ]
  },
  {
   "cell_type": "markdown",
   "metadata": {},
   "source": [
    "- 이후 사용할 함수를 모두 불러옵니다."
   ]
  },
  {
   "cell_type": "code",
   "execution_count": 189,
   "metadata": {},
   "outputs": [],
   "source": [
    "# 불러오기\n",
    "# 1. Linear Regression\n",
    "from sklearn.linear_model import LinearRegression\n",
    "# 2. KNN\n",
    "from sklearn.neighbors import KNeighborsRegressor\n",
    "# 3. Decision Tree\n",
    "from sklearn.tree import DecisionTreeRegressor\n",
    "# 4. SVM\n",
    "from sklearn.svm import SVR\n",
    "# 5. Random Forest\n",
    "from sklearn.ensemble import RandomForestRegressor\n",
    "# 6. XGBoost\n",
    "from xgboost import XGBRegressor\n",
    "# 7. LightGBM\n",
    "from lightgbm import LGBMRegressor\n",
    "\n",
    "# 성능평가 지표\n",
    "from sklearn.metrics import mean_absolute_error, r2_score\n",
    "\n",
    "# k-fold\n",
    "from sklearn.model_selection import KFold\n",
    "\n",
    "# pipeline\n",
    "from sklearn.pipeline import make_pipeline\n",
    "\n",
    "# 성능 튜닝\n",
    "from sklearn.model_selection import cross_val_score, GridSearchCV\n",
    "\n",
    "# 시각화\n",
    "import matplotlib.pyplot as plt"
   ]
  },
  {
   "cell_type": "markdown",
   "metadata": {
    "id": "_2Dzy1phyWRM"
   },
   "source": [
    "**1) Linear Regression**\n",
    "\n",
    "- Linear Regression 알고리즘으로 모델링하고 K-Fold CV로 성능을 검증합니다."
   ]
  },
  {
   "cell_type": "code",
   "execution_count": 194,
   "metadata": {},
   "outputs": [
    {
     "data": {
      "text/plain": "LinearRegression()",
      "text/html": "<style>#sk-container-id-15 {color: black;background-color: white;}#sk-container-id-15 pre{padding: 0;}#sk-container-id-15 div.sk-toggleable {background-color: white;}#sk-container-id-15 label.sk-toggleable__label {cursor: pointer;display: block;width: 100%;margin-bottom: 0;padding: 0.3em;box-sizing: border-box;text-align: center;}#sk-container-id-15 label.sk-toggleable__label-arrow:before {content: \"▸\";float: left;margin-right: 0.25em;color: #696969;}#sk-container-id-15 label.sk-toggleable__label-arrow:hover:before {color: black;}#sk-container-id-15 div.sk-estimator:hover label.sk-toggleable__label-arrow:before {color: black;}#sk-container-id-15 div.sk-toggleable__content {max-height: 0;max-width: 0;overflow: hidden;text-align: left;background-color: #f0f8ff;}#sk-container-id-15 div.sk-toggleable__content pre {margin: 0.2em;color: black;border-radius: 0.25em;background-color: #f0f8ff;}#sk-container-id-15 input.sk-toggleable__control:checked~div.sk-toggleable__content {max-height: 200px;max-width: 100%;overflow: auto;}#sk-container-id-15 input.sk-toggleable__control:checked~label.sk-toggleable__label-arrow:before {content: \"▾\";}#sk-container-id-15 div.sk-estimator input.sk-toggleable__control:checked~label.sk-toggleable__label {background-color: #d4ebff;}#sk-container-id-15 div.sk-label input.sk-toggleable__control:checked~label.sk-toggleable__label {background-color: #d4ebff;}#sk-container-id-15 input.sk-hidden--visually {border: 0;clip: rect(1px 1px 1px 1px);clip: rect(1px, 1px, 1px, 1px);height: 1px;margin: -1px;overflow: hidden;padding: 0;position: absolute;width: 1px;}#sk-container-id-15 div.sk-estimator {font-family: monospace;background-color: #f0f8ff;border: 1px dotted black;border-radius: 0.25em;box-sizing: border-box;margin-bottom: 0.5em;}#sk-container-id-15 div.sk-estimator:hover {background-color: #d4ebff;}#sk-container-id-15 div.sk-parallel-item::after {content: \"\";width: 100%;border-bottom: 1px solid gray;flex-grow: 1;}#sk-container-id-15 div.sk-label:hover label.sk-toggleable__label {background-color: #d4ebff;}#sk-container-id-15 div.sk-serial::before {content: \"\";position: absolute;border-left: 1px solid gray;box-sizing: border-box;top: 0;bottom: 0;left: 50%;z-index: 0;}#sk-container-id-15 div.sk-serial {display: flex;flex-direction: column;align-items: center;background-color: white;padding-right: 0.2em;padding-left: 0.2em;position: relative;}#sk-container-id-15 div.sk-item {position: relative;z-index: 1;}#sk-container-id-15 div.sk-parallel {display: flex;align-items: stretch;justify-content: center;background-color: white;position: relative;}#sk-container-id-15 div.sk-item::before, #sk-container-id-15 div.sk-parallel-item::before {content: \"\";position: absolute;border-left: 1px solid gray;box-sizing: border-box;top: 0;bottom: 0;left: 50%;z-index: -1;}#sk-container-id-15 div.sk-parallel-item {display: flex;flex-direction: column;z-index: 1;position: relative;background-color: white;}#sk-container-id-15 div.sk-parallel-item:first-child::after {align-self: flex-end;width: 50%;}#sk-container-id-15 div.sk-parallel-item:last-child::after {align-self: flex-start;width: 50%;}#sk-container-id-15 div.sk-parallel-item:only-child::after {width: 0;}#sk-container-id-15 div.sk-dashed-wrapped {border: 1px dashed gray;margin: 0 0.4em 0.5em 0.4em;box-sizing: border-box;padding-bottom: 0.4em;background-color: white;}#sk-container-id-15 div.sk-label label {font-family: monospace;font-weight: bold;display: inline-block;line-height: 1.2em;}#sk-container-id-15 div.sk-label-container {text-align: center;}#sk-container-id-15 div.sk-container {/* jupyter's `normalize.less` sets `[hidden] { display: none; }` but bootstrap.min.css set `[hidden] { display: none !important; }` so we also need the `!important` here to be able to override the default hidden behavior on the sphinx rendered scikit-learn.org. See: https://github.com/scikit-learn/scikit-learn/issues/21755 */display: inline-block !important;position: relative;}#sk-container-id-15 div.sk-text-repr-fallback {display: none;}</style><div id=\"sk-container-id-15\" class=\"sk-top-container\"><div class=\"sk-text-repr-fallback\"><pre>LinearRegression()</pre><b>In a Jupyter environment, please rerun this cell to show the HTML representation or trust the notebook. <br />On GitHub, the HTML representation is unable to render, please try loading this page with nbviewer.org.</b></div><div class=\"sk-container\" hidden><div class=\"sk-item\"><div class=\"sk-estimator sk-toggleable\"><input class=\"sk-toggleable__control sk-hidden--visually\" id=\"sk-estimator-id-21\" type=\"checkbox\" checked><label for=\"sk-estimator-id-21\" class=\"sk-toggleable__label sk-toggleable__label-arrow\">LinearRegression</label><div class=\"sk-toggleable__content\"><pre>LinearRegression()</pre></div></div></div></div></div>"
     },
     "execution_count": 194,
     "metadata": {},
     "output_type": "execute_result"
    }
   ],
   "source": [
    "# 선언하기\n",
    "modelLr = LinearRegression()\n",
    "modelLr.fit(x_train, y_train)"
   ]
  },
  {
   "cell_type": "code",
   "execution_count": 197,
   "metadata": {
    "id": "J-zashLGyK4H"
   },
   "outputs": [],
   "source": [
    "# 성능예측\n",
    "cv_score = cross_val_score(modelLr, x_train, y_train, cv=5, scoring='neg_mean_absolute_error')"
   ]
  },
  {
   "cell_type": "code",
   "execution_count": 198,
   "metadata": {},
   "outputs": [
    {
     "name": "stdout",
     "output_type": "stream",
     "text": [
      "[-4422.14632506 -3837.95766596 -4156.09336115 -4450.45985763\n",
      " -4197.0764283 ]\n",
      "-4212.746727620948\n"
     ]
    }
   ],
   "source": [
    "# 결과확인\n",
    "print(cv_score)\n",
    "print(cv_score.mean())"
   ]
  },
  {
   "cell_type": "code",
   "execution_count": 199,
   "metadata": {
    "colab": {
     "base_uri": "https://localhost:8080/"
    },
    "executionInfo": {
     "elapsed": 22,
     "status": "ok",
     "timestamp": 1641475869551,
     "user": {
      "displayName": "Jangrae Lee",
      "photoUrl": "https://lh3.googleusercontent.com/a-/AOh14Gh1Pd8OuWJU2cv7uTt-fURrgvty7atx_Wtarmx0-A=s64",
      "userId": "08475661575434032088"
     },
     "user_tz": -540
    },
    "id": "2KMvCx_-yK4H",
    "outputId": "cadee159-ae22-418c-c940-b2dbfb7c986c"
   },
   "outputs": [],
   "source": [
    "# 결과수집\n",
    "result = {}\n",
    "result['Linear Regression'] = cv_score.mean()"
   ]
  },
  {
   "cell_type": "markdown",
   "metadata": {
    "id": "9pqwajKFyK4F"
   },
   "source": [
    "**2) KNN**\n",
    "\n",
    "- KNN 알고리즘으로 모델링하고 K-Fold CV로 성능을 검증합니다."
   ]
  },
  {
   "cell_type": "code",
   "execution_count": 200,
   "metadata": {
    "colab": {
     "base_uri": "https://localhost:8080/"
    },
    "executionInfo": {
     "elapsed": 24,
     "status": "ok",
     "timestamp": 1641475869550,
     "user": {
      "displayName": "Jangrae Lee",
      "photoUrl": "https://lh3.googleusercontent.com/a-/AOh14Gh1Pd8OuWJU2cv7uTt-fURrgvty7atx_Wtarmx0-A=s64",
      "userId": "08475661575434032088"
     },
     "user_tz": -540
    },
    "id": "ziotuce6yK4G",
    "outputId": "ce4aa06d-d378-48c0-c831-26b66b65d9df"
   },
   "outputs": [],
   "source": [
    "# 선언하기\n",
    "modelKnn = KNeighborsRegressor()"
   ]
  },
  {
   "cell_type": "code",
   "execution_count": 201,
   "metadata": {
    "id": "J-zashLGyK4H"
   },
   "outputs": [],
   "source": [
    "# 성능예측\n",
    "modelKnn.fit(x_train_s, y_train)\n",
    "cv_score = cross_val_score(modelKnn, x_train_s, y_train, cv=5, scoring='neg_mean_absolute_error')"
   ]
  },
  {
   "cell_type": "code",
   "execution_count": 202,
   "metadata": {},
   "outputs": [
    {
     "name": "stdout",
     "output_type": "stream",
     "text": [
      "[-3917.0350864  -3755.82294142 -4045.98378225 -4062.59398653\n",
      " -3991.0648715 ]\n",
      "-3954.500133620319\n"
     ]
    }
   ],
   "source": [
    "# 결과확인\n",
    "print(cv_score)\n",
    "print(cv_score.mean())"
   ]
  },
  {
   "cell_type": "code",
   "execution_count": 203,
   "metadata": {
    "colab": {
     "base_uri": "https://localhost:8080/"
    },
    "executionInfo": {
     "elapsed": 22,
     "status": "ok",
     "timestamp": 1641475869551,
     "user": {
      "displayName": "Jangrae Lee",
      "photoUrl": "https://lh3.googleusercontent.com/a-/AOh14Gh1Pd8OuWJU2cv7uTt-fURrgvty7atx_Wtarmx0-A=s64",
      "userId": "08475661575434032088"
     },
     "user_tz": -540
    },
    "id": "2KMvCx_-yK4H",
    "outputId": "cadee159-ae22-418c-c940-b2dbfb7c986c"
   },
   "outputs": [],
   "source": [
    "# 결과수집\n",
    "result['KNN'] = cv_score.mean()"
   ]
  },
  {
   "cell_type": "markdown",
   "metadata": {
    "id": "_2Dzy1phyWRM"
   },
   "source": [
    "**3) Decision Tree**\n",
    "\n",
    "- Decision Tree 알고리즘으로 모델링하고 K-Fold CV로 성능을 검증합니다."
   ]
  },
  {
   "cell_type": "code",
   "execution_count": 204,
   "metadata": {},
   "outputs": [
    {
     "data": {
      "text/plain": "DecisionTreeRegressor(max_depth=5)",
      "text/html": "<style>#sk-container-id-16 {color: black;background-color: white;}#sk-container-id-16 pre{padding: 0;}#sk-container-id-16 div.sk-toggleable {background-color: white;}#sk-container-id-16 label.sk-toggleable__label {cursor: pointer;display: block;width: 100%;margin-bottom: 0;padding: 0.3em;box-sizing: border-box;text-align: center;}#sk-container-id-16 label.sk-toggleable__label-arrow:before {content: \"▸\";float: left;margin-right: 0.25em;color: #696969;}#sk-container-id-16 label.sk-toggleable__label-arrow:hover:before {color: black;}#sk-container-id-16 div.sk-estimator:hover label.sk-toggleable__label-arrow:before {color: black;}#sk-container-id-16 div.sk-toggleable__content {max-height: 0;max-width: 0;overflow: hidden;text-align: left;background-color: #f0f8ff;}#sk-container-id-16 div.sk-toggleable__content pre {margin: 0.2em;color: black;border-radius: 0.25em;background-color: #f0f8ff;}#sk-container-id-16 input.sk-toggleable__control:checked~div.sk-toggleable__content {max-height: 200px;max-width: 100%;overflow: auto;}#sk-container-id-16 input.sk-toggleable__control:checked~label.sk-toggleable__label-arrow:before {content: \"▾\";}#sk-container-id-16 div.sk-estimator input.sk-toggleable__control:checked~label.sk-toggleable__label {background-color: #d4ebff;}#sk-container-id-16 div.sk-label input.sk-toggleable__control:checked~label.sk-toggleable__label {background-color: #d4ebff;}#sk-container-id-16 input.sk-hidden--visually {border: 0;clip: rect(1px 1px 1px 1px);clip: rect(1px, 1px, 1px, 1px);height: 1px;margin: -1px;overflow: hidden;padding: 0;position: absolute;width: 1px;}#sk-container-id-16 div.sk-estimator {font-family: monospace;background-color: #f0f8ff;border: 1px dotted black;border-radius: 0.25em;box-sizing: border-box;margin-bottom: 0.5em;}#sk-container-id-16 div.sk-estimator:hover {background-color: #d4ebff;}#sk-container-id-16 div.sk-parallel-item::after {content: \"\";width: 100%;border-bottom: 1px solid gray;flex-grow: 1;}#sk-container-id-16 div.sk-label:hover label.sk-toggleable__label {background-color: #d4ebff;}#sk-container-id-16 div.sk-serial::before {content: \"\";position: absolute;border-left: 1px solid gray;box-sizing: border-box;top: 0;bottom: 0;left: 50%;z-index: 0;}#sk-container-id-16 div.sk-serial {display: flex;flex-direction: column;align-items: center;background-color: white;padding-right: 0.2em;padding-left: 0.2em;position: relative;}#sk-container-id-16 div.sk-item {position: relative;z-index: 1;}#sk-container-id-16 div.sk-parallel {display: flex;align-items: stretch;justify-content: center;background-color: white;position: relative;}#sk-container-id-16 div.sk-item::before, #sk-container-id-16 div.sk-parallel-item::before {content: \"\";position: absolute;border-left: 1px solid gray;box-sizing: border-box;top: 0;bottom: 0;left: 50%;z-index: -1;}#sk-container-id-16 div.sk-parallel-item {display: flex;flex-direction: column;z-index: 1;position: relative;background-color: white;}#sk-container-id-16 div.sk-parallel-item:first-child::after {align-self: flex-end;width: 50%;}#sk-container-id-16 div.sk-parallel-item:last-child::after {align-self: flex-start;width: 50%;}#sk-container-id-16 div.sk-parallel-item:only-child::after {width: 0;}#sk-container-id-16 div.sk-dashed-wrapped {border: 1px dashed gray;margin: 0 0.4em 0.5em 0.4em;box-sizing: border-box;padding-bottom: 0.4em;background-color: white;}#sk-container-id-16 div.sk-label label {font-family: monospace;font-weight: bold;display: inline-block;line-height: 1.2em;}#sk-container-id-16 div.sk-label-container {text-align: center;}#sk-container-id-16 div.sk-container {/* jupyter's `normalize.less` sets `[hidden] { display: none; }` but bootstrap.min.css set `[hidden] { display: none !important; }` so we also need the `!important` here to be able to override the default hidden behavior on the sphinx rendered scikit-learn.org. See: https://github.com/scikit-learn/scikit-learn/issues/21755 */display: inline-block !important;position: relative;}#sk-container-id-16 div.sk-text-repr-fallback {display: none;}</style><div id=\"sk-container-id-16\" class=\"sk-top-container\"><div class=\"sk-text-repr-fallback\"><pre>DecisionTreeRegressor(max_depth=5)</pre><b>In a Jupyter environment, please rerun this cell to show the HTML representation or trust the notebook. <br />On GitHub, the HTML representation is unable to render, please try loading this page with nbviewer.org.</b></div><div class=\"sk-container\" hidden><div class=\"sk-item\"><div class=\"sk-estimator sk-toggleable\"><input class=\"sk-toggleable__control sk-hidden--visually\" id=\"sk-estimator-id-22\" type=\"checkbox\" checked><label for=\"sk-estimator-id-22\" class=\"sk-toggleable__label sk-toggleable__label-arrow\">DecisionTreeRegressor</label><div class=\"sk-toggleable__content\"><pre>DecisionTreeRegressor(max_depth=5)</pre></div></div></div></div></div>"
     },
     "execution_count": 204,
     "metadata": {},
     "output_type": "execute_result"
    }
   ],
   "source": [
    "# 선언하기\n",
    "modeldt = DecisionTreeRegressor(max_depth=5)\n",
    "modeldt.fit(x_train, y_train)"
   ]
  },
  {
   "cell_type": "code",
   "execution_count": 205,
   "metadata": {
    "id": "J-zashLGyK4H"
   },
   "outputs": [],
   "source": [
    "# 성능예측\n",
    "cv_score = cross_val_score(modeldt, x_train, y_train, cv=5, scoring='neg_mean_absolute_error')"
   ]
  },
  {
   "cell_type": "code",
   "execution_count": 206,
   "metadata": {},
   "outputs": [
    {
     "name": "stdout",
     "output_type": "stream",
     "text": [
      "[-3047.52331077 -2706.07993356 -2969.29277133 -3027.69044055\n",
      " -2462.20530435]\n",
      "-2842.5583521121184\n"
     ]
    }
   ],
   "source": [
    "# 결과확인\n",
    "print(cv_score)\n",
    "print(cv_score.mean())"
   ]
  },
  {
   "cell_type": "code",
   "execution_count": 207,
   "metadata": {
    "colab": {
     "base_uri": "https://localhost:8080/"
    },
    "executionInfo": {
     "elapsed": 22,
     "status": "ok",
     "timestamp": 1641475869551,
     "user": {
      "displayName": "Jangrae Lee",
      "photoUrl": "https://lh3.googleusercontent.com/a-/AOh14Gh1Pd8OuWJU2cv7uTt-fURrgvty7atx_Wtarmx0-A=s64",
      "userId": "08475661575434032088"
     },
     "user_tz": -540
    },
    "id": "2KMvCx_-yK4H",
    "outputId": "cadee159-ae22-418c-c940-b2dbfb7c986c"
   },
   "outputs": [],
   "source": [
    "# 결과수집\n",
    "result['Decision Tree'] = cv_score.mean()"
   ]
  },
  {
   "cell_type": "markdown",
   "metadata": {
    "id": "9pqwajKFyK4F"
   },
   "source": [
    "**4) SVM**\n",
    "\n",
    "- SVM 알고리즘으로 모델링하고 K-Fold CV로 성능을 검증합니다."
   ]
  },
  {
   "cell_type": "code",
   "execution_count": 208,
   "metadata": {
    "colab": {
     "base_uri": "https://localhost:8080/"
    },
    "executionInfo": {
     "elapsed": 24,
     "status": "ok",
     "timestamp": 1641475869550,
     "user": {
      "displayName": "Jangrae Lee",
      "photoUrl": "https://lh3.googleusercontent.com/a-/AOh14Gh1Pd8OuWJU2cv7uTt-fURrgvty7atx_Wtarmx0-A=s64",
      "userId": "08475661575434032088"
     },
     "user_tz": -540
    },
    "id": "ziotuce6yK4G",
    "outputId": "ce4aa06d-d378-48c0-c831-26b66b65d9df"
   },
   "outputs": [
    {
     "data": {
      "text/plain": "SVR()",
      "text/html": "<style>#sk-container-id-17 {color: black;background-color: white;}#sk-container-id-17 pre{padding: 0;}#sk-container-id-17 div.sk-toggleable {background-color: white;}#sk-container-id-17 label.sk-toggleable__label {cursor: pointer;display: block;width: 100%;margin-bottom: 0;padding: 0.3em;box-sizing: border-box;text-align: center;}#sk-container-id-17 label.sk-toggleable__label-arrow:before {content: \"▸\";float: left;margin-right: 0.25em;color: #696969;}#sk-container-id-17 label.sk-toggleable__label-arrow:hover:before {color: black;}#sk-container-id-17 div.sk-estimator:hover label.sk-toggleable__label-arrow:before {color: black;}#sk-container-id-17 div.sk-toggleable__content {max-height: 0;max-width: 0;overflow: hidden;text-align: left;background-color: #f0f8ff;}#sk-container-id-17 div.sk-toggleable__content pre {margin: 0.2em;color: black;border-radius: 0.25em;background-color: #f0f8ff;}#sk-container-id-17 input.sk-toggleable__control:checked~div.sk-toggleable__content {max-height: 200px;max-width: 100%;overflow: auto;}#sk-container-id-17 input.sk-toggleable__control:checked~label.sk-toggleable__label-arrow:before {content: \"▾\";}#sk-container-id-17 div.sk-estimator input.sk-toggleable__control:checked~label.sk-toggleable__label {background-color: #d4ebff;}#sk-container-id-17 div.sk-label input.sk-toggleable__control:checked~label.sk-toggleable__label {background-color: #d4ebff;}#sk-container-id-17 input.sk-hidden--visually {border: 0;clip: rect(1px 1px 1px 1px);clip: rect(1px, 1px, 1px, 1px);height: 1px;margin: -1px;overflow: hidden;padding: 0;position: absolute;width: 1px;}#sk-container-id-17 div.sk-estimator {font-family: monospace;background-color: #f0f8ff;border: 1px dotted black;border-radius: 0.25em;box-sizing: border-box;margin-bottom: 0.5em;}#sk-container-id-17 div.sk-estimator:hover {background-color: #d4ebff;}#sk-container-id-17 div.sk-parallel-item::after {content: \"\";width: 100%;border-bottom: 1px solid gray;flex-grow: 1;}#sk-container-id-17 div.sk-label:hover label.sk-toggleable__label {background-color: #d4ebff;}#sk-container-id-17 div.sk-serial::before {content: \"\";position: absolute;border-left: 1px solid gray;box-sizing: border-box;top: 0;bottom: 0;left: 50%;z-index: 0;}#sk-container-id-17 div.sk-serial {display: flex;flex-direction: column;align-items: center;background-color: white;padding-right: 0.2em;padding-left: 0.2em;position: relative;}#sk-container-id-17 div.sk-item {position: relative;z-index: 1;}#sk-container-id-17 div.sk-parallel {display: flex;align-items: stretch;justify-content: center;background-color: white;position: relative;}#sk-container-id-17 div.sk-item::before, #sk-container-id-17 div.sk-parallel-item::before {content: \"\";position: absolute;border-left: 1px solid gray;box-sizing: border-box;top: 0;bottom: 0;left: 50%;z-index: -1;}#sk-container-id-17 div.sk-parallel-item {display: flex;flex-direction: column;z-index: 1;position: relative;background-color: white;}#sk-container-id-17 div.sk-parallel-item:first-child::after {align-self: flex-end;width: 50%;}#sk-container-id-17 div.sk-parallel-item:last-child::after {align-self: flex-start;width: 50%;}#sk-container-id-17 div.sk-parallel-item:only-child::after {width: 0;}#sk-container-id-17 div.sk-dashed-wrapped {border: 1px dashed gray;margin: 0 0.4em 0.5em 0.4em;box-sizing: border-box;padding-bottom: 0.4em;background-color: white;}#sk-container-id-17 div.sk-label label {font-family: monospace;font-weight: bold;display: inline-block;line-height: 1.2em;}#sk-container-id-17 div.sk-label-container {text-align: center;}#sk-container-id-17 div.sk-container {/* jupyter's `normalize.less` sets `[hidden] { display: none; }` but bootstrap.min.css set `[hidden] { display: none !important; }` so we also need the `!important` here to be able to override the default hidden behavior on the sphinx rendered scikit-learn.org. See: https://github.com/scikit-learn/scikit-learn/issues/21755 */display: inline-block !important;position: relative;}#sk-container-id-17 div.sk-text-repr-fallback {display: none;}</style><div id=\"sk-container-id-17\" class=\"sk-top-container\"><div class=\"sk-text-repr-fallback\"><pre>SVR()</pre><b>In a Jupyter environment, please rerun this cell to show the HTML representation or trust the notebook. <br />On GitHub, the HTML representation is unable to render, please try loading this page with nbviewer.org.</b></div><div class=\"sk-container\" hidden><div class=\"sk-item\"><div class=\"sk-estimator sk-toggleable\"><input class=\"sk-toggleable__control sk-hidden--visually\" id=\"sk-estimator-id-23\" type=\"checkbox\" checked><label for=\"sk-estimator-id-23\" class=\"sk-toggleable__label sk-toggleable__label-arrow\">SVR</label><div class=\"sk-toggleable__content\"><pre>SVR()</pre></div></div></div></div></div>"
     },
     "execution_count": 208,
     "metadata": {},
     "output_type": "execute_result"
    }
   ],
   "source": [
    "# 선언하기\n",
    "modelSvm = SVR()\n",
    "modelSvm.fit(x_train, y_train)"
   ]
  },
  {
   "cell_type": "code",
   "execution_count": 209,
   "metadata": {
    "id": "J-zashLGyK4H"
   },
   "outputs": [],
   "source": [
    "# 성능예측\n",
    "cv_score = cross_val_score(modelSvm, x_train_s, y_train, cv=5, scoring='neg_mean_absolute_error')"
   ]
  },
  {
   "cell_type": "code",
   "execution_count": 210,
   "metadata": {},
   "outputs": [
    {
     "name": "stdout",
     "output_type": "stream",
     "text": [
      "[-8579.57419953 -8435.7210833  -7674.94874436 -8335.48730629\n",
      " -9195.88610735]\n",
      "-8444.323488167554\n"
     ]
    }
   ],
   "source": [
    "# 결과확인\n",
    "print(cv_score)\n",
    "print(cv_score.mean())"
   ]
  },
  {
   "cell_type": "code",
   "execution_count": 211,
   "metadata": {
    "colab": {
     "base_uri": "https://localhost:8080/"
    },
    "executionInfo": {
     "elapsed": 22,
     "status": "ok",
     "timestamp": 1641475869551,
     "user": {
      "displayName": "Jangrae Lee",
      "photoUrl": "https://lh3.googleusercontent.com/a-/AOh14Gh1Pd8OuWJU2cv7uTt-fURrgvty7atx_Wtarmx0-A=s64",
      "userId": "08475661575434032088"
     },
     "user_tz": -540
    },
    "id": "2KMvCx_-yK4H",
    "outputId": "cadee159-ae22-418c-c940-b2dbfb7c986c"
   },
   "outputs": [],
   "source": [
    "# 결과수집\n",
    "result['SVM'] = cv_score.mean()"
   ]
  },
  {
   "cell_type": "markdown",
   "metadata": {
    "id": "b0crO5W_ygXk"
   },
   "source": [
    "**5) Random Forest**\n",
    "\n",
    "- Random Forest 알고리즘으로 모델링하고 K-Fold CV로 성능을 검증합니다."
   ]
  },
  {
   "cell_type": "code",
   "execution_count": 212,
   "metadata": {},
   "outputs": [],
   "source": [
    "# 선언하기\n",
    "modelRf = RandomForestRegressor()"
   ]
  },
  {
   "cell_type": "code",
   "execution_count": 213,
   "metadata": {
    "id": "J-zashLGyK4H"
   },
   "outputs": [],
   "source": [
    "modelRf.fit(x_train, y_train)\n",
    "# 성능예측\n",
    "cv_score = cross_val_score(modelRf, x_train, y_train, cv=5, scoring='neg_mean_absolute_error')"
   ]
  },
  {
   "cell_type": "code",
   "execution_count": 214,
   "metadata": {},
   "outputs": [
    {
     "name": "stdout",
     "output_type": "stream",
     "text": [
      "[-2949.52837319 -2681.61512926 -2851.3870289  -2915.49604527\n",
      " -2735.47136915]\n",
      "-2826.6995891548736\n"
     ]
    }
   ],
   "source": [
    "# 결과확인\n",
    "print(cv_score)\n",
    "print(cv_score.mean())"
   ]
  },
  {
   "cell_type": "code",
   "execution_count": 215,
   "metadata": {
    "colab": {
     "base_uri": "https://localhost:8080/"
    },
    "executionInfo": {
     "elapsed": 22,
     "status": "ok",
     "timestamp": 1641475869551,
     "user": {
      "displayName": "Jangrae Lee",
      "photoUrl": "https://lh3.googleusercontent.com/a-/AOh14Gh1Pd8OuWJU2cv7uTt-fURrgvty7atx_Wtarmx0-A=s64",
      "userId": "08475661575434032088"
     },
     "user_tz": -540
    },
    "id": "2KMvCx_-yK4H",
    "outputId": "cadee159-ae22-418c-c940-b2dbfb7c986c"
   },
   "outputs": [],
   "source": [
    "# 결과수집\n",
    "result['Random Forest'] = cv_score.mean()"
   ]
  },
  {
   "cell_type": "markdown",
   "metadata": {
    "id": "OfBvePtkys70"
   },
   "source": [
    "**6) XGBoost**\n",
    "\n",
    "- XGBoost 알고리즘으로 모델링하고 K-Fold CV로 성능을 검증합니다."
   ]
  },
  {
   "cell_type": "code",
   "execution_count": 216,
   "metadata": {},
   "outputs": [
    {
     "data": {
      "text/plain": "XGBRegressor(base_score=None, booster=None, callbacks=None,\n             colsample_bylevel=None, colsample_bynode=None,\n             colsample_bytree=None, early_stopping_rounds=None,\n             enable_categorical=False, eval_metric=None, feature_types=None,\n             gamma=None, gpu_id=None, grow_policy=None, importance_type=None,\n             interaction_constraints=None, learning_rate=None, max_bin=None,\n             max_cat_threshold=None, max_cat_to_onehot=None,\n             max_delta_step=None, max_depth=None, max_leaves=None,\n             min_child_weight=None, missing=nan, monotone_constraints=None,\n             n_estimators=100, n_jobs=None, num_parallel_tree=None,\n             predictor=None, random_state=None, ...)",
      "text/html": "<style>#sk-container-id-18 {color: black;background-color: white;}#sk-container-id-18 pre{padding: 0;}#sk-container-id-18 div.sk-toggleable {background-color: white;}#sk-container-id-18 label.sk-toggleable__label {cursor: pointer;display: block;width: 100%;margin-bottom: 0;padding: 0.3em;box-sizing: border-box;text-align: center;}#sk-container-id-18 label.sk-toggleable__label-arrow:before {content: \"▸\";float: left;margin-right: 0.25em;color: #696969;}#sk-container-id-18 label.sk-toggleable__label-arrow:hover:before {color: black;}#sk-container-id-18 div.sk-estimator:hover label.sk-toggleable__label-arrow:before {color: black;}#sk-container-id-18 div.sk-toggleable__content {max-height: 0;max-width: 0;overflow: hidden;text-align: left;background-color: #f0f8ff;}#sk-container-id-18 div.sk-toggleable__content pre {margin: 0.2em;color: black;border-radius: 0.25em;background-color: #f0f8ff;}#sk-container-id-18 input.sk-toggleable__control:checked~div.sk-toggleable__content {max-height: 200px;max-width: 100%;overflow: auto;}#sk-container-id-18 input.sk-toggleable__control:checked~label.sk-toggleable__label-arrow:before {content: \"▾\";}#sk-container-id-18 div.sk-estimator input.sk-toggleable__control:checked~label.sk-toggleable__label {background-color: #d4ebff;}#sk-container-id-18 div.sk-label input.sk-toggleable__control:checked~label.sk-toggleable__label {background-color: #d4ebff;}#sk-container-id-18 input.sk-hidden--visually {border: 0;clip: rect(1px 1px 1px 1px);clip: rect(1px, 1px, 1px, 1px);height: 1px;margin: -1px;overflow: hidden;padding: 0;position: absolute;width: 1px;}#sk-container-id-18 div.sk-estimator {font-family: monospace;background-color: #f0f8ff;border: 1px dotted black;border-radius: 0.25em;box-sizing: border-box;margin-bottom: 0.5em;}#sk-container-id-18 div.sk-estimator:hover {background-color: #d4ebff;}#sk-container-id-18 div.sk-parallel-item::after {content: \"\";width: 100%;border-bottom: 1px solid gray;flex-grow: 1;}#sk-container-id-18 div.sk-label:hover label.sk-toggleable__label {background-color: #d4ebff;}#sk-container-id-18 div.sk-serial::before {content: \"\";position: absolute;border-left: 1px solid gray;box-sizing: border-box;top: 0;bottom: 0;left: 50%;z-index: 0;}#sk-container-id-18 div.sk-serial {display: flex;flex-direction: column;align-items: center;background-color: white;padding-right: 0.2em;padding-left: 0.2em;position: relative;}#sk-container-id-18 div.sk-item {position: relative;z-index: 1;}#sk-container-id-18 div.sk-parallel {display: flex;align-items: stretch;justify-content: center;background-color: white;position: relative;}#sk-container-id-18 div.sk-item::before, #sk-container-id-18 div.sk-parallel-item::before {content: \"\";position: absolute;border-left: 1px solid gray;box-sizing: border-box;top: 0;bottom: 0;left: 50%;z-index: -1;}#sk-container-id-18 div.sk-parallel-item {display: flex;flex-direction: column;z-index: 1;position: relative;background-color: white;}#sk-container-id-18 div.sk-parallel-item:first-child::after {align-self: flex-end;width: 50%;}#sk-container-id-18 div.sk-parallel-item:last-child::after {align-self: flex-start;width: 50%;}#sk-container-id-18 div.sk-parallel-item:only-child::after {width: 0;}#sk-container-id-18 div.sk-dashed-wrapped {border: 1px dashed gray;margin: 0 0.4em 0.5em 0.4em;box-sizing: border-box;padding-bottom: 0.4em;background-color: white;}#sk-container-id-18 div.sk-label label {font-family: monospace;font-weight: bold;display: inline-block;line-height: 1.2em;}#sk-container-id-18 div.sk-label-container {text-align: center;}#sk-container-id-18 div.sk-container {/* jupyter's `normalize.less` sets `[hidden] { display: none; }` but bootstrap.min.css set `[hidden] { display: none !important; }` so we also need the `!important` here to be able to override the default hidden behavior on the sphinx rendered scikit-learn.org. See: https://github.com/scikit-learn/scikit-learn/issues/21755 */display: inline-block !important;position: relative;}#sk-container-id-18 div.sk-text-repr-fallback {display: none;}</style><div id=\"sk-container-id-18\" class=\"sk-top-container\"><div class=\"sk-text-repr-fallback\"><pre>XGBRegressor(base_score=None, booster=None, callbacks=None,\n             colsample_bylevel=None, colsample_bynode=None,\n             colsample_bytree=None, early_stopping_rounds=None,\n             enable_categorical=False, eval_metric=None, feature_types=None,\n             gamma=None, gpu_id=None, grow_policy=None, importance_type=None,\n             interaction_constraints=None, learning_rate=None, max_bin=None,\n             max_cat_threshold=None, max_cat_to_onehot=None,\n             max_delta_step=None, max_depth=None, max_leaves=None,\n             min_child_weight=None, missing=nan, monotone_constraints=None,\n             n_estimators=100, n_jobs=None, num_parallel_tree=None,\n             predictor=None, random_state=None, ...)</pre><b>In a Jupyter environment, please rerun this cell to show the HTML representation or trust the notebook. <br />On GitHub, the HTML representation is unable to render, please try loading this page with nbviewer.org.</b></div><div class=\"sk-container\" hidden><div class=\"sk-item\"><div class=\"sk-estimator sk-toggleable\"><input class=\"sk-toggleable__control sk-hidden--visually\" id=\"sk-estimator-id-24\" type=\"checkbox\" checked><label for=\"sk-estimator-id-24\" class=\"sk-toggleable__label sk-toggleable__label-arrow\">XGBRegressor</label><div class=\"sk-toggleable__content\"><pre>XGBRegressor(base_score=None, booster=None, callbacks=None,\n             colsample_bylevel=None, colsample_bynode=None,\n             colsample_bytree=None, early_stopping_rounds=None,\n             enable_categorical=False, eval_metric=None, feature_types=None,\n             gamma=None, gpu_id=None, grow_policy=None, importance_type=None,\n             interaction_constraints=None, learning_rate=None, max_bin=None,\n             max_cat_threshold=None, max_cat_to_onehot=None,\n             max_delta_step=None, max_depth=None, max_leaves=None,\n             min_child_weight=None, missing=nan, monotone_constraints=None,\n             n_estimators=100, n_jobs=None, num_parallel_tree=None,\n             predictor=None, random_state=None, ...)</pre></div></div></div></div></div>"
     },
     "execution_count": 216,
     "metadata": {},
     "output_type": "execute_result"
    }
   ],
   "source": [
    "# 선언하기\n",
    "modelXg = XGBRegressor()\n",
    "modelXg.fit(x_train, y_train)"
   ]
  },
  {
   "cell_type": "code",
   "execution_count": 217,
   "metadata": {
    "id": "J-zashLGyK4H"
   },
   "outputs": [],
   "source": [
    "# 성능예측\n",
    "cv_score = cross_val_score(modelXg, x_train, y_train, cv=5, scoring='neg_mean_absolute_error')"
   ]
  },
  {
   "cell_type": "code",
   "execution_count": 218,
   "metadata": {},
   "outputs": [
    {
     "name": "stdout",
     "output_type": "stream",
     "text": [
      "[-3391.02536207 -2843.71309906 -3261.38017221 -3311.7529229\n",
      " -2729.93146697]\n",
      "-3107.5606046413973\n"
     ]
    }
   ],
   "source": [
    "# 결과확인\n",
    "print(cv_score)\n",
    "print(cv_score.mean())"
   ]
  },
  {
   "cell_type": "code",
   "execution_count": 219,
   "metadata": {
    "colab": {
     "base_uri": "https://localhost:8080/"
    },
    "executionInfo": {
     "elapsed": 22,
     "status": "ok",
     "timestamp": 1641475869551,
     "user": {
      "displayName": "Jangrae Lee",
      "photoUrl": "https://lh3.googleusercontent.com/a-/AOh14Gh1Pd8OuWJU2cv7uTt-fURrgvty7atx_Wtarmx0-A=s64",
      "userId": "08475661575434032088"
     },
     "user_tz": -540
    },
    "id": "2KMvCx_-yK4H",
    "outputId": "cadee159-ae22-418c-c940-b2dbfb7c986c"
   },
   "outputs": [],
   "source": [
    "# 결과수집\n",
    "result['Xgboost'] = cv_score.mean()"
   ]
  },
  {
   "cell_type": "markdown",
   "metadata": {
    "id": "OfBvePtkys70"
   },
   "source": [
    "**7) LightGBM**\n",
    "\n",
    "- LightGBM 알고리즘으로 모델링하고 K-Fold CV로 성능을 검증합니다."
   ]
  },
  {
   "cell_type": "code",
   "execution_count": 220,
   "metadata": {},
   "outputs": [],
   "source": [
    "# 선언하기\n",
    "modelGBM = LinearRegression()"
   ]
  },
  {
   "cell_type": "code",
   "execution_count": 221,
   "metadata": {
    "id": "J-zashLGyK4H"
   },
   "outputs": [],
   "source": [
    "# 성능예측\n",
    "modelGBM.fit(x_train, y_train)\n",
    "cv_score = cross_val_score(modelGBM, x_train, y_train, cv=5, scoring='neg_mean_absolute_error')"
   ]
  },
  {
   "cell_type": "code",
   "execution_count": 222,
   "metadata": {},
   "outputs": [
    {
     "name": "stdout",
     "output_type": "stream",
     "text": [
      "[-4422.14632506 -3837.95766596 -4156.09336115 -4450.45985763\n",
      " -4197.0764283 ]\n",
      "-4212.746727620948\n"
     ]
    }
   ],
   "source": [
    "# 결과확인\n",
    "print(cv_score)\n",
    "print(cv_score.mean())"
   ]
  },
  {
   "cell_type": "code",
   "execution_count": 223,
   "metadata": {
    "colab": {
     "base_uri": "https://localhost:8080/"
    },
    "executionInfo": {
     "elapsed": 22,
     "status": "ok",
     "timestamp": 1641475869551,
     "user": {
      "displayName": "Jangrae Lee",
      "photoUrl": "https://lh3.googleusercontent.com/a-/AOh14Gh1Pd8OuWJU2cv7uTt-fURrgvty7atx_Wtarmx0-A=s64",
      "userId": "08475661575434032088"
     },
     "user_tz": -540
    },
    "id": "2KMvCx_-yK4H",
    "outputId": "cadee159-ae22-418c-c940-b2dbfb7c986c"
   },
   "outputs": [],
   "source": [
    "# 결과수집\n",
    "result['LightGBM'] = cv_score.mean()"
   ]
  },
  {
   "cell_type": "markdown",
   "source": [
    "**8) Voting**"
   ],
   "metadata": {
    "collapsed": false
   }
  },
  {
   "cell_type": "code",
   "execution_count": 224,
   "outputs": [
    {
     "name": "stdout",
     "output_type": "stream",
     "text": [
      "[-3365.14401783 -2844.83548039 -3182.98332985 -3229.65521571\n",
      " -2895.7311929 ]\n",
      "--------------------------------------------------------------------------------\n",
      "-3103.6698473372953\n"
     ]
    }
   ],
   "source": [
    "from sklearn.ensemble import VotingRegressor\n",
    "estimators = [('lr', LinearRegression()),\n",
    "              ('dt', DecisionTreeRegressor()),\n",
    "              ('knn', make_pipeline(MinMaxScaler(), KNeighborsRegressor())),\n",
    "              ('rdf', RandomForestRegressor()),\n",
    "              ('lgb', LGBMRegressor())]\n",
    "\n",
    "modelVote = VotingRegressor(estimators=estimators)\n",
    "modelVote.fit(x_train, y_train)\n",
    "\n",
    "cv_score = cross_val_score(modelVote, x_train, y_train, cv=5, scoring='neg_mean_absolute_error')\n",
    "print(cv_score)\n",
    "print('-'*80)\n",
    "print(cv_score.mean())"
   ],
   "metadata": {
    "collapsed": false
   }
  },
  {
   "cell_type": "code",
   "execution_count": 225,
   "outputs": [],
   "source": [
    "result['Voting'] = cv_score.mean()"
   ],
   "metadata": {
    "collapsed": false
   }
  },
  {
   "cell_type": "markdown",
   "source": [
    "**9)CatBoost**"
   ],
   "metadata": {
    "collapsed": false
   }
  },
  {
   "cell_type": "code",
   "execution_count": 227,
   "outputs": [
    {
     "name": "stdout",
     "output_type": "stream",
     "text": [
      "0:\tlearn: 11252.2221113\ttotal: 640us\tremaining: 2.56ms\n",
      "1:\tlearn: 10463.9452688\ttotal: 1.46ms\tremaining: 2.19ms\n",
      "2:\tlearn: 9794.6957722\ttotal: 2.24ms\tremaining: 1.49ms\n",
      "3:\tlearn: 9107.4438201\ttotal: 3.04ms\tremaining: 758us\n",
      "4:\tlearn: 8531.2968838\ttotal: 3.74ms\tremaining: 0us\n",
      "0:\tlearn: 11360.9307106\ttotal: 7.46ms\tremaining: 29.9ms\n",
      "1:\tlearn: 10576.2524274\ttotal: 7.96ms\tremaining: 11.9ms\n",
      "2:\tlearn: 9908.2065504\ttotal: 8.63ms\tremaining: 5.75ms\n",
      "3:\tlearn: 9211.9054178\ttotal: 9.29ms\tremaining: 2.32ms\n",
      "4:\tlearn: 8630.6343124\ttotal: 9.94ms\tremaining: 0us\n",
      "0:\tlearn: 11313.3365687\ttotal: 709us\tremaining: 2.84ms\n",
      "1:\tlearn: 10529.2168689\ttotal: 1.26ms\tremaining: 1.89ms\n",
      "2:\tlearn: 9876.1425902\ttotal: 1.94ms\tremaining: 1.29ms\n",
      "3:\tlearn: 9203.5561515\ttotal: 2.6ms\tremaining: 650us\n",
      "4:\tlearn: 8647.9538065\ttotal: 3.29ms\tremaining: 0us\n",
      "0:\tlearn: 11382.5818440\ttotal: 653us\tremaining: 2.61ms\n",
      "1:\tlearn: 10578.9469927\ttotal: 1.14ms\tremaining: 1.71ms\n",
      "2:\tlearn: 9903.0944637\ttotal: 1.81ms\tremaining: 1.2ms\n",
      "3:\tlearn: 9216.2461765\ttotal: 2.47ms\tremaining: 618us\n",
      "4:\tlearn: 8634.4364804\ttotal: 3.14ms\tremaining: 0us\n",
      "0:\tlearn: 11387.2278171\ttotal: 618us\tremaining: 2.47ms\n",
      "1:\tlearn: 10589.3007343\ttotal: 1.1ms\tremaining: 1.65ms\n",
      "2:\tlearn: 9924.7570468\ttotal: 1.77ms\tremaining: 1.18ms\n",
      "3:\tlearn: 9221.8599805\ttotal: 2.43ms\tremaining: 606us\n",
      "4:\tlearn: 8648.7045918\ttotal: 3.19ms\tremaining: 0us\n",
      "0:\tlearn: 10950.8570363\ttotal: 595us\tremaining: 2.38ms\n",
      "1:\tlearn: 10214.4087076\ttotal: 1.49ms\tremaining: 2.24ms\n",
      "2:\tlearn: 9595.9135662\ttotal: 2.29ms\tremaining: 1.52ms\n",
      "3:\tlearn: 8949.6675646\ttotal: 3ms\tremaining: 751us\n",
      "4:\tlearn: 8412.0011485\ttotal: 3.73ms\tremaining: 0us\n",
      "-6597.530291802856\n"
     ]
    }
   ],
   "source": [
    "from catboost import CatBoostRegressor\n",
    "\n",
    "clf = CatBoostRegressor(\n",
    "    iterations=5,\n",
    "    learning_rate=0.1,\n",
    "\n",
    ")\n",
    "clf.fit(x_train, y_train)\n",
    "cv_score = cross_val_score(clf, x_train, y_train, cv=5, scoring='neg_mean_absolute_error')\n",
    "print(cv_score.mean())\n",
    "\n",
    "result['CatBoost'] = cv_score.mean()"
   ],
   "metadata": {
    "collapsed": false
   }
  },
  {
   "cell_type": "markdown",
   "source": [
    "**10)Tabnet**"
   ],
   "metadata": {
    "collapsed": false
   }
  },
  {
   "cell_type": "code",
   "execution_count": 160,
   "outputs": [
    {
     "ename": "AttributeError",
     "evalue": "'numpy.ndarray' object has no attribute 'to_numpy'",
     "output_type": "error",
     "traceback": [
      "\u001B[1;31m---------------------------------------------------------------------------\u001B[0m",
      "\u001B[1;31mAttributeError\u001B[0m                            Traceback (most recent call last)",
      "Cell \u001B[1;32mIn[160], line 5\u001B[0m\n\u001B[0;32m      3\u001B[0m Y \u001B[38;5;241m=\u001B[39m y\u001B[38;5;241m.\u001B[39mto_numpy()\n\u001B[0;32m      4\u001B[0m X_train \u001B[38;5;241m=\u001B[39m x_train\u001B[38;5;241m.\u001B[39mto_numpy()\n\u001B[1;32m----> 5\u001B[0m Y_train \u001B[38;5;241m=\u001B[39m \u001B[43my_train\u001B[49m\u001B[38;5;241;43m.\u001B[39;49m\u001B[43mto_numpy\u001B[49m()\u001B[38;5;241m.\u001B[39mreshape(\u001B[38;5;241m-\u001B[39m\u001B[38;5;241m1\u001B[39m, \u001B[38;5;241m1\u001B[39m)\n\u001B[0;32m      6\u001B[0m X_test \u001B[38;5;241m=\u001B[39m x_test\u001B[38;5;241m.\u001B[39mto_numpy()\n",
      "\u001B[1;31mAttributeError\u001B[0m: 'numpy.ndarray' object has no attribute 'to_numpy'"
     ]
    }
   ],
   "source": [
    "from pytorch_tabnet.tab_model import TabNetRegressor\n",
    "X_train = x_train.to_numpy()\n",
    "Y_train = y_train.to_numpy().reshape(-1, 1)\n",
    "X_test = x_test.to_numpy()"
   ],
   "metadata": {
    "collapsed": false
   }
  },
  {
   "cell_type": "code",
   "execution_count": 163,
   "outputs": [],
   "source": [
    "X = x.to_numpy()\n",
    "Y = y.to_numpy().reshape(-1, 1)"
   ],
   "metadata": {
    "collapsed": false
   }
  },
  {
   "cell_type": "code",
   "execution_count": 156,
   "outputs": [
    {
     "name": "stdout",
     "output_type": "stream",
     "text": [
      "-1.1869625759238587\n"
     ]
    }
   ],
   "source": [
    "# TabNet = TabNetRegressor(verbose=0, seed=42)\n",
    "# TabNet.fit(X_train, Y_train, max_epochs=2000, eval_metric=['mae'])\n",
    "# cv_score = cross_val_score(TabNet, X_train, Y_train, cv=5, scoring='r2')\n",
    "# print(cv_score.mean())"
   ],
   "metadata": {
    "collapsed": false
   }
  },
  {
   "cell_type": "code",
   "execution_count": 167,
   "outputs": [
    {
     "name": "stdout",
     "output_type": "stream",
     "text": [
      "\n",
      "Early stopping occurred at epoch 1990 with best_epoch = 1690 and best_val_0_mae = 2622.29752\n",
      "\n",
      "Early stopping occurred at epoch 1962 with best_epoch = 1662 and best_val_0_mae = 2229.00184\n",
      "\n",
      "Early stopping occurred at epoch 1898 with best_epoch = 1598 and best_val_0_mae = 2488.48877\n",
      "Stop training because you reached max_epochs = 2000 with best_epoch = 1846 and best_val_0_mae = 2430.19902\n",
      "\n",
      "Early stopping occurred at epoch 1575 with best_epoch = 1275 and best_val_0_mae = 2797.93239\n"
     ]
    }
   ],
   "source": [
    "kf = KFold(n_splits=5, random_state=42, shuffle=True)\n",
    "predictions_array =[]\n",
    "CV_score_array    =[]\n",
    "for train_index, test_index in kf.split(X):\n",
    "    X_train, X_valid = X[train_index], X[test_index]\n",
    "    y_train, y_valid = Y[train_index], Y[test_index]\n",
    "    regressor = TabNetRegressor(verbose=0,seed=42)\n",
    "    regressor.fit(X_train=X_train, y_train=y_train,\n",
    "                  eval_set=[(X_valid, y_valid)],\n",
    "                  patience=300, max_epochs=2000,\n",
    "                  eval_metric=['mae'])\n",
    "    CV_score_array.append(regressor.best_cost)\n",
    "    predictions_array.append(np.expm1(regressor.predict(X_test)))\n",
    "\n",
    "predictions = np.mean(predictions_array,axis=0)"
   ],
   "metadata": {
    "collapsed": false
   }
  },
  {
   "cell_type": "code",
   "execution_count": 168,
   "outputs": [
    {
     "name": "stdout",
     "output_type": "stream",
     "text": [
      "cuda\n"
     ]
    }
   ],
   "source": [
    "import torch\n",
    "device = 'cuda' if torch.cuda.is_available() else 'cpu'\n",
    "torch.manual_seed(1)\n",
    "if device == 'cuda':\n",
    "    torch.cuda.manual_seed_all(1)\n",
    "print (device)"
   ],
   "metadata": {
    "collapsed": false
   }
  },
  {
   "cell_type": "code",
   "execution_count": null,
   "outputs": [],
   "source": [
    "kf = KFold(n_splits=5, random_state=42, shuffle=True)\n",
    "predictions_array =[]\n",
    "CV_score_array    =[]\n",
    "for train_index, test_index in kf.split(X):\n",
    "    X_train, X_valid = X[train_index], X[test_index].to(device)\n",
    "    y_train, y_valid = Y[train_index], Y[test_index].to(device)\n",
    "    regressor = TabNetRegressor(verbose=0,seed=42)\n",
    "    regressor.fit(X_train=X_train, y_train=y_train,\n",
    "                  eval_set=[(X_valid, y_valid)],\n",
    "                  patience=300, max_epochs=2000,\n",
    "                  eval_metric=['mae'])\n",
    "    CV_score_array.append(regressor.best_cost)\n",
    "    predictions_array.append(np.expm1(regressor.predict(X_test)))\n",
    "\n",
    "predictions = np.mean(predictions_array,axis=0)"
   ],
   "metadata": {
    "collapsed": false
   }
  },
  {
   "cell_type": "code",
   "execution_count": 169,
   "outputs": [
    {
     "name": "stdout",
     "output_type": "stream",
     "text": [
      "The CV score is 2513.58391\n"
     ]
    }
   ],
   "source": [
    "print(\"The CV score is %.5f\" % np.mean(CV_score_array,axis=0) )"
   ],
   "metadata": {
    "collapsed": false
   }
  },
  {
   "cell_type": "code",
   "execution_count": 237,
   "outputs": [],
   "source": [
    "result['Tabnet'] = 2513.58391 * (-1)"
   ],
   "metadata": {
    "collapsed": false
   }
  },
  {
   "cell_type": "markdown",
   "metadata": {},
   "source": [
    "# 5.결과 확인\n",
    "\n",
    "- 예측된 각 모델의 성능을 비교합니다."
   ]
  },
  {
   "cell_type": "code",
   "execution_count": 234,
   "outputs": [
    {
     "data": {
      "text/plain": "-6597.530291802856"
     },
     "execution_count": 234,
     "metadata": {},
     "output_type": "execute_result"
    }
   ],
   "source": [
    "result['CatBoost']"
   ],
   "metadata": {
    "collapsed": false
   }
  },
  {
   "cell_type": "code",
   "execution_count": 238,
   "metadata": {},
   "outputs": [
    {
     "name": "stdout",
     "output_type": "stream",
     "text": [
      "========================================\n",
      "Linear Regression -4212.747\n",
      "KNN -3954.5\n",
      "Decision Tree -2842.558\n",
      "SVM -8444.323\n",
      "Random Forest -2826.7\n",
      "Xgboost -3107.561\n",
      "LightGBM -4212.747\n",
      "Voting -3103.67\n",
      "CatBoost -6597.53\n"
     ]
    },
    {
     "ename": "AttributeError",
     "evalue": "'float' object has no attribute 'round'",
     "output_type": "error",
     "traceback": [
      "\u001B[1;31m---------------------------------------------------------------------------\u001B[0m",
      "\u001B[1;31mAttributeError\u001B[0m                            Traceback (most recent call last)",
      "Cell \u001B[1;32mIn[238], line 4\u001B[0m\n\u001B[0;32m      2\u001B[0m \u001B[38;5;28mprint\u001B[39m(\u001B[38;5;124m'\u001B[39m\u001B[38;5;124m=\u001B[39m\u001B[38;5;124m'\u001B[39m \u001B[38;5;241m*\u001B[39m \u001B[38;5;241m40\u001B[39m)\n\u001B[0;32m      3\u001B[0m \u001B[38;5;28;01mfor\u001B[39;00m m_name, score \u001B[38;5;129;01min\u001B[39;00m result\u001B[38;5;241m.\u001B[39mitems():\n\u001B[1;32m----> 4\u001B[0m     \u001B[38;5;28mprint\u001B[39m(m_name, \u001B[43mscore\u001B[49m\u001B[38;5;241;43m.\u001B[39;49m\u001B[43mround\u001B[49m(\u001B[38;5;241m3\u001B[39m))\n\u001B[0;32m      5\u001B[0m \u001B[38;5;28mprint\u001B[39m(\u001B[38;5;124m'\u001B[39m\u001B[38;5;124m=\u001B[39m\u001B[38;5;124m'\u001B[39m \u001B[38;5;241m*\u001B[39m \u001B[38;5;241m40\u001B[39m)\n",
      "\u001B[1;31mAttributeError\u001B[0m: 'float' object has no attribute 'round'"
     ]
    }
   ],
   "source": [
    "# 성능 비교\n",
    "print('=' * 40)\n",
    "for m_name, score in result.items():\n",
    "    print(m_name, score.round(3))\n",
    "print('=' * 40)"
   ]
  },
  {
   "cell_type": "code",
   "execution_count": 239,
   "metadata": {},
   "outputs": [
    {
     "data": {
      "text/plain": "<Figure size 640x480 with 1 Axes>",
      "image/png": "[encoded data removed]"
     },
     "metadata": {
      "image/png": {
       "width": 642,
       "height": 412
      }
     },
     "output_type": "display_data"
    }
   ],
   "source": [
    "# 성능 시각화 비교\n",
    "plt.barh(list(result.keys()), result.values())\n",
    "plt.show()"
   ]
  },
  {
   "cell_type": "markdown",
   "metadata": {},
   "source": [
    "# 6.성능 튜닝\n",
    "\n",
    "- 위에서 성능이 가장 좋을 것으로 예측된 모델을 튜닝합니다.\n",
    "- 본 실습에서는 Random Forest 모델 성능을 튜닝합니다."
   ]
  },
  {
   "cell_type": "markdown",
   "source": [
    "### 1) Random Forest 성능 튜닝"
   ],
   "metadata": {
    "collapsed": false
   }
  },
  {
   "cell_type": "code",
   "execution_count": 147,
   "metadata": {},
   "outputs": [
    {
     "data": {
      "text/plain": "GridSearchCV(cv=5, estimator=RandomForestRegressor(),\n             param_grid={'max_depth': range(1, 21)}, scoring='r2')",
      "text/html": "<style>#sk-container-id-13 {color: black;background-color: white;}#sk-container-id-13 pre{padding: 0;}#sk-container-id-13 div.sk-toggleable {background-color: white;}#sk-container-id-13 label.sk-toggleable__label {cursor: pointer;display: block;width: 100%;margin-bottom: 0;padding: 0.3em;box-sizing: border-box;text-align: center;}#sk-container-id-13 label.sk-toggleable__label-arrow:before {content: \"▸\";float: left;margin-right: 0.25em;color: #696969;}#sk-container-id-13 label.sk-toggleable__label-arrow:hover:before {color: black;}#sk-container-id-13 div.sk-estimator:hover label.sk-toggleable__label-arrow:before {color: black;}#sk-container-id-13 div.sk-toggleable__content {max-height: 0;max-width: 0;overflow: hidden;text-align: left;background-color: #f0f8ff;}#sk-container-id-13 div.sk-toggleable__content pre {margin: 0.2em;color: black;border-radius: 0.25em;background-color: #f0f8ff;}#sk-container-id-13 input.sk-toggleable__control:checked~div.sk-toggleable__content {max-height: 200px;max-width: 100%;overflow: auto;}#sk-container-id-13 input.sk-toggleable__control:checked~label.sk-toggleable__label-arrow:before {content: \"▾\";}#sk-container-id-13 div.sk-estimator input.sk-toggleable__control:checked~label.sk-toggleable__label {background-color: #d4ebff;}#sk-container-id-13 div.sk-label input.sk-toggleable__control:checked~label.sk-toggleable__label {background-color: #d4ebff;}#sk-container-id-13 input.sk-hidden--visually {border: 0;clip: rect(1px 1px 1px 1px);clip: rect(1px, 1px, 1px, 1px);height: 1px;margin: -1px;overflow: hidden;padding: 0;position: absolute;width: 1px;}#sk-container-id-13 div.sk-estimator {font-family: monospace;background-color: #f0f8ff;border: 1px dotted black;border-radius: 0.25em;box-sizing: border-box;margin-bottom: 0.5em;}#sk-container-id-13 div.sk-estimator:hover {background-color: #d4ebff;}#sk-container-id-13 div.sk-parallel-item::after {content: \"\";width: 100%;border-bottom: 1px solid gray;flex-grow: 1;}#sk-container-id-13 div.sk-label:hover label.sk-toggleable__label {background-color: #d4ebff;}#sk-container-id-13 div.sk-serial::before {content: \"\";position: absolute;border-left: 1px solid gray;box-sizing: border-box;top: 0;bottom: 0;left: 50%;z-index: 0;}#sk-container-id-13 div.sk-serial {display: flex;flex-direction: column;align-items: center;background-color: white;padding-right: 0.2em;padding-left: 0.2em;position: relative;}#sk-container-id-13 div.sk-item {position: relative;z-index: 1;}#sk-container-id-13 div.sk-parallel {display: flex;align-items: stretch;justify-content: center;background-color: white;position: relative;}#sk-container-id-13 div.sk-item::before, #sk-container-id-13 div.sk-parallel-item::before {content: \"\";position: absolute;border-left: 1px solid gray;box-sizing: border-box;top: 0;bottom: 0;left: 50%;z-index: -1;}#sk-container-id-13 div.sk-parallel-item {display: flex;flex-direction: column;z-index: 1;position: relative;background-color: white;}#sk-container-id-13 div.sk-parallel-item:first-child::after {align-self: flex-end;width: 50%;}#sk-container-id-13 div.sk-parallel-item:last-child::after {align-self: flex-start;width: 50%;}#sk-container-id-13 div.sk-parallel-item:only-child::after {width: 0;}#sk-container-id-13 div.sk-dashed-wrapped {border: 1px dashed gray;margin: 0 0.4em 0.5em 0.4em;box-sizing: border-box;padding-bottom: 0.4em;background-color: white;}#sk-container-id-13 div.sk-label label {font-family: monospace;font-weight: bold;display: inline-block;line-height: 1.2em;}#sk-container-id-13 div.sk-label-container {text-align: center;}#sk-container-id-13 div.sk-container {/* jupyter's `normalize.less` sets `[hidden] { display: none; }` but bootstrap.min.css set `[hidden] { display: none !important; }` so we also need the `!important` here to be able to override the default hidden behavior on the sphinx rendered scikit-learn.org. See: https://github.com/scikit-learn/scikit-learn/issues/21755 */display: inline-block !important;position: relative;}#sk-container-id-13 div.sk-text-repr-fallback {display: none;}</style><div id=\"sk-container-id-13\" class=\"sk-top-container\"><div class=\"sk-text-repr-fallback\"><pre>GridSearchCV(cv=5, estimator=RandomForestRegressor(),\n             param_grid={&#x27;max_depth&#x27;: range(1, 21)}, scoring=&#x27;r2&#x27;)</pre><b>In a Jupyter environment, please rerun this cell to show the HTML representation or trust the notebook. <br />On GitHub, the HTML representation is unable to render, please try loading this page with nbviewer.org.</b></div><div class=\"sk-container\" hidden><div class=\"sk-item sk-dashed-wrapped\"><div class=\"sk-label-container\"><div class=\"sk-label sk-toggleable\"><input class=\"sk-toggleable__control sk-hidden--visually\" id=\"sk-estimator-id-17\" type=\"checkbox\" ><label for=\"sk-estimator-id-17\" class=\"sk-toggleable__label sk-toggleable__label-arrow\">GridSearchCV</label><div class=\"sk-toggleable__content\"><pre>GridSearchCV(cv=5, estimator=RandomForestRegressor(),\n             param_grid={&#x27;max_depth&#x27;: range(1, 21)}, scoring=&#x27;r2&#x27;)</pre></div></div></div><div class=\"sk-parallel\"><div class=\"sk-parallel-item\"><div class=\"sk-item\"><div class=\"sk-label-container\"><div class=\"sk-label sk-toggleable\"><input class=\"sk-toggleable__control sk-hidden--visually\" id=\"sk-estimator-id-18\" type=\"checkbox\" ><label for=\"sk-estimator-id-18\" class=\"sk-toggleable__label sk-toggleable__label-arrow\">estimator: RandomForestRegressor</label><div class=\"sk-toggleable__content\"><pre>RandomForestRegressor()</pre></div></div></div><div class=\"sk-serial\"><div class=\"sk-item\"><div class=\"sk-estimator sk-toggleable\"><input class=\"sk-toggleable__control sk-hidden--visually\" id=\"sk-estimator-id-19\" type=\"checkbox\" ><label for=\"sk-estimator-id-19\" class=\"sk-toggleable__label sk-toggleable__label-arrow\">RandomForestRegressor</label><div class=\"sk-toggleable__content\"><pre>RandomForestRegressor()</pre></div></div></div></div></div></div></div></div></div></div>"
     },
     "execution_count": 147,
     "metadata": {},
     "output_type": "execute_result"
    }
   ],
   "source": [
    "# 기본 모델 선언\n",
    "from sklearn.model_selection import GridSearchCV\n",
    "\n",
    "# 파라미터 지정\n",
    "  # max_depth: range(1, 21)\n",
    "params = {\n",
    "    'max_depth' : range(1, 21),\n",
    "\n",
    "}\n",
    "\n",
    "# 모델 선언\n",
    "model = GridSearchCV(\n",
    "    estimator=modelRf,\n",
    "    param_grid=params,\n",
    "    cv=5,\n",
    "    scoring='r2',\n",
    "\n",
    ")\n",
    "model.fit(x_train, y_train)"
   ]
  },
  {
   "cell_type": "code",
   "execution_count": 148,
   "metadata": {},
   "outputs": [
    {
     "name": "stdout",
     "output_type": "stream",
     "text": [
      "최적 파라미터: {'max_depth': 4}\n",
      "예측 최고 성능: 0.8525089038084861\n"
     ]
    }
   ],
   "source": [
    "# 최적 파라미터, 예측 최고 성능\n",
    "print(\"최적 파라미터:\" , model.best_params_)\n",
    "print(\"예측 최고 성능:\", model.best_score_)"
   ]
  },
  {
   "cell_type": "code",
   "execution_count": 190,
   "outputs": [
    {
     "name": "stderr",
     "output_type": "stream",
     "text": [
      "\u001B[32m[I 2023-02-24 16:40:25,274]\u001B[0m A new study created in memory with name: no-name-b9b53edb-3fc6-4cf1-8f51-81609a22c214\u001B[0m\n",
      "\u001B[32m[I 2023-02-24 16:40:25,351]\u001B[0m Trial 0 finished with value: 0.8453788326591238 and parameters: {'rf_max_depth': 5.474972708872103}. Best is trial 0 with value: 0.8453788326591238.\u001B[0m\n",
      "\u001B[32m[I 2023-02-24 16:40:25,443]\u001B[0m Trial 1 finished with value: 0.8292556579885291 and parameters: {'rf_max_depth': 8.634886358595033}. Best is trial 0 with value: 0.8453788326591238.\u001B[0m\n",
      "\u001B[32m[I 2023-02-24 16:40:25,554]\u001B[0m Trial 2 finished with value: 0.8148415022105574 and parameters: {'rf_max_depth': 24.507057718049357}. Best is trial 0 with value: 0.8453788326591238.\u001B[0m\n",
      "\u001B[32m[I 2023-02-24 16:40:25,663]\u001B[0m Trial 3 finished with value: 0.8217397701690745 and parameters: {'rf_max_depth': 13.125042844781891}. Best is trial 0 with value: 0.8453788326591238.\u001B[0m\n",
      "\u001B[32m[I 2023-02-24 16:40:25,763]\u001B[0m Trial 4 finished with value: 0.8208079603252021 and parameters: {'rf_max_depth': 10.192211986090307}. Best is trial 0 with value: 0.8453788326591238.\u001B[0m\n",
      "\u001B[32m[I 2023-02-24 16:40:25,831]\u001B[0m Trial 5 finished with value: 0.8515656295063512 and parameters: {'rf_max_depth': 4.230258259138665}. Best is trial 5 with value: 0.8515656295063512.\u001B[0m\n",
      "\u001B[32m[I 2023-02-24 16:40:25,938]\u001B[0m Trial 6 finished with value: 0.8094749864175619 and parameters: {'rf_max_depth': 13.539533735844962}. Best is trial 5 with value: 0.8515656295063512.\u001B[0m\n",
      "\u001B[32m[I 2023-02-24 16:40:26,038]\u001B[0m Trial 7 finished with value: 0.8216749700579047 and parameters: {'rf_max_depth': 10.470583298561602}. Best is trial 5 with value: 0.8515656295063512.\u001B[0m\n",
      "\u001B[32m[I 2023-02-24 16:40:26,147]\u001B[0m Trial 8 finished with value: 0.8105059771422324 and parameters: {'rf_max_depth': 17.052904374904596}. Best is trial 5 with value: 0.8515656295063512.\u001B[0m\n",
      "\u001B[32m[I 2023-02-24 16:40:26,215]\u001B[0m Trial 9 finished with value: 0.8459538386214428 and parameters: {'rf_max_depth': 3.247620793118858}. Best is trial 5 with value: 0.8515656295063512.\u001B[0m\n",
      "\u001B[32m[I 2023-02-24 16:40:26,282]\u001B[0m Trial 10 finished with value: 0.823939581062079 and parameters: {'rf_max_depth': 2.0972022275441713}. Best is trial 5 with value: 0.8515656295063512.\u001B[0m\n",
      "\u001B[32m[I 2023-02-24 16:40:26,354]\u001B[0m Trial 11 finished with value: 0.8505121059495618 and parameters: {'rf_max_depth': 4.076575275261057}. Best is trial 5 with value: 0.8515656295063512.\u001B[0m\n",
      "\u001B[32m[I 2023-02-24 16:40:26,436]\u001B[0m Trial 12 finished with value: 0.8464124925543886 and parameters: {'rf_max_depth': 5.214221916974246}. Best is trial 5 with value: 0.8515656295063512.\u001B[0m\n",
      "\u001B[32m[I 2023-02-24 16:40:26,524]\u001B[0m Trial 13 finished with value: 0.8483977477475211 and parameters: {'rf_max_depth': 5.194924600421263}. Best is trial 5 with value: 0.8515656295063512.\u001B[0m\n",
      "\u001B[32m[I 2023-02-24 16:40:26,593]\u001B[0m Trial 14 finished with value: 0.8479323510605905 and parameters: {'rf_max_depth': 3.461203925491582}. Best is trial 5 with value: 0.8515656295063512.\u001B[0m\n",
      "\u001B[32m[I 2023-02-24 16:40:26,675]\u001B[0m Trial 15 finished with value: 0.8420322732862404 and parameters: {'rf_max_depth': 6.309831034748571}. Best is trial 5 with value: 0.8515656295063512.\u001B[0m\n",
      "\u001B[32m[I 2023-02-24 16:40:26,745]\u001B[0m Trial 16 finished with value: 0.8473787146044838 and parameters: {'rf_max_depth': 3.61620534648712}. Best is trial 5 with value: 0.8515656295063512.\u001B[0m\n",
      "\u001B[32m[I 2023-02-24 16:40:26,842]\u001B[0m Trial 17 finished with value: 0.8393514685500506 and parameters: {'rf_max_depth': 7.126874007170111}. Best is trial 5 with value: 0.8515656295063512.\u001B[0m\n",
      "\u001B[32m[I 2023-02-24 16:40:26,907]\u001B[0m Trial 18 finished with value: 0.8213418945304575 and parameters: {'rf_max_depth': 2.0240674635244424}. Best is trial 5 with value: 0.8515656295063512.\u001B[0m\n",
      "\u001B[32m[I 2023-02-24 16:40:26,981]\u001B[0m Trial 19 finished with value: 0.8510562137186138 and parameters: {'rf_max_depth': 4.175706510487699}. Best is trial 5 with value: 0.8515656295063512.\u001B[0m\n",
      "\u001B[32m[I 2023-02-24 16:40:27,069]\u001B[0m Trial 20 finished with value: 0.8341111561174701 and parameters: {'rf_max_depth': 7.411660340217331}. Best is trial 5 with value: 0.8515656295063512.\u001B[0m\n",
      "\u001B[32m[I 2023-02-24 16:40:27,140]\u001B[0m Trial 21 finished with value: 0.8520082890532141 and parameters: {'rf_max_depth': 4.326230398320487}. Best is trial 21 with value: 0.8520082890532141.\u001B[0m\n",
      "\u001B[32m[I 2023-02-24 16:40:27,205]\u001B[0m Trial 22 finished with value: 0.8232616591850193 and parameters: {'rf_max_depth': 2.8481434432262205}. Best is trial 21 with value: 0.8520082890532141.\u001B[0m\n",
      "\u001B[32m[I 2023-02-24 16:40:27,279]\u001B[0m Trial 23 finished with value: 0.8500539529507648 and parameters: {'rf_max_depth': 4.356202614264387}. Best is trial 21 with value: 0.8520082890532141.\u001B[0m\n",
      "\u001B[32m[I 2023-02-24 16:40:27,354]\u001B[0m Trial 24 finished with value: 0.850976764091625 and parameters: {'rf_max_depth': 4.631943519356941}. Best is trial 21 with value: 0.8520082890532141.\u001B[0m\n",
      "\u001B[32m[I 2023-02-24 16:40:27,420]\u001B[0m Trial 25 finished with value: 0.8230833820179211 and parameters: {'rf_max_depth': 2.7796509803198877}. Best is trial 21 with value: 0.8520082890532141.\u001B[0m\n",
      "\u001B[32m[I 2023-02-24 16:40:27,503]\u001B[0m Trial 26 finished with value: 0.8381091027843128 and parameters: {'rf_max_depth': 6.046985318055324}. Best is trial 21 with value: 0.8520082890532141.\u001B[0m\n",
      "\u001B[32m[I 2023-02-24 16:40:27,575]\u001B[0m Trial 27 finished with value: 0.8514387316970785 and parameters: {'rf_max_depth': 4.113689173447654}. Best is trial 21 with value: 0.8520082890532141.\u001B[0m\n",
      "\u001B[32m[I 2023-02-24 16:40:27,640]\u001B[0m Trial 28 finished with value: 0.8241120192727587 and parameters: {'rf_max_depth': 2.6883077488055043}. Best is trial 21 with value: 0.8520082890532141.\u001B[0m\n",
      "\u001B[32m[I 2023-02-24 16:40:27,719]\u001B[0m Trial 29 finished with value: 0.8449213309881707 and parameters: {'rf_max_depth': 5.049418819160179}. Best is trial 21 with value: 0.8520082890532141.\u001B[0m\n",
      "\u001B[32m[I 2023-02-24 16:40:27,797]\u001B[0m Trial 30 finished with value: 0.8456690560899803 and parameters: {'rf_max_depth': 5.957881333237569}. Best is trial 21 with value: 0.8520082890532141.\u001B[0m\n",
      "\u001B[32m[I 2023-02-24 16:40:27,870]\u001B[0m Trial 31 finished with value: 0.8472506828729779 and parameters: {'rf_max_depth': 4.253847647523395}. Best is trial 21 with value: 0.8520082890532141.\u001B[0m\n",
      "\u001B[32m[I 2023-02-24 16:40:27,940]\u001B[0m Trial 32 finished with value: 0.8493268559537588 and parameters: {'rf_max_depth': 3.9241577533780645}. Best is trial 21 with value: 0.8520082890532141.\u001B[0m\n",
      "\u001B[32m[I 2023-02-24 16:40:28,015]\u001B[0m Trial 33 finished with value: 0.851633311516091 and parameters: {'rf_max_depth': 4.440298669440971}. Best is trial 21 with value: 0.8520082890532141.\u001B[0m\n",
      "\u001B[32m[I 2023-02-24 16:40:28,099]\u001B[0m Trial 34 finished with value: 0.8442385293281637 and parameters: {'rf_max_depth': 5.05791872446}. Best is trial 21 with value: 0.8520082890532141.\u001B[0m\n",
      "\u001B[32m[I 2023-02-24 16:40:28,174]\u001B[0m Trial 35 finished with value: 0.8484452604569526 and parameters: {'rf_max_depth': 3.3190881785488755}. Best is trial 21 with value: 0.8520082890532141.\u001B[0m\n",
      "\u001B[32m[I 2023-02-24 16:40:28,266]\u001B[0m Trial 36 finished with value: 0.8339914166884277 and parameters: {'rf_max_depth': 6.596501616020723}. Best is trial 21 with value: 0.8520082890532141.\u001B[0m\n",
      "\u001B[32m[I 2023-02-24 16:40:28,363]\u001B[0m Trial 37 finished with value: 0.8246998028097089 and parameters: {'rf_max_depth': 8.230769517506824}. Best is trial 21 with value: 0.8520082890532141.\u001B[0m\n",
      "\u001B[32m[I 2023-02-24 16:40:28,443]\u001B[0m Trial 38 finished with value: 0.8453351905065543 and parameters: {'rf_max_depth': 5.611572415188414}. Best is trial 21 with value: 0.8520082890532141.\u001B[0m\n",
      "\u001B[32m[I 2023-02-24 16:40:28,521]\u001B[0m Trial 39 finished with value: 0.8527484828029213 and parameters: {'rf_max_depth': 4.757836307330689}. Best is trial 39 with value: 0.8527484828029213.\u001B[0m\n",
      "\u001B[32m[I 2023-02-24 16:40:28,615]\u001B[0m Trial 40 finished with value: 0.8324130903308251 and parameters: {'rf_max_depth': 8.530516905855574}. Best is trial 39 with value: 0.8527484828029213.\u001B[0m\n",
      "\u001B[32m[I 2023-02-24 16:40:28,691]\u001B[0m Trial 41 finished with value: 0.8482160731804692 and parameters: {'rf_max_depth': 4.64723269698447}. Best is trial 39 with value: 0.8527484828029213.\u001B[0m\n",
      "\u001B[32m[I 2023-02-24 16:40:28,761]\u001B[0m Trial 42 finished with value: 0.8483477558072703 and parameters: {'rf_max_depth': 3.7281298259966107}. Best is trial 39 with value: 0.8527484828029213.\u001B[0m\n",
      "\u001B[32m[I 2023-02-24 16:40:28,837]\u001B[0m Trial 43 finished with value: 0.8479630292089505 and parameters: {'rf_max_depth': 4.474098003022929}. Best is trial 39 with value: 0.8527484828029213.\u001B[0m\n",
      "\u001B[32m[I 2023-02-24 16:40:28,919]\u001B[0m Trial 44 finished with value: 0.8459836429887059 and parameters: {'rf_max_depth': 5.647916583442932}. Best is trial 39 with value: 0.8527484828029213.\u001B[0m\n",
      "\u001B[32m[I 2023-02-24 16:40:28,991]\u001B[0m Trial 45 finished with value: 0.8485912929317333 and parameters: {'rf_max_depth': 3.169183668771681}. Best is trial 39 with value: 0.8527484828029213.\u001B[0m\n",
      "\u001B[32m[I 2023-02-24 16:40:29,065]\u001B[0m Trial 46 finished with value: 0.847713453198035 and parameters: {'rf_max_depth': 3.9493576537782866}. Best is trial 39 with value: 0.8527484828029213.\u001B[0m\n",
      "\u001B[32m[I 2023-02-24 16:40:29,139]\u001B[0m Trial 47 finished with value: 0.8511966371151685 and parameters: {'rf_max_depth': 4.8361966689731855}. Best is trial 39 with value: 0.8527484828029213.\u001B[0m\n",
      "\u001B[32m[I 2023-02-24 16:40:29,208]\u001B[0m Trial 48 finished with value: 0.8473806337862989 and parameters: {'rf_max_depth': 3.6565665496388853}. Best is trial 39 with value: 0.8527484828029213.\u001B[0m\n",
      "\u001B[32m[I 2023-02-24 16:40:29,289]\u001B[0m Trial 49 finished with value: 0.8476979436174105 and parameters: {'rf_max_depth': 5.4927978813796425}. Best is trial 39 with value: 0.8527484828029213.\u001B[0m\n",
      "\u001B[32m[I 2023-02-24 16:40:29,378]\u001B[0m Trial 50 finished with value: 0.8376961470826133 and parameters: {'rf_max_depth': 7.3917292500175495}. Best is trial 39 with value: 0.8527484828029213.\u001B[0m\n",
      "\u001B[32m[I 2023-02-24 16:40:29,451]\u001B[0m Trial 51 finished with value: 0.8500085108405766 and parameters: {'rf_max_depth': 4.756740253499859}. Best is trial 39 with value: 0.8527484828029213.\u001B[0m\n",
      "\u001B[32m[I 2023-02-24 16:40:29,524]\u001B[0m Trial 52 finished with value: 0.8527246354187732 and parameters: {'rf_max_depth': 4.962898611913784}. Best is trial 39 with value: 0.8527484828029213.\u001B[0m\n",
      "\u001B[32m[I 2023-02-24 16:40:29,598]\u001B[0m Trial 53 finished with value: 0.8493635635717943 and parameters: {'rf_max_depth': 4.051279729968663}. Best is trial 39 with value: 0.8527484828029213.\u001B[0m\n",
      "\u001B[32m[I 2023-02-24 16:40:29,681]\u001B[0m Trial 54 finished with value: 0.8415572545162041 and parameters: {'rf_max_depth': 6.258588317577725}. Best is trial 39 with value: 0.8527484828029213.\u001B[0m\n",
      "\u001B[32m[I 2023-02-24 16:40:29,765]\u001B[0m Trial 55 finished with value: 0.8444906517770987 and parameters: {'rf_max_depth': 5.144715646193092}. Best is trial 39 with value: 0.8527484828029213.\u001B[0m\n",
      "\u001B[32m[I 2023-02-24 16:40:29,839]\u001B[0m Trial 56 finished with value: 0.8521849366717074 and parameters: {'rf_max_depth': 4.412749000357613}. Best is trial 39 with value: 0.8527484828029213.\u001B[0m\n",
      "\u001B[32m[I 2023-02-24 16:40:29,908]\u001B[0m Trial 57 finished with value: 0.8483107017092756 and parameters: {'rf_max_depth': 3.5847840420628105}. Best is trial 39 with value: 0.8527484828029213.\u001B[0m\n",
      "\u001B[32m[I 2023-02-24 16:40:29,989]\u001B[0m Trial 58 finished with value: 0.840159912418889 and parameters: {'rf_max_depth': 6.756526648687499}. Best is trial 39 with value: 0.8527484828029213.\u001B[0m\n",
      "\u001B[32m[I 2023-02-24 16:40:30,065]\u001B[0m Trial 59 finished with value: 0.8514661391316324 and parameters: {'rf_max_depth': 4.5454015492923}. Best is trial 39 with value: 0.8527484828029213.\u001B[0m\n",
      "\u001B[32m[I 2023-02-24 16:40:30,141]\u001B[0m Trial 60 finished with value: 0.8451642280986877 and parameters: {'rf_max_depth': 5.567175678044474}. Best is trial 39 with value: 0.8527484828029213.\u001B[0m\n",
      "\u001B[32m[I 2023-02-24 16:40:30,216]\u001B[0m Trial 61 finished with value: 0.8506262070350283 and parameters: {'rf_max_depth': 4.531819354368563}. Best is trial 39 with value: 0.8527484828029213.\u001B[0m\n",
      "\u001B[32m[I 2023-02-24 16:40:30,293]\u001B[0m Trial 62 finished with value: 0.8528801833689773 and parameters: {'rf_max_depth': 4.308876684731662}. Best is trial 62 with value: 0.8528801833689773.\u001B[0m\n",
      "\u001B[32m[I 2023-02-24 16:40:30,362]\u001B[0m Trial 63 finished with value: 0.8493742709480042 and parameters: {'rf_max_depth': 3.19245471060264}. Best is trial 62 with value: 0.8528801833689773.\u001B[0m\n",
      "\u001B[32m[I 2023-02-24 16:40:30,438]\u001B[0m Trial 64 finished with value: 0.850151084103232 and parameters: {'rf_max_depth': 3.9532258650552587}. Best is trial 62 with value: 0.8528801833689773.\u001B[0m\n",
      "\u001B[32m[I 2023-02-24 16:40:30,517]\u001B[0m Trial 65 finished with value: 0.8495098812112417 and parameters: {'rf_max_depth': 4.917490758962076}. Best is trial 62 with value: 0.8528801833689773.\u001B[0m\n",
      "\u001B[32m[I 2023-02-24 16:40:30,594]\u001B[0m Trial 66 finished with value: 0.8522473231977988 and parameters: {'rf_max_depth': 5.934519789934582}. Best is trial 62 with value: 0.8528801833689773.\u001B[0m\n",
      "\u001B[32m[I 2023-02-24 16:40:30,671]\u001B[0m Trial 67 finished with value: 0.8483962113536855 and parameters: {'rf_max_depth': 5.936038711292238}. Best is trial 62 with value: 0.8528801833689773.\u001B[0m\n",
      "\u001B[32m[I 2023-02-24 16:40:30,747]\u001B[0m Trial 68 finished with value: 0.844300601077588 and parameters: {'rf_max_depth': 5.391546596407518}. Best is trial 62 with value: 0.8528801833689773.\u001B[0m\n",
      "\u001B[32m[I 2023-02-24 16:40:30,822]\u001B[0m Trial 69 finished with value: 0.8500139263219433 and parameters: {'rf_max_depth': 4.2896780769952105}. Best is trial 62 with value: 0.8528801833689773.\u001B[0m\n",
      "\u001B[32m[I 2023-02-24 16:40:30,906]\u001B[0m Trial 70 finished with value: 0.8455160703432927 and parameters: {'rf_max_depth': 6.877924889026289}. Best is trial 62 with value: 0.8528801833689773.\u001B[0m\n",
      "\u001B[32m[I 2023-02-24 16:40:30,983]\u001B[0m Trial 71 finished with value: 0.8445476384376868 and parameters: {'rf_max_depth': 5.18505805175494}. Best is trial 62 with value: 0.8528801833689773.\u001B[0m\n",
      "\u001B[32m[I 2023-02-24 16:40:31,059]\u001B[0m Trial 72 finished with value: 0.8471695375506846 and parameters: {'rf_max_depth': 4.233554005605143}. Best is trial 62 with value: 0.8528801833689773.\u001B[0m\n",
      "\u001B[32m[I 2023-02-24 16:40:31,131]\u001B[0m Trial 73 finished with value: 0.8522852229713743 and parameters: {'rf_max_depth': 4.823470937028136}. Best is trial 62 with value: 0.8528801833689773.\u001B[0m\n",
      "\u001B[32m[I 2023-02-24 16:40:31,213]\u001B[0m Trial 74 finished with value: 0.8430174121330808 and parameters: {'rf_max_depth': 6.179786198315178}. Best is trial 62 with value: 0.8528801833689773.\u001B[0m\n",
      "\u001B[32m[I 2023-02-24 16:40:31,292]\u001B[0m Trial 75 finished with value: 0.852263545073576 and parameters: {'rf_max_depth': 4.84262242479817}. Best is trial 62 with value: 0.8528801833689773.\u001B[0m\n",
      "\u001B[32m[I 2023-02-24 16:40:31,367]\u001B[0m Trial 76 finished with value: 0.8495376186262498 and parameters: {'rf_max_depth': 4.893940565717595}. Best is trial 62 with value: 0.8528801833689773.\u001B[0m\n",
      "\u001B[32m[I 2023-02-24 16:40:31,449]\u001B[0m Trial 77 finished with value: 0.8506318715597334 and parameters: {'rf_max_depth': 5.899043664643018}. Best is trial 62 with value: 0.8528801833689773.\u001B[0m\n",
      "\u001B[32m[I 2023-02-24 16:40:31,532]\u001B[0m Trial 78 finished with value: 0.8447429139875974 and parameters: {'rf_max_depth': 5.223296848754558}. Best is trial 62 with value: 0.8528801833689773.\u001B[0m\n",
      "\u001B[32m[I 2023-02-24 16:40:31,608]\u001B[0m Trial 79 finished with value: 0.8487298105981687 and parameters: {'rf_max_depth': 3.799688316674591}. Best is trial 62 with value: 0.8528801833689773.\u001B[0m\n",
      "\u001B[32m[I 2023-02-24 16:40:31,700]\u001B[0m Trial 80 finished with value: 0.8340024632473175 and parameters: {'rf_max_depth': 7.813634407901088}. Best is trial 62 with value: 0.8528801833689773.\u001B[0m\n",
      "\u001B[32m[I 2023-02-24 16:40:31,778]\u001B[0m Trial 81 finished with value: 0.8506722902495258 and parameters: {'rf_max_depth': 4.42729182917853}. Best is trial 62 with value: 0.8528801833689773.\u001B[0m\n",
      "\u001B[32m[I 2023-02-24 16:40:31,848]\u001B[0m Trial 82 finished with value: 0.8486986715236318 and parameters: {'rf_max_depth': 3.450403565502207}. Best is trial 62 with value: 0.8528801833689773.\u001B[0m\n",
      "\u001B[32m[I 2023-02-24 16:40:31,922]\u001B[0m Trial 83 finished with value: 0.8514940141358214 and parameters: {'rf_max_depth': 4.709705129968266}. Best is trial 62 with value: 0.8528801833689773.\u001B[0m\n",
      "\u001B[32m[I 2023-02-24 16:40:31,999]\u001B[0m Trial 84 finished with value: 0.8503031815951585 and parameters: {'rf_max_depth': 4.231253443366594}. Best is trial 62 with value: 0.8528801833689773.\u001B[0m\n",
      "\u001B[32m[I 2023-02-24 16:40:32,072]\u001B[0m Trial 85 finished with value: 0.8489975353658504 and parameters: {'rf_max_depth': 3.8390280908392804}. Best is trial 62 with value: 0.8528801833689773.\u001B[0m\n",
      "\u001B[32m[I 2023-02-24 16:40:32,150]\u001B[0m Trial 86 finished with value: 0.8499125017654612 and parameters: {'rf_max_depth': 4.888532196105443}. Best is trial 62 with value: 0.8528801833689773.\u001B[0m\n",
      "\u001B[32m[I 2023-02-24 16:40:32,231]\u001B[0m Trial 87 finished with value: 0.8458248346689319 and parameters: {'rf_max_depth': 5.659449867968675}. Best is trial 62 with value: 0.8528801833689773.\u001B[0m\n",
      "\u001B[32m[I 2023-02-24 16:40:32,306]\u001B[0m Trial 88 finished with value: 0.8494067335484461 and parameters: {'rf_max_depth': 4.381659667545879}. Best is trial 62 with value: 0.8528801833689773.\u001B[0m\n",
      "\u001B[32m[I 2023-02-24 16:40:32,386]\u001B[0m Trial 89 finished with value: 0.8455281922472692 and parameters: {'rf_max_depth': 5.303597253706947}. Best is trial 62 with value: 0.8528801833689773.\u001B[0m\n",
      "\u001B[32m[I 2023-02-24 16:40:32,473]\u001B[0m Trial 90 finished with value: 0.8453389335789865 and parameters: {'rf_max_depth': 6.43879435493235}. Best is trial 62 with value: 0.8528801833689773.\u001B[0m\n",
      "\u001B[32m[I 2023-02-24 16:40:32,552]\u001B[0m Trial 91 finished with value: 0.8528991387948924 and parameters: {'rf_max_depth': 4.109232673212957}. Best is trial 91 with value: 0.8528991387948924.\u001B[0m\n",
      "\u001B[32m[I 2023-02-24 16:40:32,625]\u001B[0m Trial 92 finished with value: 0.8501616190006116 and parameters: {'rf_max_depth': 4.735667786128432}. Best is trial 91 with value: 0.8528991387948924.\u001B[0m\n",
      "\u001B[32m[I 2023-02-24 16:40:32,694]\u001B[0m Trial 93 finished with value: 0.8483102581680217 and parameters: {'rf_max_depth': 3.9104336223999985}. Best is trial 91 with value: 0.8528991387948924.\u001B[0m\n",
      "\u001B[32m[I 2023-02-24 16:40:32,769]\u001B[0m Trial 94 finished with value: 0.8522444537168304 and parameters: {'rf_max_depth': 4.0471338291819485}. Best is trial 91 with value: 0.8528991387948924.\u001B[0m\n",
      "\u001B[32m[I 2023-02-24 16:40:32,840]\u001B[0m Trial 95 finished with value: 0.8472540230357367 and parameters: {'rf_max_depth': 3.5590281653415077}. Best is trial 91 with value: 0.8528991387948924.\u001B[0m\n",
      "\u001B[32m[I 2023-02-24 16:40:32,916]\u001B[0m Trial 96 finished with value: 0.8487203502326401 and parameters: {'rf_max_depth': 4.1646138638770935}. Best is trial 91 with value: 0.8528991387948924.\u001B[0m\n",
      "\u001B[32m[I 2023-02-24 16:40:32,990]\u001B[0m Trial 97 finished with value: 0.8492686302164231 and parameters: {'rf_max_depth': 4.479129974480555}. Best is trial 91 with value: 0.8528991387948924.\u001B[0m\n",
      "\u001B[32m[I 2023-02-24 16:40:33,065]\u001B[0m Trial 98 finished with value: 0.8494771141687453 and parameters: {'rf_max_depth': 4.036481339620926}. Best is trial 91 with value: 0.8528991387948924.\u001B[0m\n",
      "\u001B[32m[I 2023-02-24 16:40:33,147]\u001B[0m Trial 99 finished with value: 0.8484286109333643 and parameters: {'rf_max_depth': 5.266428512702391}. Best is trial 91 with value: 0.8528991387948924.\u001B[0m\n"
     ]
    },
    {
     "name": "stdout",
     "output_type": "stream",
     "text": [
      "{'rf_max_depth': 4.109232673212957}\n"
     ]
    }
   ],
   "source": [
    "import optuna\n",
    "\n",
    "def objective(trial):\n",
    "    x, y = x_train.values, y_train\n",
    "    rf_max_depth = int(trial.suggest_loguniform('rf_max_depth', 2, 32))\n",
    "    reg_obj = RandomForestRegressor(max_depth=rf_max_depth, n_estimators=10)\n",
    "    cv_score = cross_val_score(reg_obj, x, y, cv=5, scoring='r2').mean()\n",
    "    return cv_score\n",
    "\n",
    "study = optuna.create_study(direction='maximize')\n",
    "study.optimize(objective, n_trials=100)\n",
    "print(study.best_trial.params)"
   ],
   "metadata": {
    "collapsed": false
   }
  },
  {
   "cell_type": "code",
   "execution_count": 192,
   "outputs": [
    {
     "data": {
      "text/plain": "RandomForestRegressor(max_depth=4, n_estimators=10)",
      "text/html": "<style>#sk-container-id-14 {color: black;background-color: white;}#sk-container-id-14 pre{padding: 0;}#sk-container-id-14 div.sk-toggleable {background-color: white;}#sk-container-id-14 label.sk-toggleable__label {cursor: pointer;display: block;width: 100%;margin-bottom: 0;padding: 0.3em;box-sizing: border-box;text-align: center;}#sk-container-id-14 label.sk-toggleable__label-arrow:before {content: \"▸\";float: left;margin-right: 0.25em;color: #696969;}#sk-container-id-14 label.sk-toggleable__label-arrow:hover:before {color: black;}#sk-container-id-14 div.sk-estimator:hover label.sk-toggleable__label-arrow:before {color: black;}#sk-container-id-14 div.sk-toggleable__content {max-height: 0;max-width: 0;overflow: hidden;text-align: left;background-color: #f0f8ff;}#sk-container-id-14 div.sk-toggleable__content pre {margin: 0.2em;color: black;border-radius: 0.25em;background-color: #f0f8ff;}#sk-container-id-14 input.sk-toggleable__control:checked~div.sk-toggleable__content {max-height: 200px;max-width: 100%;overflow: auto;}#sk-container-id-14 input.sk-toggleable__control:checked~label.sk-toggleable__label-arrow:before {content: \"▾\";}#sk-container-id-14 div.sk-estimator input.sk-toggleable__control:checked~label.sk-toggleable__label {background-color: #d4ebff;}#sk-container-id-14 div.sk-label input.sk-toggleable__control:checked~label.sk-toggleable__label {background-color: #d4ebff;}#sk-container-id-14 input.sk-hidden--visually {border: 0;clip: rect(1px 1px 1px 1px);clip: rect(1px, 1px, 1px, 1px);height: 1px;margin: -1px;overflow: hidden;padding: 0;position: absolute;width: 1px;}#sk-container-id-14 div.sk-estimator {font-family: monospace;background-color: #f0f8ff;border: 1px dotted black;border-radius: 0.25em;box-sizing: border-box;margin-bottom: 0.5em;}#sk-container-id-14 div.sk-estimator:hover {background-color: #d4ebff;}#sk-container-id-14 div.sk-parallel-item::after {content: \"\";width: 100%;border-bottom: 1px solid gray;flex-grow: 1;}#sk-container-id-14 div.sk-label:hover label.sk-toggleable__label {background-color: #d4ebff;}#sk-container-id-14 div.sk-serial::before {content: \"\";position: absolute;border-left: 1px solid gray;box-sizing: border-box;top: 0;bottom: 0;left: 50%;z-index: 0;}#sk-container-id-14 div.sk-serial {display: flex;flex-direction: column;align-items: center;background-color: white;padding-right: 0.2em;padding-left: 0.2em;position: relative;}#sk-container-id-14 div.sk-item {position: relative;z-index: 1;}#sk-container-id-14 div.sk-parallel {display: flex;align-items: stretch;justify-content: center;background-color: white;position: relative;}#sk-container-id-14 div.sk-item::before, #sk-container-id-14 div.sk-parallel-item::before {content: \"\";position: absolute;border-left: 1px solid gray;box-sizing: border-box;top: 0;bottom: 0;left: 50%;z-index: -1;}#sk-container-id-14 div.sk-parallel-item {display: flex;flex-direction: column;z-index: 1;position: relative;background-color: white;}#sk-container-id-14 div.sk-parallel-item:first-child::after {align-self: flex-end;width: 50%;}#sk-container-id-14 div.sk-parallel-item:last-child::after {align-self: flex-start;width: 50%;}#sk-container-id-14 div.sk-parallel-item:only-child::after {width: 0;}#sk-container-id-14 div.sk-dashed-wrapped {border: 1px dashed gray;margin: 0 0.4em 0.5em 0.4em;box-sizing: border-box;padding-bottom: 0.4em;background-color: white;}#sk-container-id-14 div.sk-label label {font-family: monospace;font-weight: bold;display: inline-block;line-height: 1.2em;}#sk-container-id-14 div.sk-label-container {text-align: center;}#sk-container-id-14 div.sk-container {/* jupyter's `normalize.less` sets `[hidden] { display: none; }` but bootstrap.min.css set `[hidden] { display: none !important; }` so we also need the `!important` here to be able to override the default hidden behavior on the sphinx rendered scikit-learn.org. See: https://github.com/scikit-learn/scikit-learn/issues/21755 */display: inline-block !important;position: relative;}#sk-container-id-14 div.sk-text-repr-fallback {display: none;}</style><div id=\"sk-container-id-14\" class=\"sk-top-container\"><div class=\"sk-text-repr-fallback\"><pre>RandomForestRegressor(max_depth=4, n_estimators=10)</pre><b>In a Jupyter environment, please rerun this cell to show the HTML representation or trust the notebook. <br />On GitHub, the HTML representation is unable to render, please try loading this page with nbviewer.org.</b></div><div class=\"sk-container\" hidden><div class=\"sk-item\"><div class=\"sk-estimator sk-toggleable\"><input class=\"sk-toggleable__control sk-hidden--visually\" id=\"sk-estimator-id-20\" type=\"checkbox\" checked><label for=\"sk-estimator-id-20\" class=\"sk-toggleable__label sk-toggleable__label-arrow\">RandomForestRegressor</label><div class=\"sk-toggleable__content\"><pre>RandomForestRegressor(max_depth=4, n_estimators=10)</pre></div></div></div></div></div>"
     },
     "execution_count": 192,
     "metadata": {},
     "output_type": "execute_result"
    }
   ],
   "source": [
    "modelOptuna = RandomForestRegressor(max_depth=4, n_estimators=10)\n",
    "modelOptuna.fit(x_train, y_train)"
   ],
   "metadata": {
    "collapsed": false
   }
  },
  {
   "cell_type": "code",
   "execution_count": 193,
   "outputs": [
    {
     "name": "stdout",
     "output_type": "stream",
     "text": [
      "예측 성능: 0.8566797354853786\n"
     ]
    }
   ],
   "source": [
    "y_pred_optuna = modelOptuna.predict(x_test)\n",
    "print(\"예측 성능:\", r2_score(y_test, y_pred_optuna))"
   ],
   "metadata": {
    "collapsed": false
   }
  },
  {
   "cell_type": "code",
   "execution_count": 149,
   "metadata": {},
   "outputs": [
    {
     "data": {
      "text/plain": "<Figure size 500x500 with 1 Axes>",
      "image/png": "[encoded data removed]"
     },
     "metadata": {
      "image/png": {
       "width": 525,
       "height": 427
      }
     },
     "output_type": "display_data"
    }
   ],
   "source": [
    "# 변수 중요도 시각화\n",
    "plt.figure(figsize=(5, 5))\n",
    "plt.barh(y=list(x), width=model.best_estimator_.feature_importances_)\n",
    "plt.show()"
   ]
  },
  {
   "cell_type": "markdown",
   "metadata": {},
   "source": [
    "# 7.성능 평가\n",
    "\n",
    "- 최적 파라미터로 학습된 모델에 대해 최종 성능 평가를 진행합니다."
   ]
  },
  {
   "cell_type": "code",
   "execution_count": 150,
   "metadata": {},
   "outputs": [],
   "source": [
    "# 예측하기\n",
    "y_pred = model.predict(x_test)"
   ]
  },
  {
   "cell_type": "code",
   "execution_count": 151,
   "metadata": {},
   "outputs": [
    {
     "name": "stdout",
     "output_type": "stream",
     "text": [
      "학습 데이터 성능:  0.8777161972600962\n",
      "테스트 데이터 성능:  0.8563843673491857\n"
     ]
    }
   ],
   "source": [
    "# 성능평가\n",
    "print(\"학습 데이터 성능: \", model.score(x_train, y_train))\n",
    "print(\"테스트 데이터 성능: \", r2_score(y_test, y_pred))"
   ]
  },
  {
   "cell_type": "code",
   "execution_count": null,
   "outputs": [],
   "source": [],
   "metadata": {
    "collapsed": false
   }
  }
 ],
 "metadata": {
  "colab": {
   "collapsed_sections": [],
   "name": "실습06_01_앙상블(Iris).ipynb",
   "provenance": [],
   "toc_visible": true
  },
  "kernelspec": {
   "display_name": "Python 3 (ipykernel)",
   "language": "python",
   "name": "python3"
  },
  "language_info": {
   "codemirror_mode": {
    "name": "ipython",
    "version": 3
   },
   "file_extension": ".py",
   "mimetype": "text/x-python",
   "name": "python",
   "nbconvert_exporter": "python",
   "pygments_lexer": "ipython3",
   "version": "3.9.13"
  }
 },
 "nbformat": 4,
 "nbformat_minor": 4
}
