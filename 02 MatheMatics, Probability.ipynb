{
 "cells": [
  {
   "cell_type": "markdown",
   "source": [
    "### 머신러닝 모델 이해 전략\n",
    "-> 먼저 기본이 되는 모델을 학습하고 -> 동시에 추가로, 이론을 깊게 학습하는 것이 좋다."
   ],
   "metadata": {
    "collapsed": false
   }
  },
  {
   "cell_type": "markdown",
   "source": [
    "### 조건부 확률, 결합확률, 주변확률\n",
    "\n",
    "1. 조건부 확률\n",
    "- 어떤 사건이 일어났다는 조건 하에 다른 사건이 일어날 확률\n",
    "- **P(나타날 조건 | 먼저 정해진 조건)**\n",
    "\n",
    "2. 결합 확률\n",
    "- 두 사건이 동시에 일어날 확률\n",
    "- **P(조건1, 조건2)**\n",
    "\n",
    "3. 주변 확률\n",
    "- 두 사건이 동시에 일어날 수 있을 때, **하나의 특정 사건에 주목**하여 그것이 일어날 확률\n",
    "- **P(조건 1 + 조건 2)**\n"
   ],
   "metadata": {
    "collapsed": false
   }
  },
  {
   "cell_type": "markdown",
   "source": [
    "### 독립(independent)\n",
    "\n",
    "- X, Y 두 랜덤 변수가 서로 영향을 미치지 못하면 **독립** 이라고 한다.\n",
    "- 두 랜덤 변수가 독립이려면, **P(X, Y) = P(X) * P(Y)**\n"
   ],
   "metadata": {
    "collapsed": false
   }
  },
  {
   "cell_type": "markdown",
   "source": [
    "### 사전 확률(prior probability)\n",
    "- P(X)는 사전 확률\n",
    "- X(원인)이 발생할 확률과 같이 **결과가 나타나기 전에 결정되어 있는 확률**\n",
    "\n",
    "### 사후 확률\n",
    "- B(결과,예측값)가 발생하였다는 조건 하에 이 결과가 A(원인)로 인해 발생하였을 확률\n",
    "- P(A|**B**)\n",
    "\n",
    "\n",
    "### 우도(가능도, likelihood)\n",
    "- 'A(원인)'이 발생하였다는 조건 하에, B(결과)가 발생할 확률\n",
    "- P(B|**A**)\n",
    "- 조건부 확률로 계산이 가능"
   ],
   "metadata": {
    "collapsed": false
   }
  },
  {
   "cell_type": "markdown",
   "source": [
    "### 사전 확률, 우도, 사후 확률 예시\n",
    "\n",
    "딸기맛 사탕이 뽑혔는데, 어느 상자에서 나왔는가?\n",
    "- 전략1 (사전 확률)\n",
    "    - 상자 A와 B의 선택 가능성을 비교해서 큰 쪽을 취하자\n",
    "    - P(A) = 6 / 10 > P(B) = 4 / 10 이므로 '상자 A에서 나왔다' 라고 말한다.\n",
    "=> 이것을 **사전 확률** P(x)를 사용해서 비교했다고 말한다.\n",
    "\n",
    "\n",
    "- 전략2 (우도)\n",
    "    - 상자 A와 B(원인)를 선택한 후, 각 상자에서 딸기맛 사탕이 뽑힐 확률(결과)을 비교해서 큰 쪽을 취하자.\n",
    "    - P(딸기맛 | B) = 6 / 10 > P(딸기맛 | A ) = 2/ 10 이므로 '상자 B에서 나왔다'라고 말한다.\n",
    "\n",
    "\n",
    "=> 따라서, 사전확률과 우도를 사용하면 어느 것이 정확한지 알 수 없다.\n",
    "=> 따라서, **'딸기맛 사탕'이 관찰된 조건 하에** P(A|딸기맛), P(B|딸기맛) 을 비교하여 큰 쪽을 취하는 것이 합리적이다.\n",
    "=> 즉, P(X[원인] | Y[결과]) - **사후확률**을 사용하는 것이 보다 정확할 수 있다.\n",
    "    - **그러나, 사후 확률은 직접 계산할 수 없다.**"
   ],
   "metadata": {
    "collapsed": false
   }
  },
  {
   "cell_type": "markdown",
   "source": [
    "### 베이즈 정리\n",
    "- **사후 확률**은 **사전 확률**과 **우도**를 사용해서 계산할 수 있다.\n",
    "- 이를 **베이즈 정리** 라고 한다."
   ],
   "metadata": {
    "collapsed": false
   }
  },
  {
   "cell_type": "code",
   "execution_count": null,
   "outputs": [],
   "source": [],
   "metadata": {
    "collapsed": false
   }
  }
 ],
 "metadata": {
  "kernelspec": {
   "display_name": "Python 3",
   "language": "python",
   "name": "python3"
  },
  "language_info": {
   "codemirror_mode": {
    "name": "ipython",
    "version": 2
   },
   "file_extension": ".py",
   "mimetype": "text/x-python",
   "name": "python",
   "nbconvert_exporter": "python",
   "pygments_lexer": "ipython2",
   "version": "2.7.6"
  }
 },
 "nbformat": 4,
 "nbformat_minor": 0
}
