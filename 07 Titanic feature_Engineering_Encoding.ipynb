{
 "cells": [
  {
   "cell_type": "markdown",
   "source": [
    "### 1. 원핫 인코딩 과 레이블 인코딩"
   ],
   "metadata": {
    "collapsed": false
   }
  },
  {
   "cell_type": "markdown",
   "source": [
    "- 레이블 인코딩: 문자열을 범주형 숫자값으로 변환\n",
    "    - 기존의 feature engineering 이 이와 같은 작업을 진행한 것임\n",
    "      - 일괄적으로 문자열을 레이블 인코딩해주는 함수도 **사이킷런에서 제공함 ( LabelEncoder() )**\n",
    "      - 선형 회귀와 같이 숫자값에 의미를 부여하는 경우에는 레이블 인코딩이 결과 예측을 왜곡할 수 있음\n",
    "         - 트리 관련 머신러닝 기법에서는 사용 가능\n",
    "- 원핫 인코딩: 각 문자열 범주마다 **새로운 feature**를 만들고, 해당 범주에 해당하는 경우에만 값을 부여해주는 방식"
   ],
   "metadata": {
    "collapsed": false
   }
  },
  {
   "cell_type": "code",
   "execution_count": 1,
   "metadata": {
    "collapsed": true
   },
   "outputs": [],
   "source": [
    "import pickle\n",
    "with open('titanic_step2_feature_add.pickle', 'rb') as pickle_filename:\n",
    "    df = pickle.load(pickle_filename)"
   ]
  },
  {
   "cell_type": "code",
   "execution_count": 2,
   "outputs": [
    {
     "data": {
      "text/plain": "   PassengerId  Survived  Pclass  Sex  Age  Fare Cabin  Embarked  Initial  \\\n0            1       0.0       3    0  3.0   0.0     U         0      0.0   \n1            2       1.0       1    1  4.0   3.0     C         1      2.0   \n2            3       1.0       3    1  3.0   0.0     U         0      1.0   \n3            4       1.0       1    1  4.0   2.0     C         0      2.0   \n4            5       0.0       3    0  4.0   0.0     U         0      0.0   \n\n   Family  Ticket_initial2  Ticket_Num_Cut  HighChance  LowChance  \n0       2                0               3           0          0  \n1       2                1               3           2          0  \n2       1                2               9           0          0  \n3       2                3               5           2          0  \n4       1                3               9           0          2  ",
      "text/html": "<div>\n<style scoped>\n    .dataframe tbody tr th:only-of-type {\n        vertical-align: middle;\n    }\n\n    .dataframe tbody tr th {\n        vertical-align: top;\n    }\n\n    .dataframe thead th {\n        text-align: right;\n    }\n</style>\n<table border=\"1\" class=\"dataframe\">\n  <thead>\n    <tr style=\"text-align: right;\">\n      <th></th>\n      <th>PassengerId</th>\n      <th>Survived</th>\n      <th>Pclass</th>\n      <th>Sex</th>\n      <th>Age</th>\n      <th>Fare</th>\n      <th>Cabin</th>\n      <th>Embarked</th>\n      <th>Initial</th>\n      <th>Family</th>\n      <th>Ticket_initial2</th>\n      <th>Ticket_Num_Cut</th>\n      <th>HighChance</th>\n      <th>LowChance</th>\n    </tr>\n  </thead>\n  <tbody>\n    <tr>\n      <th>0</th>\n      <td>1</td>\n      <td>0.0</td>\n      <td>3</td>\n      <td>0</td>\n      <td>3.0</td>\n      <td>0.0</td>\n      <td>U</td>\n      <td>0</td>\n      <td>0.0</td>\n      <td>2</td>\n      <td>0</td>\n      <td>3</td>\n      <td>0</td>\n      <td>0</td>\n    </tr>\n    <tr>\n      <th>1</th>\n      <td>2</td>\n      <td>1.0</td>\n      <td>1</td>\n      <td>1</td>\n      <td>4.0</td>\n      <td>3.0</td>\n      <td>C</td>\n      <td>1</td>\n      <td>2.0</td>\n      <td>2</td>\n      <td>1</td>\n      <td>3</td>\n      <td>2</td>\n      <td>0</td>\n    </tr>\n    <tr>\n      <th>2</th>\n      <td>3</td>\n      <td>1.0</td>\n      <td>3</td>\n      <td>1</td>\n      <td>3.0</td>\n      <td>0.0</td>\n      <td>U</td>\n      <td>0</td>\n      <td>1.0</td>\n      <td>1</td>\n      <td>2</td>\n      <td>9</td>\n      <td>0</td>\n      <td>0</td>\n    </tr>\n    <tr>\n      <th>3</th>\n      <td>4</td>\n      <td>1.0</td>\n      <td>1</td>\n      <td>1</td>\n      <td>4.0</td>\n      <td>2.0</td>\n      <td>C</td>\n      <td>0</td>\n      <td>2.0</td>\n      <td>2</td>\n      <td>3</td>\n      <td>5</td>\n      <td>2</td>\n      <td>0</td>\n    </tr>\n    <tr>\n      <th>4</th>\n      <td>5</td>\n      <td>0.0</td>\n      <td>3</td>\n      <td>0</td>\n      <td>4.0</td>\n      <td>0.0</td>\n      <td>U</td>\n      <td>0</td>\n      <td>0.0</td>\n      <td>1</td>\n      <td>3</td>\n      <td>9</td>\n      <td>0</td>\n      <td>2</td>\n    </tr>\n  </tbody>\n</table>\n</div>"
     },
     "execution_count": 2,
     "metadata": {},
     "output_type": "execute_result"
    }
   ],
   "source": [
    "df.head()"
   ],
   "metadata": {
    "collapsed": false
   }
  },
  {
   "cell_type": "markdown",
   "source": [
    "### 라벨 인코딩과 원핫 인코딩 테스트"
   ],
   "metadata": {
    "collapsed": false
   }
  },
  {
   "cell_type": "code",
   "execution_count": 9,
   "outputs": [],
   "source": [
    "df_label = df.copy()\n",
    "df_onehot = df.copy()\n",
    "n_train = 891\n",
    "train = df[:n_train] # (891, 14)\n",
    "y_train = train[['Survived']].copy()"
   ],
   "metadata": {
    "collapsed": false
   }
  },
  {
   "cell_type": "code",
   "execution_count": 11,
   "outputs": [
    {
     "data": {
      "text/plain": "   Pclass  Sex  Age  Fare Cabin  Embarked  Initial  Family  Ticket_initial2  \\\n0       3    0  3.0   0.0     U         0      0.0       2                0   \n1       1    1  4.0   3.0     C         1      2.0       2                1   \n2       3    1  3.0   0.0     U         0      1.0       1                2   \n3       1    1  4.0   2.0     C         0      2.0       2                3   \n4       3    0  4.0   0.0     U         0      0.0       1                3   \n\n   Ticket_Num_Cut  HighChance  LowChance  \n0               3           0          0  \n1               3           2          0  \n2               9           0          0  \n3               5           2          0  \n4               9           0          2  ",
      "text/html": "<div>\n<style scoped>\n    .dataframe tbody tr th:only-of-type {\n        vertical-align: middle;\n    }\n\n    .dataframe tbody tr th {\n        vertical-align: top;\n    }\n\n    .dataframe thead th {\n        text-align: right;\n    }\n</style>\n<table border=\"1\" class=\"dataframe\">\n  <thead>\n    <tr style=\"text-align: right;\">\n      <th></th>\n      <th>Pclass</th>\n      <th>Sex</th>\n      <th>Age</th>\n      <th>Fare</th>\n      <th>Cabin</th>\n      <th>Embarked</th>\n      <th>Initial</th>\n      <th>Family</th>\n      <th>Ticket_initial2</th>\n      <th>Ticket_Num_Cut</th>\n      <th>HighChance</th>\n      <th>LowChance</th>\n    </tr>\n  </thead>\n  <tbody>\n    <tr>\n      <th>0</th>\n      <td>3</td>\n      <td>0</td>\n      <td>3.0</td>\n      <td>0.0</td>\n      <td>U</td>\n      <td>0</td>\n      <td>0.0</td>\n      <td>2</td>\n      <td>0</td>\n      <td>3</td>\n      <td>0</td>\n      <td>0</td>\n    </tr>\n    <tr>\n      <th>1</th>\n      <td>1</td>\n      <td>1</td>\n      <td>4.0</td>\n      <td>3.0</td>\n      <td>C</td>\n      <td>1</td>\n      <td>2.0</td>\n      <td>2</td>\n      <td>1</td>\n      <td>3</td>\n      <td>2</td>\n      <td>0</td>\n    </tr>\n    <tr>\n      <th>2</th>\n      <td>3</td>\n      <td>1</td>\n      <td>3.0</td>\n      <td>0.0</td>\n      <td>U</td>\n      <td>0</td>\n      <td>1.0</td>\n      <td>1</td>\n      <td>2</td>\n      <td>9</td>\n      <td>0</td>\n      <td>0</td>\n    </tr>\n    <tr>\n      <th>3</th>\n      <td>1</td>\n      <td>1</td>\n      <td>4.0</td>\n      <td>2.0</td>\n      <td>C</td>\n      <td>0</td>\n      <td>2.0</td>\n      <td>2</td>\n      <td>3</td>\n      <td>5</td>\n      <td>2</td>\n      <td>0</td>\n    </tr>\n    <tr>\n      <th>4</th>\n      <td>3</td>\n      <td>0</td>\n      <td>4.0</td>\n      <td>0.0</td>\n      <td>U</td>\n      <td>0</td>\n      <td>0.0</td>\n      <td>1</td>\n      <td>3</td>\n      <td>9</td>\n      <td>0</td>\n      <td>2</td>\n    </tr>\n  </tbody>\n</table>\n</div>"
     },
     "execution_count": 11,
     "metadata": {},
     "output_type": "execute_result"
    }
   ],
   "source": [
    "drop_features = ['PassengerId', 'Survived']\n",
    "df_label = df_label.drop(drop_features, axis=1).copy()\n",
    "df_label.head()"
   ],
   "metadata": {
    "collapsed": false
   }
  },
  {
   "cell_type": "code",
   "execution_count": 12,
   "outputs": [
    {
     "data": {
      "text/plain": "   Pclass  Sex  Age  Fare Cabin  Embarked  Initial  Family  Ticket_initial2  \\\n0       3    0  3.0   0.0     U         0      0.0       2                0   \n1       1    1  4.0   3.0     C         1      2.0       2                1   \n2       3    1  3.0   0.0     U         0      1.0       1                2   \n3       1    1  4.0   2.0     C         0      2.0       2                3   \n4       3    0  4.0   0.0     U         0      0.0       1                3   \n\n   Ticket_Num_Cut  HighChance  LowChance  \n0               3           0          0  \n1               3           2          0  \n2               9           0          0  \n3               5           2          0  \n4               9           0          2  ",
      "text/html": "<div>\n<style scoped>\n    .dataframe tbody tr th:only-of-type {\n        vertical-align: middle;\n    }\n\n    .dataframe tbody tr th {\n        vertical-align: top;\n    }\n\n    .dataframe thead th {\n        text-align: right;\n    }\n</style>\n<table border=\"1\" class=\"dataframe\">\n  <thead>\n    <tr style=\"text-align: right;\">\n      <th></th>\n      <th>Pclass</th>\n      <th>Sex</th>\n      <th>Age</th>\n      <th>Fare</th>\n      <th>Cabin</th>\n      <th>Embarked</th>\n      <th>Initial</th>\n      <th>Family</th>\n      <th>Ticket_initial2</th>\n      <th>Ticket_Num_Cut</th>\n      <th>HighChance</th>\n      <th>LowChance</th>\n    </tr>\n  </thead>\n  <tbody>\n    <tr>\n      <th>0</th>\n      <td>3</td>\n      <td>0</td>\n      <td>3.0</td>\n      <td>0.0</td>\n      <td>U</td>\n      <td>0</td>\n      <td>0.0</td>\n      <td>2</td>\n      <td>0</td>\n      <td>3</td>\n      <td>0</td>\n      <td>0</td>\n    </tr>\n    <tr>\n      <th>1</th>\n      <td>1</td>\n      <td>1</td>\n      <td>4.0</td>\n      <td>3.0</td>\n      <td>C</td>\n      <td>1</td>\n      <td>2.0</td>\n      <td>2</td>\n      <td>1</td>\n      <td>3</td>\n      <td>2</td>\n      <td>0</td>\n    </tr>\n    <tr>\n      <th>2</th>\n      <td>3</td>\n      <td>1</td>\n      <td>3.0</td>\n      <td>0.0</td>\n      <td>U</td>\n      <td>0</td>\n      <td>1.0</td>\n      <td>1</td>\n      <td>2</td>\n      <td>9</td>\n      <td>0</td>\n      <td>0</td>\n    </tr>\n    <tr>\n      <th>3</th>\n      <td>1</td>\n      <td>1</td>\n      <td>4.0</td>\n      <td>2.0</td>\n      <td>C</td>\n      <td>0</td>\n      <td>2.0</td>\n      <td>2</td>\n      <td>3</td>\n      <td>5</td>\n      <td>2</td>\n      <td>0</td>\n    </tr>\n    <tr>\n      <th>4</th>\n      <td>3</td>\n      <td>0</td>\n      <td>4.0</td>\n      <td>0.0</td>\n      <td>U</td>\n      <td>0</td>\n      <td>0.0</td>\n      <td>1</td>\n      <td>3</td>\n      <td>9</td>\n      <td>0</td>\n      <td>2</td>\n    </tr>\n  </tbody>\n</table>\n</div>"
     },
     "execution_count": 12,
     "metadata": {},
     "output_type": "execute_result"
    }
   ],
   "source": [
    "df_onehot = df_onehot.drop(drop_features, axis=1).copy()\n",
    "df_onehot.head()"
   ],
   "metadata": {
    "collapsed": false
   }
  },
  {
   "cell_type": "markdown",
   "source": [
    "### Label Encoding"
   ],
   "metadata": {
    "collapsed": false
   }
  },
  {
   "cell_type": "code",
   "execution_count": 13,
   "outputs": [
    {
     "data": {
      "text/plain": "   Pclass  Sex  Age  Fare  Cabin  Embarked  Initial  Family  Ticket_initial2  \\\n0       2    0    3     0      8         0        0       1                0   \n1       0    1    4     3      2         1        2       1                1   \n2       2    1    3     0      8         0        1       0                2   \n3       0    1    4     2      2         0        2       1                3   \n4       2    0    4     0      8         0        0       0                3   \n\n   Ticket_Num_Cut  HighChance  LowChance  \n0               3           0          0  \n1               3           2          0  \n2               9           0          0  \n3               5           2          0  \n4               9           0          2  ",
      "text/html": "<div>\n<style scoped>\n    .dataframe tbody tr th:only-of-type {\n        vertical-align: middle;\n    }\n\n    .dataframe tbody tr th {\n        vertical-align: top;\n    }\n\n    .dataframe thead th {\n        text-align: right;\n    }\n</style>\n<table border=\"1\" class=\"dataframe\">\n  <thead>\n    <tr style=\"text-align: right;\">\n      <th></th>\n      <th>Pclass</th>\n      <th>Sex</th>\n      <th>Age</th>\n      <th>Fare</th>\n      <th>Cabin</th>\n      <th>Embarked</th>\n      <th>Initial</th>\n      <th>Family</th>\n      <th>Ticket_initial2</th>\n      <th>Ticket_Num_Cut</th>\n      <th>HighChance</th>\n      <th>LowChance</th>\n    </tr>\n  </thead>\n  <tbody>\n    <tr>\n      <th>0</th>\n      <td>2</td>\n      <td>0</td>\n      <td>3</td>\n      <td>0</td>\n      <td>8</td>\n      <td>0</td>\n      <td>0</td>\n      <td>1</td>\n      <td>0</td>\n      <td>3</td>\n      <td>0</td>\n      <td>0</td>\n    </tr>\n    <tr>\n      <th>1</th>\n      <td>0</td>\n      <td>1</td>\n      <td>4</td>\n      <td>3</td>\n      <td>2</td>\n      <td>1</td>\n      <td>2</td>\n      <td>1</td>\n      <td>1</td>\n      <td>3</td>\n      <td>2</td>\n      <td>0</td>\n    </tr>\n    <tr>\n      <th>2</th>\n      <td>2</td>\n      <td>1</td>\n      <td>3</td>\n      <td>0</td>\n      <td>8</td>\n      <td>0</td>\n      <td>1</td>\n      <td>0</td>\n      <td>2</td>\n      <td>9</td>\n      <td>0</td>\n      <td>0</td>\n    </tr>\n    <tr>\n      <th>3</th>\n      <td>0</td>\n      <td>1</td>\n      <td>4</td>\n      <td>2</td>\n      <td>2</td>\n      <td>0</td>\n      <td>2</td>\n      <td>1</td>\n      <td>3</td>\n      <td>5</td>\n      <td>2</td>\n      <td>0</td>\n    </tr>\n    <tr>\n      <th>4</th>\n      <td>2</td>\n      <td>0</td>\n      <td>4</td>\n      <td>0</td>\n      <td>8</td>\n      <td>0</td>\n      <td>0</td>\n      <td>0</td>\n      <td>3</td>\n      <td>9</td>\n      <td>0</td>\n      <td>2</td>\n    </tr>\n  </tbody>\n</table>\n</div>"
     },
     "execution_count": 13,
     "metadata": {},
     "output_type": "execute_result"
    }
   ],
   "source": [
    "from sklearn.preprocessing import OneHotEncoder, LabelEncoder\n",
    "df_label = df_label.apply(LabelEncoder().fit_transform)\n",
    "df_label.head()"
   ],
   "metadata": {
    "collapsed": false
   }
  },
  {
   "cell_type": "markdown",
   "source": [
    "### One-hot Encoding\n",
    "- 범주가 많을 경우, 머신러닝 계산 시간이 매우 오래 걸리고, 불필요한 feature로 예측을 하기 때문에 성능이 오히려 안좋아진다.\n",
    "- **따라서 feature별 중요도를 계산해서, 예측 성능에 유의미한 feature를 중심으로 하도록 만들어야 한다.**"
   ],
   "metadata": {
    "collapsed": false
   }
  },
  {
   "cell_type": "code",
   "execution_count": 14,
   "outputs": [
    {
     "data": {
      "text/plain": "   Pclass_0  Pclass_1  Pclass_2  Sex_0  Sex_1  Age_0  Age_1  Age_2  Age_3  \\\n0         0         0         1      1      0      0      0      0      1   \n1         1         0         0      0      1      0      0      0      0   \n2         0         0         1      0      1      0      0      0      1   \n3         1         0         0      0      1      0      0      0      0   \n4         0         0         1      1      0      0      0      0      0   \n\n   Age_4  ...  HighChance_0  HighChance_1  HighChance_2  HighChance_3  \\\n0      0  ...             1             0             0             0   \n1      1  ...             0             0             1             0   \n2      0  ...             1             0             0             0   \n3      1  ...             0             0             1             0   \n4      1  ...             1             0             0             0   \n\n   HighChance_4  HighChance_5  HighChance_6  LowChance_0  LowChance_1  \\\n0             0             0             0            1            0   \n1             0             0             0            1            0   \n2             0             0             0            1            0   \n3             0             0             0            1            0   \n4             0             0             0            0            0   \n\n   LowChance_2  \n0            0  \n1            0  \n2            0  \n3            0  \n4            1  \n\n[5 rows x 94 columns]",
      "text/html": "<div>\n<style scoped>\n    .dataframe tbody tr th:only-of-type {\n        vertical-align: middle;\n    }\n\n    .dataframe tbody tr th {\n        vertical-align: top;\n    }\n\n    .dataframe thead th {\n        text-align: right;\n    }\n</style>\n<table border=\"1\" class=\"dataframe\">\n  <thead>\n    <tr style=\"text-align: right;\">\n      <th></th>\n      <th>Pclass_0</th>\n      <th>Pclass_1</th>\n      <th>Pclass_2</th>\n      <th>Sex_0</th>\n      <th>Sex_1</th>\n      <th>Age_0</th>\n      <th>Age_1</th>\n      <th>Age_2</th>\n      <th>Age_3</th>\n      <th>Age_4</th>\n      <th>...</th>\n      <th>HighChance_0</th>\n      <th>HighChance_1</th>\n      <th>HighChance_2</th>\n      <th>HighChance_3</th>\n      <th>HighChance_4</th>\n      <th>HighChance_5</th>\n      <th>HighChance_6</th>\n      <th>LowChance_0</th>\n      <th>LowChance_1</th>\n      <th>LowChance_2</th>\n    </tr>\n  </thead>\n  <tbody>\n    <tr>\n      <th>0</th>\n      <td>0</td>\n      <td>0</td>\n      <td>1</td>\n      <td>1</td>\n      <td>0</td>\n      <td>0</td>\n      <td>0</td>\n      <td>0</td>\n      <td>1</td>\n      <td>0</td>\n      <td>...</td>\n      <td>1</td>\n      <td>0</td>\n      <td>0</td>\n      <td>0</td>\n      <td>0</td>\n      <td>0</td>\n      <td>0</td>\n      <td>1</td>\n      <td>0</td>\n      <td>0</td>\n    </tr>\n    <tr>\n      <th>1</th>\n      <td>1</td>\n      <td>0</td>\n      <td>0</td>\n      <td>0</td>\n      <td>1</td>\n      <td>0</td>\n      <td>0</td>\n      <td>0</td>\n      <td>0</td>\n      <td>1</td>\n      <td>...</td>\n      <td>0</td>\n      <td>0</td>\n      <td>1</td>\n      <td>0</td>\n      <td>0</td>\n      <td>0</td>\n      <td>0</td>\n      <td>1</td>\n      <td>0</td>\n      <td>0</td>\n    </tr>\n    <tr>\n      <th>2</th>\n      <td>0</td>\n      <td>0</td>\n      <td>1</td>\n      <td>0</td>\n      <td>1</td>\n      <td>0</td>\n      <td>0</td>\n      <td>0</td>\n      <td>1</td>\n      <td>0</td>\n      <td>...</td>\n      <td>1</td>\n      <td>0</td>\n      <td>0</td>\n      <td>0</td>\n      <td>0</td>\n      <td>0</td>\n      <td>0</td>\n      <td>1</td>\n      <td>0</td>\n      <td>0</td>\n    </tr>\n    <tr>\n      <th>3</th>\n      <td>1</td>\n      <td>0</td>\n      <td>0</td>\n      <td>0</td>\n      <td>1</td>\n      <td>0</td>\n      <td>0</td>\n      <td>0</td>\n      <td>0</td>\n      <td>1</td>\n      <td>...</td>\n      <td>0</td>\n      <td>0</td>\n      <td>1</td>\n      <td>0</td>\n      <td>0</td>\n      <td>0</td>\n      <td>0</td>\n      <td>1</td>\n      <td>0</td>\n      <td>0</td>\n    </tr>\n    <tr>\n      <th>4</th>\n      <td>0</td>\n      <td>0</td>\n      <td>1</td>\n      <td>1</td>\n      <td>0</td>\n      <td>0</td>\n      <td>0</td>\n      <td>0</td>\n      <td>0</td>\n      <td>1</td>\n      <td>...</td>\n      <td>1</td>\n      <td>0</td>\n      <td>0</td>\n      <td>0</td>\n      <td>0</td>\n      <td>0</td>\n      <td>0</td>\n      <td>0</td>\n      <td>0</td>\n      <td>1</td>\n    </tr>\n  </tbody>\n</table>\n<p>5 rows × 94 columns</p>\n</div>"
     },
     "execution_count": 14,
     "metadata": {},
     "output_type": "execute_result"
    }
   ],
   "source": [
    "import pandas as pd\n",
    "\n",
    "onehot_cols = df_label.columns.tolist()\n",
    "df_onehot = pd.get_dummies(df_label, columns=onehot_cols)\n",
    "df_onehot.head()"
   ],
   "metadata": {
    "collapsed": false
   }
  },
  {
   "cell_type": "code",
   "execution_count": 15,
   "outputs": [],
   "source": [
    "import pickle\n",
    "with open('titanic_step3_feature_onehot_encoding.pickle', 'wb') as pickle_filename:\n",
    "    pickle.dump(df_onehot, pickle_filename)\n",
    "\n",
    "with open('titanic_step3_feature_encoding_y_pickle', 'wb') as pickle_filename:\n",
    "    pickle.dump(y_train, pickle_filename)"
   ],
   "metadata": {
    "collapsed": false
   }
  },
  {
   "cell_type": "code",
   "execution_count": null,
   "outputs": [],
   "source": [],
   "metadata": {
    "collapsed": false
   }
  }
 ],
 "metadata": {
  "kernelspec": {
   "display_name": "Python 3",
   "language": "python",
   "name": "python3"
  },
  "language_info": {
   "codemirror_mode": {
    "name": "ipython",
    "version": 2
   },
   "file_extension": ".py",
   "mimetype": "text/x-python",
   "name": "python",
   "nbconvert_exporter": "python",
   "pygments_lexer": "ipython2",
   "version": "2.7.6"
  }
 },
 "nbformat": 4,
 "nbformat_minor": 0
}
