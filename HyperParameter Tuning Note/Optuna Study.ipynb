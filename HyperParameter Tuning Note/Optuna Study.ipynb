{
 "cells": [
  {
   "cell_type": "code",
   "execution_count": 1,
   "metadata": {
    "collapsed": true
   },
   "outputs": [
    {
     "data": {
      "text/plain": "   age     sex     bmi  children smoker     region      charges\n0   19  female  27.900         0    yes  southwest  16884.92400\n1   18    male  33.770         1     no  southeast   1725.55230\n2   28    male  33.000         3     no  southeast   4449.46200\n3   33    male  22.705         0     no  northwest  21984.47061\n4   32    male  28.880         0     no  northwest   3866.85520",
      "text/html": "<div>\n<style scoped>\n    .dataframe tbody tr th:only-of-type {\n        vertical-align: middle;\n    }\n\n    .dataframe tbody tr th {\n        vertical-align: top;\n    }\n\n    .dataframe thead th {\n        text-align: right;\n    }\n</style>\n<table border=\"1\" class=\"dataframe\">\n  <thead>\n    <tr style=\"text-align: right;\">\n      <th></th>\n      <th>age</th>\n      <th>sex</th>\n      <th>bmi</th>\n      <th>children</th>\n      <th>smoker</th>\n      <th>region</th>\n      <th>charges</th>\n    </tr>\n  </thead>\n  <tbody>\n    <tr>\n      <th>0</th>\n      <td>19</td>\n      <td>female</td>\n      <td>27.900</td>\n      <td>0</td>\n      <td>yes</td>\n      <td>southwest</td>\n      <td>16884.92400</td>\n    </tr>\n    <tr>\n      <th>1</th>\n      <td>18</td>\n      <td>male</td>\n      <td>33.770</td>\n      <td>1</td>\n      <td>no</td>\n      <td>southeast</td>\n      <td>1725.55230</td>\n    </tr>\n    <tr>\n      <th>2</th>\n      <td>28</td>\n      <td>male</td>\n      <td>33.000</td>\n      <td>3</td>\n      <td>no</td>\n      <td>southeast</td>\n      <td>4449.46200</td>\n    </tr>\n    <tr>\n      <th>3</th>\n      <td>33</td>\n      <td>male</td>\n      <td>22.705</td>\n      <td>0</td>\n      <td>no</td>\n      <td>northwest</td>\n      <td>21984.47061</td>\n    </tr>\n    <tr>\n      <th>4</th>\n      <td>32</td>\n      <td>male</td>\n      <td>28.880</td>\n      <td>0</td>\n      <td>no</td>\n      <td>northwest</td>\n      <td>3866.85520</td>\n    </tr>\n  </tbody>\n</table>\n</div>"
     },
     "execution_count": 1,
     "metadata": {},
     "output_type": "execute_result"
    }
   ],
   "source": [
    "import optuna\n",
    "import pandas as pd\n",
    "\n",
    "path = 'https://raw.githubusercontent.com/jangrae/csv/master/insurance.csv'\n",
    "data = pd.read_csv(path)\n",
    "data.head()"
   ]
  },
  {
   "cell_type": "markdown",
   "source": [
    "### 필요한 라이브러리 모두 import"
   ],
   "metadata": {
    "collapsed": false
   }
  },
  {
   "cell_type": "code",
   "execution_count": 2,
   "outputs": [],
   "source": [
    "import numpy as np\n",
    "\n",
    "# 1. RandomForest\n",
    "from sklearn.ensemble import RandomForestRegressor\n",
    "\n",
    "# 2. XGB\n",
    "from xgboost import XGBRegressor\n",
    "\n",
    "# 3. LightGBM\n",
    "from lightgbm import LGBMRegressor\n",
    "\n",
    "from sklearn.model_selection import train_test_split\n",
    "from sklearn.metrics import mean_absolute_error, r2_score"
   ],
   "metadata": {
    "collapsed": false
   }
  },
  {
   "cell_type": "code",
   "execution_count": 4,
   "outputs": [],
   "source": [
    "target = 'charges'\n",
    "x = data.drop(target, axis=1)\n",
    "y = data.loc[:, target]\n",
    "\n",
    "# sex, smoker, region -> 가변수화\n",
    "dummies = ['sex', 'smoker', 'region']\n",
    "x = pd.get_dummies(x, columns = dummies, drop_first=True)\n",
    "\n",
    "# train, test 데이터 분리\n",
    "x_train, x_test, y_train, y_test = train_test_split(x, y, test_size=0.3, random_state=1)"
   ],
   "metadata": {
    "collapsed": false
   }
  },
  {
   "cell_type": "markdown",
   "source": [
    "### 1. Optuna"
   ],
   "metadata": {
    "collapsed": false
   }
  },
  {
   "cell_type": "code",
   "execution_count": 8,
   "outputs": [
    {
     "name": "stderr",
     "output_type": "stream",
     "text": [
      "\u001B[32m[I 2023-02-24 17:29:03,407]\u001B[0m A new study created in memory with name: no-name-9206b91a-f33b-445e-a512-7bfc48c8feba\u001B[0m\n",
      "\u001B[32m[I 2023-02-24 17:29:03,458]\u001B[0m Trial 0 finished with value: 0.8493207028776242 and parameters: {'regressor': 'RandomForest', 'rf_max_depth': 4, 'rf_n_estimator': 5, 'rf_min_samples_leaf': 5, 'rf_min_samples_split': 5}. Best is trial 0 with value: 0.8493207028776242.\u001B[0m\n",
      "\u001B[32m[I 2023-02-24 17:29:03,562]\u001B[0m Trial 1 finished with value: 0.8499505630484373 and parameters: {'regressor': 'RandomForest', 'rf_max_depth': 8, 'rf_n_estimator': 12, 'rf_min_samples_leaf': 5, 'rf_min_samples_split': 2}. Best is trial 1 with value: 0.8499505630484373.\u001B[0m\n",
      "\u001B[32m[I 2023-02-24 17:29:03,612]\u001B[0m Trial 2 finished with value: 0.847312691938491 and parameters: {'regressor': 'RandomForest', 'rf_max_depth': 5, 'rf_n_estimator': 5, 'rf_min_samples_leaf': 5, 'rf_min_samples_split': 3}. Best is trial 1 with value: 0.8499505630484373.\u001B[0m\n",
      "\u001B[32m[I 2023-02-24 17:29:03,719]\u001B[0m Trial 3 finished with value: 0.8469652570376516 and parameters: {'regressor': 'RandomForest', 'rf_max_depth': 8, 'rf_n_estimator': 12, 'rf_min_samples_leaf': 4, 'rf_min_samples_split': 5}. Best is trial 1 with value: 0.8499505630484373.\u001B[0m\n",
      "\u001B[32m[I 2023-02-24 17:29:03,769]\u001B[0m Trial 4 finished with value: 0.8500577377417937 and parameters: {'regressor': 'RandomForest', 'rf_max_depth': 4, 'rf_n_estimator': 5, 'rf_min_samples_leaf': 4, 'rf_min_samples_split': 5}. Best is trial 4 with value: 0.8500577377417937.\u001B[0m\n",
      "\u001B[32m[I 2023-02-24 17:29:03,823]\u001B[0m Trial 5 finished with value: 0.8529446559417005 and parameters: {'regressor': 'RandomForest', 'rf_max_depth': 4, 'rf_n_estimator': 6, 'rf_min_samples_leaf': 5, 'rf_min_samples_split': 2}. Best is trial 5 with value: 0.8529446559417005.\u001B[0m\n",
      "\u001B[32m[I 2023-02-24 17:29:03,905]\u001B[0m Trial 6 finished with value: 0.842597960661444 and parameters: {'regressor': 'RandomForest', 'rf_max_depth': 7, 'rf_n_estimator': 9, 'rf_min_samples_leaf': 2, 'rf_min_samples_split': 3}. Best is trial 5 with value: 0.8529446559417005.\u001B[0m\n",
      "\u001B[32m[I 2023-02-24 17:29:04,003]\u001B[0m Trial 7 finished with value: 0.8450879466037874 and parameters: {'regressor': 'RandomForest', 'rf_max_depth': 9, 'rf_n_estimator': 11, 'rf_min_samples_leaf': 4, 'rf_min_samples_split': 2}. Best is trial 5 with value: 0.8529446559417005.\u001B[0m\n",
      "\u001B[32m[I 2023-02-24 17:29:04,126]\u001B[0m Trial 8 finished with value: 0.8505770405809845 and parameters: {'regressor': 'RandomForest', 'rf_max_depth': 6, 'rf_n_estimator': 15, 'rf_min_samples_leaf': 2, 'rf_min_samples_split': 5}. Best is trial 5 with value: 0.8529446559417005.\u001B[0m\n",
      "\u001B[32m[I 2023-02-24 17:29:04,181]\u001B[0m Trial 9 finished with value: 0.8334558273558619 and parameters: {'regressor': 'RandomForest', 'rf_max_depth': 7, 'rf_n_estimator': 5, 'rf_min_samples_leaf': 3, 'rf_min_samples_split': 3}. Best is trial 5 with value: 0.8529446559417005.\u001B[0m\n",
      "\u001B[32m[I 2023-02-24 17:29:04,257]\u001B[0m Trial 10 finished with value: 0.8225878148582988 and parameters: {'regressor': 'RandomForest', 'rf_max_depth': 2, 'rf_n_estimator': 9, 'rf_min_samples_leaf': 1, 'rf_min_samples_split': 4}. Best is trial 5 with value: 0.8529446559417005.\u001B[0m\n",
      "\u001B[32m[I 2023-02-24 17:29:04,364]\u001B[0m Trial 11 finished with value: 0.8246957190190374 and parameters: {'regressor': 'RandomForest', 'rf_max_depth': 2, 'rf_n_estimator': 15, 'rf_min_samples_leaf': 2, 'rf_min_samples_split': 4}. Best is trial 5 with value: 0.8529446559417005.\u001B[0m\n",
      "\u001B[32m[I 2023-02-24 17:29:04,482]\u001B[0m Trial 12 finished with value: 0.8506454236928102 and parameters: {'regressor': 'RandomForest', 'rf_max_depth': 5, 'rf_n_estimator': 14, 'rf_min_samples_leaf': 2, 'rf_min_samples_split': 4}. Best is trial 5 with value: 0.8529446559417005.\u001B[0m\n",
      "\u001B[32m[I 2023-02-24 17:29:04,556]\u001B[0m Trial 13 finished with value: 0.8503297812469015 and parameters: {'regressor': 'RandomForest', 'rf_max_depth': 4, 'rf_n_estimator': 7, 'rf_min_samples_leaf': 1, 'rf_min_samples_split': 4}. Best is trial 5 with value: 0.8529446559417005.\u001B[0m\n",
      "\u001B[32m[I 2023-02-24 17:29:04,657]\u001B[0m Trial 14 finished with value: 0.8498177417548518 and parameters: {'regressor': 'RandomForest', 'rf_max_depth': 3, 'rf_n_estimator': 13, 'rf_min_samples_leaf': 3, 'rf_min_samples_split': 2}. Best is trial 5 with value: 0.8529446559417005.\u001B[0m\n",
      "\u001B[32m[I 2023-02-24 17:29:04,732]\u001B[0m Trial 15 finished with value: 0.8459522157318353 and parameters: {'regressor': 'RandomForest', 'rf_max_depth': 5, 'rf_n_estimator': 7, 'rf_min_samples_leaf': 2, 'rf_min_samples_split': 3}. Best is trial 5 with value: 0.8529446559417005.\u001B[0m\n",
      "\u001B[32m[I 2023-02-24 17:29:04,826]\u001B[0m Trial 16 finished with value: 0.8377927294915366 and parameters: {'regressor': 'RandomForest', 'rf_max_depth': 10, 'rf_n_estimator': 8, 'rf_min_samples_leaf': 3, 'rf_min_samples_split': 4}. Best is trial 5 with value: 0.8529446559417005.\u001B[0m\n",
      "\u001B[32m[I 2023-02-24 17:29:04,961]\u001B[0m Trial 17 finished with value: 0.848507339204771 and parameters: {'regressor': 'RandomForest', 'rf_max_depth': 6, 'rf_n_estimator': 14, 'rf_min_samples_leaf': 4, 'rf_min_samples_split': 2}. Best is trial 5 with value: 0.8529446559417005.\u001B[0m\n",
      "\u001B[32m[I 2023-02-24 17:29:05,055]\u001B[0m Trial 18 finished with value: 0.8482498037724444 and parameters: {'regressor': 'RandomForest', 'rf_max_depth': 3, 'rf_n_estimator': 10, 'rf_min_samples_leaf': 1, 'rf_min_samples_split': 3}. Best is trial 5 with value: 0.8529446559417005.\u001B[0m\n",
      "\u001B[32m[I 2023-02-24 17:29:05,139]\u001B[0m Trial 19 finished with value: 0.8492075829766591 and parameters: {'regressor': 'RandomForest', 'rf_max_depth': 5, 'rf_n_estimator': 7, 'rf_min_samples_leaf': 2, 'rf_min_samples_split': 4}. Best is trial 5 with value: 0.8529446559417005.\u001B[0m\n",
      "\u001B[32m[I 2023-02-24 17:29:05,249]\u001B[0m Trial 20 finished with value: 0.8511762319348047 and parameters: {'regressor': 'RandomForest', 'rf_max_depth': 3, 'rf_n_estimator': 13, 'rf_min_samples_leaf': 3, 'rf_min_samples_split': 2}. Best is trial 5 with value: 0.8529446559417005.\u001B[0m\n",
      "\u001B[32m[I 2023-02-24 17:29:05,371]\u001B[0m Trial 21 finished with value: 0.8474795695278032 and parameters: {'regressor': 'RandomForest', 'rf_max_depth': 3, 'rf_n_estimator': 13, 'rf_min_samples_leaf': 3, 'rf_min_samples_split': 2}. Best is trial 5 with value: 0.8529446559417005.\u001B[0m\n",
      "\u001B[32m[I 2023-02-24 17:29:05,494]\u001B[0m Trial 22 finished with value: 0.8528478423522852 and parameters: {'regressor': 'RandomForest', 'rf_max_depth': 4, 'rf_n_estimator': 13, 'rf_min_samples_leaf': 3, 'rf_min_samples_split': 2}. Best is trial 5 with value: 0.8529446559417005.\u001B[0m\n",
      "\u001B[32m[I 2023-02-24 17:29:05,587]\u001B[0m Trial 23 finished with value: 0.8486687907553756 and parameters: {'regressor': 'RandomForest', 'rf_max_depth': 3, 'rf_n_estimator': 11, 'rf_min_samples_leaf': 3, 'rf_min_samples_split': 2}. Best is trial 5 with value: 0.8529446559417005.\u001B[0m\n",
      "\u001B[32m[I 2023-02-24 17:29:05,686]\u001B[0m Trial 24 finished with value: 0.8248961697422527 and parameters: {'regressor': 'RandomForest', 'rf_max_depth': 2, 'rf_n_estimator': 13, 'rf_min_samples_leaf': 4, 'rf_min_samples_split': 2}. Best is trial 5 with value: 0.8529446559417005.\u001B[0m\n",
      "\u001B[32m[I 2023-02-24 17:29:05,784]\u001B[0m Trial 25 finished with value: 0.8540573877051976 and parameters: {'regressor': 'RandomForest', 'rf_max_depth': 4, 'rf_n_estimator': 11, 'rf_min_samples_leaf': 3, 'rf_min_samples_split': 2}. Best is trial 25 with value: 0.8540573877051976.\u001B[0m\n",
      "\u001B[32m[I 2023-02-24 17:29:05,882]\u001B[0m Trial 26 finished with value: 0.8531971708865717 and parameters: {'regressor': 'RandomForest', 'rf_max_depth': 4, 'rf_n_estimator': 11, 'rf_min_samples_leaf': 4, 'rf_min_samples_split': 3}. Best is trial 25 with value: 0.8540573877051976.\u001B[0m\n",
      "\u001B[32m[I 2023-02-24 17:29:05,974]\u001B[0m Trial 27 finished with value: 0.8518640190546811 and parameters: {'regressor': 'RandomForest', 'rf_max_depth': 4, 'rf_n_estimator': 10, 'rf_min_samples_leaf': 5, 'rf_min_samples_split': 3}. Best is trial 25 with value: 0.8540573877051976.\u001B[0m\n",
      "\u001B[32m[I 2023-02-24 17:29:06,079]\u001B[0m Trial 28 finished with value: 0.8491869643512597 and parameters: {'regressor': 'RandomForest', 'rf_max_depth': 6, 'rf_n_estimator': 11, 'rf_min_samples_leaf': 5, 'rf_min_samples_split': 3}. Best is trial 25 with value: 0.8540573877051976.\u001B[0m\n",
      "\u001B[32m[I 2023-02-24 17:29:06,168]\u001B[0m Trial 29 finished with value: 0.8536977419228412 and parameters: {'regressor': 'RandomForest', 'rf_max_depth': 4, 'rf_n_estimator': 9, 'rf_min_samples_leaf': 4, 'rf_min_samples_split': 3}. Best is trial 25 with value: 0.8540573877051976.\u001B[0m\n",
      "\u001B[32m[I 2023-02-24 17:29:06,262]\u001B[0m Trial 30 finished with value: 0.8522533170338153 and parameters: {'regressor': 'RandomForest', 'rf_max_depth': 5, 'rf_n_estimator': 9, 'rf_min_samples_leaf': 4, 'rf_min_samples_split': 3}. Best is trial 25 with value: 0.8540573877051976.\u001B[0m\n",
      "\u001B[32m[I 2023-02-24 17:29:06,334]\u001B[0m Trial 31 finished with value: 0.8529667459193295 and parameters: {'regressor': 'RandomForest', 'rf_max_depth': 4, 'rf_n_estimator': 6, 'rf_min_samples_leaf': 5, 'rf_min_samples_split': 3}. Best is trial 25 with value: 0.8540573877051976.\u001B[0m\n",
      "\u001B[32m[I 2023-02-24 17:29:06,419]\u001B[0m Trial 32 finished with value: 0.8529841089340348 and parameters: {'regressor': 'RandomForest', 'rf_max_depth': 4, 'rf_n_estimator': 8, 'rf_min_samples_leaf': 4, 'rf_min_samples_split': 3}. Best is trial 25 with value: 0.8540573877051976.\u001B[0m\n",
      "\u001B[32m[I 2023-02-24 17:29:06,503]\u001B[0m Trial 33 finished with value: 0.8478451820159197 and parameters: {'regressor': 'RandomForest', 'rf_max_depth': 5, 'rf_n_estimator': 8, 'rf_min_samples_leaf': 4, 'rf_min_samples_split': 3}. Best is trial 25 with value: 0.8540573877051976.\u001B[0m\n",
      "\u001B[32m[I 2023-02-24 17:29:06,591]\u001B[0m Trial 34 finished with value: 0.8496917457792927 and parameters: {'regressor': 'RandomForest', 'rf_max_depth': 3, 'rf_n_estimator': 10, 'rf_min_samples_leaf': 4, 'rf_min_samples_split': 3}. Best is trial 25 with value: 0.8540573877051976.\u001B[0m\n",
      "\u001B[32m[I 2023-02-24 17:29:06,693]\u001B[0m Trial 35 finished with value: 0.8539996922785953 and parameters: {'regressor': 'RandomForest', 'rf_max_depth': 4, 'rf_n_estimator': 12, 'rf_min_samples_leaf': 4, 'rf_min_samples_split': 3}. Best is trial 25 with value: 0.8540573877051976.\u001B[0m\n",
      "\u001B[32m[I 2023-02-24 17:29:06,805]\u001B[0m Trial 36 finished with value: 0.8504128555950171 and parameters: {'regressor': 'RandomForest', 'rf_max_depth': 6, 'rf_n_estimator': 12, 'rf_min_samples_leaf': 4, 'rf_min_samples_split': 3}. Best is trial 25 with value: 0.8540573877051976.\u001B[0m\n",
      "\u001B[32m[I 2023-02-24 17:29:06,915]\u001B[0m Trial 37 finished with value: 0.8511392320865667 and parameters: {'regressor': 'RandomForest', 'rf_max_depth': 7, 'rf_n_estimator': 11, 'rf_min_samples_leaf': 5, 'rf_min_samples_split': 3}. Best is trial 25 with value: 0.8540573877051976.\u001B[0m\n",
      "\u001B[32m[I 2023-02-24 17:29:07,025]\u001B[0m Trial 38 finished with value: 0.8513561919871737 and parameters: {'regressor': 'RandomForest', 'rf_max_depth': 5, 'rf_n_estimator': 12, 'rf_min_samples_leaf': 3, 'rf_min_samples_split': 4}. Best is trial 25 with value: 0.8540573877051976.\u001B[0m\n",
      "\u001B[32m[I 2023-02-24 17:29:07,120]\u001B[0m Trial 39 finished with value: 0.8234151289982401 and parameters: {'regressor': 'RandomForest', 'rf_max_depth': 2, 'rf_n_estimator': 12, 'rf_min_samples_leaf': 4, 'rf_min_samples_split': 3}. Best is trial 25 with value: 0.8540573877051976.\u001B[0m\n",
      "\u001B[32m[I 2023-02-24 17:29:07,220]\u001B[0m Trial 40 finished with value: 0.8532101726401609 and parameters: {'regressor': 'RandomForest', 'rf_max_depth': 4, 'rf_n_estimator': 11, 'rf_min_samples_leaf': 4, 'rf_min_samples_split': 5}. Best is trial 25 with value: 0.8540573877051976.\u001B[0m\n",
      "\u001B[32m[I 2023-02-24 17:29:07,317]\u001B[0m Trial 41 finished with value: 0.8552146556165111 and parameters: {'regressor': 'RandomForest', 'rf_max_depth': 4, 'rf_n_estimator': 11, 'rf_min_samples_leaf': 4, 'rf_min_samples_split': 5}. Best is trial 41 with value: 0.8552146556165111.\u001B[0m\n",
      "\u001B[32m[I 2023-02-24 17:29:07,415]\u001B[0m Trial 42 finished with value: 0.8548882484749208 and parameters: {'regressor': 'RandomForest', 'rf_max_depth': 4, 'rf_n_estimator': 10, 'rf_min_samples_leaf': 4, 'rf_min_samples_split': 5}. Best is trial 41 with value: 0.8552146556165111.\u001B[0m\n",
      "\u001B[32m[I 2023-02-24 17:29:07,500]\u001B[0m Trial 43 finished with value: 0.8486097970255789 and parameters: {'regressor': 'RandomForest', 'rf_max_depth': 3, 'rf_n_estimator': 9, 'rf_min_samples_leaf': 5, 'rf_min_samples_split': 5}. Best is trial 41 with value: 0.8552146556165111.\u001B[0m\n",
      "\u001B[32m[I 2023-02-24 17:29:07,605]\u001B[0m Trial 44 finished with value: 0.8536391873174288 and parameters: {'regressor': 'RandomForest', 'rf_max_depth': 5, 'rf_n_estimator': 10, 'rf_min_samples_leaf': 4, 'rf_min_samples_split': 5}. Best is trial 41 with value: 0.8552146556165111.\u001B[0m\n",
      "\u001B[32m[I 2023-02-24 17:29:07,697]\u001B[0m Trial 45 finished with value: 0.8528575138407929 and parameters: {'regressor': 'RandomForest', 'rf_max_depth': 4, 'rf_n_estimator': 10, 'rf_min_samples_leaf': 3, 'rf_min_samples_split': 5}. Best is trial 41 with value: 0.8552146556165111.\u001B[0m\n",
      "\u001B[32m[I 2023-02-24 17:29:07,791]\u001B[0m Trial 46 finished with value: 0.8515790424009065 and parameters: {'regressor': 'RandomForest', 'rf_max_depth': 5, 'rf_n_estimator': 9, 'rf_min_samples_leaf': 4, 'rf_min_samples_split': 5}. Best is trial 41 with value: 0.8552146556165111.\u001B[0m\n",
      "\u001B[32m[I 2023-02-24 17:29:07,906]\u001B[0m Trial 47 finished with value: 0.8463023994722569 and parameters: {'regressor': 'RandomForest', 'rf_max_depth': 6, 'rf_n_estimator': 12, 'rf_min_samples_leaf': 3, 'rf_min_samples_split': 5}. Best is trial 41 with value: 0.8552146556165111.\u001B[0m\n",
      "\u001B[32m[I 2023-02-24 17:29:07,992]\u001B[0m Trial 48 finished with value: 0.8468517372949969 and parameters: {'regressor': 'RandomForest', 'rf_max_depth': 3, 'rf_n_estimator': 10, 'rf_min_samples_leaf': 5, 'rf_min_samples_split': 4}. Best is trial 41 with value: 0.8552146556165111.\u001B[0m\n",
      "\u001B[32m[I 2023-02-24 17:29:08,114]\u001B[0m Trial 49 finished with value: 0.8458707486091347 and parameters: {'regressor': 'RandomForest', 'rf_max_depth': 8, 'rf_n_estimator': 12, 'rf_min_samples_leaf': 4, 'rf_min_samples_split': 5}. Best is trial 41 with value: 0.8552146556165111.\u001B[0m\n",
      "\u001B[32m[I 2023-02-24 17:29:08,207]\u001B[0m Trial 50 finished with value: 0.8227706547903526 and parameters: {'regressor': 'RandomForest', 'rf_max_depth': 2, 'rf_n_estimator': 11, 'rf_min_samples_leaf': 3, 'rf_min_samples_split': 4}. Best is trial 41 with value: 0.8552146556165111.\u001B[0m\n",
      "\u001B[32m[I 2023-02-24 17:29:08,302]\u001B[0m Trial 51 finished with value: 0.8505353687844952 and parameters: {'regressor': 'RandomForest', 'rf_max_depth': 5, 'rf_n_estimator': 10, 'rf_min_samples_leaf': 4, 'rf_min_samples_split': 5}. Best is trial 41 with value: 0.8552146556165111.\u001B[0m\n",
      "\u001B[32m[I 2023-02-24 17:29:08,389]\u001B[0m Trial 52 finished with value: 0.8540018431056231 and parameters: {'regressor': 'RandomForest', 'rf_max_depth': 4, 'rf_n_estimator': 9, 'rf_min_samples_leaf': 4, 'rf_min_samples_split': 5}. Best is trial 41 with value: 0.8552146556165111.\u001B[0m\n",
      "\u001B[32m[I 2023-02-24 17:29:08,474]\u001B[0m Trial 53 finished with value: 0.8544872443480388 and parameters: {'regressor': 'RandomForest', 'rf_max_depth': 4, 'rf_n_estimator': 9, 'rf_min_samples_leaf': 4, 'rf_min_samples_split': 5}. Best is trial 41 with value: 0.8552146556165111.\u001B[0m\n",
      "\u001B[32m[I 2023-02-24 17:29:08,554]\u001B[0m Trial 54 finished with value: 0.8560703406365485 and parameters: {'regressor': 'RandomForest', 'rf_max_depth': 4, 'rf_n_estimator': 8, 'rf_min_samples_leaf': 4, 'rf_min_samples_split': 5}. Best is trial 54 with value: 0.8560703406365485.\u001B[0m\n",
      "\u001B[32m[I 2023-02-24 17:29:08,631]\u001B[0m Trial 55 finished with value: 0.8472993487639089 and parameters: {'regressor': 'RandomForest', 'rf_max_depth': 3, 'rf_n_estimator': 8, 'rf_min_samples_leaf': 3, 'rf_min_samples_split': 5}. Best is trial 54 with value: 0.8560703406365485.\u001B[0m\n",
      "\u001B[32m[I 2023-02-24 17:29:08,709]\u001B[0m Trial 56 finished with value: 0.8546093507701803 and parameters: {'regressor': 'RandomForest', 'rf_max_depth': 4, 'rf_n_estimator': 8, 'rf_min_samples_leaf': 4, 'rf_min_samples_split': 5}. Best is trial 54 with value: 0.8560703406365485.\u001B[0m\n",
      "\u001B[32m[I 2023-02-24 17:29:08,793]\u001B[0m Trial 57 finished with value: 0.8418504145267842 and parameters: {'regressor': 'RandomForest', 'rf_max_depth': 9, 'rf_n_estimator': 7, 'rf_min_samples_leaf': 5, 'rf_min_samples_split': 5}. Best is trial 54 with value: 0.8560703406365485.\u001B[0m\n",
      "\u001B[32m[I 2023-02-24 17:29:08,870]\u001B[0m Trial 58 finished with value: 0.8475431199520879 and parameters: {'regressor': 'RandomForest', 'rf_max_depth': 3, 'rf_n_estimator': 8, 'rf_min_samples_leaf': 4, 'rf_min_samples_split': 5}. Best is trial 54 with value: 0.8560703406365485.\u001B[0m\n",
      "\u001B[32m[I 2023-02-24 17:29:08,939]\u001B[0m Trial 59 finished with value: 0.8533839950688998 and parameters: {'regressor': 'RandomForest', 'rf_max_depth': 4, 'rf_n_estimator': 6, 'rf_min_samples_leaf': 3, 'rf_min_samples_split': 5}. Best is trial 54 with value: 0.8560703406365485.\u001B[0m\n",
      "\u001B[32m[I 2023-02-24 17:29:09,023]\u001B[0m Trial 60 finished with value: 0.8474940782213553 and parameters: {'regressor': 'RandomForest', 'rf_max_depth': 5, 'rf_n_estimator': 8, 'rf_min_samples_leaf': 2, 'rf_min_samples_split': 5}. Best is trial 54 with value: 0.8560703406365485.\u001B[0m\n",
      "\u001B[32m[I 2023-02-24 17:29:09,114]\u001B[0m Trial 61 finished with value: 0.8559623890558609 and parameters: {'regressor': 'RandomForest', 'rf_max_depth': 4, 'rf_n_estimator': 9, 'rf_min_samples_leaf': 4, 'rf_min_samples_split': 5}. Best is trial 54 with value: 0.8560703406365485.\u001B[0m\n",
      "\u001B[32m[I 2023-02-24 17:29:09,186]\u001B[0m Trial 62 finished with value: 0.8525458820709015 and parameters: {'regressor': 'RandomForest', 'rf_max_depth': 4, 'rf_n_estimator': 7, 'rf_min_samples_leaf': 4, 'rf_min_samples_split': 5}. Best is trial 54 with value: 0.8560703406365485.\u001B[0m\n",
      "\u001B[32m[I 2023-02-24 17:29:09,268]\u001B[0m Trial 63 finished with value: 0.8478595970511176 and parameters: {'regressor': 'RandomForest', 'rf_max_depth': 3, 'rf_n_estimator': 9, 'rf_min_samples_leaf': 4, 'rf_min_samples_split': 5}. Best is trial 54 with value: 0.8560703406365485.\u001B[0m\n",
      "\u001B[32m[I 2023-02-24 17:29:09,357]\u001B[0m Trial 64 finished with value: 0.8535843714642027 and parameters: {'regressor': 'RandomForest', 'rf_max_depth': 4, 'rf_n_estimator': 9, 'rf_min_samples_leaf': 4, 'rf_min_samples_split': 5}. Best is trial 54 with value: 0.8560703406365485.\u001B[0m\n",
      "\u001B[32m[I 2023-02-24 17:29:09,439]\u001B[0m Trial 65 finished with value: 0.8497139579394982 and parameters: {'regressor': 'RandomForest', 'rf_max_depth': 5, 'rf_n_estimator': 8, 'rf_min_samples_leaf': 3, 'rf_min_samples_split': 5}. Best is trial 54 with value: 0.8560703406365485.\u001B[0m\n",
      "\u001B[32m[I 2023-02-24 17:29:09,526]\u001B[0m Trial 66 finished with value: 0.8481478759307013 and parameters: {'regressor': 'RandomForest', 'rf_max_depth': 3, 'rf_n_estimator': 10, 'rf_min_samples_leaf': 4, 'rf_min_samples_split': 4}. Best is trial 54 with value: 0.8560703406365485.\u001B[0m\n",
      "\u001B[32m[I 2023-02-24 17:29:09,608]\u001B[0m Trial 67 finished with value: 0.8526354399058244 and parameters: {'regressor': 'RandomForest', 'rf_max_depth': 5, 'rf_n_estimator': 8, 'rf_min_samples_leaf': 4, 'rf_min_samples_split': 5}. Best is trial 54 with value: 0.8560703406365485.\u001B[0m\n",
      "\u001B[32m[I 2023-02-24 17:29:09,705]\u001B[0m Trial 68 finished with value: 0.8527352062082029 and parameters: {'regressor': 'RandomForest', 'rf_max_depth': 4, 'rf_n_estimator': 11, 'rf_min_samples_leaf': 3, 'rf_min_samples_split': 5}. Best is trial 54 with value: 0.8560703406365485.\u001B[0m\n",
      "\u001B[32m[I 2023-02-24 17:29:09,784]\u001B[0m Trial 69 finished with value: 0.8473740954265498 and parameters: {'regressor': 'RandomForest', 'rf_max_depth': 6, 'rf_n_estimator': 7, 'rf_min_samples_leaf': 5, 'rf_min_samples_split': 5}. Best is trial 54 with value: 0.8560703406365485.\u001B[0m\n",
      "\u001B[32m[I 2023-02-24 17:29:09,871]\u001B[0m Trial 70 finished with value: 0.8533461338663828 and parameters: {'regressor': 'RandomForest', 'rf_max_depth': 4, 'rf_n_estimator': 9, 'rf_min_samples_leaf': 4, 'rf_min_samples_split': 4}. Best is trial 54 with value: 0.8560703406365485.\u001B[0m\n",
      "\u001B[32m[I 2023-02-24 17:29:09,956]\u001B[0m Trial 71 finished with value: 0.8515314972653995 and parameters: {'regressor': 'RandomForest', 'rf_max_depth': 4, 'rf_n_estimator': 9, 'rf_min_samples_leaf': 4, 'rf_min_samples_split': 5}. Best is trial 54 with value: 0.8560703406365485.\u001B[0m\n",
      "\u001B[32m[I 2023-02-24 17:29:10,042]\u001B[0m Trial 72 finished with value: 0.8531109719697074 and parameters: {'regressor': 'RandomForest', 'rf_max_depth': 4, 'rf_n_estimator': 9, 'rf_min_samples_leaf': 4, 'rf_min_samples_split': 5}. Best is trial 54 with value: 0.8560703406365485.\u001B[0m\n",
      "\u001B[32m[I 2023-02-24 17:29:10,136]\u001B[0m Trial 73 finished with value: 0.8517079313274543 and parameters: {'regressor': 'RandomForest', 'rf_max_depth': 4, 'rf_n_estimator': 10, 'rf_min_samples_leaf': 4, 'rf_min_samples_split': 5}. Best is trial 54 with value: 0.8560703406365485.\u001B[0m\n",
      "\u001B[32m[I 2023-02-24 17:29:10,215]\u001B[0m Trial 74 finished with value: 0.8484308239517955 and parameters: {'regressor': 'RandomForest', 'rf_max_depth': 3, 'rf_n_estimator': 8, 'rf_min_samples_leaf': 4, 'rf_min_samples_split': 5}. Best is trial 54 with value: 0.8560703406365485.\u001B[0m\n",
      "\u001B[32m[I 2023-02-24 17:29:10,301]\u001B[0m Trial 75 finished with value: 0.8517052277778552 and parameters: {'regressor': 'RandomForest', 'rf_max_depth': 4, 'rf_n_estimator': 9, 'rf_min_samples_leaf': 4, 'rf_min_samples_split': 5}. Best is trial 54 with value: 0.8560703406365485.\u001B[0m\n",
      "\u001B[32m[I 2023-02-24 17:29:10,404]\u001B[0m Trial 76 finished with value: 0.8527757811207654 and parameters: {'regressor': 'RandomForest', 'rf_max_depth': 4, 'rf_n_estimator': 11, 'rf_min_samples_leaf': 3, 'rf_min_samples_split': 5}. Best is trial 54 with value: 0.8560703406365485.\u001B[0m\n",
      "\u001B[32m[I 2023-02-24 17:29:10,492]\u001B[0m Trial 77 finished with value: 0.8496364163963059 and parameters: {'regressor': 'RandomForest', 'rf_max_depth': 3, 'rf_n_estimator': 10, 'rf_min_samples_leaf': 4, 'rf_min_samples_split': 5}. Best is trial 54 with value: 0.8560703406365485.\u001B[0m\n",
      "\u001B[32m[I 2023-02-24 17:29:10,582]\u001B[0m Trial 78 finished with value: 0.8502048169308429 and parameters: {'regressor': 'RandomForest', 'rf_max_depth': 5, 'rf_n_estimator': 9, 'rf_min_samples_leaf': 4, 'rf_min_samples_split': 5}. Best is trial 54 with value: 0.8560703406365485.\u001B[0m\n",
      "\u001B[32m[I 2023-02-24 17:29:10,665]\u001B[0m Trial 79 finished with value: 0.8547036509055888 and parameters: {'regressor': 'RandomForest', 'rf_max_depth': 4, 'rf_n_estimator': 8, 'rf_min_samples_leaf': 5, 'rf_min_samples_split': 4}. Best is trial 54 with value: 0.8560703406365485.\u001B[0m\n",
      "\u001B[32m[I 2023-02-24 17:29:10,744]\u001B[0m Trial 80 finished with value: 0.8496943164229626 and parameters: {'regressor': 'RandomForest', 'rf_max_depth': 5, 'rf_n_estimator': 7, 'rf_min_samples_leaf': 5, 'rf_min_samples_split': 4}. Best is trial 54 with value: 0.8560703406365485.\u001B[0m\n",
      "\u001B[32m[I 2023-02-24 17:29:10,824]\u001B[0m Trial 81 finished with value: 0.8528989031516332 and parameters: {'regressor': 'RandomForest', 'rf_max_depth': 4, 'rf_n_estimator': 8, 'rf_min_samples_leaf': 5, 'rf_min_samples_split': 5}. Best is trial 54 with value: 0.8560703406365485.\u001B[0m\n",
      "\u001B[32m[I 2023-02-24 17:29:10,903]\u001B[0m Trial 82 finished with value: 0.8522762418977325 and parameters: {'regressor': 'RandomForest', 'rf_max_depth': 4, 'rf_n_estimator': 8, 'rf_min_samples_leaf': 5, 'rf_min_samples_split': 5}. Best is trial 54 with value: 0.8560703406365485.\u001B[0m\n",
      "\u001B[32m[I 2023-02-24 17:29:11,000]\u001B[0m Trial 83 finished with value: 0.8517631808321979 and parameters: {'regressor': 'RandomForest', 'rf_max_depth': 4, 'rf_n_estimator': 10, 'rf_min_samples_leaf': 4, 'rf_min_samples_split': 4}. Best is trial 54 with value: 0.8560703406365485.\u001B[0m\n",
      "\u001B[32m[I 2023-02-24 17:29:11,085]\u001B[0m Trial 84 finished with value: 0.8505399594126889 and parameters: {'regressor': 'RandomForest', 'rf_max_depth': 3, 'rf_n_estimator': 9, 'rf_min_samples_leaf': 2, 'rf_min_samples_split': 5}. Best is trial 54 with value: 0.8560703406365485.\u001B[0m\n",
      "\u001B[32m[I 2023-02-24 17:29:11,185]\u001B[0m Trial 85 finished with value: 0.853427263016945 and parameters: {'regressor': 'RandomForest', 'rf_max_depth': 4, 'rf_n_estimator': 11, 'rf_min_samples_leaf': 5, 'rf_min_samples_split': 5}. Best is trial 54 with value: 0.8560703406365485.\u001B[0m\n",
      "\u001B[32m[I 2023-02-24 17:29:11,278]\u001B[0m Trial 86 finished with value: 0.8504601814537172 and parameters: {'regressor': 'RandomForest', 'rf_max_depth': 5, 'rf_n_estimator': 8, 'rf_min_samples_leaf': 3, 'rf_min_samples_split': 5}. Best is trial 54 with value: 0.8560703406365485.\u001B[0m\n",
      "\u001B[32m[I 2023-02-24 17:29:11,353]\u001B[0m Trial 87 finished with value: 0.8483249319233778 and parameters: {'regressor': 'RandomForest', 'rf_max_depth': 3, 'rf_n_estimator': 7, 'rf_min_samples_leaf': 4, 'rf_min_samples_split': 2}. Best is trial 54 with value: 0.8560703406365485.\u001B[0m\n",
      "\u001B[32m[I 2023-02-24 17:29:11,446]\u001B[0m Trial 88 finished with value: 0.8521239754538386 and parameters: {'regressor': 'RandomForest', 'rf_max_depth': 4, 'rf_n_estimator': 10, 'rf_min_samples_leaf': 4, 'rf_min_samples_split': 5}. Best is trial 54 with value: 0.8560703406365485.\u001B[0m\n",
      "\u001B[32m[I 2023-02-24 17:29:11,536]\u001B[0m Trial 89 finished with value: 0.8539716235521642 and parameters: {'regressor': 'RandomForest', 'rf_max_depth': 5, 'rf_n_estimator': 9, 'rf_min_samples_leaf': 5, 'rf_min_samples_split': 4}. Best is trial 54 with value: 0.8560703406365485.\u001B[0m\n",
      "\u001B[32m[I 2023-02-24 17:29:11,632]\u001B[0m Trial 90 finished with value: 0.8545125438834884 and parameters: {'regressor': 'RandomForest', 'rf_max_depth': 4, 'rf_n_estimator': 10, 'rf_min_samples_leaf': 3, 'rf_min_samples_split': 5}. Best is trial 54 with value: 0.8560703406365485.\u001B[0m\n",
      "\u001B[32m[I 2023-02-24 17:29:11,733]\u001B[0m Trial 91 finished with value: 0.8519801110768312 and parameters: {'regressor': 'RandomForest', 'rf_max_depth': 4, 'rf_n_estimator': 10, 'rf_min_samples_leaf': 3, 'rf_min_samples_split': 5}. Best is trial 54 with value: 0.8560703406365485.\u001B[0m\n",
      "\u001B[32m[I 2023-02-24 17:29:11,833]\u001B[0m Trial 92 finished with value: 0.8519376472541017 and parameters: {'regressor': 'RandomForest', 'rf_max_depth': 4, 'rf_n_estimator': 11, 'rf_min_samples_leaf': 3, 'rf_min_samples_split': 5}. Best is trial 54 with value: 0.8560703406365485.\u001B[0m\n",
      "\u001B[32m[I 2023-02-24 17:29:11,922]\u001B[0m Trial 93 finished with value: 0.8549425867366993 and parameters: {'regressor': 'RandomForest', 'rf_max_depth': 4, 'rf_n_estimator': 9, 'rf_min_samples_leaf': 3, 'rf_min_samples_split': 5}. Best is trial 54 with value: 0.8560703406365485.\u001B[0m\n",
      "\u001B[32m[I 2023-02-24 17:29:12,004]\u001B[0m Trial 94 finished with value: 0.8491642346973031 and parameters: {'regressor': 'RandomForest', 'rf_max_depth': 3, 'rf_n_estimator': 8, 'rf_min_samples_leaf': 3, 'rf_min_samples_split': 5}. Best is trial 54 with value: 0.8560703406365485.\u001B[0m\n",
      "\u001B[32m[I 2023-02-24 17:29:12,097]\u001B[0m Trial 95 finished with value: 0.8520531283742482 and parameters: {'regressor': 'RandomForest', 'rf_max_depth': 4, 'rf_n_estimator': 10, 'rf_min_samples_leaf': 3, 'rf_min_samples_split': 5}. Best is trial 54 with value: 0.8560703406365485.\u001B[0m\n",
      "\u001B[32m[I 2023-02-24 17:29:12,201]\u001B[0m Trial 96 finished with value: 0.8514484450510402 and parameters: {'regressor': 'RandomForest', 'rf_max_depth': 5, 'rf_n_estimator': 11, 'rf_min_samples_leaf': 3, 'rf_min_samples_split': 5}. Best is trial 54 with value: 0.8560703406365485.\u001B[0m\n",
      "\u001B[32m[I 2023-02-24 17:29:12,301]\u001B[0m Trial 97 finished with value: 0.8537955977244517 and parameters: {'regressor': 'RandomForest', 'rf_max_depth': 5, 'rf_n_estimator': 10, 'rf_min_samples_leaf': 3, 'rf_min_samples_split': 5}. Best is trial 54 with value: 0.8560703406365485.\u001B[0m\n",
      "\u001B[32m[I 2023-02-24 17:29:12,372]\u001B[0m Trial 98 finished with value: 0.8496972327168191 and parameters: {'regressor': 'RandomForest', 'rf_max_depth': 4, 'rf_n_estimator': 6, 'rf_min_samples_leaf': 3, 'rf_min_samples_split': 5}. Best is trial 54 with value: 0.8560703406365485.\u001B[0m\n",
      "\u001B[32m[I 2023-02-24 17:29:12,459]\u001B[0m Trial 99 finished with value: 0.8493672905641203 and parameters: {'regressor': 'RandomForest', 'rf_max_depth': 3, 'rf_n_estimator': 9, 'rf_min_samples_leaf': 2, 'rf_min_samples_split': 5}. Best is trial 54 with value: 0.8560703406365485.\u001B[0m\n"
     ]
    },
    {
     "name": "stdout",
     "output_type": "stream",
     "text": [
      "{'regressor': 'RandomForest', 'rf_max_depth': 4, 'rf_n_estimator': 8, 'rf_min_samples_leaf': 4, 'rf_min_samples_split': 5}\n"
     ]
    }
   ],
   "source": [
    "# 성능 평가\n",
    "from sklearn.model_selection import cross_val_score\n",
    "\n",
    "def objective(trial):\n",
    "    regressor_name = trial.suggest_categorical('regressor' ,['RandomForest'])\n",
    "\n",
    "    # 분류기에 따라 하이퍼 파라미터 다르게 지정\n",
    "    if regressor_name == 'RandomForest':\n",
    "        rf_max_depth = int(trial.suggest_int('rf_max_depth', 2, 10))  #트리의 깊이\n",
    "        rf_n_estimator = int(trial.suggest_int('rf_n_estimator', 5, 15)) #결정 트리의 개수\n",
    "        rf_min_samples_leaf = int(trial.suggest_int('rf_min_samples_leaf', 1, 5))\n",
    "        rf_min_samples_split = int(trial.suggest_int('rf_min_samples_split', 2, 5))\n",
    "        obj_rf = RandomForestRegressor(max_depth=rf_max_depth,\n",
    "                                       n_estimators=rf_n_estimator,\n",
    "                                       min_samples_leaf=rf_min_samples_leaf,\n",
    "                                       min_samples_split=rf_min_samples_split)\n",
    "        r2 = cross_val_score(obj_rf, x_train, y_train, cv=5).mean()\n",
    "        return r2\n",
    "\n",
    "study = optuna.create_study(direction='maximize')\n",
    "study.optimize(objective, n_trials=100)\n",
    "print(study.best_trial.params)"
   ],
   "metadata": {
    "collapsed": false
   }
  },
  {
   "cell_type": "code",
   "execution_count": 9,
   "outputs": [
    {
     "data": {
      "text/plain": "RandomForestRegressor(max_depth=4, min_samples_leaf=4, min_samples_split=5,\n                      n_estimators=8)",
      "text/html": "<style>#sk-container-id-1 {color: black;background-color: white;}#sk-container-id-1 pre{padding: 0;}#sk-container-id-1 div.sk-toggleable {background-color: white;}#sk-container-id-1 label.sk-toggleable__label {cursor: pointer;display: block;width: 100%;margin-bottom: 0;padding: 0.3em;box-sizing: border-box;text-align: center;}#sk-container-id-1 label.sk-toggleable__label-arrow:before {content: \"▸\";float: left;margin-right: 0.25em;color: #696969;}#sk-container-id-1 label.sk-toggleable__label-arrow:hover:before {color: black;}#sk-container-id-1 div.sk-estimator:hover label.sk-toggleable__label-arrow:before {color: black;}#sk-container-id-1 div.sk-toggleable__content {max-height: 0;max-width: 0;overflow: hidden;text-align: left;background-color: #f0f8ff;}#sk-container-id-1 div.sk-toggleable__content pre {margin: 0.2em;color: black;border-radius: 0.25em;background-color: #f0f8ff;}#sk-container-id-1 input.sk-toggleable__control:checked~div.sk-toggleable__content {max-height: 200px;max-width: 100%;overflow: auto;}#sk-container-id-1 input.sk-toggleable__control:checked~label.sk-toggleable__label-arrow:before {content: \"▾\";}#sk-container-id-1 div.sk-estimator input.sk-toggleable__control:checked~label.sk-toggleable__label {background-color: #d4ebff;}#sk-container-id-1 div.sk-label input.sk-toggleable__control:checked~label.sk-toggleable__label {background-color: #d4ebff;}#sk-container-id-1 input.sk-hidden--visually {border: 0;clip: rect(1px 1px 1px 1px);clip: rect(1px, 1px, 1px, 1px);height: 1px;margin: -1px;overflow: hidden;padding: 0;position: absolute;width: 1px;}#sk-container-id-1 div.sk-estimator {font-family: monospace;background-color: #f0f8ff;border: 1px dotted black;border-radius: 0.25em;box-sizing: border-box;margin-bottom: 0.5em;}#sk-container-id-1 div.sk-estimator:hover {background-color: #d4ebff;}#sk-container-id-1 div.sk-parallel-item::after {content: \"\";width: 100%;border-bottom: 1px solid gray;flex-grow: 1;}#sk-container-id-1 div.sk-label:hover label.sk-toggleable__label {background-color: #d4ebff;}#sk-container-id-1 div.sk-serial::before {content: \"\";position: absolute;border-left: 1px solid gray;box-sizing: border-box;top: 0;bottom: 0;left: 50%;z-index: 0;}#sk-container-id-1 div.sk-serial {display: flex;flex-direction: column;align-items: center;background-color: white;padding-right: 0.2em;padding-left: 0.2em;position: relative;}#sk-container-id-1 div.sk-item {position: relative;z-index: 1;}#sk-container-id-1 div.sk-parallel {display: flex;align-items: stretch;justify-content: center;background-color: white;position: relative;}#sk-container-id-1 div.sk-item::before, #sk-container-id-1 div.sk-parallel-item::before {content: \"\";position: absolute;border-left: 1px solid gray;box-sizing: border-box;top: 0;bottom: 0;left: 50%;z-index: -1;}#sk-container-id-1 div.sk-parallel-item {display: flex;flex-direction: column;z-index: 1;position: relative;background-color: white;}#sk-container-id-1 div.sk-parallel-item:first-child::after {align-self: flex-end;width: 50%;}#sk-container-id-1 div.sk-parallel-item:last-child::after {align-self: flex-start;width: 50%;}#sk-container-id-1 div.sk-parallel-item:only-child::after {width: 0;}#sk-container-id-1 div.sk-dashed-wrapped {border: 1px dashed gray;margin: 0 0.4em 0.5em 0.4em;box-sizing: border-box;padding-bottom: 0.4em;background-color: white;}#sk-container-id-1 div.sk-label label {font-family: monospace;font-weight: bold;display: inline-block;line-height: 1.2em;}#sk-container-id-1 div.sk-label-container {text-align: center;}#sk-container-id-1 div.sk-container {/* jupyter's `normalize.less` sets `[hidden] { display: none; }` but bootstrap.min.css set `[hidden] { display: none !important; }` so we also need the `!important` here to be able to override the default hidden behavior on the sphinx rendered scikit-learn.org. See: https://github.com/scikit-learn/scikit-learn/issues/21755 */display: inline-block !important;position: relative;}#sk-container-id-1 div.sk-text-repr-fallback {display: none;}</style><div id=\"sk-container-id-1\" class=\"sk-top-container\"><div class=\"sk-text-repr-fallback\"><pre>RandomForestRegressor(max_depth=4, min_samples_leaf=4, min_samples_split=5,\n                      n_estimators=8)</pre><b>In a Jupyter environment, please rerun this cell to show the HTML representation or trust the notebook. <br />On GitHub, the HTML representation is unable to render, please try loading this page with nbviewer.org.</b></div><div class=\"sk-container\" hidden><div class=\"sk-item\"><div class=\"sk-estimator sk-toggleable\"><input class=\"sk-toggleable__control sk-hidden--visually\" id=\"sk-estimator-id-1\" type=\"checkbox\" checked><label for=\"sk-estimator-id-1\" class=\"sk-toggleable__label sk-toggleable__label-arrow\">RandomForestRegressor</label><div class=\"sk-toggleable__content\"><pre>RandomForestRegressor(max_depth=4, min_samples_leaf=4, min_samples_split=5,\n                      n_estimators=8)</pre></div></div></div></div></div>"
     },
     "execution_count": 9,
     "metadata": {},
     "output_type": "execute_result"
    }
   ],
   "source": [
    "model = RandomForestRegressor(\n",
    "    max_depth=4, n_estimators=8,\n",
    "    min_samples_leaf=4, min_samples_split=5\n",
    ")\n",
    "model.fit(x_train, y_train)"
   ],
   "metadata": {
    "collapsed": false
   }
  },
  {
   "cell_type": "code",
   "execution_count": 11,
   "outputs": [
    {
     "name": "stdout",
     "output_type": "stream",
     "text": [
      "학습 데이터 성능:  0.8739256445989392\n",
      "Optuna 테스트 데이터 성능:  0.8546789793536557\n"
     ]
    }
   ],
   "source": [
    "y_pred = model.predict(x_test)\n",
    "print(\"학습 데이터 성능: \", model.score(x_train, y_train))\n",
    "print(\"Optuna 테스트 데이터 성능: \", r2_score(y_test, y_pred))"
   ],
   "metadata": {
    "collapsed": false
   }
  },
  {
   "cell_type": "markdown",
   "source": [
    "### 2. GridSearchCV"
   ],
   "metadata": {
    "collapsed": false
   }
  },
  {
   "cell_type": "code",
   "execution_count": 14,
   "outputs": [
    {
     "data": {
      "text/plain": "GridSearchCV(estimator=RandomForestRegressor(),\n             param_grid={'max_depth': range(3, 5),\n                         'min_samples_split': range(5, 8)},\n             scoring='r2')",
      "text/html": "<style>#sk-container-id-2 {color: black;background-color: white;}#sk-container-id-2 pre{padding: 0;}#sk-container-id-2 div.sk-toggleable {background-color: white;}#sk-container-id-2 label.sk-toggleable__label {cursor: pointer;display: block;width: 100%;margin-bottom: 0;padding: 0.3em;box-sizing: border-box;text-align: center;}#sk-container-id-2 label.sk-toggleable__label-arrow:before {content: \"▸\";float: left;margin-right: 0.25em;color: #696969;}#sk-container-id-2 label.sk-toggleable__label-arrow:hover:before {color: black;}#sk-container-id-2 div.sk-estimator:hover label.sk-toggleable__label-arrow:before {color: black;}#sk-container-id-2 div.sk-toggleable__content {max-height: 0;max-width: 0;overflow: hidden;text-align: left;background-color: #f0f8ff;}#sk-container-id-2 div.sk-toggleable__content pre {margin: 0.2em;color: black;border-radius: 0.25em;background-color: #f0f8ff;}#sk-container-id-2 input.sk-toggleable__control:checked~div.sk-toggleable__content {max-height: 200px;max-width: 100%;overflow: auto;}#sk-container-id-2 input.sk-toggleable__control:checked~label.sk-toggleable__label-arrow:before {content: \"▾\";}#sk-container-id-2 div.sk-estimator input.sk-toggleable__control:checked~label.sk-toggleable__label {background-color: #d4ebff;}#sk-container-id-2 div.sk-label input.sk-toggleable__control:checked~label.sk-toggleable__label {background-color: #d4ebff;}#sk-container-id-2 input.sk-hidden--visually {border: 0;clip: rect(1px 1px 1px 1px);clip: rect(1px, 1px, 1px, 1px);height: 1px;margin: -1px;overflow: hidden;padding: 0;position: absolute;width: 1px;}#sk-container-id-2 div.sk-estimator {font-family: monospace;background-color: #f0f8ff;border: 1px dotted black;border-radius: 0.25em;box-sizing: border-box;margin-bottom: 0.5em;}#sk-container-id-2 div.sk-estimator:hover {background-color: #d4ebff;}#sk-container-id-2 div.sk-parallel-item::after {content: \"\";width: 100%;border-bottom: 1px solid gray;flex-grow: 1;}#sk-container-id-2 div.sk-label:hover label.sk-toggleable__label {background-color: #d4ebff;}#sk-container-id-2 div.sk-serial::before {content: \"\";position: absolute;border-left: 1px solid gray;box-sizing: border-box;top: 0;bottom: 0;left: 50%;z-index: 0;}#sk-container-id-2 div.sk-serial {display: flex;flex-direction: column;align-items: center;background-color: white;padding-right: 0.2em;padding-left: 0.2em;position: relative;}#sk-container-id-2 div.sk-item {position: relative;z-index: 1;}#sk-container-id-2 div.sk-parallel {display: flex;align-items: stretch;justify-content: center;background-color: white;position: relative;}#sk-container-id-2 div.sk-item::before, #sk-container-id-2 div.sk-parallel-item::before {content: \"\";position: absolute;border-left: 1px solid gray;box-sizing: border-box;top: 0;bottom: 0;left: 50%;z-index: -1;}#sk-container-id-2 div.sk-parallel-item {display: flex;flex-direction: column;z-index: 1;position: relative;background-color: white;}#sk-container-id-2 div.sk-parallel-item:first-child::after {align-self: flex-end;width: 50%;}#sk-container-id-2 div.sk-parallel-item:last-child::after {align-self: flex-start;width: 50%;}#sk-container-id-2 div.sk-parallel-item:only-child::after {width: 0;}#sk-container-id-2 div.sk-dashed-wrapped {border: 1px dashed gray;margin: 0 0.4em 0.5em 0.4em;box-sizing: border-box;padding-bottom: 0.4em;background-color: white;}#sk-container-id-2 div.sk-label label {font-family: monospace;font-weight: bold;display: inline-block;line-height: 1.2em;}#sk-container-id-2 div.sk-label-container {text-align: center;}#sk-container-id-2 div.sk-container {/* jupyter's `normalize.less` sets `[hidden] { display: none; }` but bootstrap.min.css set `[hidden] { display: none !important; }` so we also need the `!important` here to be able to override the default hidden behavior on the sphinx rendered scikit-learn.org. See: https://github.com/scikit-learn/scikit-learn/issues/21755 */display: inline-block !important;position: relative;}#sk-container-id-2 div.sk-text-repr-fallback {display: none;}</style><div id=\"sk-container-id-2\" class=\"sk-top-container\"><div class=\"sk-text-repr-fallback\"><pre>GridSearchCV(estimator=RandomForestRegressor(),\n             param_grid={&#x27;max_depth&#x27;: range(3, 5),\n                         &#x27;min_samples_split&#x27;: range(5, 8)},\n             scoring=&#x27;r2&#x27;)</pre><b>In a Jupyter environment, please rerun this cell to show the HTML representation or trust the notebook. <br />On GitHub, the HTML representation is unable to render, please try loading this page with nbviewer.org.</b></div><div class=\"sk-container\" hidden><div class=\"sk-item sk-dashed-wrapped\"><div class=\"sk-label-container\"><div class=\"sk-label sk-toggleable\"><input class=\"sk-toggleable__control sk-hidden--visually\" id=\"sk-estimator-id-2\" type=\"checkbox\" ><label for=\"sk-estimator-id-2\" class=\"sk-toggleable__label sk-toggleable__label-arrow\">GridSearchCV</label><div class=\"sk-toggleable__content\"><pre>GridSearchCV(estimator=RandomForestRegressor(),\n             param_grid={&#x27;max_depth&#x27;: range(3, 5),\n                         &#x27;min_samples_split&#x27;: range(5, 8)},\n             scoring=&#x27;r2&#x27;)</pre></div></div></div><div class=\"sk-parallel\"><div class=\"sk-parallel-item\"><div class=\"sk-item\"><div class=\"sk-label-container\"><div class=\"sk-label sk-toggleable\"><input class=\"sk-toggleable__control sk-hidden--visually\" id=\"sk-estimator-id-3\" type=\"checkbox\" ><label for=\"sk-estimator-id-3\" class=\"sk-toggleable__label sk-toggleable__label-arrow\">estimator: RandomForestRegressor</label><div class=\"sk-toggleable__content\"><pre>RandomForestRegressor()</pre></div></div></div><div class=\"sk-serial\"><div class=\"sk-item\"><div class=\"sk-estimator sk-toggleable\"><input class=\"sk-toggleable__control sk-hidden--visually\" id=\"sk-estimator-id-4\" type=\"checkbox\" ><label for=\"sk-estimator-id-4\" class=\"sk-toggleable__label sk-toggleable__label-arrow\">RandomForestRegressor</label><div class=\"sk-toggleable__content\"><pre>RandomForestRegressor()</pre></div></div></div></div></div></div></div></div></div></div>"
     },
     "execution_count": 14,
     "metadata": {},
     "output_type": "execute_result"
    }
   ],
   "source": [
    "from sklearn.model_selection import GridSearchCV\n",
    "params = {\n",
    "    'max_depth': range(3, 5),\n",
    "    'min_samples_split': range(5, 8)\n",
    "}\n",
    "model2 = GridSearchCV(\n",
    "    estimator=RandomForestRegressor(),\n",
    "    param_grid=params,\n",
    "    scoring='r2'\n",
    ")\n",
    "model2.fit(x_train, y_train)"
   ],
   "metadata": {
    "collapsed": false
   }
  },
  {
   "cell_type": "code",
   "execution_count": 15,
   "outputs": [
    {
     "name": "stdout",
     "output_type": "stream",
     "text": [
      "학습 데이터 성능:  0.8739256445989392\n",
      "GridSearchCv 테스트 데이터 성능: 0.8546789793536557\n"
     ]
    }
   ],
   "source": [
    "y_pred2 = model2.predict(x_test)\n",
    "print(\"학습 데이터 성능: \", model.score(x_train, y_train))\n",
    "print(\"GridSearchCv 테스트 데이터 성능:\", r2_score(y_test, y_pred))"
   ],
   "metadata": {
    "collapsed": false
   }
  },
  {
   "cell_type": "markdown",
   "source": [
    "### 3. Bayesian Optimization"
   ],
   "metadata": {
    "collapsed": false
   }
  },
  {
   "cell_type": "code",
   "execution_count": null,
   "outputs": [],
   "source": [
    "# from hyperopt import\n",
    "#\n",
    "# space = {\n",
    "#     'max_depth':\n",
    "# }"
   ],
   "metadata": {
    "collapsed": false
   }
  }
 ],
 "metadata": {
  "kernelspec": {
   "display_name": "Python 3",
   "language": "python",
   "name": "python3"
  },
  "language_info": {
   "codemirror_mode": {
    "name": "ipython",
    "version": 2
   },
   "file_extension": ".py",
   "mimetype": "text/x-python",
   "name": "python",
   "nbconvert_exporter": "python",
   "pygments_lexer": "ipython2",
   "version": "2.7.6"
  }
 },
 "nbformat": 4,
 "nbformat_minor": 0
}
