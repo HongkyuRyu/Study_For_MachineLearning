{
 "cells": [
  {
   "cell_type": "code",
   "execution_count": 1,
   "metadata": {
    "collapsed": true
   },
   "outputs": [
    {
     "data": {
      "text/plain": "   Pclass_0  Pclass_1  Pclass_2  Sex_0  Sex_1  Age_0  Age_1  Age_2  Age_3  \\\n0         0         0         1      1      0      0      0      0      1   \n1         1         0         0      0      1      0      0      0      0   \n2         0         0         1      0      1      0      0      0      1   \n3         1         0         0      0      1      0      0      0      0   \n4         0         0         1      1      0      0      0      0      0   \n\n   Age_4  ...  HighChance_0  HighChance_1  HighChance_2  HighChance_3  \\\n0      0  ...             1             0             0             0   \n1      1  ...             0             0             1             0   \n2      0  ...             1             0             0             0   \n3      1  ...             0             0             1             0   \n4      1  ...             1             0             0             0   \n\n   HighChance_4  HighChance_5  HighChance_6  LowChance_0  LowChance_1  \\\n0             0             0             0            1            0   \n1             0             0             0            1            0   \n2             0             0             0            1            0   \n3             0             0             0            1            0   \n4             0             0             0            0            0   \n\n   LowChance_2  \n0            0  \n1            0  \n2            0  \n3            0  \n4            1  \n\n[5 rows x 94 columns]",
      "text/html": "<div>\n<style scoped>\n    .dataframe tbody tr th:only-of-type {\n        vertical-align: middle;\n    }\n\n    .dataframe tbody tr th {\n        vertical-align: top;\n    }\n\n    .dataframe thead th {\n        text-align: right;\n    }\n</style>\n<table border=\"1\" class=\"dataframe\">\n  <thead>\n    <tr style=\"text-align: right;\">\n      <th></th>\n      <th>Pclass_0</th>\n      <th>Pclass_1</th>\n      <th>Pclass_2</th>\n      <th>Sex_0</th>\n      <th>Sex_1</th>\n      <th>Age_0</th>\n      <th>Age_1</th>\n      <th>Age_2</th>\n      <th>Age_3</th>\n      <th>Age_4</th>\n      <th>...</th>\n      <th>HighChance_0</th>\n      <th>HighChance_1</th>\n      <th>HighChance_2</th>\n      <th>HighChance_3</th>\n      <th>HighChance_4</th>\n      <th>HighChance_5</th>\n      <th>HighChance_6</th>\n      <th>LowChance_0</th>\n      <th>LowChance_1</th>\n      <th>LowChance_2</th>\n    </tr>\n  </thead>\n  <tbody>\n    <tr>\n      <th>0</th>\n      <td>0</td>\n      <td>0</td>\n      <td>1</td>\n      <td>1</td>\n      <td>0</td>\n      <td>0</td>\n      <td>0</td>\n      <td>0</td>\n      <td>1</td>\n      <td>0</td>\n      <td>...</td>\n      <td>1</td>\n      <td>0</td>\n      <td>0</td>\n      <td>0</td>\n      <td>0</td>\n      <td>0</td>\n      <td>0</td>\n      <td>1</td>\n      <td>0</td>\n      <td>0</td>\n    </tr>\n    <tr>\n      <th>1</th>\n      <td>1</td>\n      <td>0</td>\n      <td>0</td>\n      <td>0</td>\n      <td>1</td>\n      <td>0</td>\n      <td>0</td>\n      <td>0</td>\n      <td>0</td>\n      <td>1</td>\n      <td>...</td>\n      <td>0</td>\n      <td>0</td>\n      <td>1</td>\n      <td>0</td>\n      <td>0</td>\n      <td>0</td>\n      <td>0</td>\n      <td>1</td>\n      <td>0</td>\n      <td>0</td>\n    </tr>\n    <tr>\n      <th>2</th>\n      <td>0</td>\n      <td>0</td>\n      <td>1</td>\n      <td>0</td>\n      <td>1</td>\n      <td>0</td>\n      <td>0</td>\n      <td>0</td>\n      <td>1</td>\n      <td>0</td>\n      <td>...</td>\n      <td>1</td>\n      <td>0</td>\n      <td>0</td>\n      <td>0</td>\n      <td>0</td>\n      <td>0</td>\n      <td>0</td>\n      <td>1</td>\n      <td>0</td>\n      <td>0</td>\n    </tr>\n    <tr>\n      <th>3</th>\n      <td>1</td>\n      <td>0</td>\n      <td>0</td>\n      <td>0</td>\n      <td>1</td>\n      <td>0</td>\n      <td>0</td>\n      <td>0</td>\n      <td>0</td>\n      <td>1</td>\n      <td>...</td>\n      <td>0</td>\n      <td>0</td>\n      <td>1</td>\n      <td>0</td>\n      <td>0</td>\n      <td>0</td>\n      <td>0</td>\n      <td>1</td>\n      <td>0</td>\n      <td>0</td>\n    </tr>\n    <tr>\n      <th>4</th>\n      <td>0</td>\n      <td>0</td>\n      <td>1</td>\n      <td>1</td>\n      <td>0</td>\n      <td>0</td>\n      <td>0</td>\n      <td>0</td>\n      <td>0</td>\n      <td>1</td>\n      <td>...</td>\n      <td>1</td>\n      <td>0</td>\n      <td>0</td>\n      <td>0</td>\n      <td>0</td>\n      <td>0</td>\n      <td>0</td>\n      <td>0</td>\n      <td>0</td>\n      <td>1</td>\n    </tr>\n  </tbody>\n</table>\n<p>5 rows × 94 columns</p>\n</div>"
     },
     "execution_count": 1,
     "metadata": {},
     "output_type": "execute_result"
    }
   ],
   "source": [
    "import warnings\n",
    "warnings.filterwarnings('ignore')\n",
    "\n",
    "import pickle\n",
    "with open('titanic_step3_feature_onehot_encoding.pickle', 'rb') as pickle_filename:\n",
    "    df_onehot = pickle.load(pickle_filename)\n",
    "with open('titanic_step3_feature_encoding_y_pickle', 'rb') as pickle_filename:\n",
    "    y_train = pickle.load(pickle_filename)\n",
    "\n",
    "ntrain = 891\n",
    "X_train, X_test = df_onehot[:ntrain], df_onehot[ntrain:]\n",
    "X_train.head()"
   ]
  },
  {
   "cell_type": "markdown",
   "source": [
    "### K-Fold test"
   ],
   "metadata": {
    "collapsed": false
   }
  },
  {
   "cell_type": "code",
   "execution_count": 2,
   "outputs": [
    {
     "data": {
      "text/plain": "array([0.83333333, 0.82022472, 0.78651685, 0.86516854, 0.85393258,\n       0.83146067, 0.80898876, 0.83146067, 0.79775281, 0.78651685])"
     },
     "execution_count": 2,
     "metadata": {},
     "output_type": "execute_result"
    }
   ],
   "source": [
    "from sklearn.model_selection import KFold\n",
    "from sklearn.model_selection import cross_val_score\n",
    "from sklearn.neighbors import KNeighborsClassifier\n",
    "knn = KNeighborsClassifier(n_neighbors=13)\n",
    "k_fold = KFold(n_splits=10, shuffle=True, random_state=0)\n",
    "score = cross_val_score(knn, X_train, y_train, cv=k_fold, n_jobs=-1, scoring='accuracy')\n",
    "score"
   ],
   "metadata": {
    "collapsed": false
   }
  },
  {
   "cell_type": "code",
   "execution_count": 3,
   "outputs": [
    {
     "data": {
      "text/plain": "82.15355805243446"
     },
     "execution_count": 3,
     "metadata": {},
     "output_type": "execute_result"
    }
   ],
   "source": [
    "import numpy as np\n",
    "np.mean(score) * 100"
   ],
   "metadata": {
    "collapsed": false
   }
  },
  {
   "cell_type": "markdown",
   "source": [
    "### Stratified K-Fold test"
   ],
   "metadata": {
    "collapsed": false
   }
  },
  {
   "cell_type": "code",
   "execution_count": 5,
   "outputs": [
    {
     "data": {
      "text/plain": "['DESCR',\n 'data',\n 'data_module',\n 'feature_names',\n 'filename',\n 'frame',\n 'target',\n 'target_names']"
     },
     "execution_count": 5,
     "metadata": {},
     "output_type": "execute_result"
    }
   ],
   "source": [
    "import pandas as pd\n",
    "from sklearn.datasets import load_iris\n",
    "from sklearn.model_selection import StratifiedKFold\n",
    "from sklearn.model_selection import KFold\n",
    "\n",
    "iris_data = load_iris()\n",
    "dir(iris_data)"
   ],
   "metadata": {
    "collapsed": false
   }
  },
  {
   "cell_type": "code",
   "execution_count": 6,
   "outputs": [],
   "source": [
    "iris_df = pd.DataFrame(data=iris_data, columns=iris_data.feature_names)"
   ],
   "metadata": {
    "collapsed": false
   }
  },
  {
   "cell_type": "code",
   "execution_count": 7,
   "outputs": [
    {
     "data": {
      "text/plain": "0    50\n1    50\n2    50\nName: species, dtype: int64"
     },
     "execution_count": 7,
     "metadata": {},
     "output_type": "execute_result"
    }
   ],
   "source": [
    "iris_df['species'] = iris_data.target\n",
    "iris_df['species'].value_counts()"
   ],
   "metadata": {
    "collapsed": false
   }
  },
  {
   "cell_type": "code",
   "execution_count": 10,
   "outputs": [
    {
     "name": "stdout",
     "output_type": "stream",
     "text": [
      "train set \n",
      " 2    34\n",
      "0    33\n",
      "1    33\n",
      "Name: species, dtype: int64\n",
      "test set\n",
      " 0    17\n",
      "1    17\n",
      "2    16\n",
      "Name: species, dtype: int64\n",
      "train set \n",
      " 1    34\n",
      "0    33\n",
      "2    33\n",
      "Name: species, dtype: int64\n",
      "test set\n",
      " 0    17\n",
      "2    17\n",
      "1    16\n",
      "Name: species, dtype: int64\n",
      "train set \n",
      " 0    34\n",
      "1    33\n",
      "2    33\n",
      "Name: species, dtype: int64\n",
      "test set\n",
      " 1    17\n",
      "2    17\n",
      "0    16\n",
      "Name: species, dtype: int64\n"
     ]
    }
   ],
   "source": [
    "skfold = StratifiedKFold(n_splits=3)\n",
    "\n",
    "for train_index, test_index in skfold.split(iris_df, iris_df['species']):\n",
    "    trainset = iris_df['species'].iloc[train_index]\n",
    "    testset = iris_df['species'].iloc[test_index]\n",
    "    print('train set \\n', trainset.value_counts())\n",
    "    print('test set\\n', testset.value_counts())\n"
   ],
   "metadata": {
    "collapsed": false
   }
  },
  {
   "cell_type": "code",
   "execution_count": 11,
   "outputs": [
    {
     "name": "stdout",
     "output_type": "stream",
     "text": [
      "trainset\n",
      " 1    50\n",
      "2    50\n",
      "Name: species, dtype: int64\n",
      "testset\n",
      " 0    50\n",
      "Name: species, dtype: int64\n",
      "trainset\n",
      " 0    50\n",
      "2    50\n",
      "Name: species, dtype: int64\n",
      "testset\n",
      " 1    50\n",
      "Name: species, dtype: int64\n",
      "trainset\n",
      " 0    50\n",
      "1    50\n",
      "Name: species, dtype: int64\n",
      "testset\n",
      " 2    50\n",
      "Name: species, dtype: int64\n"
     ]
    }
   ],
   "source": [
    "kfold = KFold(n_splits=3)\n",
    "\n",
    "# KFold.split(X): X 는 훈련 데이터\n",
    "for train_index, test_index in kfold.split(iris_df):\n",
    "    trainset = iris_df['species'].iloc[train_index]\n",
    "    testset = iris_df['species'].iloc[test_index]\n",
    "    print('trainset\\n', trainset.value_counts())\n",
    "    print('testset\\n', testset.value_counts())"
   ],
   "metadata": {
    "collapsed": false
   }
  },
  {
   "cell_type": "code",
   "execution_count": null,
   "outputs": [],
   "source": [],
   "metadata": {
    "collapsed": false
   }
  }
 ],
 "metadata": {
  "kernelspec": {
   "display_name": "Python 3",
   "language": "python",
   "name": "python3"
  },
  "language_info": {
   "codemirror_mode": {
    "name": "ipython",
    "version": 2
   },
   "file_extension": ".py",
   "mimetype": "text/x-python",
   "name": "python",
   "nbconvert_exporter": "python",
   "pygments_lexer": "ipython2",
   "version": "2.7.6"
  }
 },
 "nbformat": 4,
 "nbformat_minor": 0
}
