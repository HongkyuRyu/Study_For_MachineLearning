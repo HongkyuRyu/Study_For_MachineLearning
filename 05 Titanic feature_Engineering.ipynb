{
 "cells": [
  {
   "cell_type": "code",
   "execution_count": 1,
   "metadata": {
    "collapsed": true
   },
   "outputs": [
    {
     "data": {
      "text/html": "        <script type=\"text/javascript\">\n        window.PlotlyConfig = {MathJaxConfig: 'local'};\n        if (window.MathJax && window.MathJax.Hub && window.MathJax.Hub.Config) {window.MathJax.Hub.Config({SVG: {font: \"STIX-Web\"}});}\n        if (typeof require !== 'undefined') {\n        require.undef(\"plotly\");\n        requirejs.config({\n            paths: {\n                'plotly': ['https://cdn.plot.ly/plotly-2.12.1.min']\n            }\n        });\n        require(['plotly'], function(Plotly) {\n            window._Plotly = Plotly;\n        });\n        }\n        </script>\n        "
     },
     "metadata": {},
     "output_type": "display_data"
    }
   ],
   "source": [
    "import pandas as pd\n",
    "import chart_studio.plotly as py\n",
    "import matplotlib.pyplot as plt\n",
    "import seaborn as sns\n",
    "import cufflinks as cf\n",
    "cf.go_offline(connected=True)"
   ]
  },
  {
   "cell_type": "code",
   "execution_count": 143,
   "outputs": [],
   "source": [
    "train = pd.read_csv('./Titanic/train.csv')\n",
    "test = pd.read_csv('./Titanic/test.csv')"
   ],
   "metadata": {
    "collapsed": false
   }
  },
  {
   "cell_type": "markdown",
   "source": [
    "### Feature Engineering: Feature Transformation"
   ],
   "metadata": {
    "collapsed": false
   }
  },
  {
   "cell_type": "markdown",
   "source": [
    "### 1. 합치기"
   ],
   "metadata": {
    "collapsed": false
   }
  },
  {
   "cell_type": "code",
   "execution_count": 144,
   "outputs": [],
   "source": [
    "ntrain = train.shape[0]\n",
    "ntest = test.shape[0]\n",
    "df = pd.concat((train, test))"
   ],
   "metadata": {
    "collapsed": false
   }
  },
  {
   "cell_type": "code",
   "execution_count": 145,
   "outputs": [
    {
     "data": {
      "text/plain": "418"
     },
     "execution_count": 145,
     "metadata": {},
     "output_type": "execute_result"
    }
   ],
   "source": [
    "ntest"
   ],
   "metadata": {
    "collapsed": false
   }
  },
  {
   "cell_type": "code",
   "execution_count": 146,
   "outputs": [
    {
     "data": {
      "text/plain": "   PassengerId  Survived  Pclass  \\\n0            1       0.0       3   \n1            2       1.0       1   \n2            3       1.0       3   \n3            4       1.0       1   \n4            5       0.0       3   \n\n                                                Name     Sex   Age  SibSp  \\\n0                            Braund, Mr. Owen Harris    male  22.0      1   \n1  Cumings, Mrs. John Bradley (Florence Briggs Th...  female  38.0      1   \n2                             Heikkinen, Miss. Laina  female  26.0      0   \n3       Futrelle, Mrs. Jacques Heath (Lily May Peel)  female  35.0      1   \n4                           Allen, Mr. William Henry    male  35.0      0   \n\n   Parch            Ticket     Fare Cabin Embarked  \n0      0         A/5 21171   7.2500   NaN        S  \n1      0          PC 17599  71.2833   C85        C  \n2      0  STON/O2. 3101282   7.9250   NaN        S  \n3      0            113803  53.1000  C123        S  \n4      0            373450   8.0500   NaN        S  ",
      "text/html": "<div>\n<style scoped>\n    .dataframe tbody tr th:only-of-type {\n        vertical-align: middle;\n    }\n\n    .dataframe tbody tr th {\n        vertical-align: top;\n    }\n\n    .dataframe thead th {\n        text-align: right;\n    }\n</style>\n<table border=\"1\" class=\"dataframe\">\n  <thead>\n    <tr style=\"text-align: right;\">\n      <th></th>\n      <th>PassengerId</th>\n      <th>Survived</th>\n      <th>Pclass</th>\n      <th>Name</th>\n      <th>Sex</th>\n      <th>Age</th>\n      <th>SibSp</th>\n      <th>Parch</th>\n      <th>Ticket</th>\n      <th>Fare</th>\n      <th>Cabin</th>\n      <th>Embarked</th>\n    </tr>\n  </thead>\n  <tbody>\n    <tr>\n      <th>0</th>\n      <td>1</td>\n      <td>0.0</td>\n      <td>3</td>\n      <td>Braund, Mr. Owen Harris</td>\n      <td>male</td>\n      <td>22.0</td>\n      <td>1</td>\n      <td>0</td>\n      <td>A/5 21171</td>\n      <td>7.2500</td>\n      <td>NaN</td>\n      <td>S</td>\n    </tr>\n    <tr>\n      <th>1</th>\n      <td>2</td>\n      <td>1.0</td>\n      <td>1</td>\n      <td>Cumings, Mrs. John Bradley (Florence Briggs Th...</td>\n      <td>female</td>\n      <td>38.0</td>\n      <td>1</td>\n      <td>0</td>\n      <td>PC 17599</td>\n      <td>71.2833</td>\n      <td>C85</td>\n      <td>C</td>\n    </tr>\n    <tr>\n      <th>2</th>\n      <td>3</td>\n      <td>1.0</td>\n      <td>3</td>\n      <td>Heikkinen, Miss. Laina</td>\n      <td>female</td>\n      <td>26.0</td>\n      <td>0</td>\n      <td>0</td>\n      <td>STON/O2. 3101282</td>\n      <td>7.9250</td>\n      <td>NaN</td>\n      <td>S</td>\n    </tr>\n    <tr>\n      <th>3</th>\n      <td>4</td>\n      <td>1.0</td>\n      <td>1</td>\n      <td>Futrelle, Mrs. Jacques Heath (Lily May Peel)</td>\n      <td>female</td>\n      <td>35.0</td>\n      <td>1</td>\n      <td>0</td>\n      <td>113803</td>\n      <td>53.1000</td>\n      <td>C123</td>\n      <td>S</td>\n    </tr>\n    <tr>\n      <th>4</th>\n      <td>5</td>\n      <td>0.0</td>\n      <td>3</td>\n      <td>Allen, Mr. William Henry</td>\n      <td>male</td>\n      <td>35.0</td>\n      <td>0</td>\n      <td>0</td>\n      <td>373450</td>\n      <td>8.0500</td>\n      <td>NaN</td>\n      <td>S</td>\n    </tr>\n  </tbody>\n</table>\n</div>"
     },
     "execution_count": 146,
     "metadata": {},
     "output_type": "execute_result"
    }
   ],
   "source": [
    "df.head()"
   ],
   "metadata": {
    "collapsed": false
   }
  },
  {
   "cell_type": "code",
   "execution_count": 147,
   "outputs": [
    {
     "data": {
      "text/plain": "(1309, 12)"
     },
     "execution_count": 147,
     "metadata": {},
     "output_type": "execute_result"
    }
   ],
   "source": [
    "df.shape"
   ],
   "metadata": {
    "collapsed": false
   }
  },
  {
   "cell_type": "markdown",
   "source": [
    "### 2. Sex 숫자 변환"
   ],
   "metadata": {
    "collapsed": false
   }
  },
  {
   "cell_type": "code",
   "execution_count": 148,
   "outputs": [
    {
     "data": {
      "text/plain": "0"
     },
     "execution_count": 148,
     "metadata": {},
     "output_type": "execute_result"
    }
   ],
   "source": [
    "df['Sex'].isnull().sum()"
   ],
   "metadata": {
    "collapsed": false
   }
  },
  {
   "cell_type": "code",
   "execution_count": 149,
   "outputs": [],
   "source": [
    "gender = {\"male\": 0, \"female\": 1}\n",
    "df['Sex'] = df['Sex'].map(gender)"
   ],
   "metadata": {
    "collapsed": false
   }
  },
  {
   "cell_type": "markdown",
   "source": [
    "### 3. Pclass 는 변경할 필요 없음\n",
    "- Pclass 값이 1, 2, 3"
   ],
   "metadata": {
    "collapsed": false
   }
  },
  {
   "cell_type": "markdown",
   "source": [
    "### 4. Embarked 정보를 숫자로 바꾸기"
   ],
   "metadata": {
    "collapsed": false
   }
  },
  {
   "cell_type": "code",
   "execution_count": 150,
   "outputs": [
    {
     "data": {
      "text/plain": "2"
     },
     "execution_count": 150,
     "metadata": {},
     "output_type": "execute_result"
    }
   ],
   "source": [
    "df['Embarked'].isnull().sum()"
   ],
   "metadata": {
    "collapsed": false
   }
  },
  {
   "cell_type": "code",
   "execution_count": 151,
   "outputs": [
    {
     "data": {
      "text/plain": "S    914\nC    270\nQ    123\nName: Embarked, dtype: int64"
     },
     "execution_count": 151,
     "metadata": {},
     "output_type": "execute_result"
    }
   ],
   "source": [
    "df['Embarked'].value_counts()"
   ],
   "metadata": {
    "collapsed": false
   }
  },
  {
   "cell_type": "code",
   "execution_count": 152,
   "outputs": [],
   "source": [
    "df.loc[(df['Embarked'].isnull()),'Embarked'] = 'S'"
   ],
   "metadata": {
    "collapsed": false
   }
  },
  {
   "cell_type": "code",
   "execution_count": 153,
   "outputs": [
    {
     "data": {
      "text/plain": "S    916\nC    270\nQ    123\nName: Embarked, dtype: int64"
     },
     "execution_count": 153,
     "metadata": {},
     "output_type": "execute_result"
    }
   ],
   "source": [
    "df['Embarked'].value_counts()"
   ],
   "metadata": {
    "collapsed": false
   }
  },
  {
   "cell_type": "code",
   "execution_count": 154,
   "outputs": [],
   "source": [
    "df_temp1 = df.copy()\n",
    "embarked = {'S': 0, \"C\": 1, \"Q\": 2}\n",
    "df_temp1['Embarked'] = df_temp1['Embarked'].map(embarked)\n",
    "df['Embarked'] = df['Embarked'].map(embarked)"
   ],
   "metadata": {
    "collapsed": false
   }
  },
  {
   "cell_type": "code",
   "execution_count": 155,
   "outputs": [
    {
     "data": {
      "text/plain": "   PassengerId  Survived  Pclass  \\\n0            1       0.0       3   \n1            2       1.0       1   \n2            3       1.0       3   \n3            4       1.0       1   \n4            5       0.0       3   \n\n                                                Name  Sex   Age  SibSp  Parch  \\\n0                            Braund, Mr. Owen Harris    0  22.0      1      0   \n1  Cumings, Mrs. John Bradley (Florence Briggs Th...    1  38.0      1      0   \n2                             Heikkinen, Miss. Laina    1  26.0      0      0   \n3       Futrelle, Mrs. Jacques Heath (Lily May Peel)    1  35.0      1      0   \n4                           Allen, Mr. William Henry    0  35.0      0      0   \n\n             Ticket     Fare Cabin  Embarked  \n0         A/5 21171   7.2500   NaN         0  \n1          PC 17599  71.2833   C85         1  \n2  STON/O2. 3101282   7.9250   NaN         0  \n3            113803  53.1000  C123         0  \n4            373450   8.0500   NaN         0  ",
      "text/html": "<div>\n<style scoped>\n    .dataframe tbody tr th:only-of-type {\n        vertical-align: middle;\n    }\n\n    .dataframe tbody tr th {\n        vertical-align: top;\n    }\n\n    .dataframe thead th {\n        text-align: right;\n    }\n</style>\n<table border=\"1\" class=\"dataframe\">\n  <thead>\n    <tr style=\"text-align: right;\">\n      <th></th>\n      <th>PassengerId</th>\n      <th>Survived</th>\n      <th>Pclass</th>\n      <th>Name</th>\n      <th>Sex</th>\n      <th>Age</th>\n      <th>SibSp</th>\n      <th>Parch</th>\n      <th>Ticket</th>\n      <th>Fare</th>\n      <th>Cabin</th>\n      <th>Embarked</th>\n    </tr>\n  </thead>\n  <tbody>\n    <tr>\n      <th>0</th>\n      <td>1</td>\n      <td>0.0</td>\n      <td>3</td>\n      <td>Braund, Mr. Owen Harris</td>\n      <td>0</td>\n      <td>22.0</td>\n      <td>1</td>\n      <td>0</td>\n      <td>A/5 21171</td>\n      <td>7.2500</td>\n      <td>NaN</td>\n      <td>0</td>\n    </tr>\n    <tr>\n      <th>1</th>\n      <td>2</td>\n      <td>1.0</td>\n      <td>1</td>\n      <td>Cumings, Mrs. John Bradley (Florence Briggs Th...</td>\n      <td>1</td>\n      <td>38.0</td>\n      <td>1</td>\n      <td>0</td>\n      <td>PC 17599</td>\n      <td>71.2833</td>\n      <td>C85</td>\n      <td>1</td>\n    </tr>\n    <tr>\n      <th>2</th>\n      <td>3</td>\n      <td>1.0</td>\n      <td>3</td>\n      <td>Heikkinen, Miss. Laina</td>\n      <td>1</td>\n      <td>26.0</td>\n      <td>0</td>\n      <td>0</td>\n      <td>STON/O2. 3101282</td>\n      <td>7.9250</td>\n      <td>NaN</td>\n      <td>0</td>\n    </tr>\n    <tr>\n      <th>3</th>\n      <td>4</td>\n      <td>1.0</td>\n      <td>1</td>\n      <td>Futrelle, Mrs. Jacques Heath (Lily May Peel)</td>\n      <td>1</td>\n      <td>35.0</td>\n      <td>1</td>\n      <td>0</td>\n      <td>113803</td>\n      <td>53.1000</td>\n      <td>C123</td>\n      <td>0</td>\n    </tr>\n    <tr>\n      <th>4</th>\n      <td>5</td>\n      <td>0.0</td>\n      <td>3</td>\n      <td>Allen, Mr. William Henry</td>\n      <td>0</td>\n      <td>35.0</td>\n      <td>0</td>\n      <td>0</td>\n      <td>373450</td>\n      <td>8.0500</td>\n      <td>NaN</td>\n      <td>0</td>\n    </tr>\n  </tbody>\n</table>\n</div>"
     },
     "execution_count": 155,
     "metadata": {},
     "output_type": "execute_result"
    }
   ],
   "source": [
    "df.head()"
   ],
   "metadata": {
    "collapsed": false
   }
  },
  {
   "cell_type": "markdown",
   "source": [
    "### 참고: pandas.factorize( -> 결측치는 -1로 대체됨.\n",
    "- 데이터의 범주가 많아서, 일일이 각 데이터를 숫자로 기재해주기 어려운 경우에 사용"
   ],
   "metadata": {
    "collapsed": false
   }
  },
  {
   "cell_type": "code",
   "execution_count": 57,
   "outputs": [
    {
     "data": {
      "text/plain": "(array([0, 1, 0, ..., 0, 0, 1], dtype=int64),\n Index(['S', 'C', 'Q'], dtype='object'))"
     },
     "execution_count": 57,
     "metadata": {},
     "output_type": "execute_result"
    }
   ],
   "source": [
    "df_temp2 = df.copy()\n",
    "df_temp2['Embarked'].factorize()"
   ],
   "metadata": {
    "collapsed": false
   }
  },
  {
   "cell_type": "code",
   "execution_count": 58,
   "outputs": [
    {
     "data": {
      "text/plain": "array([0, 1, 0, ..., 0, 0, 1], dtype=int64)"
     },
     "execution_count": 58,
     "metadata": {},
     "output_type": "execute_result"
    }
   ],
   "source": [
    "df_temp2['Embarked'].factorize()[0]"
   ],
   "metadata": {
    "collapsed": false
   }
  },
  {
   "cell_type": "code",
   "execution_count": 59,
   "outputs": [
    {
     "data": {
      "text/plain": "0    916\n1    270\n2    123\nName: Embarked, dtype: int64"
     },
     "execution_count": 59,
     "metadata": {},
     "output_type": "execute_result"
    }
   ],
   "source": [
    "df_temp2['Embarked'] = df_temp2['Embarked'].factorize()[0]\n",
    "df_temp2['Embarked'].value_counts()"
   ],
   "metadata": {
    "collapsed": false
   }
  },
  {
   "cell_type": "markdown",
   "source": [
    "### 5. Name"
   ],
   "metadata": {
    "collapsed": false
   }
  },
  {
   "cell_type": "code",
   "execution_count": 156,
   "outputs": [
    {
     "data": {
      "text/plain": "Mr          757\nMiss        260\nMrs         197\nMaster       61\nRev           8\nDr            8\nCol           4\nMlle          2\nMajor         2\nMs            2\nLady          1\nSir           1\nMme           1\nDon           1\nCapt          1\nCountess      1\nJonkheer      1\nDona          1\nName: Initial, dtype: int64"
     },
     "execution_count": 156,
     "metadata": {},
     "output_type": "execute_result"
    }
   ],
   "source": [
    "df['Initial'] = df.Name.str.extract('([A-Za-z]+)\\.')\n",
    "df['Initial'].value_counts()"
   ],
   "metadata": {
    "collapsed": false
   }
  },
  {
   "cell_type": "markdown",
   "source": [
    "- Ms. 는 당시에는 귀족 미망인을 의미함\n",
    "- Mlle나 Mme등도 마드모아젤과 마담의 줄인말로, 귀족 여성을 의미함\n",
    "- Countess 는 백작 부인을 의미하므로, 귀족 여성을 의미함\n",
    "- Lady 도 귀족 부인을 의미함"
   ],
   "metadata": {
    "collapsed": false
   }
  },
  {
   "cell_type": "code",
   "execution_count": 157,
   "outputs": [],
   "source": [
    "title_mapping = {'Mr': 0, 'Miss': 1, 'Mrs': 2, 'Master': 3, 'Lady': 4, 'Don': 5, 'Rev': 6, 'Dr': 7,\n",
    "                 'Major': 8, 'Sir': 9, 'Col': 10,  'Capt': 11, 'Jonkheer': 12}\n",
    "df['Initial'] = df['Initial'].map(title_mapping)"
   ],
   "metadata": {
    "collapsed": false
   }
  },
  {
   "cell_type": "code",
   "execution_count": 158,
   "outputs": [
    {
     "data": {
      "text/plain": "     PassengerId  Survived  Pclass                                Name  Sex  \\\n7              8       0.0       3      Palsson, Master. Gosta Leonard    0   \n16            17       0.0       3                Rice, Master. Eugene    0   \n50            51       0.0       3          Panula, Master. Juha Niilo    0   \n59            60       0.0       3  Goodwin, Master. William Frederick    0   \n63            64       0.0       3               Skoog, Master. Harald    0   \n..           ...       ...     ...                                 ...  ...   \n360         1252       NaN       3         Sage, Master. William Henry    0   \n379         1271       NaN       3         Asplund, Master. Carl Edgar    0   \n389         1281       NaN       3         Palsson, Master. Paul Folke    0   \n392         1284       NaN       3       Abbott, Master. Eugene Joseph    0   \n417         1309       NaN       3            Peter, Master. Michael J    0   \n\n      Age  SibSp  Parch     Ticket     Fare Cabin  Embarked  Initial  \n7     2.0      3      1     349909  21.0750   NaN         0      3.0  \n16    2.0      4      1     382652  29.1250   NaN         2      3.0  \n50    7.0      4      1    3101295  39.6875   NaN         0      3.0  \n59   11.0      5      2    CA 2144  46.9000   NaN         0      3.0  \n63    4.0      3      2     347088  27.9000   NaN         0      3.0  \n..    ...    ...    ...        ...      ...   ...       ...      ...  \n360  14.5      8      2   CA. 2343  69.5500   NaN         0      3.0  \n379   5.0      4      2     347077  31.3875   NaN         0      3.0  \n389   6.0      3      1     349909  21.0750   NaN         0      3.0  \n392  13.0      0      2  C.A. 2673  20.2500   NaN         0      3.0  \n417   NaN      1      1       2668  22.3583   NaN         1      3.0  \n\n[61 rows x 13 columns]",
      "text/html": "<div>\n<style scoped>\n    .dataframe tbody tr th:only-of-type {\n        vertical-align: middle;\n    }\n\n    .dataframe tbody tr th {\n        vertical-align: top;\n    }\n\n    .dataframe thead th {\n        text-align: right;\n    }\n</style>\n<table border=\"1\" class=\"dataframe\">\n  <thead>\n    <tr style=\"text-align: right;\">\n      <th></th>\n      <th>PassengerId</th>\n      <th>Survived</th>\n      <th>Pclass</th>\n      <th>Name</th>\n      <th>Sex</th>\n      <th>Age</th>\n      <th>SibSp</th>\n      <th>Parch</th>\n      <th>Ticket</th>\n      <th>Fare</th>\n      <th>Cabin</th>\n      <th>Embarked</th>\n      <th>Initial</th>\n    </tr>\n  </thead>\n  <tbody>\n    <tr>\n      <th>7</th>\n      <td>8</td>\n      <td>0.0</td>\n      <td>3</td>\n      <td>Palsson, Master. Gosta Leonard</td>\n      <td>0</td>\n      <td>2.0</td>\n      <td>3</td>\n      <td>1</td>\n      <td>349909</td>\n      <td>21.0750</td>\n      <td>NaN</td>\n      <td>0</td>\n      <td>3.0</td>\n    </tr>\n    <tr>\n      <th>16</th>\n      <td>17</td>\n      <td>0.0</td>\n      <td>3</td>\n      <td>Rice, Master. Eugene</td>\n      <td>0</td>\n      <td>2.0</td>\n      <td>4</td>\n      <td>1</td>\n      <td>382652</td>\n      <td>29.1250</td>\n      <td>NaN</td>\n      <td>2</td>\n      <td>3.0</td>\n    </tr>\n    <tr>\n      <th>50</th>\n      <td>51</td>\n      <td>0.0</td>\n      <td>3</td>\n      <td>Panula, Master. Juha Niilo</td>\n      <td>0</td>\n      <td>7.0</td>\n      <td>4</td>\n      <td>1</td>\n      <td>3101295</td>\n      <td>39.6875</td>\n      <td>NaN</td>\n      <td>0</td>\n      <td>3.0</td>\n    </tr>\n    <tr>\n      <th>59</th>\n      <td>60</td>\n      <td>0.0</td>\n      <td>3</td>\n      <td>Goodwin, Master. William Frederick</td>\n      <td>0</td>\n      <td>11.0</td>\n      <td>5</td>\n      <td>2</td>\n      <td>CA 2144</td>\n      <td>46.9000</td>\n      <td>NaN</td>\n      <td>0</td>\n      <td>3.0</td>\n    </tr>\n    <tr>\n      <th>63</th>\n      <td>64</td>\n      <td>0.0</td>\n      <td>3</td>\n      <td>Skoog, Master. Harald</td>\n      <td>0</td>\n      <td>4.0</td>\n      <td>3</td>\n      <td>2</td>\n      <td>347088</td>\n      <td>27.9000</td>\n      <td>NaN</td>\n      <td>0</td>\n      <td>3.0</td>\n    </tr>\n    <tr>\n      <th>...</th>\n      <td>...</td>\n      <td>...</td>\n      <td>...</td>\n      <td>...</td>\n      <td>...</td>\n      <td>...</td>\n      <td>...</td>\n      <td>...</td>\n      <td>...</td>\n      <td>...</td>\n      <td>...</td>\n      <td>...</td>\n      <td>...</td>\n    </tr>\n    <tr>\n      <th>360</th>\n      <td>1252</td>\n      <td>NaN</td>\n      <td>3</td>\n      <td>Sage, Master. William Henry</td>\n      <td>0</td>\n      <td>14.5</td>\n      <td>8</td>\n      <td>2</td>\n      <td>CA. 2343</td>\n      <td>69.5500</td>\n      <td>NaN</td>\n      <td>0</td>\n      <td>3.0</td>\n    </tr>\n    <tr>\n      <th>379</th>\n      <td>1271</td>\n      <td>NaN</td>\n      <td>3</td>\n      <td>Asplund, Master. Carl Edgar</td>\n      <td>0</td>\n      <td>5.0</td>\n      <td>4</td>\n      <td>2</td>\n      <td>347077</td>\n      <td>31.3875</td>\n      <td>NaN</td>\n      <td>0</td>\n      <td>3.0</td>\n    </tr>\n    <tr>\n      <th>389</th>\n      <td>1281</td>\n      <td>NaN</td>\n      <td>3</td>\n      <td>Palsson, Master. Paul Folke</td>\n      <td>0</td>\n      <td>6.0</td>\n      <td>3</td>\n      <td>1</td>\n      <td>349909</td>\n      <td>21.0750</td>\n      <td>NaN</td>\n      <td>0</td>\n      <td>3.0</td>\n    </tr>\n    <tr>\n      <th>392</th>\n      <td>1284</td>\n      <td>NaN</td>\n      <td>3</td>\n      <td>Abbott, Master. Eugene Joseph</td>\n      <td>0</td>\n      <td>13.0</td>\n      <td>0</td>\n      <td>2</td>\n      <td>C.A. 2673</td>\n      <td>20.2500</td>\n      <td>NaN</td>\n      <td>0</td>\n      <td>3.0</td>\n    </tr>\n    <tr>\n      <th>417</th>\n      <td>1309</td>\n      <td>NaN</td>\n      <td>3</td>\n      <td>Peter, Master. Michael J</td>\n      <td>0</td>\n      <td>NaN</td>\n      <td>1</td>\n      <td>1</td>\n      <td>2668</td>\n      <td>22.3583</td>\n      <td>NaN</td>\n      <td>1</td>\n      <td>3.0</td>\n    </tr>\n  </tbody>\n</table>\n<p>61 rows × 13 columns</p>\n</div>"
     },
     "execution_count": 158,
     "metadata": {},
     "output_type": "execute_result"
    }
   ],
   "source": [
    "df.loc[df['Initial'] == 3]"
   ],
   "metadata": {
    "collapsed": false
   }
  },
  {
   "cell_type": "code",
   "execution_count": 159,
   "outputs": [
    {
     "data": {
      "text/plain": "   PassengerId  Survived  Pclass  Sex   Age  SibSp  Parch            Ticket  \\\n0            1       0.0       3    0  22.0      1      0         A/5 21171   \n1            2       1.0       1    1  38.0      1      0          PC 17599   \n2            3       1.0       3    1  26.0      0      0  STON/O2. 3101282   \n3            4       1.0       1    1  35.0      1      0            113803   \n4            5       0.0       3    0  35.0      0      0            373450   \n\n      Fare Cabin  Embarked  Initial  \n0   7.2500   NaN         0      0.0  \n1  71.2833   C85         1      2.0  \n2   7.9250   NaN         0      1.0  \n3  53.1000  C123         0      2.0  \n4   8.0500   NaN         0      0.0  ",
      "text/html": "<div>\n<style scoped>\n    .dataframe tbody tr th:only-of-type {\n        vertical-align: middle;\n    }\n\n    .dataframe tbody tr th {\n        vertical-align: top;\n    }\n\n    .dataframe thead th {\n        text-align: right;\n    }\n</style>\n<table border=\"1\" class=\"dataframe\">\n  <thead>\n    <tr style=\"text-align: right;\">\n      <th></th>\n      <th>PassengerId</th>\n      <th>Survived</th>\n      <th>Pclass</th>\n      <th>Sex</th>\n      <th>Age</th>\n      <th>SibSp</th>\n      <th>Parch</th>\n      <th>Ticket</th>\n      <th>Fare</th>\n      <th>Cabin</th>\n      <th>Embarked</th>\n      <th>Initial</th>\n    </tr>\n  </thead>\n  <tbody>\n    <tr>\n      <th>0</th>\n      <td>1</td>\n      <td>0.0</td>\n      <td>3</td>\n      <td>0</td>\n      <td>22.0</td>\n      <td>1</td>\n      <td>0</td>\n      <td>A/5 21171</td>\n      <td>7.2500</td>\n      <td>NaN</td>\n      <td>0</td>\n      <td>0.0</td>\n    </tr>\n    <tr>\n      <th>1</th>\n      <td>2</td>\n      <td>1.0</td>\n      <td>1</td>\n      <td>1</td>\n      <td>38.0</td>\n      <td>1</td>\n      <td>0</td>\n      <td>PC 17599</td>\n      <td>71.2833</td>\n      <td>C85</td>\n      <td>1</td>\n      <td>2.0</td>\n    </tr>\n    <tr>\n      <th>2</th>\n      <td>3</td>\n      <td>1.0</td>\n      <td>3</td>\n      <td>1</td>\n      <td>26.0</td>\n      <td>0</td>\n      <td>0</td>\n      <td>STON/O2. 3101282</td>\n      <td>7.9250</td>\n      <td>NaN</td>\n      <td>0</td>\n      <td>1.0</td>\n    </tr>\n    <tr>\n      <th>3</th>\n      <td>4</td>\n      <td>1.0</td>\n      <td>1</td>\n      <td>1</td>\n      <td>35.0</td>\n      <td>1</td>\n      <td>0</td>\n      <td>113803</td>\n      <td>53.1000</td>\n      <td>C123</td>\n      <td>0</td>\n      <td>2.0</td>\n    </tr>\n    <tr>\n      <th>4</th>\n      <td>5</td>\n      <td>0.0</td>\n      <td>3</td>\n      <td>0</td>\n      <td>35.0</td>\n      <td>0</td>\n      <td>0</td>\n      <td>373450</td>\n      <td>8.0500</td>\n      <td>NaN</td>\n      <td>0</td>\n      <td>0.0</td>\n    </tr>\n  </tbody>\n</table>\n</div>"
     },
     "execution_count": 159,
     "metadata": {},
     "output_type": "execute_result"
    }
   ],
   "source": [
    "drop_features = ['Name']\n",
    "df.drop(drop_features, axis=1, inplace=True)\n",
    "df.head()"
   ],
   "metadata": {
    "collapsed": false
   }
  },
  {
   "cell_type": "markdown",
   "source": [
    "### 6. Age\n",
    "- 결측치 보완\n",
    "- 범위별 숫자 변환"
   ],
   "metadata": {
    "collapsed": false
   }
  },
  {
   "cell_type": "code",
   "execution_count": 160,
   "outputs": [
    {
     "data": {
      "text/plain": "263"
     },
     "execution_count": 160,
     "metadata": {},
     "output_type": "execute_result"
    }
   ],
   "source": [
    "df['Age'].isnull().sum()"
   ],
   "metadata": {
    "collapsed": false
   }
  },
  {
   "cell_type": "code",
   "execution_count": 161,
   "outputs": [
    {
     "data": {
      "text/plain": "               Age             \n              mean median count\nInitial                        \n0.0      32.252151   29.0   581\n1.0      21.774238   22.0   210\n2.0      36.994118   35.5   170\n3.0       5.482642    4.0    53\n4.0      48.000000   48.0     1\n5.0      40.000000   40.0     1\n6.0      41.250000   41.5     8\n7.0      43.571429   49.0     7\n8.0      48.500000   48.5     2\n9.0      49.000000   49.0     1\n10.0     54.000000   54.5     4\n11.0     70.000000   70.0     1\n12.0     38.000000   38.0     1",
      "text/html": "<div>\n<style scoped>\n    .dataframe tbody tr th:only-of-type {\n        vertical-align: middle;\n    }\n\n    .dataframe tbody tr th {\n        vertical-align: top;\n    }\n\n    .dataframe thead tr th {\n        text-align: left;\n    }\n\n    .dataframe thead tr:last-of-type th {\n        text-align: right;\n    }\n</style>\n<table border=\"1\" class=\"dataframe\">\n  <thead>\n    <tr>\n      <th></th>\n      <th colspan=\"3\" halign=\"left\">Age</th>\n    </tr>\n    <tr>\n      <th></th>\n      <th>mean</th>\n      <th>median</th>\n      <th>count</th>\n    </tr>\n    <tr>\n      <th>Initial</th>\n      <th></th>\n      <th></th>\n      <th></th>\n    </tr>\n  </thead>\n  <tbody>\n    <tr>\n      <th>0.0</th>\n      <td>32.252151</td>\n      <td>29.0</td>\n      <td>581</td>\n    </tr>\n    <tr>\n      <th>1.0</th>\n      <td>21.774238</td>\n      <td>22.0</td>\n      <td>210</td>\n    </tr>\n    <tr>\n      <th>2.0</th>\n      <td>36.994118</td>\n      <td>35.5</td>\n      <td>170</td>\n    </tr>\n    <tr>\n      <th>3.0</th>\n      <td>5.482642</td>\n      <td>4.0</td>\n      <td>53</td>\n    </tr>\n    <tr>\n      <th>4.0</th>\n      <td>48.000000</td>\n      <td>48.0</td>\n      <td>1</td>\n    </tr>\n    <tr>\n      <th>5.0</th>\n      <td>40.000000</td>\n      <td>40.0</td>\n      <td>1</td>\n    </tr>\n    <tr>\n      <th>6.0</th>\n      <td>41.250000</td>\n      <td>41.5</td>\n      <td>8</td>\n    </tr>\n    <tr>\n      <th>7.0</th>\n      <td>43.571429</td>\n      <td>49.0</td>\n      <td>7</td>\n    </tr>\n    <tr>\n      <th>8.0</th>\n      <td>48.500000</td>\n      <td>48.5</td>\n      <td>2</td>\n    </tr>\n    <tr>\n      <th>9.0</th>\n      <td>49.000000</td>\n      <td>49.0</td>\n      <td>1</td>\n    </tr>\n    <tr>\n      <th>10.0</th>\n      <td>54.000000</td>\n      <td>54.5</td>\n      <td>4</td>\n    </tr>\n    <tr>\n      <th>11.0</th>\n      <td>70.000000</td>\n      <td>70.0</td>\n      <td>1</td>\n    </tr>\n    <tr>\n      <th>12.0</th>\n      <td>38.000000</td>\n      <td>38.0</td>\n      <td>1</td>\n    </tr>\n  </tbody>\n</table>\n</div>"
     },
     "execution_count": 161,
     "metadata": {},
     "output_type": "execute_result"
    }
   ],
   "source": [
    "df.groupby('Initial').agg({'Age' : ['mean', 'median', 'count']})"
   ],
   "metadata": {
    "collapsed": false
   }
  },
  {
   "cell_type": "code",
   "execution_count": 162,
   "outputs": [
    {
     "data": {
      "text/plain": "   PassengerId  Survived  Pclass  Sex   Age  SibSp  Parch            Ticket  \\\n0            1       0.0       3    0  22.0      1      0         A/5 21171   \n1            2       1.0       1    1  38.0      1      0          PC 17599   \n2            3       1.0       3    1  26.0      0      0  STON/O2. 3101282   \n3            4       1.0       1    1  35.0      1      0            113803   \n4            5       0.0       3    0  35.0      0      0            373450   \n\n      Fare Cabin  Embarked  Initial  \n0   7.2500   NaN         0      0.0  \n1  71.2833   C85         1      2.0  \n2   7.9250   NaN         0      1.0  \n3  53.1000  C123         0      2.0  \n4   8.0500   NaN         0      0.0  ",
      "text/html": "<div>\n<style scoped>\n    .dataframe tbody tr th:only-of-type {\n        vertical-align: middle;\n    }\n\n    .dataframe tbody tr th {\n        vertical-align: top;\n    }\n\n    .dataframe thead th {\n        text-align: right;\n    }\n</style>\n<table border=\"1\" class=\"dataframe\">\n  <thead>\n    <tr style=\"text-align: right;\">\n      <th></th>\n      <th>PassengerId</th>\n      <th>Survived</th>\n      <th>Pclass</th>\n      <th>Sex</th>\n      <th>Age</th>\n      <th>SibSp</th>\n      <th>Parch</th>\n      <th>Ticket</th>\n      <th>Fare</th>\n      <th>Cabin</th>\n      <th>Embarked</th>\n      <th>Initial</th>\n    </tr>\n  </thead>\n  <tbody>\n    <tr>\n      <th>0</th>\n      <td>1</td>\n      <td>0.0</td>\n      <td>3</td>\n      <td>0</td>\n      <td>22.0</td>\n      <td>1</td>\n      <td>0</td>\n      <td>A/5 21171</td>\n      <td>7.2500</td>\n      <td>NaN</td>\n      <td>0</td>\n      <td>0.0</td>\n    </tr>\n    <tr>\n      <th>1</th>\n      <td>2</td>\n      <td>1.0</td>\n      <td>1</td>\n      <td>1</td>\n      <td>38.0</td>\n      <td>1</td>\n      <td>0</td>\n      <td>PC 17599</td>\n      <td>71.2833</td>\n      <td>C85</td>\n      <td>1</td>\n      <td>2.0</td>\n    </tr>\n    <tr>\n      <th>2</th>\n      <td>3</td>\n      <td>1.0</td>\n      <td>3</td>\n      <td>1</td>\n      <td>26.0</td>\n      <td>0</td>\n      <td>0</td>\n      <td>STON/O2. 3101282</td>\n      <td>7.9250</td>\n      <td>NaN</td>\n      <td>0</td>\n      <td>1.0</td>\n    </tr>\n    <tr>\n      <th>3</th>\n      <td>4</td>\n      <td>1.0</td>\n      <td>1</td>\n      <td>1</td>\n      <td>35.0</td>\n      <td>1</td>\n      <td>0</td>\n      <td>113803</td>\n      <td>53.1000</td>\n      <td>C123</td>\n      <td>0</td>\n      <td>2.0</td>\n    </tr>\n    <tr>\n      <th>4</th>\n      <td>5</td>\n      <td>0.0</td>\n      <td>3</td>\n      <td>0</td>\n      <td>35.0</td>\n      <td>0</td>\n      <td>0</td>\n      <td>373450</td>\n      <td>8.0500</td>\n      <td>NaN</td>\n      <td>0</td>\n      <td>0.0</td>\n    </tr>\n  </tbody>\n</table>\n</div>"
     },
     "execution_count": 162,
     "metadata": {},
     "output_type": "execute_result"
    }
   ],
   "source": [
    "df['Age'].fillna(df.groupby(\"Initial\")[\"Age\"].transform(\"median\"), inplace=True)\n",
    "df.head()"
   ],
   "metadata": {
    "collapsed": false
   }
  },
  {
   "cell_type": "code",
   "execution_count": 163,
   "outputs": [
    {
     "data": {
      "application/vnd.plotly.v1+json": {
       "data": [
        {
         "alignmentgroup": "True",
         "box": {
          "visible": false
         },
         "hovertemplate": "Survived=0.0<br>Age=%{y}<extra></extra>",
         "legendgroup": "0.0",
         "marker": {
          "color": "#636efa"
         },
         "name": "0.0",
         "offsetgroup": "0.0",
         "orientation": "v",
         "scalegroup": "True",
         "showlegend": true,
         "x0": " ",
         "xaxis": "x",
         "y": [
          22.0,
          35.0,
          29.0,
          54.0,
          2.0,
          20.0,
          39.0,
          14.0,
          2.0,
          31.0,
          35.0,
          8.0,
          29.0,
          19.0,
          29.0,
          40.0,
          66.0,
          28.0,
          42.0,
          21.0,
          18.0,
          40.0,
          27.0,
          29.0,
          29.0,
          29.0,
          29.0,
          18.0,
          7.0,
          21.0,
          65.0,
          28.5,
          11.0,
          22.0,
          45.0,
          4.0,
          29.0,
          19.0,
          26.0,
          32.0,
          16.0,
          21.0,
          26.0,
          25.0,
          29.0,
          29.0,
          22.0,
          28.0,
          16.0,
          29.0,
          24.0,
          29.0,
          20.0,
          46.0,
          26.0,
          59.0,
          29.0,
          71.0,
          34.0,
          28.0,
          29.0,
          21.0,
          33.0,
          37.0,
          28.0,
          38.0,
          47.0,
          14.5,
          22.0,
          20.0,
          17.0,
          21.0,
          70.5,
          29.0,
          24.0,
          2.0,
          21.0,
          29.0,
          32.5,
          54.0,
          29.0,
          45.0,
          33.0,
          20.0,
          47.0,
          25.0,
          23.0,
          37.0,
          16.0,
          24.0,
          35.5,
          19.0,
          18.0,
          19.0,
          9.0,
          36.5,
          42.0,
          51.0,
          55.5,
          40.5,
          29.0,
          51.0,
          30.0,
          29.0,
          4.0,
          44.0,
          26.0,
          17.0,
          1.0,
          45.0,
          29.0,
          28.0,
          61.0,
          4.0,
          21.0,
          56.0,
          18.0,
          4.0,
          50.0,
          30.0,
          36.0,
          22.0,
          29.0,
          9.0,
          29.0,
          40.0,
          36.0,
          19.0,
          29.0,
          42.0,
          24.0,
          28.0,
          29.0,
          34.0,
          45.5,
          2.0,
          32.0,
          24.0,
          22.0,
          30.0,
          29.0,
          42.0,
          30.0,
          27.0,
          51.0,
          29.0,
          22.0,
          20.5,
          18.0,
          22.0,
          29.0,
          59.0,
          24.0,
          22.0,
          44.0,
          19.0,
          33.0,
          22.0,
          29.0,
          22.0,
          30.0,
          44.0,
          25.0,
          54.0,
          29.0,
          29.0,
          62.0,
          30.0,
          41.0,
          29.0,
          52.0,
          40.0,
          22.0,
          36.0,
          16.0,
          29.0,
          37.0,
          45.0,
          29.0,
          7.0,
          65.0,
          28.0,
          16.0,
          29.0,
          33.0,
          22.0,
          36.0,
          24.0,
          24.0,
          29.0,
          23.5,
          2.0,
          19.0,
          29.0,
          30.0,
          26.0,
          28.0,
          43.0,
          54.0,
          22.0,
          27.0,
          29.0,
          61.0,
          45.5,
          38.0,
          16.0,
          29.0,
          29.0,
          45.0,
          28.0,
          25.0,
          36.0,
          42.0,
          23.0,
          29.0,
          15.0,
          25.0,
          29.0,
          28.0,
          38.0,
          40.0,
          29.0,
          45.0,
          35.0,
          29.0,
          30.0,
          18.0,
          19.0,
          22.0,
          3.0,
          27.0,
          20.0,
          19.0,
          32.0,
          29.0,
          18.0,
          1.0,
          29.0,
          28.0,
          22.0,
          31.0,
          46.0,
          23.0,
          26.0,
          21.0,
          28.0,
          20.0,
          34.0,
          51.0,
          21.0,
          22.0,
          29.0,
          29.0,
          29.0,
          35.5,
          30.0,
          10.0,
          29.0,
          21.0,
          29.0,
          28.0,
          18.0,
          29.0,
          29.0,
          17.0,
          50.0,
          21.0,
          64.0,
          31.0,
          20.0,
          25.0,
          36.0,
          29.0,
          30.0,
          29.0,
          65.0,
          29.0,
          34.0,
          47.0,
          48.0,
          29.0,
          38.0,
          29.0,
          56.0,
          29.0,
          29.0,
          38.0,
          22.0,
          29.0,
          34.0,
          29.0,
          22.0,
          9.0,
          29.0,
          50.0,
          22.0,
          58.0,
          30.0,
          29.0,
          21.0,
          55.0,
          71.0,
          21.0,
          29.0,
          29.0,
          25.0,
          24.0,
          17.0,
          21.0,
          22.0,
          37.0,
          18.0,
          28.0,
          29.0,
          24.0,
          47.0,
          29.0,
          32.0,
          22.0,
          29.0,
          29.0,
          40.5,
          29.0,
          39.0,
          23.0,
          29.0,
          17.0,
          30.0,
          45.0,
          29.0,
          9.0,
          11.0,
          50.0,
          64.0,
          33.0,
          27.0,
          29.0,
          62.0,
          29.0,
          29.0,
          40.0,
          28.0,
          29.0,
          22.0,
          24.0,
          19.0,
          29.0,
          29.0,
          16.0,
          19.0,
          35.5,
          54.0,
          36.0,
          29.0,
          47.0,
          22.0,
          29.0,
          35.0,
          47.0,
          22.0,
          37.0,
          36.0,
          49.0,
          29.0,
          29.0,
          29.0,
          44.0,
          36.0,
          30.0,
          39.0,
          29.0,
          29.0,
          35.0,
          34.0,
          26.0,
          26.0,
          27.0,
          21.0,
          21.0,
          61.0,
          57.0,
          26.0,
          29.0,
          51.0,
          29.0,
          9.0,
          32.0,
          31.0,
          41.0,
          29.0,
          20.0,
          2.0,
          19.0,
          29.0,
          29.0,
          21.0,
          18.0,
          24.0,
          29.0,
          32.0,
          23.0,
          58.0,
          40.0,
          47.0,
          36.0,
          32.0,
          25.0,
          29.0,
          43.0,
          31.0,
          70.0,
          29.0,
          18.0,
          24.5,
          43.0,
          22.0,
          20.0,
          14.0,
          60.0,
          25.0,
          14.0,
          19.0,
          18.0,
          25.0,
          60.0,
          52.0,
          44.0,
          49.0,
          42.0,
          18.0,
          25.0,
          26.0,
          39.0,
          29.0,
          29.0,
          52.0,
          19.0,
          29.0,
          33.0,
          17.0,
          34.0,
          50.0,
          20.0,
          25.0,
          25.0,
          11.0,
          29.0,
          23.0,
          23.0,
          28.5,
          48.0,
          29.0,
          29.0,
          36.0,
          24.0,
          70.0,
          16.0,
          19.0,
          31.0,
          33.0,
          23.0,
          28.0,
          18.0,
          34.0,
          29.0,
          41.0,
          16.0,
          49.0,
          30.5,
          29.0,
          32.0,
          24.0,
          48.0,
          57.0,
          29.0,
          18.0,
          29.0,
          29.0,
          29.0,
          29.0,
          25.0,
          25.0,
          8.0,
          46.0,
          29.0,
          16.0,
          22.0,
          29.0,
          25.0,
          39.0,
          30.0,
          30.0,
          34.0,
          31.0,
          39.0,
          18.0,
          39.0,
          26.0,
          39.0,
          35.0,
          6.0,
          30.5,
          29.0,
          23.0,
          31.0,
          43.0,
          10.0,
          38.0,
          2.0,
          29.0,
          29.0,
          29.0,
          23.0,
          18.0,
          21.0,
          29.0,
          20.0,
          16.0,
          34.5,
          17.0,
          42.0,
          29.0,
          35.0,
          28.0,
          4.0,
          74.0,
          9.0,
          44.0,
          29.0,
          41.0,
          21.0,
          22.0,
          24.0,
          31.0,
          29.0,
          26.0,
          33.0,
          47.0,
          20.0,
          19.0,
          29.0,
          33.0,
          22.0,
          28.0,
          25.0,
          39.0,
          27.0,
          22.0,
          32.0
         ],
         "y0": " ",
         "yaxis": "y",
         "type": "violin"
        },
        {
         "alignmentgroup": "True",
         "box": {
          "visible": false
         },
         "hovertemplate": "Survived=1.0<br>Age=%{y}<extra></extra>",
         "legendgroup": "1.0",
         "marker": {
          "color": "#EF553B"
         },
         "name": "1.0",
         "offsetgroup": "1.0",
         "orientation": "v",
         "scalegroup": "True",
         "showlegend": true,
         "x0": " ",
         "xaxis": "x",
         "y": [
          38.0,
          26.0,
          35.0,
          27.0,
          14.0,
          4.0,
          58.0,
          55.0,
          29.0,
          35.5,
          34.0,
          15.0,
          28.0,
          38.0,
          22.0,
          35.5,
          22.0,
          29.0,
          14.0,
          3.0,
          19.0,
          22.0,
          49.0,
          29.0,
          29.0,
          21.0,
          5.0,
          38.0,
          4.0,
          29.0,
          17.0,
          32.0,
          0.83,
          30.0,
          29.0,
          22.0,
          17.0,
          33.0,
          23.0,
          23.0,
          34.0,
          21.0,
          29.0,
          22.0,
          32.5,
          12.0,
          24.0,
          22.0,
          29.0,
          19.0,
          22.0,
          24.0,
          27.0,
          22.0,
          16.0,
          40.0,
          9.0,
          35.5,
          1.0,
          1.0,
          4.0,
          35.5,
          45.0,
          32.0,
          19.0,
          3.0,
          44.0,
          58.0,
          22.0,
          18.0,
          26.0,
          16.0,
          40.0,
          35.0,
          31.0,
          27.0,
          32.0,
          16.0,
          38.0,
          19.0,
          35.0,
          5.0,
          8.0,
          22.0,
          24.0,
          37.0,
          29.0,
          35.5,
          30.0,
          35.0,
          50.0,
          3.0,
          25.0,
          58.0,
          35.0,
          25.0,
          41.0,
          22.0,
          63.0,
          35.0,
          19.0,
          30.0,
          42.0,
          22.0,
          26.0,
          19.0,
          29.0,
          50.0,
          22.0,
          29.0,
          22.0,
          0.92,
          22.0,
          17.0,
          30.0,
          24.0,
          18.0,
          26.0,
          24.0,
          31.0,
          40.0,
          30.0,
          22.0,
          36.0,
          36.0,
          31.0,
          16.0,
          22.0,
          35.5,
          41.0,
          45.0,
          2.0,
          24.0,
          24.0,
          40.0,
          35.5,
          3.0,
          22.0,
          22.0,
          22.0,
          60.0,
          35.5,
          22.0,
          24.0,
          25.0,
          35.5,
          22.0,
          42.0,
          1.0,
          35.0,
          36.0,
          17.0,
          36.0,
          21.0,
          23.0,
          24.0,
          28.0,
          39.0,
          3.0,
          33.0,
          44.0,
          34.0,
          18.0,
          28.0,
          19.0,
          32.0,
          28.0,
          35.5,
          42.0,
          14.0,
          24.0,
          45.0,
          28.0,
          29.0,
          4.0,
          13.0,
          34.0,
          5.0,
          52.0,
          49.0,
          29.0,
          35.5,
          50.0,
          48.0,
          0.75,
          33.0,
          23.0,
          2.0,
          63.0,
          25.0,
          35.0,
          9.0,
          54.0,
          16.0,
          33.0,
          29.0,
          26.0,
          29.0,
          36.0,
          54.0,
          34.0,
          36.0,
          30.0,
          44.0,
          50.0,
          2.0,
          35.5,
          7.0,
          30.0,
          22.0,
          36.0,
          32.0,
          19.0,
          29.0,
          8.0,
          17.0,
          22.0,
          22.0,
          48.0,
          39.0,
          36.0,
          32.0,
          62.0,
          53.0,
          36.0,
          22.0,
          34.0,
          39.0,
          32.0,
          25.0,
          39.0,
          18.0,
          60.0,
          52.0,
          22.0,
          49.0,
          24.0,
          35.0,
          27.0,
          22.0,
          40.0,
          22.0,
          24.0,
          4.0,
          42.0,
          20.0,
          21.0,
          80.0,
          32.0,
          28.0,
          24.0,
          29.0,
          0.75,
          48.0,
          56.0,
          23.0,
          18.0,
          22.0,
          50.0,
          20.0,
          35.5,
          40.0,
          31.0,
          18.0,
          36.0,
          27.0,
          15.0,
          31.0,
          4.0,
          29.0,
          22.0,
          18.0,
          35.0,
          45.0,
          42.0,
          22.0,
          4.0,
          24.0,
          48.0,
          38.0,
          27.0,
          6.0,
          27.0,
          30.0,
          22.0,
          29.0,
          35.0,
          29.0,
          21.0,
          31.0,
          30.0,
          4.0,
          6.0,
          48.0,
          0.67,
          33.0,
          20.0,
          36.0,
          51.0,
          54.0,
          5.0,
          43.0,
          13.0,
          17.0,
          18.0,
          1.0,
          49.0,
          31.0,
          31.0,
          11.0,
          0.42,
          27.0,
          33.0,
          52.0,
          27.0,
          27.0,
          1.0,
          29.0,
          62.0,
          15.0,
          0.83,
          39.0,
          32.0,
          29.0,
          30.0,
          35.5,
          16.0,
          18.0,
          45.0,
          51.0,
          24.0,
          48.0,
          42.0,
          27.0,
          4.0,
          47.0,
          28.0,
          15.0,
          56.0,
          25.0,
          19.0,
          26.0
         ],
         "y0": " ",
         "yaxis": "y",
         "type": "violin"
        }
       ],
       "layout": {
        "template": {
         "data": {
          "histogram2dcontour": [
           {
            "type": "histogram2dcontour",
            "colorbar": {
             "outlinewidth": 0,
             "ticks": ""
            },
            "colorscale": [
             [
              0.0,
              "#0d0887"
             ],
             [
              0.1111111111111111,
              "#46039f"
             ],
             [
              0.2222222222222222,
              "#7201a8"
             ],
             [
              0.3333333333333333,
              "#9c179e"
             ],
             [
              0.4444444444444444,
              "#bd3786"
             ],
             [
              0.5555555555555556,
              "#d8576b"
             ],
             [
              0.6666666666666666,
              "#ed7953"
             ],
             [
              0.7777777777777778,
              "#fb9f3a"
             ],
             [
              0.8888888888888888,
              "#fdca26"
             ],
             [
              1.0,
              "#f0f921"
             ]
            ]
           }
          ],
          "choropleth": [
           {
            "type": "choropleth",
            "colorbar": {
             "outlinewidth": 0,
             "ticks": ""
            }
           }
          ],
          "histogram2d": [
           {
            "type": "histogram2d",
            "colorbar": {
             "outlinewidth": 0,
             "ticks": ""
            },
            "colorscale": [
             [
              0.0,
              "#0d0887"
             ],
             [
              0.1111111111111111,
              "#46039f"
             ],
             [
              0.2222222222222222,
              "#7201a8"
             ],
             [
              0.3333333333333333,
              "#9c179e"
             ],
             [
              0.4444444444444444,
              "#bd3786"
             ],
             [
              0.5555555555555556,
              "#d8576b"
             ],
             [
              0.6666666666666666,
              "#ed7953"
             ],
             [
              0.7777777777777778,
              "#fb9f3a"
             ],
             [
              0.8888888888888888,
              "#fdca26"
             ],
             [
              1.0,
              "#f0f921"
             ]
            ]
           }
          ],
          "heatmap": [
           {
            "type": "heatmap",
            "colorbar": {
             "outlinewidth": 0,
             "ticks": ""
            },
            "colorscale": [
             [
              0.0,
              "#0d0887"
             ],
             [
              0.1111111111111111,
              "#46039f"
             ],
             [
              0.2222222222222222,
              "#7201a8"
             ],
             [
              0.3333333333333333,
              "#9c179e"
             ],
             [
              0.4444444444444444,
              "#bd3786"
             ],
             [
              0.5555555555555556,
              "#d8576b"
             ],
             [
              0.6666666666666666,
              "#ed7953"
             ],
             [
              0.7777777777777778,
              "#fb9f3a"
             ],
             [
              0.8888888888888888,
              "#fdca26"
             ],
             [
              1.0,
              "#f0f921"
             ]
            ]
           }
          ],
          "heatmapgl": [
           {
            "type": "heatmapgl",
            "colorbar": {
             "outlinewidth": 0,
             "ticks": ""
            },
            "colorscale": [
             [
              0.0,
              "#0d0887"
             ],
             [
              0.1111111111111111,
              "#46039f"
             ],
             [
              0.2222222222222222,
              "#7201a8"
             ],
             [
              0.3333333333333333,
              "#9c179e"
             ],
             [
              0.4444444444444444,
              "#bd3786"
             ],
             [
              0.5555555555555556,
              "#d8576b"
             ],
             [
              0.6666666666666666,
              "#ed7953"
             ],
             [
              0.7777777777777778,
              "#fb9f3a"
             ],
             [
              0.8888888888888888,
              "#fdca26"
             ],
             [
              1.0,
              "#f0f921"
             ]
            ]
           }
          ],
          "contourcarpet": [
           {
            "type": "contourcarpet",
            "colorbar": {
             "outlinewidth": 0,
             "ticks": ""
            }
           }
          ],
          "contour": [
           {
            "type": "contour",
            "colorbar": {
             "outlinewidth": 0,
             "ticks": ""
            },
            "colorscale": [
             [
              0.0,
              "#0d0887"
             ],
             [
              0.1111111111111111,
              "#46039f"
             ],
             [
              0.2222222222222222,
              "#7201a8"
             ],
             [
              0.3333333333333333,
              "#9c179e"
             ],
             [
              0.4444444444444444,
              "#bd3786"
             ],
             [
              0.5555555555555556,
              "#d8576b"
             ],
             [
              0.6666666666666666,
              "#ed7953"
             ],
             [
              0.7777777777777778,
              "#fb9f3a"
             ],
             [
              0.8888888888888888,
              "#fdca26"
             ],
             [
              1.0,
              "#f0f921"
             ]
            ]
           }
          ],
          "surface": [
           {
            "type": "surface",
            "colorbar": {
             "outlinewidth": 0,
             "ticks": ""
            },
            "colorscale": [
             [
              0.0,
              "#0d0887"
             ],
             [
              0.1111111111111111,
              "#46039f"
             ],
             [
              0.2222222222222222,
              "#7201a8"
             ],
             [
              0.3333333333333333,
              "#9c179e"
             ],
             [
              0.4444444444444444,
              "#bd3786"
             ],
             [
              0.5555555555555556,
              "#d8576b"
             ],
             [
              0.6666666666666666,
              "#ed7953"
             ],
             [
              0.7777777777777778,
              "#fb9f3a"
             ],
             [
              0.8888888888888888,
              "#fdca26"
             ],
             [
              1.0,
              "#f0f921"
             ]
            ]
           }
          ],
          "mesh3d": [
           {
            "type": "mesh3d",
            "colorbar": {
             "outlinewidth": 0,
             "ticks": ""
            }
           }
          ],
          "scatter": [
           {
            "marker": {
             "line": {
              "color": "#283442"
             }
            },
            "type": "scatter"
           }
          ],
          "parcoords": [
           {
            "type": "parcoords",
            "line": {
             "colorbar": {
              "outlinewidth": 0,
              "ticks": ""
             }
            }
           }
          ],
          "scatterpolargl": [
           {
            "type": "scatterpolargl",
            "marker": {
             "colorbar": {
              "outlinewidth": 0,
              "ticks": ""
             }
            }
           }
          ],
          "bar": [
           {
            "error_x": {
             "color": "#f2f5fa"
            },
            "error_y": {
             "color": "#f2f5fa"
            },
            "marker": {
             "line": {
              "color": "rgb(17,17,17)",
              "width": 0.5
             },
             "pattern": {
              "fillmode": "overlay",
              "size": 10,
              "solidity": 0.2
             }
            },
            "type": "bar"
           }
          ],
          "scattergeo": [
           {
            "type": "scattergeo",
            "marker": {
             "colorbar": {
              "outlinewidth": 0,
              "ticks": ""
             }
            }
           }
          ],
          "scatterpolar": [
           {
            "type": "scatterpolar",
            "marker": {
             "colorbar": {
              "outlinewidth": 0,
              "ticks": ""
             }
            }
           }
          ],
          "histogram": [
           {
            "marker": {
             "pattern": {
              "fillmode": "overlay",
              "size": 10,
              "solidity": 0.2
             }
            },
            "type": "histogram"
           }
          ],
          "scattergl": [
           {
            "marker": {
             "line": {
              "color": "#283442"
             }
            },
            "type": "scattergl"
           }
          ],
          "scatter3d": [
           {
            "type": "scatter3d",
            "line": {
             "colorbar": {
              "outlinewidth": 0,
              "ticks": ""
             }
            },
            "marker": {
             "colorbar": {
              "outlinewidth": 0,
              "ticks": ""
             }
            }
           }
          ],
          "scattermapbox": [
           {
            "type": "scattermapbox",
            "marker": {
             "colorbar": {
              "outlinewidth": 0,
              "ticks": ""
             }
            }
           }
          ],
          "scatterternary": [
           {
            "type": "scatterternary",
            "marker": {
             "colorbar": {
              "outlinewidth": 0,
              "ticks": ""
             }
            }
           }
          ],
          "scattercarpet": [
           {
            "type": "scattercarpet",
            "marker": {
             "colorbar": {
              "outlinewidth": 0,
              "ticks": ""
             }
            }
           }
          ],
          "carpet": [
           {
            "aaxis": {
             "endlinecolor": "#A2B1C6",
             "gridcolor": "#506784",
             "linecolor": "#506784",
             "minorgridcolor": "#506784",
             "startlinecolor": "#A2B1C6"
            },
            "baxis": {
             "endlinecolor": "#A2B1C6",
             "gridcolor": "#506784",
             "linecolor": "#506784",
             "minorgridcolor": "#506784",
             "startlinecolor": "#A2B1C6"
            },
            "type": "carpet"
           }
          ],
          "table": [
           {
            "cells": {
             "fill": {
              "color": "#506784"
             },
             "line": {
              "color": "rgb(17,17,17)"
             }
            },
            "header": {
             "fill": {
              "color": "#2a3f5f"
             },
             "line": {
              "color": "rgb(17,17,17)"
             }
            },
            "type": "table"
           }
          ],
          "barpolar": [
           {
            "marker": {
             "line": {
              "color": "rgb(17,17,17)",
              "width": 0.5
             },
             "pattern": {
              "fillmode": "overlay",
              "size": 10,
              "solidity": 0.2
             }
            },
            "type": "barpolar"
           }
          ],
          "pie": [
           {
            "automargin": true,
            "type": "pie"
           }
          ]
         },
         "layout": {
          "autotypenumbers": "strict",
          "colorway": [
           "#636efa",
           "#EF553B",
           "#00cc96",
           "#ab63fa",
           "#FFA15A",
           "#19d3f3",
           "#FF6692",
           "#B6E880",
           "#FF97FF",
           "#FECB52"
          ],
          "font": {
           "color": "#f2f5fa"
          },
          "hovermode": "closest",
          "hoverlabel": {
           "align": "left"
          },
          "paper_bgcolor": "rgb(17,17,17)",
          "plot_bgcolor": "rgb(17,17,17)",
          "polar": {
           "bgcolor": "rgb(17,17,17)",
           "angularaxis": {
            "gridcolor": "#506784",
            "linecolor": "#506784",
            "ticks": ""
           },
           "radialaxis": {
            "gridcolor": "#506784",
            "linecolor": "#506784",
            "ticks": ""
           }
          },
          "ternary": {
           "bgcolor": "rgb(17,17,17)",
           "aaxis": {
            "gridcolor": "#506784",
            "linecolor": "#506784",
            "ticks": ""
           },
           "baxis": {
            "gridcolor": "#506784",
            "linecolor": "#506784",
            "ticks": ""
           },
           "caxis": {
            "gridcolor": "#506784",
            "linecolor": "#506784",
            "ticks": ""
           }
          },
          "coloraxis": {
           "colorbar": {
            "outlinewidth": 0,
            "ticks": ""
           }
          },
          "colorscale": {
           "sequential": [
            [
             0.0,
             "#0d0887"
            ],
            [
             0.1111111111111111,
             "#46039f"
            ],
            [
             0.2222222222222222,
             "#7201a8"
            ],
            [
             0.3333333333333333,
             "#9c179e"
            ],
            [
             0.4444444444444444,
             "#bd3786"
            ],
            [
             0.5555555555555556,
             "#d8576b"
            ],
            [
             0.6666666666666666,
             "#ed7953"
            ],
            [
             0.7777777777777778,
             "#fb9f3a"
            ],
            [
             0.8888888888888888,
             "#fdca26"
            ],
            [
             1.0,
             "#f0f921"
            ]
           ],
           "sequentialminus": [
            [
             0.0,
             "#0d0887"
            ],
            [
             0.1111111111111111,
             "#46039f"
            ],
            [
             0.2222222222222222,
             "#7201a8"
            ],
            [
             0.3333333333333333,
             "#9c179e"
            ],
            [
             0.4444444444444444,
             "#bd3786"
            ],
            [
             0.5555555555555556,
             "#d8576b"
            ],
            [
             0.6666666666666666,
             "#ed7953"
            ],
            [
             0.7777777777777778,
             "#fb9f3a"
            ],
            [
             0.8888888888888888,
             "#fdca26"
            ],
            [
             1.0,
             "#f0f921"
            ]
           ],
           "diverging": [
            [
             0,
             "#8e0152"
            ],
            [
             0.1,
             "#c51b7d"
            ],
            [
             0.2,
             "#de77ae"
            ],
            [
             0.3,
             "#f1b6da"
            ],
            [
             0.4,
             "#fde0ef"
            ],
            [
             0.5,
             "#f7f7f7"
            ],
            [
             0.6,
             "#e6f5d0"
            ],
            [
             0.7,
             "#b8e186"
            ],
            [
             0.8,
             "#7fbc41"
            ],
            [
             0.9,
             "#4d9221"
            ],
            [
             1,
             "#276419"
            ]
           ]
          },
          "xaxis": {
           "gridcolor": "#283442",
           "linecolor": "#506784",
           "ticks": "",
           "title": {
            "standoff": 15
           },
           "zerolinecolor": "#283442",
           "automargin": true,
           "zerolinewidth": 2
          },
          "yaxis": {
           "gridcolor": "#283442",
           "linecolor": "#506784",
           "ticks": "",
           "title": {
            "standoff": 15
           },
           "zerolinecolor": "#283442",
           "automargin": true,
           "zerolinewidth": 2
          },
          "scene": {
           "xaxis": {
            "backgroundcolor": "rgb(17,17,17)",
            "gridcolor": "#506784",
            "linecolor": "#506784",
            "showbackground": true,
            "ticks": "",
            "zerolinecolor": "#C8D4E3",
            "gridwidth": 2
           },
           "yaxis": {
            "backgroundcolor": "rgb(17,17,17)",
            "gridcolor": "#506784",
            "linecolor": "#506784",
            "showbackground": true,
            "ticks": "",
            "zerolinecolor": "#C8D4E3",
            "gridwidth": 2
           },
           "zaxis": {
            "backgroundcolor": "rgb(17,17,17)",
            "gridcolor": "#506784",
            "linecolor": "#506784",
            "showbackground": true,
            "ticks": "",
            "zerolinecolor": "#C8D4E3",
            "gridwidth": 2
           }
          },
          "shapedefaults": {
           "line": {
            "color": "#f2f5fa"
           }
          },
          "annotationdefaults": {
           "arrowcolor": "#f2f5fa",
           "arrowhead": 0,
           "arrowwidth": 1
          },
          "geo": {
           "bgcolor": "rgb(17,17,17)",
           "landcolor": "rgb(17,17,17)",
           "subunitcolor": "#506784",
           "showland": true,
           "showlakes": true,
           "lakecolor": "rgb(17,17,17)"
          },
          "title": {
           "x": 0.05
          },
          "updatemenudefaults": {
           "bgcolor": "#506784",
           "borderwidth": 0
          },
          "sliderdefaults": {
           "bgcolor": "#C8D4E3",
           "borderwidth": 1,
           "bordercolor": "rgb(17,17,17)",
           "tickwidth": 0
          },
          "mapbox": {
           "style": "dark"
          }
         }
        },
        "xaxis": {
         "anchor": "y",
         "domain": [
          0.0,
          1.0
         ]
        },
        "yaxis": {
         "anchor": "x",
         "domain": [
          0.0,
          1.0
         ],
         "title": {
          "text": "Age"
         }
        },
        "legend": {
         "title": {
          "text": "Survived"
         },
         "tracegroupgap": 0
        },
        "margin": {
         "t": 60
        },
        "violinmode": "overlay"
       },
       "config": {
        "plotlyServerURL": "https://plot.ly"
       }
      },
      "text/html": "<div>                            <div id=\"b221fedd-95af-4144-8027-699ba3dfd32e\" class=\"plotly-graph-div\" style=\"height:525px; width:100%;\"></div>            <script type=\"text/javascript\">                require([\"plotly\"], function(Plotly) {                    window.PLOTLYENV=window.PLOTLYENV || {};                                    if (document.getElementById(\"b221fedd-95af-4144-8027-699ba3dfd32e\")) {                    Plotly.newPlot(                        \"b221fedd-95af-4144-8027-699ba3dfd32e\",                        [{\"alignmentgroup\":\"True\",\"box\":{\"visible\":false},\"hovertemplate\":\"Survived=0.0<br>Age=%{y}<extra></extra>\",\"legendgroup\":\"0.0\",\"marker\":{\"color\":\"#636efa\"},\"name\":\"0.0\",\"offsetgroup\":\"0.0\",\"orientation\":\"v\",\"scalegroup\":\"True\",\"showlegend\":true,\"x0\":\" \",\"xaxis\":\"x\",\"y\":[22.0,35.0,29.0,54.0,2.0,20.0,39.0,14.0,2.0,31.0,35.0,8.0,29.0,19.0,29.0,40.0,66.0,28.0,42.0,21.0,18.0,40.0,27.0,29.0,29.0,29.0,29.0,18.0,7.0,21.0,65.0,28.5,11.0,22.0,45.0,4.0,29.0,19.0,26.0,32.0,16.0,21.0,26.0,25.0,29.0,29.0,22.0,28.0,16.0,29.0,24.0,29.0,20.0,46.0,26.0,59.0,29.0,71.0,34.0,28.0,29.0,21.0,33.0,37.0,28.0,38.0,47.0,14.5,22.0,20.0,17.0,21.0,70.5,29.0,24.0,2.0,21.0,29.0,32.5,54.0,29.0,45.0,33.0,20.0,47.0,25.0,23.0,37.0,16.0,24.0,35.5,19.0,18.0,19.0,9.0,36.5,42.0,51.0,55.5,40.5,29.0,51.0,30.0,29.0,4.0,44.0,26.0,17.0,1.0,45.0,29.0,28.0,61.0,4.0,21.0,56.0,18.0,4.0,50.0,30.0,36.0,22.0,29.0,9.0,29.0,40.0,36.0,19.0,29.0,42.0,24.0,28.0,29.0,34.0,45.5,2.0,32.0,24.0,22.0,30.0,29.0,42.0,30.0,27.0,51.0,29.0,22.0,20.5,18.0,22.0,29.0,59.0,24.0,22.0,44.0,19.0,33.0,22.0,29.0,22.0,30.0,44.0,25.0,54.0,29.0,29.0,62.0,30.0,41.0,29.0,52.0,40.0,22.0,36.0,16.0,29.0,37.0,45.0,29.0,7.0,65.0,28.0,16.0,29.0,33.0,22.0,36.0,24.0,24.0,29.0,23.5,2.0,19.0,29.0,30.0,26.0,28.0,43.0,54.0,22.0,27.0,29.0,61.0,45.5,38.0,16.0,29.0,29.0,45.0,28.0,25.0,36.0,42.0,23.0,29.0,15.0,25.0,29.0,28.0,38.0,40.0,29.0,45.0,35.0,29.0,30.0,18.0,19.0,22.0,3.0,27.0,20.0,19.0,32.0,29.0,18.0,1.0,29.0,28.0,22.0,31.0,46.0,23.0,26.0,21.0,28.0,20.0,34.0,51.0,21.0,22.0,29.0,29.0,29.0,35.5,30.0,10.0,29.0,21.0,29.0,28.0,18.0,29.0,29.0,17.0,50.0,21.0,64.0,31.0,20.0,25.0,36.0,29.0,30.0,29.0,65.0,29.0,34.0,47.0,48.0,29.0,38.0,29.0,56.0,29.0,29.0,38.0,22.0,29.0,34.0,29.0,22.0,9.0,29.0,50.0,22.0,58.0,30.0,29.0,21.0,55.0,71.0,21.0,29.0,29.0,25.0,24.0,17.0,21.0,22.0,37.0,18.0,28.0,29.0,24.0,47.0,29.0,32.0,22.0,29.0,29.0,40.5,29.0,39.0,23.0,29.0,17.0,30.0,45.0,29.0,9.0,11.0,50.0,64.0,33.0,27.0,29.0,62.0,29.0,29.0,40.0,28.0,29.0,22.0,24.0,19.0,29.0,29.0,16.0,19.0,35.5,54.0,36.0,29.0,47.0,22.0,29.0,35.0,47.0,22.0,37.0,36.0,49.0,29.0,29.0,29.0,44.0,36.0,30.0,39.0,29.0,29.0,35.0,34.0,26.0,26.0,27.0,21.0,21.0,61.0,57.0,26.0,29.0,51.0,29.0,9.0,32.0,31.0,41.0,29.0,20.0,2.0,19.0,29.0,29.0,21.0,18.0,24.0,29.0,32.0,23.0,58.0,40.0,47.0,36.0,32.0,25.0,29.0,43.0,31.0,70.0,29.0,18.0,24.5,43.0,22.0,20.0,14.0,60.0,25.0,14.0,19.0,18.0,25.0,60.0,52.0,44.0,49.0,42.0,18.0,25.0,26.0,39.0,29.0,29.0,52.0,19.0,29.0,33.0,17.0,34.0,50.0,20.0,25.0,25.0,11.0,29.0,23.0,23.0,28.5,48.0,29.0,29.0,36.0,24.0,70.0,16.0,19.0,31.0,33.0,23.0,28.0,18.0,34.0,29.0,41.0,16.0,49.0,30.5,29.0,32.0,24.0,48.0,57.0,29.0,18.0,29.0,29.0,29.0,29.0,25.0,25.0,8.0,46.0,29.0,16.0,22.0,29.0,25.0,39.0,30.0,30.0,34.0,31.0,39.0,18.0,39.0,26.0,39.0,35.0,6.0,30.5,29.0,23.0,31.0,43.0,10.0,38.0,2.0,29.0,29.0,29.0,23.0,18.0,21.0,29.0,20.0,16.0,34.5,17.0,42.0,29.0,35.0,28.0,4.0,74.0,9.0,44.0,29.0,41.0,21.0,22.0,24.0,31.0,29.0,26.0,33.0,47.0,20.0,19.0,29.0,33.0,22.0,28.0,25.0,39.0,27.0,22.0,32.0],\"y0\":\" \",\"yaxis\":\"y\",\"type\":\"violin\"},{\"alignmentgroup\":\"True\",\"box\":{\"visible\":false},\"hovertemplate\":\"Survived=1.0<br>Age=%{y}<extra></extra>\",\"legendgroup\":\"1.0\",\"marker\":{\"color\":\"#EF553B\"},\"name\":\"1.0\",\"offsetgroup\":\"1.0\",\"orientation\":\"v\",\"scalegroup\":\"True\",\"showlegend\":true,\"x0\":\" \",\"xaxis\":\"x\",\"y\":[38.0,26.0,35.0,27.0,14.0,4.0,58.0,55.0,29.0,35.5,34.0,15.0,28.0,38.0,22.0,35.5,22.0,29.0,14.0,3.0,19.0,22.0,49.0,29.0,29.0,21.0,5.0,38.0,4.0,29.0,17.0,32.0,0.83,30.0,29.0,22.0,17.0,33.0,23.0,23.0,34.0,21.0,29.0,22.0,32.5,12.0,24.0,22.0,29.0,19.0,22.0,24.0,27.0,22.0,16.0,40.0,9.0,35.5,1.0,1.0,4.0,35.5,45.0,32.0,19.0,3.0,44.0,58.0,22.0,18.0,26.0,16.0,40.0,35.0,31.0,27.0,32.0,16.0,38.0,19.0,35.0,5.0,8.0,22.0,24.0,37.0,29.0,35.5,30.0,35.0,50.0,3.0,25.0,58.0,35.0,25.0,41.0,22.0,63.0,35.0,19.0,30.0,42.0,22.0,26.0,19.0,29.0,50.0,22.0,29.0,22.0,0.92,22.0,17.0,30.0,24.0,18.0,26.0,24.0,31.0,40.0,30.0,22.0,36.0,36.0,31.0,16.0,22.0,35.5,41.0,45.0,2.0,24.0,24.0,40.0,35.5,3.0,22.0,22.0,22.0,60.0,35.5,22.0,24.0,25.0,35.5,22.0,42.0,1.0,35.0,36.0,17.0,36.0,21.0,23.0,24.0,28.0,39.0,3.0,33.0,44.0,34.0,18.0,28.0,19.0,32.0,28.0,35.5,42.0,14.0,24.0,45.0,28.0,29.0,4.0,13.0,34.0,5.0,52.0,49.0,29.0,35.5,50.0,48.0,0.75,33.0,23.0,2.0,63.0,25.0,35.0,9.0,54.0,16.0,33.0,29.0,26.0,29.0,36.0,54.0,34.0,36.0,30.0,44.0,50.0,2.0,35.5,7.0,30.0,22.0,36.0,32.0,19.0,29.0,8.0,17.0,22.0,22.0,48.0,39.0,36.0,32.0,62.0,53.0,36.0,22.0,34.0,39.0,32.0,25.0,39.0,18.0,60.0,52.0,22.0,49.0,24.0,35.0,27.0,22.0,40.0,22.0,24.0,4.0,42.0,20.0,21.0,80.0,32.0,28.0,24.0,29.0,0.75,48.0,56.0,23.0,18.0,22.0,50.0,20.0,35.5,40.0,31.0,18.0,36.0,27.0,15.0,31.0,4.0,29.0,22.0,18.0,35.0,45.0,42.0,22.0,4.0,24.0,48.0,38.0,27.0,6.0,27.0,30.0,22.0,29.0,35.0,29.0,21.0,31.0,30.0,4.0,6.0,48.0,0.67,33.0,20.0,36.0,51.0,54.0,5.0,43.0,13.0,17.0,18.0,1.0,49.0,31.0,31.0,11.0,0.42,27.0,33.0,52.0,27.0,27.0,1.0,29.0,62.0,15.0,0.83,39.0,32.0,29.0,30.0,35.5,16.0,18.0,45.0,51.0,24.0,48.0,42.0,27.0,4.0,47.0,28.0,15.0,56.0,25.0,19.0,26.0],\"y0\":\" \",\"yaxis\":\"y\",\"type\":\"violin\"}],                        {\"template\":{\"data\":{\"histogram2dcontour\":[{\"type\":\"histogram2dcontour\",\"colorbar\":{\"outlinewidth\":0,\"ticks\":\"\"},\"colorscale\":[[0.0,\"#0d0887\"],[0.1111111111111111,\"#46039f\"],[0.2222222222222222,\"#7201a8\"],[0.3333333333333333,\"#9c179e\"],[0.4444444444444444,\"#bd3786\"],[0.5555555555555556,\"#d8576b\"],[0.6666666666666666,\"#ed7953\"],[0.7777777777777778,\"#fb9f3a\"],[0.8888888888888888,\"#fdca26\"],[1.0,\"#f0f921\"]]}],\"choropleth\":[{\"type\":\"choropleth\",\"colorbar\":{\"outlinewidth\":0,\"ticks\":\"\"}}],\"histogram2d\":[{\"type\":\"histogram2d\",\"colorbar\":{\"outlinewidth\":0,\"ticks\":\"\"},\"colorscale\":[[0.0,\"#0d0887\"],[0.1111111111111111,\"#46039f\"],[0.2222222222222222,\"#7201a8\"],[0.3333333333333333,\"#9c179e\"],[0.4444444444444444,\"#bd3786\"],[0.5555555555555556,\"#d8576b\"],[0.6666666666666666,\"#ed7953\"],[0.7777777777777778,\"#fb9f3a\"],[0.8888888888888888,\"#fdca26\"],[1.0,\"#f0f921\"]]}],\"heatmap\":[{\"type\":\"heatmap\",\"colorbar\":{\"outlinewidth\":0,\"ticks\":\"\"},\"colorscale\":[[0.0,\"#0d0887\"],[0.1111111111111111,\"#46039f\"],[0.2222222222222222,\"#7201a8\"],[0.3333333333333333,\"#9c179e\"],[0.4444444444444444,\"#bd3786\"],[0.5555555555555556,\"#d8576b\"],[0.6666666666666666,\"#ed7953\"],[0.7777777777777778,\"#fb9f3a\"],[0.8888888888888888,\"#fdca26\"],[1.0,\"#f0f921\"]]}],\"heatmapgl\":[{\"type\":\"heatmapgl\",\"colorbar\":{\"outlinewidth\":0,\"ticks\":\"\"},\"colorscale\":[[0.0,\"#0d0887\"],[0.1111111111111111,\"#46039f\"],[0.2222222222222222,\"#7201a8\"],[0.3333333333333333,\"#9c179e\"],[0.4444444444444444,\"#bd3786\"],[0.5555555555555556,\"#d8576b\"],[0.6666666666666666,\"#ed7953\"],[0.7777777777777778,\"#fb9f3a\"],[0.8888888888888888,\"#fdca26\"],[1.0,\"#f0f921\"]]}],\"contourcarpet\":[{\"type\":\"contourcarpet\",\"colorbar\":{\"outlinewidth\":0,\"ticks\":\"\"}}],\"contour\":[{\"type\":\"contour\",\"colorbar\":{\"outlinewidth\":0,\"ticks\":\"\"},\"colorscale\":[[0.0,\"#0d0887\"],[0.1111111111111111,\"#46039f\"],[0.2222222222222222,\"#7201a8\"],[0.3333333333333333,\"#9c179e\"],[0.4444444444444444,\"#bd3786\"],[0.5555555555555556,\"#d8576b\"],[0.6666666666666666,\"#ed7953\"],[0.7777777777777778,\"#fb9f3a\"],[0.8888888888888888,\"#fdca26\"],[1.0,\"#f0f921\"]]}],\"surface\":[{\"type\":\"surface\",\"colorbar\":{\"outlinewidth\":0,\"ticks\":\"\"},\"colorscale\":[[0.0,\"#0d0887\"],[0.1111111111111111,\"#46039f\"],[0.2222222222222222,\"#7201a8\"],[0.3333333333333333,\"#9c179e\"],[0.4444444444444444,\"#bd3786\"],[0.5555555555555556,\"#d8576b\"],[0.6666666666666666,\"#ed7953\"],[0.7777777777777778,\"#fb9f3a\"],[0.8888888888888888,\"#fdca26\"],[1.0,\"#f0f921\"]]}],\"mesh3d\":[{\"type\":\"mesh3d\",\"colorbar\":{\"outlinewidth\":0,\"ticks\":\"\"}}],\"scatter\":[{\"marker\":{\"line\":{\"color\":\"#283442\"}},\"type\":\"scatter\"}],\"parcoords\":[{\"type\":\"parcoords\",\"line\":{\"colorbar\":{\"outlinewidth\":0,\"ticks\":\"\"}}}],\"scatterpolargl\":[{\"type\":\"scatterpolargl\",\"marker\":{\"colorbar\":{\"outlinewidth\":0,\"ticks\":\"\"}}}],\"bar\":[{\"error_x\":{\"color\":\"#f2f5fa\"},\"error_y\":{\"color\":\"#f2f5fa\"},\"marker\":{\"line\":{\"color\":\"rgb(17,17,17)\",\"width\":0.5},\"pattern\":{\"fillmode\":\"overlay\",\"size\":10,\"solidity\":0.2}},\"type\":\"bar\"}],\"scattergeo\":[{\"type\":\"scattergeo\",\"marker\":{\"colorbar\":{\"outlinewidth\":0,\"ticks\":\"\"}}}],\"scatterpolar\":[{\"type\":\"scatterpolar\",\"marker\":{\"colorbar\":{\"outlinewidth\":0,\"ticks\":\"\"}}}],\"histogram\":[{\"marker\":{\"pattern\":{\"fillmode\":\"overlay\",\"size\":10,\"solidity\":0.2}},\"type\":\"histogram\"}],\"scattergl\":[{\"marker\":{\"line\":{\"color\":\"#283442\"}},\"type\":\"scattergl\"}],\"scatter3d\":[{\"type\":\"scatter3d\",\"line\":{\"colorbar\":{\"outlinewidth\":0,\"ticks\":\"\"}},\"marker\":{\"colorbar\":{\"outlinewidth\":0,\"ticks\":\"\"}}}],\"scattermapbox\":[{\"type\":\"scattermapbox\",\"marker\":{\"colorbar\":{\"outlinewidth\":0,\"ticks\":\"\"}}}],\"scatterternary\":[{\"type\":\"scatterternary\",\"marker\":{\"colorbar\":{\"outlinewidth\":0,\"ticks\":\"\"}}}],\"scattercarpet\":[{\"type\":\"scattercarpet\",\"marker\":{\"colorbar\":{\"outlinewidth\":0,\"ticks\":\"\"}}}],\"carpet\":[{\"aaxis\":{\"endlinecolor\":\"#A2B1C6\",\"gridcolor\":\"#506784\",\"linecolor\":\"#506784\",\"minorgridcolor\":\"#506784\",\"startlinecolor\":\"#A2B1C6\"},\"baxis\":{\"endlinecolor\":\"#A2B1C6\",\"gridcolor\":\"#506784\",\"linecolor\":\"#506784\",\"minorgridcolor\":\"#506784\",\"startlinecolor\":\"#A2B1C6\"},\"type\":\"carpet\"}],\"table\":[{\"cells\":{\"fill\":{\"color\":\"#506784\"},\"line\":{\"color\":\"rgb(17,17,17)\"}},\"header\":{\"fill\":{\"color\":\"#2a3f5f\"},\"line\":{\"color\":\"rgb(17,17,17)\"}},\"type\":\"table\"}],\"barpolar\":[{\"marker\":{\"line\":{\"color\":\"rgb(17,17,17)\",\"width\":0.5},\"pattern\":{\"fillmode\":\"overlay\",\"size\":10,\"solidity\":0.2}},\"type\":\"barpolar\"}],\"pie\":[{\"automargin\":true,\"type\":\"pie\"}]},\"layout\":{\"autotypenumbers\":\"strict\",\"colorway\":[\"#636efa\",\"#EF553B\",\"#00cc96\",\"#ab63fa\",\"#FFA15A\",\"#19d3f3\",\"#FF6692\",\"#B6E880\",\"#FF97FF\",\"#FECB52\"],\"font\":{\"color\":\"#f2f5fa\"},\"hovermode\":\"closest\",\"hoverlabel\":{\"align\":\"left\"},\"paper_bgcolor\":\"rgb(17,17,17)\",\"plot_bgcolor\":\"rgb(17,17,17)\",\"polar\":{\"bgcolor\":\"rgb(17,17,17)\",\"angularaxis\":{\"gridcolor\":\"#506784\",\"linecolor\":\"#506784\",\"ticks\":\"\"},\"radialaxis\":{\"gridcolor\":\"#506784\",\"linecolor\":\"#506784\",\"ticks\":\"\"}},\"ternary\":{\"bgcolor\":\"rgb(17,17,17)\",\"aaxis\":{\"gridcolor\":\"#506784\",\"linecolor\":\"#506784\",\"ticks\":\"\"},\"baxis\":{\"gridcolor\":\"#506784\",\"linecolor\":\"#506784\",\"ticks\":\"\"},\"caxis\":{\"gridcolor\":\"#506784\",\"linecolor\":\"#506784\",\"ticks\":\"\"}},\"coloraxis\":{\"colorbar\":{\"outlinewidth\":0,\"ticks\":\"\"}},\"colorscale\":{\"sequential\":[[0.0,\"#0d0887\"],[0.1111111111111111,\"#46039f\"],[0.2222222222222222,\"#7201a8\"],[0.3333333333333333,\"#9c179e\"],[0.4444444444444444,\"#bd3786\"],[0.5555555555555556,\"#d8576b\"],[0.6666666666666666,\"#ed7953\"],[0.7777777777777778,\"#fb9f3a\"],[0.8888888888888888,\"#fdca26\"],[1.0,\"#f0f921\"]],\"sequentialminus\":[[0.0,\"#0d0887\"],[0.1111111111111111,\"#46039f\"],[0.2222222222222222,\"#7201a8\"],[0.3333333333333333,\"#9c179e\"],[0.4444444444444444,\"#bd3786\"],[0.5555555555555556,\"#d8576b\"],[0.6666666666666666,\"#ed7953\"],[0.7777777777777778,\"#fb9f3a\"],[0.8888888888888888,\"#fdca26\"],[1.0,\"#f0f921\"]],\"diverging\":[[0,\"#8e0152\"],[0.1,\"#c51b7d\"],[0.2,\"#de77ae\"],[0.3,\"#f1b6da\"],[0.4,\"#fde0ef\"],[0.5,\"#f7f7f7\"],[0.6,\"#e6f5d0\"],[0.7,\"#b8e186\"],[0.8,\"#7fbc41\"],[0.9,\"#4d9221\"],[1,\"#276419\"]]},\"xaxis\":{\"gridcolor\":\"#283442\",\"linecolor\":\"#506784\",\"ticks\":\"\",\"title\":{\"standoff\":15},\"zerolinecolor\":\"#283442\",\"automargin\":true,\"zerolinewidth\":2},\"yaxis\":{\"gridcolor\":\"#283442\",\"linecolor\":\"#506784\",\"ticks\":\"\",\"title\":{\"standoff\":15},\"zerolinecolor\":\"#283442\",\"automargin\":true,\"zerolinewidth\":2},\"scene\":{\"xaxis\":{\"backgroundcolor\":\"rgb(17,17,17)\",\"gridcolor\":\"#506784\",\"linecolor\":\"#506784\",\"showbackground\":true,\"ticks\":\"\",\"zerolinecolor\":\"#C8D4E3\",\"gridwidth\":2},\"yaxis\":{\"backgroundcolor\":\"rgb(17,17,17)\",\"gridcolor\":\"#506784\",\"linecolor\":\"#506784\",\"showbackground\":true,\"ticks\":\"\",\"zerolinecolor\":\"#C8D4E3\",\"gridwidth\":2},\"zaxis\":{\"backgroundcolor\":\"rgb(17,17,17)\",\"gridcolor\":\"#506784\",\"linecolor\":\"#506784\",\"showbackground\":true,\"ticks\":\"\",\"zerolinecolor\":\"#C8D4E3\",\"gridwidth\":2}},\"shapedefaults\":{\"line\":{\"color\":\"#f2f5fa\"}},\"annotationdefaults\":{\"arrowcolor\":\"#f2f5fa\",\"arrowhead\":0,\"arrowwidth\":1},\"geo\":{\"bgcolor\":\"rgb(17,17,17)\",\"landcolor\":\"rgb(17,17,17)\",\"subunitcolor\":\"#506784\",\"showland\":true,\"showlakes\":true,\"lakecolor\":\"rgb(17,17,17)\"},\"title\":{\"x\":0.05},\"updatemenudefaults\":{\"bgcolor\":\"#506784\",\"borderwidth\":0},\"sliderdefaults\":{\"bgcolor\":\"#C8D4E3\",\"borderwidth\":1,\"bordercolor\":\"rgb(17,17,17)\",\"tickwidth\":0},\"mapbox\":{\"style\":\"dark\"}}},\"xaxis\":{\"anchor\":\"y\",\"domain\":[0.0,1.0]},\"yaxis\":{\"anchor\":\"x\",\"domain\":[0.0,1.0],\"title\":{\"text\":\"Age\"}},\"legend\":{\"title\":{\"text\":\"Survived\"},\"tracegroupgap\":0},\"margin\":{\"t\":60},\"violinmode\":\"overlay\"},                        {\"responsive\": true}                    ).then(function(){\n                            \nvar gd = document.getElementById('b221fedd-95af-4144-8027-699ba3dfd32e');\nvar x = new MutationObserver(function (mutations, observer) {{\n        var display = window.getComputedStyle(gd).display;\n        if (!display || display === 'none') {{\n            console.log([gd, 'removed!']);\n            Plotly.purge(gd);\n            observer.disconnect();\n        }}\n}});\n\n// Listen for the removal of the full notebook cells\nvar notebookContainer = gd.closest('#notebook-container');\nif (notebookContainer) {{\n    x.observe(notebookContainer, {childList: true});\n}}\n\n// Listen for the clearing of the current output cell\nvar outputEl = gd.closest('.output');\nif (outputEl) {{\n    x.observe(outputEl, {childList: true});\n}}\n\n                        })                };                });            </script>        </div>"
     },
     "metadata": {},
     "output_type": "display_data"
    }
   ],
   "source": [
    "train = df[:ntrain]\n",
    "import plotly.express as px\n",
    "fig = px.violin(train, y='Age', color='Survived', violinmode='overlay')\n",
    "fig.show()"
   ],
   "metadata": {
    "collapsed": false
   }
  },
  {
   "cell_type": "markdown",
   "source": [
    "### 각 나잇대를 숫자로 변경해보기\n",
    "  - baby (2살 이하): 0\n",
    "  - child (15살 이하): 1\n",
    "  - young (20살 이하): 2\n",
    "  - mid-age (33살 이하): 3\n",
    "  - junior (43살 이하): 4\n",
    "  - senior (60살 이하): 5\n",
    "  - old (75살 이하): 6\n",
    "  - too old (75살 이상): 7"
   ],
   "metadata": {
    "collapsed": false
   }
  },
  {
   "cell_type": "code",
   "execution_count": 164,
   "outputs": [],
   "source": [
    "# 시각화 값에 딱 맞게 설정하는 것은 학습 데이터(train)에만 잘 맞는 overfitting 현상이 발생할 수 있으므로 적절히 적용\n",
    "df.loc[df['Age'] <= 2, 'Age'] = 0\n",
    "df.loc[(df['Age'] > 2) & (df['Age'] <= 15), 'Age'] = 1\n",
    "df.loc[(df['Age'] > 15) & (df['Age'] <= 20), 'Age'] = 2\n",
    "df.loc[(df['Age'] > 20) & (df['Age'] <= 33), 'Age'] = 3\n",
    "df.loc[(df['Age'] > 33) & (df['Age'] <= 43), 'Age'] = 4\n",
    "df.loc[(df['Age'] > 43) & (df['Age'] <= 60), 'Age'] = 5\n",
    "df.loc[(df['Age'] > 60) & (df['Age'] <= 75), 'Age'] = 6\n",
    "df.loc[ df['Age'] > 75, 'Age'] = 7"
   ],
   "metadata": {
    "collapsed": false
   }
  },
  {
   "cell_type": "code",
   "execution_count": 165,
   "outputs": [
    {
     "data": {
      "text/plain": "   PassengerId  Survived  Pclass  Sex  Age  SibSp  Parch            Ticket  \\\n0            1       0.0       3    0  3.0      1      0         A/5 21171   \n1            2       1.0       1    1  4.0      1      0          PC 17599   \n2            3       1.0       3    1  3.0      0      0  STON/O2. 3101282   \n3            4       1.0       1    1  4.0      1      0            113803   \n4            5       0.0       3    0  4.0      0      0            373450   \n\n      Fare Cabin  Embarked  Initial  \n0   7.2500   NaN         0      0.0  \n1  71.2833   C85         1      2.0  \n2   7.9250   NaN         0      1.0  \n3  53.1000  C123         0      2.0  \n4   8.0500   NaN         0      0.0  ",
      "text/html": "<div>\n<style scoped>\n    .dataframe tbody tr th:only-of-type {\n        vertical-align: middle;\n    }\n\n    .dataframe tbody tr th {\n        vertical-align: top;\n    }\n\n    .dataframe thead th {\n        text-align: right;\n    }\n</style>\n<table border=\"1\" class=\"dataframe\">\n  <thead>\n    <tr style=\"text-align: right;\">\n      <th></th>\n      <th>PassengerId</th>\n      <th>Survived</th>\n      <th>Pclass</th>\n      <th>Sex</th>\n      <th>Age</th>\n      <th>SibSp</th>\n      <th>Parch</th>\n      <th>Ticket</th>\n      <th>Fare</th>\n      <th>Cabin</th>\n      <th>Embarked</th>\n      <th>Initial</th>\n    </tr>\n  </thead>\n  <tbody>\n    <tr>\n      <th>0</th>\n      <td>1</td>\n      <td>0.0</td>\n      <td>3</td>\n      <td>0</td>\n      <td>3.0</td>\n      <td>1</td>\n      <td>0</td>\n      <td>A/5 21171</td>\n      <td>7.2500</td>\n      <td>NaN</td>\n      <td>0</td>\n      <td>0.0</td>\n    </tr>\n    <tr>\n      <th>1</th>\n      <td>2</td>\n      <td>1.0</td>\n      <td>1</td>\n      <td>1</td>\n      <td>4.0</td>\n      <td>1</td>\n      <td>0</td>\n      <td>PC 17599</td>\n      <td>71.2833</td>\n      <td>C85</td>\n      <td>1</td>\n      <td>2.0</td>\n    </tr>\n    <tr>\n      <th>2</th>\n      <td>3</td>\n      <td>1.0</td>\n      <td>3</td>\n      <td>1</td>\n      <td>3.0</td>\n      <td>0</td>\n      <td>0</td>\n      <td>STON/O2. 3101282</td>\n      <td>7.9250</td>\n      <td>NaN</td>\n      <td>0</td>\n      <td>1.0</td>\n    </tr>\n    <tr>\n      <th>3</th>\n      <td>4</td>\n      <td>1.0</td>\n      <td>1</td>\n      <td>1</td>\n      <td>4.0</td>\n      <td>1</td>\n      <td>0</td>\n      <td>113803</td>\n      <td>53.1000</td>\n      <td>C123</td>\n      <td>0</td>\n      <td>2.0</td>\n    </tr>\n    <tr>\n      <th>4</th>\n      <td>5</td>\n      <td>0.0</td>\n      <td>3</td>\n      <td>0</td>\n      <td>4.0</td>\n      <td>0</td>\n      <td>0</td>\n      <td>373450</td>\n      <td>8.0500</td>\n      <td>NaN</td>\n      <td>0</td>\n      <td>0.0</td>\n    </tr>\n  </tbody>\n</table>\n</div>"
     },
     "execution_count": 165,
     "metadata": {},
     "output_type": "execute_result"
    }
   ],
   "source": [
    "df.head()"
   ],
   "metadata": {
    "collapsed": false
   }
  },
  {
   "cell_type": "markdown",
   "source": [
    "### 7. Fare"
   ],
   "metadata": {
    "collapsed": false
   }
  },
  {
   "cell_type": "code",
   "execution_count": 166,
   "outputs": [
    {
     "data": {
      "text/plain": "   Survived  Dead\n1   71.2833   NaN\n2    7.9250   NaN\n3   53.1000   NaN\n8   11.1333   NaN\n9   30.0708   NaN",
      "text/html": "<div>\n<style scoped>\n    .dataframe tbody tr th:only-of-type {\n        vertical-align: middle;\n    }\n\n    .dataframe tbody tr th {\n        vertical-align: top;\n    }\n\n    .dataframe thead th {\n        text-align: right;\n    }\n</style>\n<table border=\"1\" class=\"dataframe\">\n  <thead>\n    <tr style=\"text-align: right;\">\n      <th></th>\n      <th>Survived</th>\n      <th>Dead</th>\n    </tr>\n  </thead>\n  <tbody>\n    <tr>\n      <th>1</th>\n      <td>71.2833</td>\n      <td>NaN</td>\n    </tr>\n    <tr>\n      <th>2</th>\n      <td>7.9250</td>\n      <td>NaN</td>\n    </tr>\n    <tr>\n      <th>3</th>\n      <td>53.1000</td>\n      <td>NaN</td>\n    </tr>\n    <tr>\n      <th>8</th>\n      <td>11.1333</td>\n      <td>NaN</td>\n    </tr>\n    <tr>\n      <th>9</th>\n      <td>30.0708</td>\n      <td>NaN</td>\n    </tr>\n  </tbody>\n</table>\n</div>"
     },
     "execution_count": 166,
     "metadata": {},
     "output_type": "execute_result"
    }
   ],
   "source": [
    "survived = train.loc[train['Survived'] == 1]['Fare']\n",
    "dead = train.loc[train['Survived'] == 0 ]['Fare']\n",
    "temp = pd.concat([survived, dead], axis=1, keys=['Survived', 'Dead'])\n",
    "temp.head()"
   ],
   "metadata": {
    "collapsed": false
   }
  },
  {
   "cell_type": "code",
   "execution_count": 167,
   "outputs": [
    {
     "data": {
      "application/vnd.plotly.v1+json": {
       "data": [
        {
         "autobinx": false,
         "histfunc": "count",
         "histnorm": "",
         "marker": {
          "color": "rgba(255, 153, 51, 1.0)",
          "line": {
           "color": "#4D5663",
           "width": 1.3
          }
         },
         "name": "Survived",
         "opacity": 0.8,
         "orientation": "v",
         "x": [
          71.2833,
          7.925,
          53.1,
          11.1333,
          30.0708,
          16.7,
          26.55,
          16.0,
          13.0,
          7.225,
          13.0,
          8.0292,
          35.5,
          31.3875,
          7.8792,
          146.5208,
          7.75,
          7.2292,
          11.2417,
          41.5792,
          7.8792,
          7.75,
          76.7292,
          26.0,
          35.5,
          10.5,
          27.75,
          80.0,
          15.2458,
          10.5,
          7.925,
          56.4958,
          29.0,
          12.475,
          9.5,
          7.7875,
          10.5,
          15.85,
          263.0,
          63.3583,
          23.0,
          7.65,
          7.775,
          24.15,
          13.0,
          11.2417,
          7.1417,
          22.3583,
          26.0,
          26.2833,
          7.75,
          15.85,
          7.7958,
          66.6,
          7.7333,
          15.75,
          20.525,
          55.0,
          11.1333,
          39.0,
          22.025,
          15.5,
          26.55,
          13.0,
          7.8542,
          26.0,
          27.7208,
          146.5208,
          7.75,
          8.05,
          18.7875,
          7.75,
          31.0,
          21.0,
          113.275,
          7.925,
          76.2917,
          8.05,
          90.0,
          10.5,
          83.475,
          31.3875,
          26.25,
          15.5,
          14.5,
          52.5542,
          15.2458,
          79.2,
          86.5,
          512.3292,
          26.0,
          31.3875,
          7.775,
          153.4625,
          135.6333,
          0.0,
          19.5,
          7.75,
          77.9583,
          20.25,
          8.05,
          9.5,
          13.0,
          7.75,
          78.85,
          91.0792,
          30.5,
          247.5208,
          7.75,
          23.25,
          12.35,
          151.55,
          110.8833,
          108.9,
          56.9292,
          83.1583,
          262.375,
          7.8542,
          26.0,
          164.8667,
          134.5,
          12.35,
          29.0,
          135.6333,
          13.0,
          20.525,
          57.9792,
          23.25,
          133.65,
          134.5,
          8.05,
          26.0,
          263.0,
          13.0,
          13.0,
          16.1,
          15.9,
          55.0,
          7.8792,
          7.8792,
          75.25,
          7.2292,
          7.75,
          69.3,
          55.4417,
          82.1708,
          7.25,
          227.525,
          15.7417,
          52.0,
          13.0,
          12.0,
          120.0,
          7.7958,
          113.275,
          16.7,
          12.65,
          7.925,
          18.75,
          90.0,
          7.925,
          32.5,
          13.0,
          26.0,
          26.0,
          8.05,
          26.55,
          16.1,
          26.0,
          120.0,
          18.75,
          26.25,
          13.0,
          8.1125,
          81.8583,
          19.5,
          26.55,
          19.2583,
          30.5,
          89.1042,
          7.8958,
          51.8625,
          10.5,
          26.55,
          19.2583,
          27.75,
          13.7917,
          12.2875,
          9.5875,
          91.0792,
          90.0,
          15.9,
          78.2667,
          86.5,
          26.0,
          26.55,
          56.4958,
          7.75,
          26.2875,
          59.4,
          10.5,
          26.0,
          93.5,
          57.9792,
          10.5,
          26.0,
          22.3583,
          26.25,
          106.425,
          49.5,
          71.0,
          26.0,
          26.0,
          13.8625,
          36.75,
          110.8833,
          7.225,
          7.775,
          39.6,
          79.65,
          17.4,
          7.8542,
          10.5,
          51.4792,
          26.3875,
          7.75,
          13.0,
          55.9,
          7.925,
          30.0,
          110.8833,
          79.65,
          79.2,
          78.2667,
          33.0,
          56.9292,
          27.0,
          26.55,
          30.5,
          41.5792,
          153.4625,
          15.5,
          65.0,
          39.0,
          52.5542,
          15.7417,
          77.9583,
          30.0,
          30.5,
          13.0,
          69.3,
          56.4958,
          19.2583,
          76.7292,
          35.5,
          7.55,
          23.0,
          7.8292,
          133.65,
          7.925,
          52.0,
          39.0,
          13.0,
          9.8417,
          512.3292,
          76.7292,
          211.3375,
          57.0,
          13.4167,
          56.4958,
          7.7333,
          227.525,
          26.2875,
          13.5,
          26.2875,
          151.55,
          15.2458,
          49.5042,
          52.0,
          227.525,
          10.5,
          33.0,
          53.1,
          21.0,
          7.7375,
          211.3375,
          512.3292,
          30.0,
          262.375,
          7.925,
          13.0,
          23.0,
          12.475,
          65.0,
          14.5,
          86.5,
          7.2292,
          120.0,
          77.9583,
          23.0,
          12.475,
          211.3375,
          7.2292,
          57.0,
          7.4958,
          20.575,
          25.9292,
          8.6833,
          26.25,
          120.0,
          8.5167,
          6.975,
          53.1,
          93.5,
          8.6625,
          12.475,
          37.0042,
          7.75,
          80.0,
          14.4542,
          18.75,
          83.1583,
          56.4958,
          29.7,
          31.0,
          89.1042,
          39.4,
          9.35,
          164.8667,
          26.55,
          19.2583,
          25.9292,
          13.0,
          13.8583,
          11.1333,
          52.5542,
          24.0,
          7.225,
          83.1583,
          26.0,
          30.0,
          30.0,
          null,
          null,
          null,
          null,
          null,
          null,
          null,
          null,
          null,
          null,
          null,
          null,
          null,
          null,
          null,
          null,
          null,
          null,
          null,
          null,
          null,
          null,
          null,
          null,
          null,
          null,
          null,
          null,
          null,
          null,
          null,
          null,
          null,
          null,
          null,
          null,
          null,
          null,
          null,
          null,
          null,
          null,
          null,
          null,
          null,
          null,
          null,
          null,
          null,
          null,
          null,
          null,
          null,
          null,
          null,
          null,
          null,
          null,
          null,
          null,
          null,
          null,
          null,
          null,
          null,
          null,
          null,
          null,
          null,
          null,
          null,
          null,
          null,
          null,
          null,
          null,
          null,
          null,
          null,
          null,
          null,
          null,
          null,
          null,
          null,
          null,
          null,
          null,
          null,
          null,
          null,
          null,
          null,
          null,
          null,
          null,
          null,
          null,
          null,
          null,
          null,
          null,
          null,
          null,
          null,
          null,
          null,
          null,
          null,
          null,
          null,
          null,
          null,
          null,
          null,
          null,
          null,
          null,
          null,
          null,
          null,
          null,
          null,
          null,
          null,
          null,
          null,
          null,
          null,
          null,
          null,
          null,
          null,
          null,
          null,
          null,
          null,
          null,
          null,
          null,
          null,
          null,
          null,
          null,
          null,
          null,
          null,
          null,
          null,
          null,
          null,
          null,
          null,
          null,
          null,
          null,
          null,
          null,
          null,
          null,
          null,
          null,
          null,
          null,
          null,
          null,
          null,
          null,
          null,
          null,
          null,
          null,
          null,
          null,
          null,
          null,
          null,
          null,
          null,
          null,
          null,
          null,
          null,
          null,
          null,
          null,
          null,
          null,
          null,
          null,
          null,
          null,
          null,
          null,
          null,
          null,
          null,
          null,
          null,
          null,
          null,
          null,
          null,
          null,
          null,
          null,
          null,
          null,
          null,
          null,
          null,
          null,
          null,
          null,
          null,
          null,
          null,
          null,
          null,
          null,
          null,
          null,
          null,
          null,
          null,
          null,
          null,
          null,
          null,
          null,
          null,
          null,
          null,
          null,
          null,
          null,
          null,
          null,
          null,
          null,
          null,
          null,
          null,
          null,
          null,
          null,
          null,
          null,
          null,
          null,
          null,
          null,
          null,
          null,
          null,
          null,
          null,
          null,
          null,
          null,
          null,
          null,
          null,
          null,
          null,
          null,
          null,
          null,
          null,
          null,
          null,
          null,
          null,
          null,
          null,
          null,
          null,
          null,
          null,
          null,
          null,
          null,
          null,
          null,
          null,
          null,
          null,
          null,
          null,
          null,
          null,
          null,
          null,
          null,
          null,
          null,
          null,
          null,
          null,
          null,
          null,
          null,
          null,
          null,
          null,
          null,
          null,
          null,
          null,
          null,
          null,
          null,
          null,
          null,
          null,
          null,
          null,
          null,
          null,
          null,
          null,
          null,
          null,
          null,
          null,
          null,
          null,
          null,
          null,
          null,
          null,
          null,
          null,
          null,
          null,
          null,
          null,
          null,
          null,
          null,
          null,
          null,
          null,
          null,
          null,
          null,
          null,
          null,
          null,
          null,
          null,
          null,
          null,
          null,
          null,
          null,
          null,
          null,
          null,
          null,
          null,
          null,
          null,
          null,
          null,
          null,
          null,
          null,
          null,
          null,
          null,
          null,
          null,
          null,
          null,
          null,
          null,
          null,
          null,
          null,
          null,
          null,
          null,
          null,
          null,
          null,
          null,
          null,
          null,
          null,
          null,
          null,
          null,
          null,
          null,
          null,
          null,
          null,
          null,
          null,
          null,
          null,
          null,
          null,
          null,
          null,
          null,
          null,
          null,
          null,
          null,
          null,
          null,
          null,
          null,
          null,
          null,
          null,
          null,
          null,
          null,
          null,
          null,
          null,
          null,
          null,
          null,
          null,
          null,
          null,
          null,
          null,
          null,
          null,
          null,
          null,
          null,
          null,
          null,
          null,
          null,
          null,
          null,
          null,
          null,
          null,
          null,
          null,
          null,
          null,
          null,
          null,
          null,
          null,
          null,
          null,
          null,
          null,
          null,
          null,
          null,
          null,
          null,
          null,
          null,
          null,
          null,
          null,
          null,
          null,
          null,
          null,
          null,
          null,
          null,
          null,
          null,
          null,
          null,
          null,
          null,
          null,
          null,
          null,
          null,
          null,
          null,
          null,
          null,
          null,
          null,
          null,
          null,
          null,
          null,
          null,
          null,
          null,
          null,
          null,
          null,
          null,
          null,
          null,
          null,
          null,
          null,
          null,
          null,
          null,
          null,
          null,
          null,
          null,
          null,
          null,
          null,
          null,
          null,
          null,
          null,
          null,
          null,
          null,
          null,
          null,
          null,
          null,
          null,
          null,
          null,
          null,
          null,
          null,
          null,
          null,
          null,
          null,
          null,
          null,
          null,
          null,
          null,
          null,
          null,
          null,
          null,
          null,
          null
         ],
         "xbins": {
          "end": 600,
          "size": 20,
          "start": 0
         },
         "type": "histogram"
        },
        {
         "autobinx": false,
         "histfunc": "count",
         "histnorm": "",
         "marker": {
          "color": "rgba(55, 128, 191, 1.0)",
          "line": {
           "color": "#4D5663",
           "width": 1.3
          }
         },
         "name": "Dead",
         "opacity": 0.8,
         "orientation": "v",
         "x": [
          null,
          null,
          null,
          null,
          null,
          null,
          null,
          null,
          null,
          null,
          null,
          null,
          null,
          null,
          null,
          null,
          null,
          null,
          null,
          null,
          null,
          null,
          null,
          null,
          null,
          null,
          null,
          null,
          null,
          null,
          null,
          null,
          null,
          null,
          null,
          null,
          null,
          null,
          null,
          null,
          null,
          null,
          null,
          null,
          null,
          null,
          null,
          null,
          null,
          null,
          null,
          null,
          null,
          null,
          null,
          null,
          null,
          null,
          null,
          null,
          null,
          null,
          null,
          null,
          null,
          null,
          null,
          null,
          null,
          null,
          null,
          null,
          null,
          null,
          null,
          null,
          null,
          null,
          null,
          null,
          null,
          null,
          null,
          null,
          null,
          null,
          null,
          null,
          null,
          null,
          null,
          null,
          null,
          null,
          null,
          null,
          null,
          null,
          null,
          null,
          null,
          null,
          null,
          null,
          null,
          null,
          null,
          null,
          null,
          null,
          null,
          null,
          null,
          null,
          null,
          null,
          null,
          null,
          null,
          null,
          null,
          null,
          null,
          null,
          null,
          null,
          null,
          null,
          null,
          null,
          null,
          null,
          null,
          null,
          null,
          null,
          null,
          null,
          null,
          null,
          null,
          null,
          null,
          null,
          null,
          null,
          null,
          null,
          null,
          null,
          null,
          null,
          null,
          null,
          null,
          null,
          null,
          null,
          null,
          null,
          null,
          null,
          null,
          null,
          null,
          null,
          null,
          null,
          null,
          null,
          null,
          null,
          null,
          null,
          null,
          null,
          null,
          null,
          null,
          null,
          null,
          null,
          null,
          null,
          null,
          null,
          null,
          null,
          null,
          null,
          null,
          null,
          null,
          null,
          null,
          null,
          null,
          null,
          null,
          null,
          null,
          null,
          null,
          null,
          null,
          null,
          null,
          null,
          null,
          null,
          null,
          null,
          null,
          null,
          null,
          null,
          null,
          null,
          null,
          null,
          null,
          null,
          null,
          null,
          null,
          null,
          null,
          null,
          null,
          null,
          null,
          null,
          null,
          null,
          null,
          null,
          null,
          null,
          null,
          null,
          null,
          null,
          null,
          null,
          null,
          null,
          null,
          null,
          null,
          null,
          null,
          null,
          null,
          null,
          null,
          null,
          null,
          null,
          null,
          null,
          null,
          null,
          null,
          null,
          null,
          null,
          null,
          null,
          null,
          null,
          null,
          null,
          null,
          null,
          null,
          null,
          null,
          null,
          null,
          null,
          null,
          null,
          null,
          null,
          null,
          null,
          null,
          null,
          null,
          null,
          null,
          null,
          null,
          null,
          null,
          null,
          null,
          null,
          null,
          null,
          null,
          null,
          null,
          null,
          null,
          null,
          null,
          null,
          null,
          null,
          null,
          null,
          null,
          null,
          null,
          null,
          null,
          null,
          null,
          null,
          null,
          null,
          null,
          null,
          null,
          null,
          null,
          null,
          null,
          null,
          null,
          null,
          null,
          null,
          null,
          null,
          null,
          null,
          null,
          null,
          null,
          null,
          7.25,
          8.05,
          8.4583,
          51.8625,
          21.075,
          8.05,
          31.275,
          7.8542,
          29.125,
          18.0,
          26.0,
          21.075,
          7.225,
          263.0,
          7.8958,
          27.7208,
          10.5,
          82.1708,
          52.0,
          8.05,
          18.0,
          9.475,
          21.0,
          7.8958,
          8.05,
          15.5,
          21.6792,
          17.8,
          39.6875,
          7.8,
          61.9792,
          7.2292,
          46.9,
          7.2292,
          83.475,
          27.9,
          27.7208,
          8.1583,
          8.6625,
          10.5,
          46.9,
          73.5,
          14.4542,
          7.65,
          7.8958,
          8.05,
          9.0,
          47.1,
          34.375,
          8.05,
          8.05,
          8.05,
          7.8542,
          61.175,
          20.575,
          7.25,
          8.05,
          34.6542,
          26.0,
          7.8958,
          7.8958,
          77.2875,
          8.6542,
          7.925,
          7.8958,
          7.8958,
          52.0,
          14.4542,
          8.05,
          9.825,
          14.4583,
          7.925,
          7.75,
          21.0,
          247.5208,
          31.275,
          73.5,
          8.05,
          30.0708,
          77.2875,
          7.75,
          6.975,
          7.8958,
          7.05,
          14.5,
          13.0,
          15.0458,
          53.1,
          9.2167,
          79.2,
          15.2458,
          6.75,
          11.5,
          36.75,
          34.375,
          26.0,
          13.0,
          12.525,
          8.05,
          14.5,
          7.3125,
          61.3792,
          8.05,
          8.6625,
          69.55,
          16.1,
          7.775,
          8.6625,
          39.6875,
          27.9,
          25.925,
          56.4958,
          33.5,
          29.125,
          7.925,
          30.6958,
          7.8542,
          25.4667,
          28.7125,
          13.0,
          0.0,
          69.55,
          15.05,
          31.3875,
          50.0,
          15.5,
          7.8958,
          13.0,
          7.75,
          8.4042,
          13.0,
          9.5,
          69.55,
          6.4958,
          7.225,
          10.4625,
          15.85,
          7.05,
          7.25,
          13.0,
          7.75,
          27.0,
          10.5,
          13.0,
          8.05,
          7.8958,
          9.35,
          7.25,
          13.0,
          25.4667,
          7.775,
          13.5,
          10.5,
          7.55,
          26.0,
          10.5,
          12.275,
          14.4542,
          10.5,
          7.125,
          7.225,
          90.0,
          7.775,
          26.0,
          7.25,
          10.4625,
          26.55,
          16.1,
          20.2125,
          7.75,
          79.65,
          0.0,
          7.75,
          10.5,
          39.6875,
          31.0,
          29.7,
          7.75,
          0.0,
          29.125,
          7.75,
          7.8542,
          9.5,
          26.0,
          8.6625,
          7.8958,
          12.875,
          8.85,
          7.8958,
          27.7208,
          7.2292,
          151.55,
          0.0,
          8.05,
          24.0,
          26.0,
          7.8958,
          26.25,
          14.0,
          7.25,
          7.8958,
          69.55,
          6.2375,
          28.5,
          153.4625,
          18.0,
          7.8958,
          66.6,
          35.5,
          13.0,
          13.0,
          13.0,
          8.6625,
          9.225,
          35.0,
          7.2292,
          17.8,
          7.225,
          9.5,
          13.0,
          27.9,
          27.7208,
          14.4542,
          7.05,
          15.5,
          7.25,
          6.4958,
          8.05,
          135.6333,
          21.075,
          211.5,
          4.0125,
          7.775,
          7.925,
          7.8958,
          73.5,
          46.9,
          7.7292,
          7.925,
          7.7958,
          7.8542,
          26.0,
          10.5,
          8.05,
          9.825,
          15.85,
          8.6625,
          21.0,
          7.75,
          7.775,
          25.4667,
          7.8958,
          6.8583,
          0.0,
          8.05,
          13.0,
          24.15,
          7.8958,
          7.7333,
          7.875,
          14.4,
          20.2125,
          7.25,
          7.75,
          7.125,
          55.9,
          34.375,
          263.0,
          10.5,
          9.5,
          7.775,
          27.75,
          19.9667,
          27.75,
          8.05,
          26.55,
          7.75,
          8.05,
          38.5,
          13.0,
          8.05,
          7.05,
          0.0,
          26.55,
          7.725,
          7.25,
          8.6625,
          9.8375,
          52.0,
          21.0,
          7.0458,
          7.5208,
          46.9,
          0.0,
          8.05,
          25.4667,
          29.7,
          8.05,
          19.9667,
          7.25,
          30.5,
          49.5042,
          8.05,
          14.4583,
          15.1,
          151.55,
          7.7958,
          8.6625,
          7.75,
          7.6292,
          9.5875,
          108.9,
          22.525,
          8.05,
          7.4958,
          34.0208,
          24.15,
          7.8958,
          7.8958,
          7.225,
          7.2292,
          7.75,
          221.7792,
          7.925,
          11.5,
          7.2292,
          7.2292,
          8.6625,
          26.55,
          14.5,
          31.275,
          31.275,
          106.425,
          26.0,
          20.525,
          26.0,
          7.8292,
          26.55,
          227.525,
          7.75,
          7.8958,
          13.5,
          8.05,
          8.05,
          24.15,
          7.8958,
          21.075,
          7.2292,
          8.05,
          14.5,
          14.4583,
          26.0,
          40.125,
          8.7125,
          15.0,
          8.05,
          8.05,
          7.125,
          7.25,
          7.75,
          26.0,
          24.15,
          0.0,
          7.225,
          7.8958,
          42.4,
          8.05,
          15.55,
          7.8958,
          31.275,
          7.05,
          7.75,
          8.05,
          14.4,
          16.1,
          10.5,
          14.4542,
          7.8542,
          16.1,
          32.3208,
          12.35,
          7.8958,
          7.7333,
          7.0542,
          0.0,
          27.9,
          7.925,
          26.25,
          39.6875,
          16.1,
          7.8542,
          27.9,
          7.8958,
          7.55,
          7.8958,
          8.4333,
          6.75,
          73.5,
          7.8958,
          15.5,
          13.0,
          113.275,
          7.225,
          25.5875,
          7.4958,
          73.5,
          13.0,
          7.775,
          8.05,
          52.0,
          10.5,
          0.0,
          7.775,
          8.05,
          46.9,
          8.1375,
          9.225,
          46.9,
          39.0,
          41.5792,
          39.6875,
          10.1708,
          7.7958,
          7.225,
          26.55,
          13.5,
          8.05,
          110.8833,
          7.65,
          14.4542,
          7.7417,
          7.8542,
          26.0,
          26.55,
          9.4833,
          13.0,
          7.65,
          15.5,
          7.775,
          7.0542,
          13.0,
          13.0,
          8.6625,
          26.0,
          7.925,
          18.7875,
          0.0,
          13.0,
          13.0,
          16.1,
          34.375,
          7.8958,
          7.8958,
          78.85,
          16.1,
          71.0,
          20.25,
          53.1,
          7.75,
          9.5,
          7.8958,
          7.7958,
          11.5,
          8.05,
          14.5,
          7.125,
          7.775,
          39.6,
          7.75,
          24.15,
          8.3625,
          9.5,
          7.8542,
          10.5,
          7.225,
          7.75,
          7.75,
          7.7375,
          30.0,
          23.45,
          7.05,
          7.25,
          29.125,
          79.2,
          7.75,
          26.0,
          69.55,
          30.6958,
          7.8958,
          13.0,
          7.2292,
          24.15,
          13.0,
          7.775,
          0.0,
          7.775,
          13.0,
          7.8875,
          24.15,
          10.5,
          31.275,
          8.05,
          0.0,
          7.925,
          37.0042,
          6.45,
          27.9,
          0.0,
          39.6875,
          6.95,
          56.4958,
          7.2292,
          7.8542,
          8.3,
          8.6625,
          8.05,
          7.925,
          10.5,
          6.4375,
          8.6625,
          7.55,
          69.55,
          7.8958,
          33.0,
          31.275,
          7.775,
          15.2458,
          26.0,
          7.2292,
          14.1083,
          11.5,
          69.55,
          13.0,
          50.4958,
          9.5,
          7.8958,
          5.0,
          9.0,
          9.8458,
          7.8958,
          7.8958,
          7.8958,
          10.5167,
          10.5,
          7.05,
          29.125,
          13.0,
          23.45,
          7.75
         ],
         "xbins": {
          "end": 600,
          "size": 20,
          "start": 0
         },
         "type": "histogram"
        }
       ],
       "layout": {
        "barmode": "overlay",
        "legend": {
         "bgcolor": "#F5F6F9",
         "font": {
          "color": "#4D5663"
         }
        },
        "paper_bgcolor": "#F5F6F9",
        "plot_bgcolor": "#F5F6F9",
        "template": {
         "data": {
          "barpolar": [
           {
            "marker": {
             "line": {
              "color": "rgb(17,17,17)",
              "width": 0.5
             },
             "pattern": {
              "fillmode": "overlay",
              "size": 10,
              "solidity": 0.2
             }
            },
            "type": "barpolar"
           }
          ],
          "bar": [
           {
            "error_x": {
             "color": "#f2f5fa"
            },
            "error_y": {
             "color": "#f2f5fa"
            },
            "marker": {
             "line": {
              "color": "rgb(17,17,17)",
              "width": 0.5
             },
             "pattern": {
              "fillmode": "overlay",
              "size": 10,
              "solidity": 0.2
             }
            },
            "type": "bar"
           }
          ],
          "carpet": [
           {
            "aaxis": {
             "endlinecolor": "#A2B1C6",
             "gridcolor": "#506784",
             "linecolor": "#506784",
             "minorgridcolor": "#506784",
             "startlinecolor": "#A2B1C6"
            },
            "baxis": {
             "endlinecolor": "#A2B1C6",
             "gridcolor": "#506784",
             "linecolor": "#506784",
             "minorgridcolor": "#506784",
             "startlinecolor": "#A2B1C6"
            },
            "type": "carpet"
           }
          ],
          "choropleth": [
           {
            "colorbar": {
             "outlinewidth": 0,
             "ticks": ""
            },
            "type": "choropleth"
           }
          ],
          "contourcarpet": [
           {
            "colorbar": {
             "outlinewidth": 0,
             "ticks": ""
            },
            "type": "contourcarpet"
           }
          ],
          "contour": [
           {
            "colorbar": {
             "outlinewidth": 0,
             "ticks": ""
            },
            "colorscale": [
             [
              0.0,
              "#0d0887"
             ],
             [
              0.1111111111111111,
              "#46039f"
             ],
             [
              0.2222222222222222,
              "#7201a8"
             ],
             [
              0.3333333333333333,
              "#9c179e"
             ],
             [
              0.4444444444444444,
              "#bd3786"
             ],
             [
              0.5555555555555556,
              "#d8576b"
             ],
             [
              0.6666666666666666,
              "#ed7953"
             ],
             [
              0.7777777777777778,
              "#fb9f3a"
             ],
             [
              0.8888888888888888,
              "#fdca26"
             ],
             [
              1.0,
              "#f0f921"
             ]
            ],
            "type": "contour"
           }
          ],
          "heatmapgl": [
           {
            "colorbar": {
             "outlinewidth": 0,
             "ticks": ""
            },
            "colorscale": [
             [
              0.0,
              "#0d0887"
             ],
             [
              0.1111111111111111,
              "#46039f"
             ],
             [
              0.2222222222222222,
              "#7201a8"
             ],
             [
              0.3333333333333333,
              "#9c179e"
             ],
             [
              0.4444444444444444,
              "#bd3786"
             ],
             [
              0.5555555555555556,
              "#d8576b"
             ],
             [
              0.6666666666666666,
              "#ed7953"
             ],
             [
              0.7777777777777778,
              "#fb9f3a"
             ],
             [
              0.8888888888888888,
              "#fdca26"
             ],
             [
              1.0,
              "#f0f921"
             ]
            ],
            "type": "heatmapgl"
           }
          ],
          "heatmap": [
           {
            "colorbar": {
             "outlinewidth": 0,
             "ticks": ""
            },
            "colorscale": [
             [
              0.0,
              "#0d0887"
             ],
             [
              0.1111111111111111,
              "#46039f"
             ],
             [
              0.2222222222222222,
              "#7201a8"
             ],
             [
              0.3333333333333333,
              "#9c179e"
             ],
             [
              0.4444444444444444,
              "#bd3786"
             ],
             [
              0.5555555555555556,
              "#d8576b"
             ],
             [
              0.6666666666666666,
              "#ed7953"
             ],
             [
              0.7777777777777778,
              "#fb9f3a"
             ],
             [
              0.8888888888888888,
              "#fdca26"
             ],
             [
              1.0,
              "#f0f921"
             ]
            ],
            "type": "heatmap"
           }
          ],
          "histogram2dcontour": [
           {
            "colorbar": {
             "outlinewidth": 0,
             "ticks": ""
            },
            "colorscale": [
             [
              0.0,
              "#0d0887"
             ],
             [
              0.1111111111111111,
              "#46039f"
             ],
             [
              0.2222222222222222,
              "#7201a8"
             ],
             [
              0.3333333333333333,
              "#9c179e"
             ],
             [
              0.4444444444444444,
              "#bd3786"
             ],
             [
              0.5555555555555556,
              "#d8576b"
             ],
             [
              0.6666666666666666,
              "#ed7953"
             ],
             [
              0.7777777777777778,
              "#fb9f3a"
             ],
             [
              0.8888888888888888,
              "#fdca26"
             ],
             [
              1.0,
              "#f0f921"
             ]
            ],
            "type": "histogram2dcontour"
           }
          ],
          "histogram2d": [
           {
            "colorbar": {
             "outlinewidth": 0,
             "ticks": ""
            },
            "colorscale": [
             [
              0.0,
              "#0d0887"
             ],
             [
              0.1111111111111111,
              "#46039f"
             ],
             [
              0.2222222222222222,
              "#7201a8"
             ],
             [
              0.3333333333333333,
              "#9c179e"
             ],
             [
              0.4444444444444444,
              "#bd3786"
             ],
             [
              0.5555555555555556,
              "#d8576b"
             ],
             [
              0.6666666666666666,
              "#ed7953"
             ],
             [
              0.7777777777777778,
              "#fb9f3a"
             ],
             [
              0.8888888888888888,
              "#fdca26"
             ],
             [
              1.0,
              "#f0f921"
             ]
            ],
            "type": "histogram2d"
           }
          ],
          "histogram": [
           {
            "marker": {
             "pattern": {
              "fillmode": "overlay",
              "size": 10,
              "solidity": 0.2
             }
            },
            "type": "histogram"
           }
          ],
          "mesh3d": [
           {
            "colorbar": {
             "outlinewidth": 0,
             "ticks": ""
            },
            "type": "mesh3d"
           }
          ],
          "parcoords": [
           {
            "line": {
             "colorbar": {
              "outlinewidth": 0,
              "ticks": ""
             }
            },
            "type": "parcoords"
           }
          ],
          "pie": [
           {
            "automargin": true,
            "type": "pie"
           }
          ],
          "scatter3d": [
           {
            "line": {
             "colorbar": {
              "outlinewidth": 0,
              "ticks": ""
             }
            },
            "marker": {
             "colorbar": {
              "outlinewidth": 0,
              "ticks": ""
             }
            },
            "type": "scatter3d"
           }
          ],
          "scattercarpet": [
           {
            "marker": {
             "colorbar": {
              "outlinewidth": 0,
              "ticks": ""
             }
            },
            "type": "scattercarpet"
           }
          ],
          "scattergeo": [
           {
            "marker": {
             "colorbar": {
              "outlinewidth": 0,
              "ticks": ""
             }
            },
            "type": "scattergeo"
           }
          ],
          "scattergl": [
           {
            "marker": {
             "line": {
              "color": "#283442"
             }
            },
            "type": "scattergl"
           }
          ],
          "scattermapbox": [
           {
            "marker": {
             "colorbar": {
              "outlinewidth": 0,
              "ticks": ""
             }
            },
            "type": "scattermapbox"
           }
          ],
          "scatterpolargl": [
           {
            "marker": {
             "colorbar": {
              "outlinewidth": 0,
              "ticks": ""
             }
            },
            "type": "scatterpolargl"
           }
          ],
          "scatterpolar": [
           {
            "marker": {
             "colorbar": {
              "outlinewidth": 0,
              "ticks": ""
             }
            },
            "type": "scatterpolar"
           }
          ],
          "scatter": [
           {
            "marker": {
             "line": {
              "color": "#283442"
             }
            },
            "type": "scatter"
           }
          ],
          "scatterternary": [
           {
            "marker": {
             "colorbar": {
              "outlinewidth": 0,
              "ticks": ""
             }
            },
            "type": "scatterternary"
           }
          ],
          "surface": [
           {
            "colorbar": {
             "outlinewidth": 0,
             "ticks": ""
            },
            "colorscale": [
             [
              0.0,
              "#0d0887"
             ],
             [
              0.1111111111111111,
              "#46039f"
             ],
             [
              0.2222222222222222,
              "#7201a8"
             ],
             [
              0.3333333333333333,
              "#9c179e"
             ],
             [
              0.4444444444444444,
              "#bd3786"
             ],
             [
              0.5555555555555556,
              "#d8576b"
             ],
             [
              0.6666666666666666,
              "#ed7953"
             ],
             [
              0.7777777777777778,
              "#fb9f3a"
             ],
             [
              0.8888888888888888,
              "#fdca26"
             ],
             [
              1.0,
              "#f0f921"
             ]
            ],
            "type": "surface"
           }
          ],
          "table": [
           {
            "cells": {
             "fill": {
              "color": "#506784"
             },
             "line": {
              "color": "rgb(17,17,17)"
             }
            },
            "header": {
             "fill": {
              "color": "#2a3f5f"
             },
             "line": {
              "color": "rgb(17,17,17)"
             }
            },
            "type": "table"
           }
          ]
         },
         "layout": {
          "annotationdefaults": {
           "arrowcolor": "#f2f5fa",
           "arrowhead": 0,
           "arrowwidth": 1
          },
          "autotypenumbers": "strict",
          "coloraxis": {
           "colorbar": {
            "outlinewidth": 0,
            "ticks": ""
           }
          },
          "colorscale": {
           "diverging": [
            [
             0,
             "#8e0152"
            ],
            [
             0.1,
             "#c51b7d"
            ],
            [
             0.2,
             "#de77ae"
            ],
            [
             0.3,
             "#f1b6da"
            ],
            [
             0.4,
             "#fde0ef"
            ],
            [
             0.5,
             "#f7f7f7"
            ],
            [
             0.6,
             "#e6f5d0"
            ],
            [
             0.7,
             "#b8e186"
            ],
            [
             0.8,
             "#7fbc41"
            ],
            [
             0.9,
             "#4d9221"
            ],
            [
             1,
             "#276419"
            ]
           ],
           "sequential": [
            [
             0.0,
             "#0d0887"
            ],
            [
             0.1111111111111111,
             "#46039f"
            ],
            [
             0.2222222222222222,
             "#7201a8"
            ],
            [
             0.3333333333333333,
             "#9c179e"
            ],
            [
             0.4444444444444444,
             "#bd3786"
            ],
            [
             0.5555555555555556,
             "#d8576b"
            ],
            [
             0.6666666666666666,
             "#ed7953"
            ],
            [
             0.7777777777777778,
             "#fb9f3a"
            ],
            [
             0.8888888888888888,
             "#fdca26"
            ],
            [
             1.0,
             "#f0f921"
            ]
           ],
           "sequentialminus": [
            [
             0.0,
             "#0d0887"
            ],
            [
             0.1111111111111111,
             "#46039f"
            ],
            [
             0.2222222222222222,
             "#7201a8"
            ],
            [
             0.3333333333333333,
             "#9c179e"
            ],
            [
             0.4444444444444444,
             "#bd3786"
            ],
            [
             0.5555555555555556,
             "#d8576b"
            ],
            [
             0.6666666666666666,
             "#ed7953"
            ],
            [
             0.7777777777777778,
             "#fb9f3a"
            ],
            [
             0.8888888888888888,
             "#fdca26"
            ],
            [
             1.0,
             "#f0f921"
            ]
           ]
          },
          "colorway": [
           "#636efa",
           "#EF553B",
           "#00cc96",
           "#ab63fa",
           "#FFA15A",
           "#19d3f3",
           "#FF6692",
           "#B6E880",
           "#FF97FF",
           "#FECB52"
          ],
          "font": {
           "color": "#f2f5fa"
          },
          "geo": {
           "bgcolor": "rgb(17,17,17)",
           "lakecolor": "rgb(17,17,17)",
           "landcolor": "rgb(17,17,17)",
           "showlakes": true,
           "showland": true,
           "subunitcolor": "#506784"
          },
          "hoverlabel": {
           "align": "left"
          },
          "hovermode": "closest",
          "mapbox": {
           "style": "dark"
          },
          "paper_bgcolor": "rgb(17,17,17)",
          "plot_bgcolor": "rgb(17,17,17)",
          "polar": {
           "angularaxis": {
            "gridcolor": "#506784",
            "linecolor": "#506784",
            "ticks": ""
           },
           "bgcolor": "rgb(17,17,17)",
           "radialaxis": {
            "gridcolor": "#506784",
            "linecolor": "#506784",
            "ticks": ""
           }
          },
          "scene": {
           "xaxis": {
            "backgroundcolor": "rgb(17,17,17)",
            "gridcolor": "#506784",
            "gridwidth": 2,
            "linecolor": "#506784",
            "showbackground": true,
            "ticks": "",
            "zerolinecolor": "#C8D4E3"
           },
           "yaxis": {
            "backgroundcolor": "rgb(17,17,17)",
            "gridcolor": "#506784",
            "gridwidth": 2,
            "linecolor": "#506784",
            "showbackground": true,
            "ticks": "",
            "zerolinecolor": "#C8D4E3"
           },
           "zaxis": {
            "backgroundcolor": "rgb(17,17,17)",
            "gridcolor": "#506784",
            "gridwidth": 2,
            "linecolor": "#506784",
            "showbackground": true,
            "ticks": "",
            "zerolinecolor": "#C8D4E3"
           }
          },
          "shapedefaults": {
           "line": {
            "color": "#f2f5fa"
           }
          },
          "sliderdefaults": {
           "bgcolor": "#C8D4E3",
           "bordercolor": "rgb(17,17,17)",
           "borderwidth": 1,
           "tickwidth": 0
          },
          "ternary": {
           "aaxis": {
            "gridcolor": "#506784",
            "linecolor": "#506784",
            "ticks": ""
           },
           "baxis": {
            "gridcolor": "#506784",
            "linecolor": "#506784",
            "ticks": ""
           },
           "bgcolor": "rgb(17,17,17)",
           "caxis": {
            "gridcolor": "#506784",
            "linecolor": "#506784",
            "ticks": ""
           }
          },
          "title": {
           "x": 0.05
          },
          "updatemenudefaults": {
           "bgcolor": "#506784",
           "borderwidth": 0
          },
          "xaxis": {
           "automargin": true,
           "gridcolor": "#283442",
           "linecolor": "#506784",
           "ticks": "",
           "title": {
            "standoff": 15
           },
           "zerolinecolor": "#283442",
           "zerolinewidth": 2
          },
          "yaxis": {
           "automargin": true,
           "gridcolor": "#283442",
           "linecolor": "#506784",
           "ticks": "",
           "title": {
            "standoff": 15
           },
           "zerolinecolor": "#283442",
           "zerolinewidth": 2
          }
         }
        },
        "title": {
         "font": {
          "color": "#4D5663"
         }
        },
        "xaxis": {
         "gridcolor": "#E1E5ED",
         "showgrid": true,
         "tickfont": {
          "color": "#4D5663"
         },
         "title": {
          "font": {
           "color": "#4D5663"
          },
          "text": ""
         },
         "zerolinecolor": "#E1E5ED"
        },
        "yaxis": {
         "gridcolor": "#E1E5ED",
         "showgrid": true,
         "tickfont": {
          "color": "#4D5663"
         },
         "title": {
          "font": {
           "color": "#4D5663"
          },
          "text": ""
         },
         "zerolinecolor": "#E1E5ED"
        }
       },
       "config": {
        "showLink": true,
        "linkText": "Export to plot.ly",
        "plotlyServerURL": "https://plot.ly"
       }
      },
      "text/html": "<div>                            <div id=\"3c118a35-3ec9-4eab-949c-b50615913aa7\" class=\"plotly-graph-div\" style=\"height:525px; width:100%;\"></div>            <script type=\"text/javascript\">                require([\"plotly\"], function(Plotly) {                    window.PLOTLYENV=window.PLOTLYENV || {};\n                    window.PLOTLYENV.BASE_URL='https://plot.ly';                                    if (document.getElementById(\"3c118a35-3ec9-4eab-949c-b50615913aa7\")) {                    Plotly.newPlot(                        \"3c118a35-3ec9-4eab-949c-b50615913aa7\",                        [{\"autobinx\":false,\"histfunc\":\"count\",\"histnorm\":\"\",\"marker\":{\"color\":\"rgba(255, 153, 51, 1.0)\",\"line\":{\"color\":\"#4D5663\",\"width\":1.3}},\"name\":\"Survived\",\"opacity\":0.8,\"orientation\":\"v\",\"x\":[71.2833,7.925,53.1,11.1333,30.0708,16.7,26.55,16.0,13.0,7.225,13.0,8.0292,35.5,31.3875,7.8792,146.5208,7.75,7.2292,11.2417,41.5792,7.8792,7.75,76.7292,26.0,35.5,10.5,27.75,80.0,15.2458,10.5,7.925,56.4958,29.0,12.475,9.5,7.7875,10.5,15.85,263.0,63.3583,23.0,7.65,7.775,24.15,13.0,11.2417,7.1417,22.3583,26.0,26.2833,7.75,15.85,7.7958,66.6,7.7333,15.75,20.525,55.0,11.1333,39.0,22.025,15.5,26.55,13.0,7.8542,26.0,27.7208,146.5208,7.75,8.05,18.7875,7.75,31.0,21.0,113.275,7.925,76.2917,8.05,90.0,10.5,83.475,31.3875,26.25,15.5,14.5,52.5542,15.2458,79.2,86.5,512.3292,26.0,31.3875,7.775,153.4625,135.6333,0.0,19.5,7.75,77.9583,20.25,8.05,9.5,13.0,7.75,78.85,91.0792,30.5,247.5208,7.75,23.25,12.35,151.55,110.8833,108.9,56.9292,83.1583,262.375,7.8542,26.0,164.8667,134.5,12.35,29.0,135.6333,13.0,20.525,57.9792,23.25,133.65,134.5,8.05,26.0,263.0,13.0,13.0,16.1,15.9,55.0,7.8792,7.8792,75.25,7.2292,7.75,69.3,55.4417,82.1708,7.25,227.525,15.7417,52.0,13.0,12.0,120.0,7.7958,113.275,16.7,12.65,7.925,18.75,90.0,7.925,32.5,13.0,26.0,26.0,8.05,26.55,16.1,26.0,120.0,18.75,26.25,13.0,8.1125,81.8583,19.5,26.55,19.2583,30.5,89.1042,7.8958,51.8625,10.5,26.55,19.2583,27.75,13.7917,12.2875,9.5875,91.0792,90.0,15.9,78.2667,86.5,26.0,26.55,56.4958,7.75,26.2875,59.4,10.5,26.0,93.5,57.9792,10.5,26.0,22.3583,26.25,106.425,49.5,71.0,26.0,26.0,13.8625,36.75,110.8833,7.225,7.775,39.6,79.65,17.4,7.8542,10.5,51.4792,26.3875,7.75,13.0,55.9,7.925,30.0,110.8833,79.65,79.2,78.2667,33.0,56.9292,27.0,26.55,30.5,41.5792,153.4625,15.5,65.0,39.0,52.5542,15.7417,77.9583,30.0,30.5,13.0,69.3,56.4958,19.2583,76.7292,35.5,7.55,23.0,7.8292,133.65,7.925,52.0,39.0,13.0,9.8417,512.3292,76.7292,211.3375,57.0,13.4167,56.4958,7.7333,227.525,26.2875,13.5,26.2875,151.55,15.2458,49.5042,52.0,227.525,10.5,33.0,53.1,21.0,7.7375,211.3375,512.3292,30.0,262.375,7.925,13.0,23.0,12.475,65.0,14.5,86.5,7.2292,120.0,77.9583,23.0,12.475,211.3375,7.2292,57.0,7.4958,20.575,25.9292,8.6833,26.25,120.0,8.5167,6.975,53.1,93.5,8.6625,12.475,37.0042,7.75,80.0,14.4542,18.75,83.1583,56.4958,29.7,31.0,89.1042,39.4,9.35,164.8667,26.55,19.2583,25.9292,13.0,13.8583,11.1333,52.5542,24.0,7.225,83.1583,26.0,30.0,30.0,null,null,null,null,null,null,null,null,null,null,null,null,null,null,null,null,null,null,null,null,null,null,null,null,null,null,null,null,null,null,null,null,null,null,null,null,null,null,null,null,null,null,null,null,null,null,null,null,null,null,null,null,null,null,null,null,null,null,null,null,null,null,null,null,null,null,null,null,null,null,null,null,null,null,null,null,null,null,null,null,null,null,null,null,null,null,null,null,null,null,null,null,null,null,null,null,null,null,null,null,null,null,null,null,null,null,null,null,null,null,null,null,null,null,null,null,null,null,null,null,null,null,null,null,null,null,null,null,null,null,null,null,null,null,null,null,null,null,null,null,null,null,null,null,null,null,null,null,null,null,null,null,null,null,null,null,null,null,null,null,null,null,null,null,null,null,null,null,null,null,null,null,null,null,null,null,null,null,null,null,null,null,null,null,null,null,null,null,null,null,null,null,null,null,null,null,null,null,null,null,null,null,null,null,null,null,null,null,null,null,null,null,null,null,null,null,null,null,null,null,null,null,null,null,null,null,null,null,null,null,null,null,null,null,null,null,null,null,null,null,null,null,null,null,null,null,null,null,null,null,null,null,null,null,null,null,null,null,null,null,null,null,null,null,null,null,null,null,null,null,null,null,null,null,null,null,null,null,null,null,null,null,null,null,null,null,null,null,null,null,null,null,null,null,null,null,null,null,null,null,null,null,null,null,null,null,null,null,null,null,null,null,null,null,null,null,null,null,null,null,null,null,null,null,null,null,null,null,null,null,null,null,null,null,null,null,null,null,null,null,null,null,null,null,null,null,null,null,null,null,null,null,null,null,null,null,null,null,null,null,null,null,null,null,null,null,null,null,null,null,null,null,null,null,null,null,null,null,null,null,null,null,null,null,null,null,null,null,null,null,null,null,null,null,null,null,null,null,null,null,null,null,null,null,null,null,null,null,null,null,null,null,null,null,null,null,null,null,null,null,null,null,null,null,null,null,null,null,null,null,null,null,null,null,null,null,null,null,null,null,null,null,null,null,null,null,null,null,null,null,null,null,null,null,null,null,null,null,null,null,null,null,null,null,null,null,null,null,null,null,null,null,null,null,null,null,null,null,null,null,null,null,null,null,null,null,null,null,null,null,null,null,null,null,null,null,null,null,null,null,null,null,null,null,null,null,null,null,null,null,null,null,null,null,null,null,null,null,null,null,null,null,null,null,null,null,null,null,null,null,null,null,null,null,null,null,null,null,null,null,null,null,null,null,null,null,null,null,null],\"xbins\":{\"end\":600,\"size\":20,\"start\":0},\"type\":\"histogram\"},{\"autobinx\":false,\"histfunc\":\"count\",\"histnorm\":\"\",\"marker\":{\"color\":\"rgba(55, 128, 191, 1.0)\",\"line\":{\"color\":\"#4D5663\",\"width\":1.3}},\"name\":\"Dead\",\"opacity\":0.8,\"orientation\":\"v\",\"x\":[null,null,null,null,null,null,null,null,null,null,null,null,null,null,null,null,null,null,null,null,null,null,null,null,null,null,null,null,null,null,null,null,null,null,null,null,null,null,null,null,null,null,null,null,null,null,null,null,null,null,null,null,null,null,null,null,null,null,null,null,null,null,null,null,null,null,null,null,null,null,null,null,null,null,null,null,null,null,null,null,null,null,null,null,null,null,null,null,null,null,null,null,null,null,null,null,null,null,null,null,null,null,null,null,null,null,null,null,null,null,null,null,null,null,null,null,null,null,null,null,null,null,null,null,null,null,null,null,null,null,null,null,null,null,null,null,null,null,null,null,null,null,null,null,null,null,null,null,null,null,null,null,null,null,null,null,null,null,null,null,null,null,null,null,null,null,null,null,null,null,null,null,null,null,null,null,null,null,null,null,null,null,null,null,null,null,null,null,null,null,null,null,null,null,null,null,null,null,null,null,null,null,null,null,null,null,null,null,null,null,null,null,null,null,null,null,null,null,null,null,null,null,null,null,null,null,null,null,null,null,null,null,null,null,null,null,null,null,null,null,null,null,null,null,null,null,null,null,null,null,null,null,null,null,null,null,null,null,null,null,null,null,null,null,null,null,null,null,null,null,null,null,null,null,null,null,null,null,null,null,null,null,null,null,null,null,null,null,null,null,null,null,null,null,null,null,null,null,null,null,null,null,null,null,null,null,null,null,null,null,null,null,null,null,null,null,null,null,null,null,null,null,null,null,null,null,null,null,null,null,null,null,null,null,null,null,null,null,null,null,null,null,7.25,8.05,8.4583,51.8625,21.075,8.05,31.275,7.8542,29.125,18.0,26.0,21.075,7.225,263.0,7.8958,27.7208,10.5,82.1708,52.0,8.05,18.0,9.475,21.0,7.8958,8.05,15.5,21.6792,17.8,39.6875,7.8,61.9792,7.2292,46.9,7.2292,83.475,27.9,27.7208,8.1583,8.6625,10.5,46.9,73.5,14.4542,7.65,7.8958,8.05,9.0,47.1,34.375,8.05,8.05,8.05,7.8542,61.175,20.575,7.25,8.05,34.6542,26.0,7.8958,7.8958,77.2875,8.6542,7.925,7.8958,7.8958,52.0,14.4542,8.05,9.825,14.4583,7.925,7.75,21.0,247.5208,31.275,73.5,8.05,30.0708,77.2875,7.75,6.975,7.8958,7.05,14.5,13.0,15.0458,53.1,9.2167,79.2,15.2458,6.75,11.5,36.75,34.375,26.0,13.0,12.525,8.05,14.5,7.3125,61.3792,8.05,8.6625,69.55,16.1,7.775,8.6625,39.6875,27.9,25.925,56.4958,33.5,29.125,7.925,30.6958,7.8542,25.4667,28.7125,13.0,0.0,69.55,15.05,31.3875,50.0,15.5,7.8958,13.0,7.75,8.4042,13.0,9.5,69.55,6.4958,7.225,10.4625,15.85,7.05,7.25,13.0,7.75,27.0,10.5,13.0,8.05,7.8958,9.35,7.25,13.0,25.4667,7.775,13.5,10.5,7.55,26.0,10.5,12.275,14.4542,10.5,7.125,7.225,90.0,7.775,26.0,7.25,10.4625,26.55,16.1,20.2125,7.75,79.65,0.0,7.75,10.5,39.6875,31.0,29.7,7.75,0.0,29.125,7.75,7.8542,9.5,26.0,8.6625,7.8958,12.875,8.85,7.8958,27.7208,7.2292,151.55,0.0,8.05,24.0,26.0,7.8958,26.25,14.0,7.25,7.8958,69.55,6.2375,28.5,153.4625,18.0,7.8958,66.6,35.5,13.0,13.0,13.0,8.6625,9.225,35.0,7.2292,17.8,7.225,9.5,13.0,27.9,27.7208,14.4542,7.05,15.5,7.25,6.4958,8.05,135.6333,21.075,211.5,4.0125,7.775,7.925,7.8958,73.5,46.9,7.7292,7.925,7.7958,7.8542,26.0,10.5,8.05,9.825,15.85,8.6625,21.0,7.75,7.775,25.4667,7.8958,6.8583,0.0,8.05,13.0,24.15,7.8958,7.7333,7.875,14.4,20.2125,7.25,7.75,7.125,55.9,34.375,263.0,10.5,9.5,7.775,27.75,19.9667,27.75,8.05,26.55,7.75,8.05,38.5,13.0,8.05,7.05,0.0,26.55,7.725,7.25,8.6625,9.8375,52.0,21.0,7.0458,7.5208,46.9,0.0,8.05,25.4667,29.7,8.05,19.9667,7.25,30.5,49.5042,8.05,14.4583,15.1,151.55,7.7958,8.6625,7.75,7.6292,9.5875,108.9,22.525,8.05,7.4958,34.0208,24.15,7.8958,7.8958,7.225,7.2292,7.75,221.7792,7.925,11.5,7.2292,7.2292,8.6625,26.55,14.5,31.275,31.275,106.425,26.0,20.525,26.0,7.8292,26.55,227.525,7.75,7.8958,13.5,8.05,8.05,24.15,7.8958,21.075,7.2292,8.05,14.5,14.4583,26.0,40.125,8.7125,15.0,8.05,8.05,7.125,7.25,7.75,26.0,24.15,0.0,7.225,7.8958,42.4,8.05,15.55,7.8958,31.275,7.05,7.75,8.05,14.4,16.1,10.5,14.4542,7.8542,16.1,32.3208,12.35,7.8958,7.7333,7.0542,0.0,27.9,7.925,26.25,39.6875,16.1,7.8542,27.9,7.8958,7.55,7.8958,8.4333,6.75,73.5,7.8958,15.5,13.0,113.275,7.225,25.5875,7.4958,73.5,13.0,7.775,8.05,52.0,10.5,0.0,7.775,8.05,46.9,8.1375,9.225,46.9,39.0,41.5792,39.6875,10.1708,7.7958,7.225,26.55,13.5,8.05,110.8833,7.65,14.4542,7.7417,7.8542,26.0,26.55,9.4833,13.0,7.65,15.5,7.775,7.0542,13.0,13.0,8.6625,26.0,7.925,18.7875,0.0,13.0,13.0,16.1,34.375,7.8958,7.8958,78.85,16.1,71.0,20.25,53.1,7.75,9.5,7.8958,7.7958,11.5,8.05,14.5,7.125,7.775,39.6,7.75,24.15,8.3625,9.5,7.8542,10.5,7.225,7.75,7.75,7.7375,30.0,23.45,7.05,7.25,29.125,79.2,7.75,26.0,69.55,30.6958,7.8958,13.0,7.2292,24.15,13.0,7.775,0.0,7.775,13.0,7.8875,24.15,10.5,31.275,8.05,0.0,7.925,37.0042,6.45,27.9,0.0,39.6875,6.95,56.4958,7.2292,7.8542,8.3,8.6625,8.05,7.925,10.5,6.4375,8.6625,7.55,69.55,7.8958,33.0,31.275,7.775,15.2458,26.0,7.2292,14.1083,11.5,69.55,13.0,50.4958,9.5,7.8958,5.0,9.0,9.8458,7.8958,7.8958,7.8958,10.5167,10.5,7.05,29.125,13.0,23.45,7.75],\"xbins\":{\"end\":600,\"size\":20,\"start\":0},\"type\":\"histogram\"}],                        {\"barmode\":\"overlay\",\"legend\":{\"bgcolor\":\"#F5F6F9\",\"font\":{\"color\":\"#4D5663\"}},\"paper_bgcolor\":\"#F5F6F9\",\"plot_bgcolor\":\"#F5F6F9\",\"template\":{\"data\":{\"barpolar\":[{\"marker\":{\"line\":{\"color\":\"rgb(17,17,17)\",\"width\":0.5},\"pattern\":{\"fillmode\":\"overlay\",\"size\":10,\"solidity\":0.2}},\"type\":\"barpolar\"}],\"bar\":[{\"error_x\":{\"color\":\"#f2f5fa\"},\"error_y\":{\"color\":\"#f2f5fa\"},\"marker\":{\"line\":{\"color\":\"rgb(17,17,17)\",\"width\":0.5},\"pattern\":{\"fillmode\":\"overlay\",\"size\":10,\"solidity\":0.2}},\"type\":\"bar\"}],\"carpet\":[{\"aaxis\":{\"endlinecolor\":\"#A2B1C6\",\"gridcolor\":\"#506784\",\"linecolor\":\"#506784\",\"minorgridcolor\":\"#506784\",\"startlinecolor\":\"#A2B1C6\"},\"baxis\":{\"endlinecolor\":\"#A2B1C6\",\"gridcolor\":\"#506784\",\"linecolor\":\"#506784\",\"minorgridcolor\":\"#506784\",\"startlinecolor\":\"#A2B1C6\"},\"type\":\"carpet\"}],\"choropleth\":[{\"colorbar\":{\"outlinewidth\":0,\"ticks\":\"\"},\"type\":\"choropleth\"}],\"contourcarpet\":[{\"colorbar\":{\"outlinewidth\":0,\"ticks\":\"\"},\"type\":\"contourcarpet\"}],\"contour\":[{\"colorbar\":{\"outlinewidth\":0,\"ticks\":\"\"},\"colorscale\":[[0.0,\"#0d0887\"],[0.1111111111111111,\"#46039f\"],[0.2222222222222222,\"#7201a8\"],[0.3333333333333333,\"#9c179e\"],[0.4444444444444444,\"#bd3786\"],[0.5555555555555556,\"#d8576b\"],[0.6666666666666666,\"#ed7953\"],[0.7777777777777778,\"#fb9f3a\"],[0.8888888888888888,\"#fdca26\"],[1.0,\"#f0f921\"]],\"type\":\"contour\"}],\"heatmapgl\":[{\"colorbar\":{\"outlinewidth\":0,\"ticks\":\"\"},\"colorscale\":[[0.0,\"#0d0887\"],[0.1111111111111111,\"#46039f\"],[0.2222222222222222,\"#7201a8\"],[0.3333333333333333,\"#9c179e\"],[0.4444444444444444,\"#bd3786\"],[0.5555555555555556,\"#d8576b\"],[0.6666666666666666,\"#ed7953\"],[0.7777777777777778,\"#fb9f3a\"],[0.8888888888888888,\"#fdca26\"],[1.0,\"#f0f921\"]],\"type\":\"heatmapgl\"}],\"heatmap\":[{\"colorbar\":{\"outlinewidth\":0,\"ticks\":\"\"},\"colorscale\":[[0.0,\"#0d0887\"],[0.1111111111111111,\"#46039f\"],[0.2222222222222222,\"#7201a8\"],[0.3333333333333333,\"#9c179e\"],[0.4444444444444444,\"#bd3786\"],[0.5555555555555556,\"#d8576b\"],[0.6666666666666666,\"#ed7953\"],[0.7777777777777778,\"#fb9f3a\"],[0.8888888888888888,\"#fdca26\"],[1.0,\"#f0f921\"]],\"type\":\"heatmap\"}],\"histogram2dcontour\":[{\"colorbar\":{\"outlinewidth\":0,\"ticks\":\"\"},\"colorscale\":[[0.0,\"#0d0887\"],[0.1111111111111111,\"#46039f\"],[0.2222222222222222,\"#7201a8\"],[0.3333333333333333,\"#9c179e\"],[0.4444444444444444,\"#bd3786\"],[0.5555555555555556,\"#d8576b\"],[0.6666666666666666,\"#ed7953\"],[0.7777777777777778,\"#fb9f3a\"],[0.8888888888888888,\"#fdca26\"],[1.0,\"#f0f921\"]],\"type\":\"histogram2dcontour\"}],\"histogram2d\":[{\"colorbar\":{\"outlinewidth\":0,\"ticks\":\"\"},\"colorscale\":[[0.0,\"#0d0887\"],[0.1111111111111111,\"#46039f\"],[0.2222222222222222,\"#7201a8\"],[0.3333333333333333,\"#9c179e\"],[0.4444444444444444,\"#bd3786\"],[0.5555555555555556,\"#d8576b\"],[0.6666666666666666,\"#ed7953\"],[0.7777777777777778,\"#fb9f3a\"],[0.8888888888888888,\"#fdca26\"],[1.0,\"#f0f921\"]],\"type\":\"histogram2d\"}],\"histogram\":[{\"marker\":{\"pattern\":{\"fillmode\":\"overlay\",\"size\":10,\"solidity\":0.2}},\"type\":\"histogram\"}],\"mesh3d\":[{\"colorbar\":{\"outlinewidth\":0,\"ticks\":\"\"},\"type\":\"mesh3d\"}],\"parcoords\":[{\"line\":{\"colorbar\":{\"outlinewidth\":0,\"ticks\":\"\"}},\"type\":\"parcoords\"}],\"pie\":[{\"automargin\":true,\"type\":\"pie\"}],\"scatter3d\":[{\"line\":{\"colorbar\":{\"outlinewidth\":0,\"ticks\":\"\"}},\"marker\":{\"colorbar\":{\"outlinewidth\":0,\"ticks\":\"\"}},\"type\":\"scatter3d\"}],\"scattercarpet\":[{\"marker\":{\"colorbar\":{\"outlinewidth\":0,\"ticks\":\"\"}},\"type\":\"scattercarpet\"}],\"scattergeo\":[{\"marker\":{\"colorbar\":{\"outlinewidth\":0,\"ticks\":\"\"}},\"type\":\"scattergeo\"}],\"scattergl\":[{\"marker\":{\"line\":{\"color\":\"#283442\"}},\"type\":\"scattergl\"}],\"scattermapbox\":[{\"marker\":{\"colorbar\":{\"outlinewidth\":0,\"ticks\":\"\"}},\"type\":\"scattermapbox\"}],\"scatterpolargl\":[{\"marker\":{\"colorbar\":{\"outlinewidth\":0,\"ticks\":\"\"}},\"type\":\"scatterpolargl\"}],\"scatterpolar\":[{\"marker\":{\"colorbar\":{\"outlinewidth\":0,\"ticks\":\"\"}},\"type\":\"scatterpolar\"}],\"scatter\":[{\"marker\":{\"line\":{\"color\":\"#283442\"}},\"type\":\"scatter\"}],\"scatterternary\":[{\"marker\":{\"colorbar\":{\"outlinewidth\":0,\"ticks\":\"\"}},\"type\":\"scatterternary\"}],\"surface\":[{\"colorbar\":{\"outlinewidth\":0,\"ticks\":\"\"},\"colorscale\":[[0.0,\"#0d0887\"],[0.1111111111111111,\"#46039f\"],[0.2222222222222222,\"#7201a8\"],[0.3333333333333333,\"#9c179e\"],[0.4444444444444444,\"#bd3786\"],[0.5555555555555556,\"#d8576b\"],[0.6666666666666666,\"#ed7953\"],[0.7777777777777778,\"#fb9f3a\"],[0.8888888888888888,\"#fdca26\"],[1.0,\"#f0f921\"]],\"type\":\"surface\"}],\"table\":[{\"cells\":{\"fill\":{\"color\":\"#506784\"},\"line\":{\"color\":\"rgb(17,17,17)\"}},\"header\":{\"fill\":{\"color\":\"#2a3f5f\"},\"line\":{\"color\":\"rgb(17,17,17)\"}},\"type\":\"table\"}]},\"layout\":{\"annotationdefaults\":{\"arrowcolor\":\"#f2f5fa\",\"arrowhead\":0,\"arrowwidth\":1},\"autotypenumbers\":\"strict\",\"coloraxis\":{\"colorbar\":{\"outlinewidth\":0,\"ticks\":\"\"}},\"colorscale\":{\"diverging\":[[0,\"#8e0152\"],[0.1,\"#c51b7d\"],[0.2,\"#de77ae\"],[0.3,\"#f1b6da\"],[0.4,\"#fde0ef\"],[0.5,\"#f7f7f7\"],[0.6,\"#e6f5d0\"],[0.7,\"#b8e186\"],[0.8,\"#7fbc41\"],[0.9,\"#4d9221\"],[1,\"#276419\"]],\"sequential\":[[0.0,\"#0d0887\"],[0.1111111111111111,\"#46039f\"],[0.2222222222222222,\"#7201a8\"],[0.3333333333333333,\"#9c179e\"],[0.4444444444444444,\"#bd3786\"],[0.5555555555555556,\"#d8576b\"],[0.6666666666666666,\"#ed7953\"],[0.7777777777777778,\"#fb9f3a\"],[0.8888888888888888,\"#fdca26\"],[1.0,\"#f0f921\"]],\"sequentialminus\":[[0.0,\"#0d0887\"],[0.1111111111111111,\"#46039f\"],[0.2222222222222222,\"#7201a8\"],[0.3333333333333333,\"#9c179e\"],[0.4444444444444444,\"#bd3786\"],[0.5555555555555556,\"#d8576b\"],[0.6666666666666666,\"#ed7953\"],[0.7777777777777778,\"#fb9f3a\"],[0.8888888888888888,\"#fdca26\"],[1.0,\"#f0f921\"]]},\"colorway\":[\"#636efa\",\"#EF553B\",\"#00cc96\",\"#ab63fa\",\"#FFA15A\",\"#19d3f3\",\"#FF6692\",\"#B6E880\",\"#FF97FF\",\"#FECB52\"],\"font\":{\"color\":\"#f2f5fa\"},\"geo\":{\"bgcolor\":\"rgb(17,17,17)\",\"lakecolor\":\"rgb(17,17,17)\",\"landcolor\":\"rgb(17,17,17)\",\"showlakes\":true,\"showland\":true,\"subunitcolor\":\"#506784\"},\"hoverlabel\":{\"align\":\"left\"},\"hovermode\":\"closest\",\"mapbox\":{\"style\":\"dark\"},\"paper_bgcolor\":\"rgb(17,17,17)\",\"plot_bgcolor\":\"rgb(17,17,17)\",\"polar\":{\"angularaxis\":{\"gridcolor\":\"#506784\",\"linecolor\":\"#506784\",\"ticks\":\"\"},\"bgcolor\":\"rgb(17,17,17)\",\"radialaxis\":{\"gridcolor\":\"#506784\",\"linecolor\":\"#506784\",\"ticks\":\"\"}},\"scene\":{\"xaxis\":{\"backgroundcolor\":\"rgb(17,17,17)\",\"gridcolor\":\"#506784\",\"gridwidth\":2,\"linecolor\":\"#506784\",\"showbackground\":true,\"ticks\":\"\",\"zerolinecolor\":\"#C8D4E3\"},\"yaxis\":{\"backgroundcolor\":\"rgb(17,17,17)\",\"gridcolor\":\"#506784\",\"gridwidth\":2,\"linecolor\":\"#506784\",\"showbackground\":true,\"ticks\":\"\",\"zerolinecolor\":\"#C8D4E3\"},\"zaxis\":{\"backgroundcolor\":\"rgb(17,17,17)\",\"gridcolor\":\"#506784\",\"gridwidth\":2,\"linecolor\":\"#506784\",\"showbackground\":true,\"ticks\":\"\",\"zerolinecolor\":\"#C8D4E3\"}},\"shapedefaults\":{\"line\":{\"color\":\"#f2f5fa\"}},\"sliderdefaults\":{\"bgcolor\":\"#C8D4E3\",\"bordercolor\":\"rgb(17,17,17)\",\"borderwidth\":1,\"tickwidth\":0},\"ternary\":{\"aaxis\":{\"gridcolor\":\"#506784\",\"linecolor\":\"#506784\",\"ticks\":\"\"},\"baxis\":{\"gridcolor\":\"#506784\",\"linecolor\":\"#506784\",\"ticks\":\"\"},\"bgcolor\":\"rgb(17,17,17)\",\"caxis\":{\"gridcolor\":\"#506784\",\"linecolor\":\"#506784\",\"ticks\":\"\"}},\"title\":{\"x\":0.05},\"updatemenudefaults\":{\"bgcolor\":\"#506784\",\"borderwidth\":0},\"xaxis\":{\"automargin\":true,\"gridcolor\":\"#283442\",\"linecolor\":\"#506784\",\"ticks\":\"\",\"title\":{\"standoff\":15},\"zerolinecolor\":\"#283442\",\"zerolinewidth\":2},\"yaxis\":{\"automargin\":true,\"gridcolor\":\"#283442\",\"linecolor\":\"#506784\",\"ticks\":\"\",\"title\":{\"standoff\":15},\"zerolinecolor\":\"#283442\",\"zerolinewidth\":2}}},\"title\":{\"font\":{\"color\":\"#4D5663\"}},\"xaxis\":{\"gridcolor\":\"#E1E5ED\",\"showgrid\":true,\"tickfont\":{\"color\":\"#4D5663\"},\"title\":{\"font\":{\"color\":\"#4D5663\"},\"text\":\"\"},\"zerolinecolor\":\"#E1E5ED\"},\"yaxis\":{\"gridcolor\":\"#E1E5ED\",\"showgrid\":true,\"tickfont\":{\"color\":\"#4D5663\"},\"title\":{\"font\":{\"color\":\"#4D5663\"},\"text\":\"\"},\"zerolinecolor\":\"#E1E5ED\"}},                        {\"showLink\": true, \"linkText\": \"Export to plot.ly\", \"plotlyServerURL\": \"https://plot.ly\", \"responsive\": true}                    ).then(function(){\n                            \nvar gd = document.getElementById('3c118a35-3ec9-4eab-949c-b50615913aa7');\nvar x = new MutationObserver(function (mutations, observer) {{\n        var display = window.getComputedStyle(gd).display;\n        if (!display || display === 'none') {{\n            console.log([gd, 'removed!']);\n            Plotly.purge(gd);\n            observer.disconnect();\n        }}\n}});\n\n// Listen for the removal of the full notebook cells\nvar notebookContainer = gd.closest('#notebook-container');\nif (notebookContainer) {{\n    x.observe(notebookContainer, {childList: true});\n}}\n\n// Listen for the clearing of the current output cell\nvar outputEl = gd.closest('.output');\nif (outputEl) {{\n    x.observe(outputEl, {childList: true});\n}}\n\n                        })                };                });            </script>        </div>"
     },
     "metadata": {},
     "output_type": "display_data"
    }
   ],
   "source": [
    "temp.iplot(kind='histogram', bins=(0, 600, 20))"
   ],
   "metadata": {
    "collapsed": false
   }
  },
  {
   "cell_type": "code",
   "execution_count": 168,
   "outputs": [
    {
     "data": {
      "text/plain": "1"
     },
     "execution_count": 168,
     "metadata": {},
     "output_type": "execute_result"
    }
   ],
   "source": [
    "df['Fare'].isnull().sum()"
   ],
   "metadata": {
    "collapsed": false
   }
  },
  {
   "cell_type": "code",
   "execution_count": 169,
   "outputs": [],
   "source": [
    "# 아무래도 Pclass 에 따라, 요금이 결정될 가능성이 높으므로\n",
    "df['Fare'].fillna(df.groupby(\"Pclass\")[\"Fare\"].transform(\"median\"), inplace=True)"
   ],
   "metadata": {
    "collapsed": false
   }
  },
  {
   "cell_type": "code",
   "execution_count": 170,
   "outputs": [],
   "source": [
    "df.loc[ df['Fare'] <= 20, 'Fare'] = 0\n",
    "df.loc[(df['Fare'] > 20) & (df['Fare'] <= 40), 'Fare'] = 1\n",
    "df.loc[(df['Fare'] > 40) & (df['Fare'] <= 60), 'Fare'] = 2\n",
    "df.loc[(df['Fare'] > 60) & (df['Fare'] <= 80), 'Fare'] = 3\n",
    "df.loc[(df['Fare'] > 80) & (df['Fare'] <= 100), 'Fare'] = 4\n",
    "df.loc[ df['Fare'] > 100, 'Fare'] = 5"
   ],
   "metadata": {
    "collapsed": false
   }
  },
  {
   "cell_type": "code",
   "execution_count": 42,
   "outputs": [
    {
     "data": {
      "text/plain": "   PassengerId  Survived  Pclass  Sex  Age  SibSp  Parch            Ticket  \\\n0            1       0.0       3    0  3.0      1      0         A/5 21171   \n1            2       1.0       1    1  4.0      1      0          PC 17599   \n2            3       1.0       3    1  3.0      0      0  STON/O2. 3101282   \n3            4       1.0       1    1  4.0      1      0            113803   \n4            5       0.0       3    0  4.0      0      0            373450   \n\n   Fare Cabin  Embarked  Initial  \n0   0.0   NaN       0.0      0.0  \n1   3.0   C85       1.0      2.0  \n2   0.0   NaN       0.0      1.0  \n3   2.0  C123       0.0      2.0  \n4   0.0   NaN       0.0      0.0  ",
      "text/html": "<div>\n<style scoped>\n    .dataframe tbody tr th:only-of-type {\n        vertical-align: middle;\n    }\n\n    .dataframe tbody tr th {\n        vertical-align: top;\n    }\n\n    .dataframe thead th {\n        text-align: right;\n    }\n</style>\n<table border=\"1\" class=\"dataframe\">\n  <thead>\n    <tr style=\"text-align: right;\">\n      <th></th>\n      <th>PassengerId</th>\n      <th>Survived</th>\n      <th>Pclass</th>\n      <th>Sex</th>\n      <th>Age</th>\n      <th>SibSp</th>\n      <th>Parch</th>\n      <th>Ticket</th>\n      <th>Fare</th>\n      <th>Cabin</th>\n      <th>Embarked</th>\n      <th>Initial</th>\n    </tr>\n  </thead>\n  <tbody>\n    <tr>\n      <th>0</th>\n      <td>1</td>\n      <td>0.0</td>\n      <td>3</td>\n      <td>0</td>\n      <td>3.0</td>\n      <td>1</td>\n      <td>0</td>\n      <td>A/5 21171</td>\n      <td>0.0</td>\n      <td>NaN</td>\n      <td>0.0</td>\n      <td>0.0</td>\n    </tr>\n    <tr>\n      <th>1</th>\n      <td>2</td>\n      <td>1.0</td>\n      <td>1</td>\n      <td>1</td>\n      <td>4.0</td>\n      <td>1</td>\n      <td>0</td>\n      <td>PC 17599</td>\n      <td>3.0</td>\n      <td>C85</td>\n      <td>1.0</td>\n      <td>2.0</td>\n    </tr>\n    <tr>\n      <th>2</th>\n      <td>3</td>\n      <td>1.0</td>\n      <td>3</td>\n      <td>1</td>\n      <td>3.0</td>\n      <td>0</td>\n      <td>0</td>\n      <td>STON/O2. 3101282</td>\n      <td>0.0</td>\n      <td>NaN</td>\n      <td>0.0</td>\n      <td>1.0</td>\n    </tr>\n    <tr>\n      <th>3</th>\n      <td>4</td>\n      <td>1.0</td>\n      <td>1</td>\n      <td>1</td>\n      <td>4.0</td>\n      <td>1</td>\n      <td>0</td>\n      <td>113803</td>\n      <td>2.0</td>\n      <td>C123</td>\n      <td>0.0</td>\n      <td>2.0</td>\n    </tr>\n    <tr>\n      <th>4</th>\n      <td>5</td>\n      <td>0.0</td>\n      <td>3</td>\n      <td>0</td>\n      <td>4.0</td>\n      <td>0</td>\n      <td>0</td>\n      <td>373450</td>\n      <td>0.0</td>\n      <td>NaN</td>\n      <td>0.0</td>\n      <td>0.0</td>\n    </tr>\n  </tbody>\n</table>\n</div>"
     },
     "execution_count": 42,
     "metadata": {},
     "output_type": "execute_result"
    }
   ],
   "source": [
    "df.head()"
   ],
   "metadata": {
    "collapsed": false
   }
  },
  {
   "cell_type": "markdown",
   "source": [
    "### 8. SibSp + Parch\n",
    "- EDA 를 통해, SibSp 와 Parch 를 별도로 구분할 때보다, 합쳤을 때, 보다 경향성이 보였으므로, 합치기로 함"
   ],
   "metadata": {
    "collapsed": false
   }
  },
  {
   "cell_type": "code",
   "execution_count": 171,
   "outputs": [
    {
     "data": {
      "text/plain": "   PassengerId  Survived  Pclass  Sex  Age            Ticket  Fare Cabin  \\\n0            1       0.0       3    0  3.0         A/5 21171   0.0   NaN   \n1            2       1.0       1    1  4.0          PC 17599   3.0   C85   \n2            3       1.0       3    1  3.0  STON/O2. 3101282   0.0   NaN   \n3            4       1.0       1    1  4.0            113803   2.0  C123   \n4            5       0.0       3    0  4.0            373450   0.0   NaN   \n\n   Embarked  Initial  Family  \n0         0      0.0       2  \n1         1      2.0       2  \n2         0      1.0       1  \n3         0      2.0       2  \n4         0      0.0       1  ",
      "text/html": "<div>\n<style scoped>\n    .dataframe tbody tr th:only-of-type {\n        vertical-align: middle;\n    }\n\n    .dataframe tbody tr th {\n        vertical-align: top;\n    }\n\n    .dataframe thead th {\n        text-align: right;\n    }\n</style>\n<table border=\"1\" class=\"dataframe\">\n  <thead>\n    <tr style=\"text-align: right;\">\n      <th></th>\n      <th>PassengerId</th>\n      <th>Survived</th>\n      <th>Pclass</th>\n      <th>Sex</th>\n      <th>Age</th>\n      <th>Ticket</th>\n      <th>Fare</th>\n      <th>Cabin</th>\n      <th>Embarked</th>\n      <th>Initial</th>\n      <th>Family</th>\n    </tr>\n  </thead>\n  <tbody>\n    <tr>\n      <th>0</th>\n      <td>1</td>\n      <td>0.0</td>\n      <td>3</td>\n      <td>0</td>\n      <td>3.0</td>\n      <td>A/5 21171</td>\n      <td>0.0</td>\n      <td>NaN</td>\n      <td>0</td>\n      <td>0.0</td>\n      <td>2</td>\n    </tr>\n    <tr>\n      <th>1</th>\n      <td>2</td>\n      <td>1.0</td>\n      <td>1</td>\n      <td>1</td>\n      <td>4.0</td>\n      <td>PC 17599</td>\n      <td>3.0</td>\n      <td>C85</td>\n      <td>1</td>\n      <td>2.0</td>\n      <td>2</td>\n    </tr>\n    <tr>\n      <th>2</th>\n      <td>3</td>\n      <td>1.0</td>\n      <td>3</td>\n      <td>1</td>\n      <td>3.0</td>\n      <td>STON/O2. 3101282</td>\n      <td>0.0</td>\n      <td>NaN</td>\n      <td>0</td>\n      <td>1.0</td>\n      <td>1</td>\n    </tr>\n    <tr>\n      <th>3</th>\n      <td>4</td>\n      <td>1.0</td>\n      <td>1</td>\n      <td>1</td>\n      <td>4.0</td>\n      <td>113803</td>\n      <td>2.0</td>\n      <td>C123</td>\n      <td>0</td>\n      <td>2.0</td>\n      <td>2</td>\n    </tr>\n    <tr>\n      <th>4</th>\n      <td>5</td>\n      <td>0.0</td>\n      <td>3</td>\n      <td>0</td>\n      <td>4.0</td>\n      <td>373450</td>\n      <td>0.0</td>\n      <td>NaN</td>\n      <td>0</td>\n      <td>0.0</td>\n      <td>1</td>\n    </tr>\n  </tbody>\n</table>\n</div>"
     },
     "execution_count": 171,
     "metadata": {},
     "output_type": "execute_result"
    }
   ],
   "source": [
    "df['Family'] = df['SibSp'] + df['Parch'] + 1\n",
    "\n",
    "drop_features = ['SibSp', 'Parch']\n",
    "df.drop(drop_features, axis=1, inplace=True)\n",
    "df.head()"
   ],
   "metadata": {
    "collapsed": false
   }
  },
  {
   "cell_type": "markdown",
   "source": [
    "### 9. Cabin"
   ],
   "metadata": {
    "collapsed": false
   }
  },
  {
   "cell_type": "code",
   "execution_count": 172,
   "outputs": [
    {
     "data": {
      "text/plain": "<AxesSubplot: >"
     },
     "execution_count": 172,
     "metadata": {},
     "output_type": "execute_result"
    },
    {
     "data": {
      "text/plain": "<Figure size 1500x800 with 2 Axes>",
      "image/png": "[encoded data removed]"
     },
     "metadata": {},
     "output_type": "display_data"
    }
   ],
   "source": [
    "import missingno\n",
    "missingno.matrix(df, figsize = (15,8))"
   ],
   "metadata": {
    "collapsed": false
   }
  },
  {
   "cell_type": "code",
   "execution_count": 173,
   "outputs": [
    {
     "data": {
      "text/plain": "array([nan, 'C85', 'C123', 'E46', 'G6', 'C103', 'D56', 'A6',\n       'C23 C25 C27', 'B78', 'D33', 'B30', 'C52', 'B28', 'C83', 'F33',\n       'F G73', 'E31', 'A5', 'D10 D12', 'D26', 'C110', 'B58 B60', 'E101',\n       'F E69', 'D47', 'B86', 'F2', 'C2', 'E33', 'B19', 'A7', 'C49', 'F4',\n       'A32', 'B4', 'B80', 'A31', 'D36', 'D15', 'C93', 'C78', 'D35',\n       'C87', 'B77', 'E67', 'B94', 'C125', 'C99', 'C118', 'D7', 'A19',\n       'B49', 'D', 'C22 C26', 'C106', 'C65', 'E36', 'C54',\n       'B57 B59 B63 B66', 'C7', 'E34', 'C32', 'B18', 'C124', 'C91', 'E40',\n       'T', 'C128', 'D37', 'B35', 'E50', 'C82', 'B96 B98', 'E10', 'E44',\n       'A34', 'C104', 'C111', 'C92', 'E38', 'D21', 'E12', 'E63', 'A14',\n       'B37', 'C30', 'D20', 'B79', 'E25', 'D46', 'B73', 'C95', 'B38',\n       'B39', 'B22', 'C86', 'C70', 'A16', 'C101', 'C68', 'A10', 'E68',\n       'B41', 'A20', 'D19', 'D50', 'D9', 'A23', 'B50', 'A26', 'D48',\n       'E58', 'C126', 'B71', 'B51 B53 B55', 'D49', 'B5', 'B20', 'F G63',\n       'C62 C64', 'E24', 'C90', 'C45', 'E8', 'B101', 'D45', 'C46', 'D30',\n       'E121', 'D11', 'E77', 'F38', 'B3', 'D6', 'B82 B84', 'D17', 'A36',\n       'B102', 'B69', 'E49', 'C47', 'D28', 'E17', 'A24', 'C50', 'B42',\n       'C148', 'B45', 'B36', 'A21', 'D34', 'A9', 'C31', 'B61', 'C53',\n       'D43', 'C130', 'C132', 'C55 C57', 'C116', 'F', 'A29', 'C6', 'C28',\n       'C51', 'C97', 'D22', 'B10', 'E45', 'E52', 'A11', 'B11', 'C80',\n       'C89', 'F E46', 'B26', 'F E57', 'A18', 'E60', 'E39 E41',\n       'B52 B54 B56', 'C39', 'B24', 'D40', 'D38', 'C105'], dtype=object)"
     },
     "execution_count": 173,
     "metadata": {},
     "output_type": "execute_result"
    }
   ],
   "source": [
    "df['Cabin'].unique() # level 값 확인"
   ],
   "metadata": {
    "collapsed": false
   }
  },
  {
   "cell_type": "code",
   "execution_count": 174,
   "outputs": [],
   "source": [
    "df['Cabin'] = df['Cabin'].fillna('U')  # Unknown 의 약자로 U 로 구분해서 넣기"
   ],
   "metadata": {
    "collapsed": false
   }
  },
  {
   "cell_type": "code",
   "execution_count": 175,
   "outputs": [],
   "source": [
    "df['Cabin'] = df['Cabin'].str[0] # 각 컬럼값을 문자열로 추출해서, 첫 글자로 대입"
   ],
   "metadata": {
    "collapsed": false
   }
  },
  {
   "cell_type": "code",
   "execution_count": 176,
   "outputs": [
    {
     "data": {
      "text/plain": "array(['U', 'C', 'E', 'G', 'D', 'A', 'B', 'F', 'T'], dtype=object)"
     },
     "execution_count": 176,
     "metadata": {},
     "output_type": "execute_result"
    }
   ],
   "source": [
    "df['Cabin'].unique()"
   ],
   "metadata": {
    "collapsed": false
   }
  },
  {
   "cell_type": "code",
   "execution_count": 177,
   "outputs": [
    {
     "data": {
      "text/plain": "0               A/5 21171\n2        STON/O2. 3101282\n4                  373450\n5                  330877\n7                  349909\n              ...        \n412                347086\n413             A.5. 3236\n415    SOTON/O.Q. 3101262\n416                359309\n417                  2668\nName: Ticket, Length: 1014, dtype: object"
     },
     "execution_count": 177,
     "metadata": {},
     "output_type": "execute_result"
    }
   ],
   "source": [
    "df[df['Cabin'] == 'U']['Ticket'] # Ticket 으로 Cabin 예측은 어려워보임"
   ],
   "metadata": {
    "collapsed": false
   }
  },
  {
   "cell_type": "code",
   "execution_count": 178,
   "outputs": [],
   "source": [
    "train = df[:ntrain]"
   ],
   "metadata": {
    "collapsed": false
   }
  },
  {
   "cell_type": "code",
   "execution_count": 179,
   "outputs": [
    {
     "data": {
      "text/html": "        <script type=\"text/javascript\">\n        window.PlotlyConfig = {MathJaxConfig: 'local'};\n        if (window.MathJax && window.MathJax.Hub && window.MathJax.Hub.Config) {window.MathJax.Hub.Config({SVG: {font: \"STIX-Web\"}});}\n        if (typeof require !== 'undefined') {\n        require.undef(\"plotly\");\n        requirejs.config({\n            paths: {\n                'plotly': ['https://cdn.plot.ly/plotly-2.12.1.min']\n            }\n        });\n        require(['plotly'], function(Plotly) {\n            window._Plotly = Plotly;\n        });\n        }\n        </script>\n        "
     },
     "metadata": {},
     "output_type": "display_data"
    },
    {
     "data": {
      "application/vnd.plotly.v1+json": {
       "data": [
        {
         "histfunc": "count",
         "histnorm": "",
         "marker": {
          "color": "rgba(255, 153, 51, 1.0)",
          "line": {
           "color": "#4D5663",
           "width": 1.3
          }
         },
         "name": "Survived",
         "opacity": 0.8,
         "orientation": "v",
         "x": [
          "C",
          "U",
          "C",
          "U",
          "U",
          "G",
          "C",
          "U",
          "U",
          "U",
          "D",
          "U",
          "A",
          "U",
          "U",
          "B",
          "U",
          "U",
          "U",
          "U",
          "U",
          "U",
          "D",
          "U",
          "C",
          "U",
          "U",
          "B",
          "U",
          "F",
          "U",
          "U",
          "U",
          "U",
          "U",
          "U",
          "U",
          "U",
          "C",
          "D",
          "U",
          "U",
          "U",
          "U",
          "E",
          "U",
          "U",
          "F",
          "U",
          "D",
          "U",
          "U",
          "U",
          "C",
          "U",
          "U",
          "U",
          "E",
          "U",
          "F",
          "U",
          "U",
          "U",
          "U",
          "U",
          "F",
          "B",
          "B",
          "U",
          "U",
          "U",
          "U",
          "A",
          "U",
          "D",
          "U",
          "D",
          "U",
          "C",
          "U",
          "C",
          "U",
          "U",
          "U",
          "U",
          "D",
          "U",
          "U",
          "B",
          "U",
          "U",
          "U",
          "U",
          "C",
          "C",
          "U",
          "U",
          "U",
          "D",
          "U",
          "U",
          "U",
          "U",
          "U",
          "U",
          "B",
          "C",
          "B",
          "U",
          "U",
          "E",
          "C",
          "U",
          "C",
          "E",
          "C",
          "B",
          "U",
          "U",
          "C",
          "E",
          "U",
          "U",
          "C",
          "D",
          "U",
          "B",
          "U",
          "U",
          "E",
          "U",
          "F",
          "C",
          "F",
          "U",
          "U",
          "U",
          "E",
          "U",
          "U",
          "D",
          "U",
          "U",
          "B",
          "E",
          "U",
          "U",
          "U",
          "U",
          "U",
          "U",
          "U",
          "B",
          "U",
          "D",
          "G",
          "U",
          "U",
          "U",
          "C",
          "U",
          "U",
          "U",
          "U",
          "U",
          "E",
          "C",
          "U",
          "U",
          "B",
          "U",
          "U",
          "U",
          "U",
          "A",
          "U",
          "U",
          "U",
          "C",
          "C",
          "U",
          "D",
          "U",
          "E",
          "U",
          "U",
          "D",
          "U",
          "U",
          "B",
          "C",
          "U",
          "D",
          "B",
          "U",
          "U",
          "U",
          "U",
          "E",
          "U",
          "F",
          "U",
          "B",
          "B",
          "U",
          "U",
          "U",
          "U",
          "U",
          "B",
          "B",
          "U",
          "U",
          "U",
          "U",
          "C",
          "U",
          "U",
          "A",
          "E",
          "U",
          "U",
          "U",
          "C",
          "E",
          "U",
          "U",
          "E",
          "U",
          "U",
          "C",
          "E",
          "B",
          "D",
          "U",
          "A",
          "U",
          "U",
          "U",
          "U",
          "C",
          "U",
          "U",
          "F",
          "D",
          "U",
          "D",
          "A",
          "B",
          "U",
          "B",
          "U",
          "U",
          "D",
          "A",
          "U",
          "U",
          "U",
          "U",
          "U",
          "C",
          "U",
          "U",
          "U",
          "B",
          "D",
          "B",
          "B",
          "U",
          "U",
          "U",
          "C",
          "E",
          "U",
          "E",
          "U",
          "U",
          "C",
          "C",
          "C",
          "E",
          "U",
          "E",
          "U",
          "U",
          "B",
          "B",
          "D",
          "B",
          "U",
          "U",
          "U",
          "E",
          "U",
          "U",
          "B",
          "U",
          "B",
          "D",
          "U",
          "U",
          "B",
          "U",
          "B",
          "U",
          "U",
          "D",
          "U",
          "U",
          "B",
          "U",
          "U",
          "E",
          "B",
          "U",
          "E",
          "U",
          "U",
          "B",
          "U",
          "U",
          "E",
          "U",
          "C",
          "U",
          "C",
          "D",
          "U",
          "U",
          "E",
          "U",
          "D",
          "U",
          "U",
          "U",
          "D",
          "U",
          "U",
          "C",
          "U",
          "B",
          "C",
          null,
          null,
          null,
          null,
          null,
          null,
          null,
          null,
          null,
          null,
          null,
          null,
          null,
          null,
          null,
          null,
          null,
          null,
          null,
          null,
          null,
          null,
          null,
          null,
          null,
          null,
          null,
          null,
          null,
          null,
          null,
          null,
          null,
          null,
          null,
          null,
          null,
          null,
          null,
          null,
          null,
          null,
          null,
          null,
          null,
          null,
          null,
          null,
          null,
          null,
          null,
          null,
          null,
          null,
          null,
          null,
          null,
          null,
          null,
          null,
          null,
          null,
          null,
          null,
          null,
          null,
          null,
          null,
          null,
          null,
          null,
          null,
          null,
          null,
          null,
          null,
          null,
          null,
          null,
          null,
          null,
          null,
          null,
          null,
          null,
          null,
          null,
          null,
          null,
          null,
          null,
          null,
          null,
          null,
          null,
          null,
          null,
          null,
          null,
          null,
          null,
          null,
          null,
          null,
          null,
          null,
          null,
          null,
          null,
          null,
          null,
          null,
          null,
          null,
          null,
          null,
          null,
          null,
          null,
          null,
          null,
          null,
          null,
          null,
          null,
          null,
          null,
          null,
          null,
          null,
          null,
          null,
          null,
          null,
          null,
          null,
          null,
          null,
          null,
          null,
          null,
          null,
          null,
          null,
          null,
          null,
          null,
          null,
          null,
          null,
          null,
          null,
          null,
          null,
          null,
          null,
          null,
          null,
          null,
          null,
          null,
          null,
          null,
          null,
          null,
          null,
          null,
          null,
          null,
          null,
          null,
          null,
          null,
          null,
          null,
          null,
          null,
          null,
          null,
          null,
          null,
          null,
          null,
          null,
          null,
          null,
          null,
          null,
          null,
          null,
          null,
          null,
          null,
          null,
          null,
          null,
          null,
          null,
          null,
          null,
          null,
          null,
          null,
          null,
          null,
          null,
          null,
          null,
          null,
          null,
          null,
          null,
          null,
          null,
          null,
          null,
          null,
          null,
          null,
          null,
          null,
          null,
          null,
          null,
          null,
          null,
          null,
          null,
          null,
          null,
          null,
          null,
          null,
          null,
          null,
          null,
          null,
          null,
          null,
          null,
          null,
          null,
          null,
          null,
          null,
          null,
          null,
          null,
          null,
          null,
          null,
          null,
          null,
          null,
          null,
          null,
          null,
          null,
          null,
          null,
          null,
          null,
          null,
          null,
          null,
          null,
          null,
          null,
          null,
          null,
          null,
          null,
          null,
          null,
          null,
          null,
          null,
          null,
          null,
          null,
          null,
          null,
          null,
          null,
          null,
          null,
          null,
          null,
          null,
          null,
          null,
          null,
          null,
          null,
          null,
          null,
          null,
          null,
          null,
          null,
          null,
          null,
          null,
          null,
          null,
          null,
          null,
          null,
          null,
          null,
          null,
          null,
          null,
          null,
          null,
          null,
          null,
          null,
          null,
          null,
          null,
          null,
          null,
          null,
          null,
          null,
          null,
          null,
          null,
          null,
          null,
          null,
          null,
          null,
          null,
          null,
          null,
          null,
          null,
          null,
          null,
          null,
          null,
          null,
          null,
          null,
          null,
          null,
          null,
          null,
          null,
          null,
          null,
          null,
          null,
          null,
          null,
          null,
          null,
          null,
          null,
          null,
          null,
          null,
          null,
          null,
          null,
          null,
          null,
          null,
          null,
          null,
          null,
          null,
          null,
          null,
          null,
          null,
          null,
          null,
          null,
          null,
          null,
          null,
          null,
          null,
          null,
          null,
          null,
          null,
          null,
          null,
          null,
          null,
          null,
          null,
          null,
          null,
          null,
          null,
          null,
          null,
          null,
          null,
          null,
          null,
          null,
          null,
          null,
          null,
          null,
          null,
          null,
          null,
          null,
          null,
          null,
          null,
          null,
          null,
          null,
          null,
          null,
          null,
          null,
          null,
          null,
          null,
          null,
          null,
          null,
          null,
          null,
          null,
          null,
          null,
          null,
          null,
          null,
          null,
          null,
          null,
          null,
          null,
          null,
          null,
          null,
          null,
          null,
          null,
          null,
          null,
          null,
          null,
          null,
          null,
          null,
          null,
          null,
          null,
          null,
          null,
          null,
          null,
          null,
          null,
          null,
          null,
          null,
          null,
          null,
          null,
          null,
          null,
          null,
          null,
          null,
          null,
          null,
          null,
          null,
          null,
          null,
          null,
          null,
          null,
          null,
          null,
          null,
          null,
          null,
          null,
          null,
          null,
          null,
          null,
          null,
          null,
          null,
          null,
          null,
          null,
          null,
          null,
          null,
          null,
          null,
          null,
          null,
          null,
          null,
          null,
          null,
          null,
          null,
          null,
          null,
          null,
          null,
          null,
          null,
          null,
          null,
          null,
          null,
          null,
          null,
          null,
          null,
          null,
          null,
          null,
          null,
          null,
          null,
          null,
          null,
          null,
          null,
          null,
          null,
          null,
          null,
          null,
          null,
          null,
          null,
          null,
          null
         ],
         "type": "histogram"
        },
        {
         "histfunc": "count",
         "histnorm": "",
         "marker": {
          "color": "rgba(55, 128, 191, 1.0)",
          "line": {
           "color": "#4D5663",
           "width": 1.3
          }
         },
         "name": "Dead",
         "opacity": 0.8,
         "orientation": "v",
         "x": [
          null,
          null,
          null,
          null,
          null,
          null,
          null,
          null,
          null,
          null,
          null,
          null,
          null,
          null,
          null,
          null,
          null,
          null,
          null,
          null,
          null,
          null,
          null,
          null,
          null,
          null,
          null,
          null,
          null,
          null,
          null,
          null,
          null,
          null,
          null,
          null,
          null,
          null,
          null,
          null,
          null,
          null,
          null,
          null,
          null,
          null,
          null,
          null,
          null,
          null,
          null,
          null,
          null,
          null,
          null,
          null,
          null,
          null,
          null,
          null,
          null,
          null,
          null,
          null,
          null,
          null,
          null,
          null,
          null,
          null,
          null,
          null,
          null,
          null,
          null,
          null,
          null,
          null,
          null,
          null,
          null,
          null,
          null,
          null,
          null,
          null,
          null,
          null,
          null,
          null,
          null,
          null,
          null,
          null,
          null,
          null,
          null,
          null,
          null,
          null,
          null,
          null,
          null,
          null,
          null,
          null,
          null,
          null,
          null,
          null,
          null,
          null,
          null,
          null,
          null,
          null,
          null,
          null,
          null,
          null,
          null,
          null,
          null,
          null,
          null,
          null,
          null,
          null,
          null,
          null,
          null,
          null,
          null,
          null,
          null,
          null,
          null,
          null,
          null,
          null,
          null,
          null,
          null,
          null,
          null,
          null,
          null,
          null,
          null,
          null,
          null,
          null,
          null,
          null,
          null,
          null,
          null,
          null,
          null,
          null,
          null,
          null,
          null,
          null,
          null,
          null,
          null,
          null,
          null,
          null,
          null,
          null,
          null,
          null,
          null,
          null,
          null,
          null,
          null,
          null,
          null,
          null,
          null,
          null,
          null,
          null,
          null,
          null,
          null,
          null,
          null,
          null,
          null,
          null,
          null,
          null,
          null,
          null,
          null,
          null,
          null,
          null,
          null,
          null,
          null,
          null,
          null,
          null,
          null,
          null,
          null,
          null,
          null,
          null,
          null,
          null,
          null,
          null,
          null,
          null,
          null,
          null,
          null,
          null,
          null,
          null,
          null,
          null,
          null,
          null,
          null,
          null,
          null,
          null,
          null,
          null,
          null,
          null,
          null,
          null,
          null,
          null,
          null,
          null,
          null,
          null,
          null,
          null,
          null,
          null,
          null,
          null,
          null,
          null,
          null,
          null,
          null,
          null,
          null,
          null,
          null,
          null,
          null,
          null,
          null,
          null,
          null,
          null,
          null,
          null,
          null,
          null,
          null,
          null,
          null,
          null,
          null,
          null,
          null,
          null,
          null,
          null,
          null,
          null,
          null,
          null,
          null,
          null,
          null,
          null,
          null,
          null,
          null,
          null,
          null,
          null,
          null,
          null,
          null,
          null,
          null,
          null,
          null,
          null,
          null,
          null,
          null,
          null,
          null,
          null,
          null,
          null,
          null,
          null,
          null,
          null,
          null,
          null,
          null,
          null,
          null,
          null,
          null,
          null,
          null,
          null,
          null,
          null,
          null,
          null,
          null,
          null,
          null,
          null,
          null,
          null,
          null,
          null,
          null,
          null,
          null,
          null,
          "U",
          "U",
          "U",
          "E",
          "U",
          "U",
          "U",
          "U",
          "U",
          "U",
          "U",
          "U",
          "U",
          "C",
          "U",
          "U",
          "U",
          "U",
          "U",
          "U",
          "U",
          "U",
          "U",
          "U",
          "U",
          "U",
          "U",
          "U",
          "U",
          "U",
          "B",
          "U",
          "U",
          "U",
          "C",
          "U",
          "U",
          "U",
          "U",
          "U",
          "U",
          "U",
          "U",
          "F",
          "U",
          "U",
          "U",
          "U",
          "U",
          "U",
          "U",
          "U",
          "U",
          "E",
          "U",
          "U",
          "U",
          "A",
          "U",
          "U",
          "U",
          "D",
          "U",
          "U",
          "U",
          "U",
          "C",
          "U",
          "U",
          "U",
          "U",
          "U",
          "U",
          "U",
          "B",
          "U",
          "U",
          "U",
          "U",
          "D",
          "U",
          "U",
          "U",
          "U",
          "U",
          "U",
          "U",
          "C",
          "U",
          "B",
          "U",
          "U",
          "U",
          "U",
          "U",
          "F",
          "U",
          "U",
          "U",
          "U",
          "U",
          "U",
          "U",
          "U",
          "U",
          "U",
          "U",
          "U",
          "U",
          "U",
          "U",
          "U",
          "B",
          "U",
          "U",
          "A",
          "U",
          "U",
          "C",
          "U",
          "U",
          "U",
          "U",
          "U",
          "A",
          "U",
          "U",
          "U",
          "U",
          "U",
          "U",
          "U",
          "U",
          "U",
          "U",
          "G",
          "U",
          "U",
          "U",
          "U",
          "U",
          "U",
          "U",
          "U",
          "U",
          "U",
          "U",
          "U",
          "U",
          "U",
          "U",
          "U",
          "U",
          "U",
          "U",
          "U",
          "U",
          "U",
          "U",
          "U",
          "U",
          "C",
          "U",
          "U",
          "U",
          "G",
          "C",
          "U",
          "U",
          "U",
          "E",
          "B",
          "U",
          "U",
          "U",
          "U",
          "C",
          "U",
          "U",
          "U",
          "U",
          "U",
          "U",
          "A",
          "U",
          "U",
          "D",
          "U",
          "U",
          "U",
          "U",
          "C",
          "U",
          "U",
          "U",
          "U",
          "U",
          "U",
          "U",
          "U",
          "U",
          "U",
          "U",
          "C",
          "C",
          "U",
          "U",
          "C",
          "T",
          "U",
          "U",
          "U",
          "U",
          "U",
          "C",
          "U",
          "U",
          "U",
          "U",
          "U",
          "U",
          "U",
          "U",
          "U",
          "U",
          "U",
          "U",
          "U",
          "U",
          "U",
          "C",
          "U",
          "U",
          "U",
          "U",
          "U",
          "U",
          "U",
          "U",
          "U",
          "U",
          "U",
          "U",
          "U",
          "U",
          "U",
          "U",
          "U",
          "U",
          "U",
          "U",
          "U",
          "U",
          "U",
          "U",
          "U",
          "U",
          "U",
          "U",
          "U",
          "U",
          "U",
          "U",
          "U",
          "U",
          "E",
          "U",
          "C",
          "U",
          "U",
          "U",
          "U",
          "U",
          "C",
          "U",
          "E",
          "U",
          "U",
          "E",
          "U",
          "U",
          "U",
          "U",
          "U",
          "U",
          "U",
          "U",
          "U",
          "A",
          "U",
          "U",
          "U",
          "U",
          "U",
          "U",
          "U",
          "B",
          "U",
          "U",
          "U",
          "C",
          "U",
          "U",
          "U",
          "U",
          "C",
          "U",
          "U",
          "U",
          "U",
          "U",
          "C",
          "U",
          "U",
          "U",
          "D",
          "U",
          "U",
          "U",
          "U",
          "U",
          "U",
          "C",
          "U",
          "U",
          "U",
          "U",
          "U",
          "B",
          "U",
          "U",
          "U",
          "C",
          "U",
          "U",
          "U",
          "U",
          "U",
          "U",
          "U",
          "U",
          "U",
          "U",
          "U",
          "U",
          "U",
          "U",
          "U",
          "U",
          "U",
          "U",
          "U",
          "A",
          "U",
          "U",
          "U",
          "U",
          "U",
          "U",
          "U",
          "U",
          "U",
          "U",
          "U",
          "U",
          "U",
          "U",
          "U",
          "U",
          "U",
          "U",
          "U",
          "U",
          "U",
          "U",
          "U",
          "U",
          "U",
          "U",
          "D",
          "U",
          "U",
          "U",
          "U",
          "U",
          "U",
          "U",
          "U",
          "U",
          "U",
          "U",
          "U",
          "U",
          "U",
          "U",
          "U",
          "U",
          "U",
          "U",
          "U",
          "U",
          "D",
          "U",
          "E",
          "U",
          "U",
          "U",
          "U",
          "U",
          "B",
          "U",
          "U",
          "U",
          "U",
          "U",
          "U",
          "U",
          "U",
          "U",
          "U",
          "U",
          "U",
          "U",
          "U",
          "U",
          "U",
          "U",
          "C",
          "F",
          "U",
          "U",
          "U",
          "U",
          "C",
          "U",
          "U",
          "F",
          "U",
          "U",
          "U",
          "U",
          "U",
          "U",
          "U",
          "U",
          "U",
          "U",
          "U",
          "U",
          "U",
          "U",
          "U",
          "U",
          "C",
          "U",
          "B",
          "U",
          "D",
          "U",
          "U",
          "U",
          "U",
          "U",
          "U",
          "U",
          "U",
          "U",
          "U",
          "U",
          "U",
          "U",
          "U",
          "U",
          "E",
          "U",
          "U",
          "F",
          "U",
          "D",
          "U",
          "U",
          "U",
          "U",
          "B",
          "U",
          "U",
          "U",
          "U",
          "U",
          "U",
          "U",
          "U",
          "U",
          "U",
          "A",
          "U",
          "U",
          "U",
          "U",
          "U",
          "U",
          "U",
          "B",
          "U",
          "U",
          "U",
          "U",
          "U",
          "U",
          "U",
          "U",
          "U",
          "U",
          "U",
          "U",
          "U",
          "U",
          "U",
          "U",
          "U",
          "U",
          "U",
          "U",
          "U",
          "U",
          "U",
          "U",
          "U",
          "U",
          "U",
          "U",
          "U",
          "U",
          "A",
          "U",
          "U",
          "B",
          "U",
          "U",
          "U",
          "U",
          "U",
          "U",
          "U",
          "U",
          "U",
          "U",
          "U",
          "U"
         ],
         "type": "histogram"
        }
       ],
       "layout": {
        "barmode": "overlay",
        "legend": {
         "bgcolor": "#F5F6F9",
         "font": {
          "color": "#4D5663"
         }
        },
        "paper_bgcolor": "#F5F6F9",
        "plot_bgcolor": "#F5F6F9",
        "template": {
         "data": {
          "barpolar": [
           {
            "marker": {
             "line": {
              "color": "rgb(17,17,17)",
              "width": 0.5
             },
             "pattern": {
              "fillmode": "overlay",
              "size": 10,
              "solidity": 0.2
             }
            },
            "type": "barpolar"
           }
          ],
          "bar": [
           {
            "error_x": {
             "color": "#f2f5fa"
            },
            "error_y": {
             "color": "#f2f5fa"
            },
            "marker": {
             "line": {
              "color": "rgb(17,17,17)",
              "width": 0.5
             },
             "pattern": {
              "fillmode": "overlay",
              "size": 10,
              "solidity": 0.2
             }
            },
            "type": "bar"
           }
          ],
          "carpet": [
           {
            "aaxis": {
             "endlinecolor": "#A2B1C6",
             "gridcolor": "#506784",
             "linecolor": "#506784",
             "minorgridcolor": "#506784",
             "startlinecolor": "#A2B1C6"
            },
            "baxis": {
             "endlinecolor": "#A2B1C6",
             "gridcolor": "#506784",
             "linecolor": "#506784",
             "minorgridcolor": "#506784",
             "startlinecolor": "#A2B1C6"
            },
            "type": "carpet"
           }
          ],
          "choropleth": [
           {
            "colorbar": {
             "outlinewidth": 0,
             "ticks": ""
            },
            "type": "choropleth"
           }
          ],
          "contourcarpet": [
           {
            "colorbar": {
             "outlinewidth": 0,
             "ticks": ""
            },
            "type": "contourcarpet"
           }
          ],
          "contour": [
           {
            "colorbar": {
             "outlinewidth": 0,
             "ticks": ""
            },
            "colorscale": [
             [
              0.0,
              "#0d0887"
             ],
             [
              0.1111111111111111,
              "#46039f"
             ],
             [
              0.2222222222222222,
              "#7201a8"
             ],
             [
              0.3333333333333333,
              "#9c179e"
             ],
             [
              0.4444444444444444,
              "#bd3786"
             ],
             [
              0.5555555555555556,
              "#d8576b"
             ],
             [
              0.6666666666666666,
              "#ed7953"
             ],
             [
              0.7777777777777778,
              "#fb9f3a"
             ],
             [
              0.8888888888888888,
              "#fdca26"
             ],
             [
              1.0,
              "#f0f921"
             ]
            ],
            "type": "contour"
           }
          ],
          "heatmapgl": [
           {
            "colorbar": {
             "outlinewidth": 0,
             "ticks": ""
            },
            "colorscale": [
             [
              0.0,
              "#0d0887"
             ],
             [
              0.1111111111111111,
              "#46039f"
             ],
             [
              0.2222222222222222,
              "#7201a8"
             ],
             [
              0.3333333333333333,
              "#9c179e"
             ],
             [
              0.4444444444444444,
              "#bd3786"
             ],
             [
              0.5555555555555556,
              "#d8576b"
             ],
             [
              0.6666666666666666,
              "#ed7953"
             ],
             [
              0.7777777777777778,
              "#fb9f3a"
             ],
             [
              0.8888888888888888,
              "#fdca26"
             ],
             [
              1.0,
              "#f0f921"
             ]
            ],
            "type": "heatmapgl"
           }
          ],
          "heatmap": [
           {
            "colorbar": {
             "outlinewidth": 0,
             "ticks": ""
            },
            "colorscale": [
             [
              0.0,
              "#0d0887"
             ],
             [
              0.1111111111111111,
              "#46039f"
             ],
             [
              0.2222222222222222,
              "#7201a8"
             ],
             [
              0.3333333333333333,
              "#9c179e"
             ],
             [
              0.4444444444444444,
              "#bd3786"
             ],
             [
              0.5555555555555556,
              "#d8576b"
             ],
             [
              0.6666666666666666,
              "#ed7953"
             ],
             [
              0.7777777777777778,
              "#fb9f3a"
             ],
             [
              0.8888888888888888,
              "#fdca26"
             ],
             [
              1.0,
              "#f0f921"
             ]
            ],
            "type": "heatmap"
           }
          ],
          "histogram2dcontour": [
           {
            "colorbar": {
             "outlinewidth": 0,
             "ticks": ""
            },
            "colorscale": [
             [
              0.0,
              "#0d0887"
             ],
             [
              0.1111111111111111,
              "#46039f"
             ],
             [
              0.2222222222222222,
              "#7201a8"
             ],
             [
              0.3333333333333333,
              "#9c179e"
             ],
             [
              0.4444444444444444,
              "#bd3786"
             ],
             [
              0.5555555555555556,
              "#d8576b"
             ],
             [
              0.6666666666666666,
              "#ed7953"
             ],
             [
              0.7777777777777778,
              "#fb9f3a"
             ],
             [
              0.8888888888888888,
              "#fdca26"
             ],
             [
              1.0,
              "#f0f921"
             ]
            ],
            "type": "histogram2dcontour"
           }
          ],
          "histogram2d": [
           {
            "colorbar": {
             "outlinewidth": 0,
             "ticks": ""
            },
            "colorscale": [
             [
              0.0,
              "#0d0887"
             ],
             [
              0.1111111111111111,
              "#46039f"
             ],
             [
              0.2222222222222222,
              "#7201a8"
             ],
             [
              0.3333333333333333,
              "#9c179e"
             ],
             [
              0.4444444444444444,
              "#bd3786"
             ],
             [
              0.5555555555555556,
              "#d8576b"
             ],
             [
              0.6666666666666666,
              "#ed7953"
             ],
             [
              0.7777777777777778,
              "#fb9f3a"
             ],
             [
              0.8888888888888888,
              "#fdca26"
             ],
             [
              1.0,
              "#f0f921"
             ]
            ],
            "type": "histogram2d"
           }
          ],
          "histogram": [
           {
            "marker": {
             "pattern": {
              "fillmode": "overlay",
              "size": 10,
              "solidity": 0.2
             }
            },
            "type": "histogram"
           }
          ],
          "mesh3d": [
           {
            "colorbar": {
             "outlinewidth": 0,
             "ticks": ""
            },
            "type": "mesh3d"
           }
          ],
          "parcoords": [
           {
            "line": {
             "colorbar": {
              "outlinewidth": 0,
              "ticks": ""
             }
            },
            "type": "parcoords"
           }
          ],
          "pie": [
           {
            "automargin": true,
            "type": "pie"
           }
          ],
          "scatter3d": [
           {
            "line": {
             "colorbar": {
              "outlinewidth": 0,
              "ticks": ""
             }
            },
            "marker": {
             "colorbar": {
              "outlinewidth": 0,
              "ticks": ""
             }
            },
            "type": "scatter3d"
           }
          ],
          "scattercarpet": [
           {
            "marker": {
             "colorbar": {
              "outlinewidth": 0,
              "ticks": ""
             }
            },
            "type": "scattercarpet"
           }
          ],
          "scattergeo": [
           {
            "marker": {
             "colorbar": {
              "outlinewidth": 0,
              "ticks": ""
             }
            },
            "type": "scattergeo"
           }
          ],
          "scattergl": [
           {
            "marker": {
             "line": {
              "color": "#283442"
             }
            },
            "type": "scattergl"
           }
          ],
          "scattermapbox": [
           {
            "marker": {
             "colorbar": {
              "outlinewidth": 0,
              "ticks": ""
             }
            },
            "type": "scattermapbox"
           }
          ],
          "scatterpolargl": [
           {
            "marker": {
             "colorbar": {
              "outlinewidth": 0,
              "ticks": ""
             }
            },
            "type": "scatterpolargl"
           }
          ],
          "scatterpolar": [
           {
            "marker": {
             "colorbar": {
              "outlinewidth": 0,
              "ticks": ""
             }
            },
            "type": "scatterpolar"
           }
          ],
          "scatter": [
           {
            "marker": {
             "line": {
              "color": "#283442"
             }
            },
            "type": "scatter"
           }
          ],
          "scatterternary": [
           {
            "marker": {
             "colorbar": {
              "outlinewidth": 0,
              "ticks": ""
             }
            },
            "type": "scatterternary"
           }
          ],
          "surface": [
           {
            "colorbar": {
             "outlinewidth": 0,
             "ticks": ""
            },
            "colorscale": [
             [
              0.0,
              "#0d0887"
             ],
             [
              0.1111111111111111,
              "#46039f"
             ],
             [
              0.2222222222222222,
              "#7201a8"
             ],
             [
              0.3333333333333333,
              "#9c179e"
             ],
             [
              0.4444444444444444,
              "#bd3786"
             ],
             [
              0.5555555555555556,
              "#d8576b"
             ],
             [
              0.6666666666666666,
              "#ed7953"
             ],
             [
              0.7777777777777778,
              "#fb9f3a"
             ],
             [
              0.8888888888888888,
              "#fdca26"
             ],
             [
              1.0,
              "#f0f921"
             ]
            ],
            "type": "surface"
           }
          ],
          "table": [
           {
            "cells": {
             "fill": {
              "color": "#506784"
             },
             "line": {
              "color": "rgb(17,17,17)"
             }
            },
            "header": {
             "fill": {
              "color": "#2a3f5f"
             },
             "line": {
              "color": "rgb(17,17,17)"
             }
            },
            "type": "table"
           }
          ]
         },
         "layout": {
          "annotationdefaults": {
           "arrowcolor": "#f2f5fa",
           "arrowhead": 0,
           "arrowwidth": 1
          },
          "autotypenumbers": "strict",
          "coloraxis": {
           "colorbar": {
            "outlinewidth": 0,
            "ticks": ""
           }
          },
          "colorscale": {
           "diverging": [
            [
             0,
             "#8e0152"
            ],
            [
             0.1,
             "#c51b7d"
            ],
            [
             0.2,
             "#de77ae"
            ],
            [
             0.3,
             "#f1b6da"
            ],
            [
             0.4,
             "#fde0ef"
            ],
            [
             0.5,
             "#f7f7f7"
            ],
            [
             0.6,
             "#e6f5d0"
            ],
            [
             0.7,
             "#b8e186"
            ],
            [
             0.8,
             "#7fbc41"
            ],
            [
             0.9,
             "#4d9221"
            ],
            [
             1,
             "#276419"
            ]
           ],
           "sequential": [
            [
             0.0,
             "#0d0887"
            ],
            [
             0.1111111111111111,
             "#46039f"
            ],
            [
             0.2222222222222222,
             "#7201a8"
            ],
            [
             0.3333333333333333,
             "#9c179e"
            ],
            [
             0.4444444444444444,
             "#bd3786"
            ],
            [
             0.5555555555555556,
             "#d8576b"
            ],
            [
             0.6666666666666666,
             "#ed7953"
            ],
            [
             0.7777777777777778,
             "#fb9f3a"
            ],
            [
             0.8888888888888888,
             "#fdca26"
            ],
            [
             1.0,
             "#f0f921"
            ]
           ],
           "sequentialminus": [
            [
             0.0,
             "#0d0887"
            ],
            [
             0.1111111111111111,
             "#46039f"
            ],
            [
             0.2222222222222222,
             "#7201a8"
            ],
            [
             0.3333333333333333,
             "#9c179e"
            ],
            [
             0.4444444444444444,
             "#bd3786"
            ],
            [
             0.5555555555555556,
             "#d8576b"
            ],
            [
             0.6666666666666666,
             "#ed7953"
            ],
            [
             0.7777777777777778,
             "#fb9f3a"
            ],
            [
             0.8888888888888888,
             "#fdca26"
            ],
            [
             1.0,
             "#f0f921"
            ]
           ]
          },
          "colorway": [
           "#636efa",
           "#EF553B",
           "#00cc96",
           "#ab63fa",
           "#FFA15A",
           "#19d3f3",
           "#FF6692",
           "#B6E880",
           "#FF97FF",
           "#FECB52"
          ],
          "font": {
           "color": "#f2f5fa"
          },
          "geo": {
           "bgcolor": "rgb(17,17,17)",
           "lakecolor": "rgb(17,17,17)",
           "landcolor": "rgb(17,17,17)",
           "showlakes": true,
           "showland": true,
           "subunitcolor": "#506784"
          },
          "hoverlabel": {
           "align": "left"
          },
          "hovermode": "closest",
          "mapbox": {
           "style": "dark"
          },
          "paper_bgcolor": "rgb(17,17,17)",
          "plot_bgcolor": "rgb(17,17,17)",
          "polar": {
           "angularaxis": {
            "gridcolor": "#506784",
            "linecolor": "#506784",
            "ticks": ""
           },
           "bgcolor": "rgb(17,17,17)",
           "radialaxis": {
            "gridcolor": "#506784",
            "linecolor": "#506784",
            "ticks": ""
           }
          },
          "scene": {
           "xaxis": {
            "backgroundcolor": "rgb(17,17,17)",
            "gridcolor": "#506784",
            "gridwidth": 2,
            "linecolor": "#506784",
            "showbackground": true,
            "ticks": "",
            "zerolinecolor": "#C8D4E3"
           },
           "yaxis": {
            "backgroundcolor": "rgb(17,17,17)",
            "gridcolor": "#506784",
            "gridwidth": 2,
            "linecolor": "#506784",
            "showbackground": true,
            "ticks": "",
            "zerolinecolor": "#C8D4E3"
           },
           "zaxis": {
            "backgroundcolor": "rgb(17,17,17)",
            "gridcolor": "#506784",
            "gridwidth": 2,
            "linecolor": "#506784",
            "showbackground": true,
            "ticks": "",
            "zerolinecolor": "#C8D4E3"
           }
          },
          "shapedefaults": {
           "line": {
            "color": "#f2f5fa"
           }
          },
          "sliderdefaults": {
           "bgcolor": "#C8D4E3",
           "bordercolor": "rgb(17,17,17)",
           "borderwidth": 1,
           "tickwidth": 0
          },
          "ternary": {
           "aaxis": {
            "gridcolor": "#506784",
            "linecolor": "#506784",
            "ticks": ""
           },
           "baxis": {
            "gridcolor": "#506784",
            "linecolor": "#506784",
            "ticks": ""
           },
           "bgcolor": "rgb(17,17,17)",
           "caxis": {
            "gridcolor": "#506784",
            "linecolor": "#506784",
            "ticks": ""
           }
          },
          "title": {
           "x": 0.05
          },
          "updatemenudefaults": {
           "bgcolor": "#506784",
           "borderwidth": 0
          },
          "xaxis": {
           "automargin": true,
           "gridcolor": "#283442",
           "linecolor": "#506784",
           "ticks": "",
           "title": {
            "standoff": 15
           },
           "zerolinecolor": "#283442",
           "zerolinewidth": 2
          },
          "yaxis": {
           "automargin": true,
           "gridcolor": "#283442",
           "linecolor": "#506784",
           "ticks": "",
           "title": {
            "standoff": 15
           },
           "zerolinecolor": "#283442",
           "zerolinewidth": 2
          }
         }
        },
        "title": {
         "font": {
          "color": "#4D5663"
         }
        },
        "xaxis": {
         "gridcolor": "#E1E5ED",
         "showgrid": true,
         "tickfont": {
          "color": "#4D5663"
         },
         "title": {
          "font": {
           "color": "#4D5663"
          },
          "text": ""
         },
         "zerolinecolor": "#E1E5ED"
        },
        "yaxis": {
         "gridcolor": "#E1E5ED",
         "showgrid": true,
         "tickfont": {
          "color": "#4D5663"
         },
         "title": {
          "font": {
           "color": "#4D5663"
          },
          "text": ""
         },
         "zerolinecolor": "#E1E5ED"
        }
       },
       "config": {
        "showLink": true,
        "linkText": "Export to plot.ly",
        "plotlyServerURL": "https://plot.ly"
       }
      },
      "text/html": "<div>                            <div id=\"1c701d8c-cf10-4229-9e72-046a7a248e77\" class=\"plotly-graph-div\" style=\"height:525px; width:100%;\"></div>            <script type=\"text/javascript\">                require([\"plotly\"], function(Plotly) {                    window.PLOTLYENV=window.PLOTLYENV || {};\n                    window.PLOTLYENV.BASE_URL='https://plot.ly';                                    if (document.getElementById(\"1c701d8c-cf10-4229-9e72-046a7a248e77\")) {                    Plotly.newPlot(                        \"1c701d8c-cf10-4229-9e72-046a7a248e77\",                        [{\"histfunc\":\"count\",\"histnorm\":\"\",\"marker\":{\"color\":\"rgba(255, 153, 51, 1.0)\",\"line\":{\"color\":\"#4D5663\",\"width\":1.3}},\"name\":\"Survived\",\"opacity\":0.8,\"orientation\":\"v\",\"x\":[\"C\",\"U\",\"C\",\"U\",\"U\",\"G\",\"C\",\"U\",\"U\",\"U\",\"D\",\"U\",\"A\",\"U\",\"U\",\"B\",\"U\",\"U\",\"U\",\"U\",\"U\",\"U\",\"D\",\"U\",\"C\",\"U\",\"U\",\"B\",\"U\",\"F\",\"U\",\"U\",\"U\",\"U\",\"U\",\"U\",\"U\",\"U\",\"C\",\"D\",\"U\",\"U\",\"U\",\"U\",\"E\",\"U\",\"U\",\"F\",\"U\",\"D\",\"U\",\"U\",\"U\",\"C\",\"U\",\"U\",\"U\",\"E\",\"U\",\"F\",\"U\",\"U\",\"U\",\"U\",\"U\",\"F\",\"B\",\"B\",\"U\",\"U\",\"U\",\"U\",\"A\",\"U\",\"D\",\"U\",\"D\",\"U\",\"C\",\"U\",\"C\",\"U\",\"U\",\"U\",\"U\",\"D\",\"U\",\"U\",\"B\",\"U\",\"U\",\"U\",\"U\",\"C\",\"C\",\"U\",\"U\",\"U\",\"D\",\"U\",\"U\",\"U\",\"U\",\"U\",\"U\",\"B\",\"C\",\"B\",\"U\",\"U\",\"E\",\"C\",\"U\",\"C\",\"E\",\"C\",\"B\",\"U\",\"U\",\"C\",\"E\",\"U\",\"U\",\"C\",\"D\",\"U\",\"B\",\"U\",\"U\",\"E\",\"U\",\"F\",\"C\",\"F\",\"U\",\"U\",\"U\",\"E\",\"U\",\"U\",\"D\",\"U\",\"U\",\"B\",\"E\",\"U\",\"U\",\"U\",\"U\",\"U\",\"U\",\"U\",\"B\",\"U\",\"D\",\"G\",\"U\",\"U\",\"U\",\"C\",\"U\",\"U\",\"U\",\"U\",\"U\",\"E\",\"C\",\"U\",\"U\",\"B\",\"U\",\"U\",\"U\",\"U\",\"A\",\"U\",\"U\",\"U\",\"C\",\"C\",\"U\",\"D\",\"U\",\"E\",\"U\",\"U\",\"D\",\"U\",\"U\",\"B\",\"C\",\"U\",\"D\",\"B\",\"U\",\"U\",\"U\",\"U\",\"E\",\"U\",\"F\",\"U\",\"B\",\"B\",\"U\",\"U\",\"U\",\"U\",\"U\",\"B\",\"B\",\"U\",\"U\",\"U\",\"U\",\"C\",\"U\",\"U\",\"A\",\"E\",\"U\",\"U\",\"U\",\"C\",\"E\",\"U\",\"U\",\"E\",\"U\",\"U\",\"C\",\"E\",\"B\",\"D\",\"U\",\"A\",\"U\",\"U\",\"U\",\"U\",\"C\",\"U\",\"U\",\"F\",\"D\",\"U\",\"D\",\"A\",\"B\",\"U\",\"B\",\"U\",\"U\",\"D\",\"A\",\"U\",\"U\",\"U\",\"U\",\"U\",\"C\",\"U\",\"U\",\"U\",\"B\",\"D\",\"B\",\"B\",\"U\",\"U\",\"U\",\"C\",\"E\",\"U\",\"E\",\"U\",\"U\",\"C\",\"C\",\"C\",\"E\",\"U\",\"E\",\"U\",\"U\",\"B\",\"B\",\"D\",\"B\",\"U\",\"U\",\"U\",\"E\",\"U\",\"U\",\"B\",\"U\",\"B\",\"D\",\"U\",\"U\",\"B\",\"U\",\"B\",\"U\",\"U\",\"D\",\"U\",\"U\",\"B\",\"U\",\"U\",\"E\",\"B\",\"U\",\"E\",\"U\",\"U\",\"B\",\"U\",\"U\",\"E\",\"U\",\"C\",\"U\",\"C\",\"D\",\"U\",\"U\",\"E\",\"U\",\"D\",\"U\",\"U\",\"U\",\"D\",\"U\",\"U\",\"C\",\"U\",\"B\",\"C\",null,null,null,null,null,null,null,null,null,null,null,null,null,null,null,null,null,null,null,null,null,null,null,null,null,null,null,null,null,null,null,null,null,null,null,null,null,null,null,null,null,null,null,null,null,null,null,null,null,null,null,null,null,null,null,null,null,null,null,null,null,null,null,null,null,null,null,null,null,null,null,null,null,null,null,null,null,null,null,null,null,null,null,null,null,null,null,null,null,null,null,null,null,null,null,null,null,null,null,null,null,null,null,null,null,null,null,null,null,null,null,null,null,null,null,null,null,null,null,null,null,null,null,null,null,null,null,null,null,null,null,null,null,null,null,null,null,null,null,null,null,null,null,null,null,null,null,null,null,null,null,null,null,null,null,null,null,null,null,null,null,null,null,null,null,null,null,null,null,null,null,null,null,null,null,null,null,null,null,null,null,null,null,null,null,null,null,null,null,null,null,null,null,null,null,null,null,null,null,null,null,null,null,null,null,null,null,null,null,null,null,null,null,null,null,null,null,null,null,null,null,null,null,null,null,null,null,null,null,null,null,null,null,null,null,null,null,null,null,null,null,null,null,null,null,null,null,null,null,null,null,null,null,null,null,null,null,null,null,null,null,null,null,null,null,null,null,null,null,null,null,null,null,null,null,null,null,null,null,null,null,null,null,null,null,null,null,null,null,null,null,null,null,null,null,null,null,null,null,null,null,null,null,null,null,null,null,null,null,null,null,null,null,null,null,null,null,null,null,null,null,null,null,null,null,null,null,null,null,null,null,null,null,null,null,null,null,null,null,null,null,null,null,null,null,null,null,null,null,null,null,null,null,null,null,null,null,null,null,null,null,null,null,null,null,null,null,null,null,null,null,null,null,null,null,null,null,null,null,null,null,null,null,null,null,null,null,null,null,null,null,null,null,null,null,null,null,null,null,null,null,null,null,null,null,null,null,null,null,null,null,null,null,null,null,null,null,null,null,null,null,null,null,null,null,null,null,null,null,null,null,null,null,null,null,null,null,null,null,null,null,null,null,null,null,null,null,null,null,null,null,null,null,null,null,null,null,null,null,null,null,null,null,null,null,null,null,null,null,null,null,null,null,null,null,null,null,null,null,null,null,null,null,null,null,null,null,null,null,null,null,null,null,null,null,null,null,null,null,null,null,null,null,null,null,null,null,null,null,null,null,null,null,null,null,null,null,null,null,null,null,null,null,null,null,null,null,null,null,null,null,null,null,null,null,null,null,null,null,null,null,null,null,null,null,null,null,null,null],\"type\":\"histogram\"},{\"histfunc\":\"count\",\"histnorm\":\"\",\"marker\":{\"color\":\"rgba(55, 128, 191, 1.0)\",\"line\":{\"color\":\"#4D5663\",\"width\":1.3}},\"name\":\"Dead\",\"opacity\":0.8,\"orientation\":\"v\",\"x\":[null,null,null,null,null,null,null,null,null,null,null,null,null,null,null,null,null,null,null,null,null,null,null,null,null,null,null,null,null,null,null,null,null,null,null,null,null,null,null,null,null,null,null,null,null,null,null,null,null,null,null,null,null,null,null,null,null,null,null,null,null,null,null,null,null,null,null,null,null,null,null,null,null,null,null,null,null,null,null,null,null,null,null,null,null,null,null,null,null,null,null,null,null,null,null,null,null,null,null,null,null,null,null,null,null,null,null,null,null,null,null,null,null,null,null,null,null,null,null,null,null,null,null,null,null,null,null,null,null,null,null,null,null,null,null,null,null,null,null,null,null,null,null,null,null,null,null,null,null,null,null,null,null,null,null,null,null,null,null,null,null,null,null,null,null,null,null,null,null,null,null,null,null,null,null,null,null,null,null,null,null,null,null,null,null,null,null,null,null,null,null,null,null,null,null,null,null,null,null,null,null,null,null,null,null,null,null,null,null,null,null,null,null,null,null,null,null,null,null,null,null,null,null,null,null,null,null,null,null,null,null,null,null,null,null,null,null,null,null,null,null,null,null,null,null,null,null,null,null,null,null,null,null,null,null,null,null,null,null,null,null,null,null,null,null,null,null,null,null,null,null,null,null,null,null,null,null,null,null,null,null,null,null,null,null,null,null,null,null,null,null,null,null,null,null,null,null,null,null,null,null,null,null,null,null,null,null,null,null,null,null,null,null,null,null,null,null,null,null,null,null,null,null,null,null,null,null,null,null,null,null,null,null,null,null,null,null,null,null,null,null,null,\"U\",\"U\",\"U\",\"E\",\"U\",\"U\",\"U\",\"U\",\"U\",\"U\",\"U\",\"U\",\"U\",\"C\",\"U\",\"U\",\"U\",\"U\",\"U\",\"U\",\"U\",\"U\",\"U\",\"U\",\"U\",\"U\",\"U\",\"U\",\"U\",\"U\",\"B\",\"U\",\"U\",\"U\",\"C\",\"U\",\"U\",\"U\",\"U\",\"U\",\"U\",\"U\",\"U\",\"F\",\"U\",\"U\",\"U\",\"U\",\"U\",\"U\",\"U\",\"U\",\"U\",\"E\",\"U\",\"U\",\"U\",\"A\",\"U\",\"U\",\"U\",\"D\",\"U\",\"U\",\"U\",\"U\",\"C\",\"U\",\"U\",\"U\",\"U\",\"U\",\"U\",\"U\",\"B\",\"U\",\"U\",\"U\",\"U\",\"D\",\"U\",\"U\",\"U\",\"U\",\"U\",\"U\",\"U\",\"C\",\"U\",\"B\",\"U\",\"U\",\"U\",\"U\",\"U\",\"F\",\"U\",\"U\",\"U\",\"U\",\"U\",\"U\",\"U\",\"U\",\"U\",\"U\",\"U\",\"U\",\"U\",\"U\",\"U\",\"U\",\"B\",\"U\",\"U\",\"A\",\"U\",\"U\",\"C\",\"U\",\"U\",\"U\",\"U\",\"U\",\"A\",\"U\",\"U\",\"U\",\"U\",\"U\",\"U\",\"U\",\"U\",\"U\",\"U\",\"G\",\"U\",\"U\",\"U\",\"U\",\"U\",\"U\",\"U\",\"U\",\"U\",\"U\",\"U\",\"U\",\"U\",\"U\",\"U\",\"U\",\"U\",\"U\",\"U\",\"U\",\"U\",\"U\",\"U\",\"U\",\"U\",\"C\",\"U\",\"U\",\"U\",\"G\",\"C\",\"U\",\"U\",\"U\",\"E\",\"B\",\"U\",\"U\",\"U\",\"U\",\"C\",\"U\",\"U\",\"U\",\"U\",\"U\",\"U\",\"A\",\"U\",\"U\",\"D\",\"U\",\"U\",\"U\",\"U\",\"C\",\"U\",\"U\",\"U\",\"U\",\"U\",\"U\",\"U\",\"U\",\"U\",\"U\",\"U\",\"C\",\"C\",\"U\",\"U\",\"C\",\"T\",\"U\",\"U\",\"U\",\"U\",\"U\",\"C\",\"U\",\"U\",\"U\",\"U\",\"U\",\"U\",\"U\",\"U\",\"U\",\"U\",\"U\",\"U\",\"U\",\"U\",\"U\",\"C\",\"U\",\"U\",\"U\",\"U\",\"U\",\"U\",\"U\",\"U\",\"U\",\"U\",\"U\",\"U\",\"U\",\"U\",\"U\",\"U\",\"U\",\"U\",\"U\",\"U\",\"U\",\"U\",\"U\",\"U\",\"U\",\"U\",\"U\",\"U\",\"U\",\"U\",\"U\",\"U\",\"U\",\"U\",\"E\",\"U\",\"C\",\"U\",\"U\",\"U\",\"U\",\"U\",\"C\",\"U\",\"E\",\"U\",\"U\",\"E\",\"U\",\"U\",\"U\",\"U\",\"U\",\"U\",\"U\",\"U\",\"U\",\"A\",\"U\",\"U\",\"U\",\"U\",\"U\",\"U\",\"U\",\"B\",\"U\",\"U\",\"U\",\"C\",\"U\",\"U\",\"U\",\"U\",\"C\",\"U\",\"U\",\"U\",\"U\",\"U\",\"C\",\"U\",\"U\",\"U\",\"D\",\"U\",\"U\",\"U\",\"U\",\"U\",\"U\",\"C\",\"U\",\"U\",\"U\",\"U\",\"U\",\"B\",\"U\",\"U\",\"U\",\"C\",\"U\",\"U\",\"U\",\"U\",\"U\",\"U\",\"U\",\"U\",\"U\",\"U\",\"U\",\"U\",\"U\",\"U\",\"U\",\"U\",\"U\",\"U\",\"U\",\"A\",\"U\",\"U\",\"U\",\"U\",\"U\",\"U\",\"U\",\"U\",\"U\",\"U\",\"U\",\"U\",\"U\",\"U\",\"U\",\"U\",\"U\",\"U\",\"U\",\"U\",\"U\",\"U\",\"U\",\"U\",\"U\",\"U\",\"D\",\"U\",\"U\",\"U\",\"U\",\"U\",\"U\",\"U\",\"U\",\"U\",\"U\",\"U\",\"U\",\"U\",\"U\",\"U\",\"U\",\"U\",\"U\",\"U\",\"U\",\"U\",\"D\",\"U\",\"E\",\"U\",\"U\",\"U\",\"U\",\"U\",\"B\",\"U\",\"U\",\"U\",\"U\",\"U\",\"U\",\"U\",\"U\",\"U\",\"U\",\"U\",\"U\",\"U\",\"U\",\"U\",\"U\",\"U\",\"C\",\"F\",\"U\",\"U\",\"U\",\"U\",\"C\",\"U\",\"U\",\"F\",\"U\",\"U\",\"U\",\"U\",\"U\",\"U\",\"U\",\"U\",\"U\",\"U\",\"U\",\"U\",\"U\",\"U\",\"U\",\"U\",\"C\",\"U\",\"B\",\"U\",\"D\",\"U\",\"U\",\"U\",\"U\",\"U\",\"U\",\"U\",\"U\",\"U\",\"U\",\"U\",\"U\",\"U\",\"U\",\"U\",\"E\",\"U\",\"U\",\"F\",\"U\",\"D\",\"U\",\"U\",\"U\",\"U\",\"B\",\"U\",\"U\",\"U\",\"U\",\"U\",\"U\",\"U\",\"U\",\"U\",\"U\",\"A\",\"U\",\"U\",\"U\",\"U\",\"U\",\"U\",\"U\",\"B\",\"U\",\"U\",\"U\",\"U\",\"U\",\"U\",\"U\",\"U\",\"U\",\"U\",\"U\",\"U\",\"U\",\"U\",\"U\",\"U\",\"U\",\"U\",\"U\",\"U\",\"U\",\"U\",\"U\",\"U\",\"U\",\"U\",\"U\",\"U\",\"U\",\"U\",\"A\",\"U\",\"U\",\"B\",\"U\",\"U\",\"U\",\"U\",\"U\",\"U\",\"U\",\"U\",\"U\",\"U\",\"U\",\"U\"],\"type\":\"histogram\"}],                        {\"barmode\":\"overlay\",\"legend\":{\"bgcolor\":\"#F5F6F9\",\"font\":{\"color\":\"#4D5663\"}},\"paper_bgcolor\":\"#F5F6F9\",\"plot_bgcolor\":\"#F5F6F9\",\"template\":{\"data\":{\"barpolar\":[{\"marker\":{\"line\":{\"color\":\"rgb(17,17,17)\",\"width\":0.5},\"pattern\":{\"fillmode\":\"overlay\",\"size\":10,\"solidity\":0.2}},\"type\":\"barpolar\"}],\"bar\":[{\"error_x\":{\"color\":\"#f2f5fa\"},\"error_y\":{\"color\":\"#f2f5fa\"},\"marker\":{\"line\":{\"color\":\"rgb(17,17,17)\",\"width\":0.5},\"pattern\":{\"fillmode\":\"overlay\",\"size\":10,\"solidity\":0.2}},\"type\":\"bar\"}],\"carpet\":[{\"aaxis\":{\"endlinecolor\":\"#A2B1C6\",\"gridcolor\":\"#506784\",\"linecolor\":\"#506784\",\"minorgridcolor\":\"#506784\",\"startlinecolor\":\"#A2B1C6\"},\"baxis\":{\"endlinecolor\":\"#A2B1C6\",\"gridcolor\":\"#506784\",\"linecolor\":\"#506784\",\"minorgridcolor\":\"#506784\",\"startlinecolor\":\"#A2B1C6\"},\"type\":\"carpet\"}],\"choropleth\":[{\"colorbar\":{\"outlinewidth\":0,\"ticks\":\"\"},\"type\":\"choropleth\"}],\"contourcarpet\":[{\"colorbar\":{\"outlinewidth\":0,\"ticks\":\"\"},\"type\":\"contourcarpet\"}],\"contour\":[{\"colorbar\":{\"outlinewidth\":0,\"ticks\":\"\"},\"colorscale\":[[0.0,\"#0d0887\"],[0.1111111111111111,\"#46039f\"],[0.2222222222222222,\"#7201a8\"],[0.3333333333333333,\"#9c179e\"],[0.4444444444444444,\"#bd3786\"],[0.5555555555555556,\"#d8576b\"],[0.6666666666666666,\"#ed7953\"],[0.7777777777777778,\"#fb9f3a\"],[0.8888888888888888,\"#fdca26\"],[1.0,\"#f0f921\"]],\"type\":\"contour\"}],\"heatmapgl\":[{\"colorbar\":{\"outlinewidth\":0,\"ticks\":\"\"},\"colorscale\":[[0.0,\"#0d0887\"],[0.1111111111111111,\"#46039f\"],[0.2222222222222222,\"#7201a8\"],[0.3333333333333333,\"#9c179e\"],[0.4444444444444444,\"#bd3786\"],[0.5555555555555556,\"#d8576b\"],[0.6666666666666666,\"#ed7953\"],[0.7777777777777778,\"#fb9f3a\"],[0.8888888888888888,\"#fdca26\"],[1.0,\"#f0f921\"]],\"type\":\"heatmapgl\"}],\"heatmap\":[{\"colorbar\":{\"outlinewidth\":0,\"ticks\":\"\"},\"colorscale\":[[0.0,\"#0d0887\"],[0.1111111111111111,\"#46039f\"],[0.2222222222222222,\"#7201a8\"],[0.3333333333333333,\"#9c179e\"],[0.4444444444444444,\"#bd3786\"],[0.5555555555555556,\"#d8576b\"],[0.6666666666666666,\"#ed7953\"],[0.7777777777777778,\"#fb9f3a\"],[0.8888888888888888,\"#fdca26\"],[1.0,\"#f0f921\"]],\"type\":\"heatmap\"}],\"histogram2dcontour\":[{\"colorbar\":{\"outlinewidth\":0,\"ticks\":\"\"},\"colorscale\":[[0.0,\"#0d0887\"],[0.1111111111111111,\"#46039f\"],[0.2222222222222222,\"#7201a8\"],[0.3333333333333333,\"#9c179e\"],[0.4444444444444444,\"#bd3786\"],[0.5555555555555556,\"#d8576b\"],[0.6666666666666666,\"#ed7953\"],[0.7777777777777778,\"#fb9f3a\"],[0.8888888888888888,\"#fdca26\"],[1.0,\"#f0f921\"]],\"type\":\"histogram2dcontour\"}],\"histogram2d\":[{\"colorbar\":{\"outlinewidth\":0,\"ticks\":\"\"},\"colorscale\":[[0.0,\"#0d0887\"],[0.1111111111111111,\"#46039f\"],[0.2222222222222222,\"#7201a8\"],[0.3333333333333333,\"#9c179e\"],[0.4444444444444444,\"#bd3786\"],[0.5555555555555556,\"#d8576b\"],[0.6666666666666666,\"#ed7953\"],[0.7777777777777778,\"#fb9f3a\"],[0.8888888888888888,\"#fdca26\"],[1.0,\"#f0f921\"]],\"type\":\"histogram2d\"}],\"histogram\":[{\"marker\":{\"pattern\":{\"fillmode\":\"overlay\",\"size\":10,\"solidity\":0.2}},\"type\":\"histogram\"}],\"mesh3d\":[{\"colorbar\":{\"outlinewidth\":0,\"ticks\":\"\"},\"type\":\"mesh3d\"}],\"parcoords\":[{\"line\":{\"colorbar\":{\"outlinewidth\":0,\"ticks\":\"\"}},\"type\":\"parcoords\"}],\"pie\":[{\"automargin\":true,\"type\":\"pie\"}],\"scatter3d\":[{\"line\":{\"colorbar\":{\"outlinewidth\":0,\"ticks\":\"\"}},\"marker\":{\"colorbar\":{\"outlinewidth\":0,\"ticks\":\"\"}},\"type\":\"scatter3d\"}],\"scattercarpet\":[{\"marker\":{\"colorbar\":{\"outlinewidth\":0,\"ticks\":\"\"}},\"type\":\"scattercarpet\"}],\"scattergeo\":[{\"marker\":{\"colorbar\":{\"outlinewidth\":0,\"ticks\":\"\"}},\"type\":\"scattergeo\"}],\"scattergl\":[{\"marker\":{\"line\":{\"color\":\"#283442\"}},\"type\":\"scattergl\"}],\"scattermapbox\":[{\"marker\":{\"colorbar\":{\"outlinewidth\":0,\"ticks\":\"\"}},\"type\":\"scattermapbox\"}],\"scatterpolargl\":[{\"marker\":{\"colorbar\":{\"outlinewidth\":0,\"ticks\":\"\"}},\"type\":\"scatterpolargl\"}],\"scatterpolar\":[{\"marker\":{\"colorbar\":{\"outlinewidth\":0,\"ticks\":\"\"}},\"type\":\"scatterpolar\"}],\"scatter\":[{\"marker\":{\"line\":{\"color\":\"#283442\"}},\"type\":\"scatter\"}],\"scatterternary\":[{\"marker\":{\"colorbar\":{\"outlinewidth\":0,\"ticks\":\"\"}},\"type\":\"scatterternary\"}],\"surface\":[{\"colorbar\":{\"outlinewidth\":0,\"ticks\":\"\"},\"colorscale\":[[0.0,\"#0d0887\"],[0.1111111111111111,\"#46039f\"],[0.2222222222222222,\"#7201a8\"],[0.3333333333333333,\"#9c179e\"],[0.4444444444444444,\"#bd3786\"],[0.5555555555555556,\"#d8576b\"],[0.6666666666666666,\"#ed7953\"],[0.7777777777777778,\"#fb9f3a\"],[0.8888888888888888,\"#fdca26\"],[1.0,\"#f0f921\"]],\"type\":\"surface\"}],\"table\":[{\"cells\":{\"fill\":{\"color\":\"#506784\"},\"line\":{\"color\":\"rgb(17,17,17)\"}},\"header\":{\"fill\":{\"color\":\"#2a3f5f\"},\"line\":{\"color\":\"rgb(17,17,17)\"}},\"type\":\"table\"}]},\"layout\":{\"annotationdefaults\":{\"arrowcolor\":\"#f2f5fa\",\"arrowhead\":0,\"arrowwidth\":1},\"autotypenumbers\":\"strict\",\"coloraxis\":{\"colorbar\":{\"outlinewidth\":0,\"ticks\":\"\"}},\"colorscale\":{\"diverging\":[[0,\"#8e0152\"],[0.1,\"#c51b7d\"],[0.2,\"#de77ae\"],[0.3,\"#f1b6da\"],[0.4,\"#fde0ef\"],[0.5,\"#f7f7f7\"],[0.6,\"#e6f5d0\"],[0.7,\"#b8e186\"],[0.8,\"#7fbc41\"],[0.9,\"#4d9221\"],[1,\"#276419\"]],\"sequential\":[[0.0,\"#0d0887\"],[0.1111111111111111,\"#46039f\"],[0.2222222222222222,\"#7201a8\"],[0.3333333333333333,\"#9c179e\"],[0.4444444444444444,\"#bd3786\"],[0.5555555555555556,\"#d8576b\"],[0.6666666666666666,\"#ed7953\"],[0.7777777777777778,\"#fb9f3a\"],[0.8888888888888888,\"#fdca26\"],[1.0,\"#f0f921\"]],\"sequentialminus\":[[0.0,\"#0d0887\"],[0.1111111111111111,\"#46039f\"],[0.2222222222222222,\"#7201a8\"],[0.3333333333333333,\"#9c179e\"],[0.4444444444444444,\"#bd3786\"],[0.5555555555555556,\"#d8576b\"],[0.6666666666666666,\"#ed7953\"],[0.7777777777777778,\"#fb9f3a\"],[0.8888888888888888,\"#fdca26\"],[1.0,\"#f0f921\"]]},\"colorway\":[\"#636efa\",\"#EF553B\",\"#00cc96\",\"#ab63fa\",\"#FFA15A\",\"#19d3f3\",\"#FF6692\",\"#B6E880\",\"#FF97FF\",\"#FECB52\"],\"font\":{\"color\":\"#f2f5fa\"},\"geo\":{\"bgcolor\":\"rgb(17,17,17)\",\"lakecolor\":\"rgb(17,17,17)\",\"landcolor\":\"rgb(17,17,17)\",\"showlakes\":true,\"showland\":true,\"subunitcolor\":\"#506784\"},\"hoverlabel\":{\"align\":\"left\"},\"hovermode\":\"closest\",\"mapbox\":{\"style\":\"dark\"},\"paper_bgcolor\":\"rgb(17,17,17)\",\"plot_bgcolor\":\"rgb(17,17,17)\",\"polar\":{\"angularaxis\":{\"gridcolor\":\"#506784\",\"linecolor\":\"#506784\",\"ticks\":\"\"},\"bgcolor\":\"rgb(17,17,17)\",\"radialaxis\":{\"gridcolor\":\"#506784\",\"linecolor\":\"#506784\",\"ticks\":\"\"}},\"scene\":{\"xaxis\":{\"backgroundcolor\":\"rgb(17,17,17)\",\"gridcolor\":\"#506784\",\"gridwidth\":2,\"linecolor\":\"#506784\",\"showbackground\":true,\"ticks\":\"\",\"zerolinecolor\":\"#C8D4E3\"},\"yaxis\":{\"backgroundcolor\":\"rgb(17,17,17)\",\"gridcolor\":\"#506784\",\"gridwidth\":2,\"linecolor\":\"#506784\",\"showbackground\":true,\"ticks\":\"\",\"zerolinecolor\":\"#C8D4E3\"},\"zaxis\":{\"backgroundcolor\":\"rgb(17,17,17)\",\"gridcolor\":\"#506784\",\"gridwidth\":2,\"linecolor\":\"#506784\",\"showbackground\":true,\"ticks\":\"\",\"zerolinecolor\":\"#C8D4E3\"}},\"shapedefaults\":{\"line\":{\"color\":\"#f2f5fa\"}},\"sliderdefaults\":{\"bgcolor\":\"#C8D4E3\",\"bordercolor\":\"rgb(17,17,17)\",\"borderwidth\":1,\"tickwidth\":0},\"ternary\":{\"aaxis\":{\"gridcolor\":\"#506784\",\"linecolor\":\"#506784\",\"ticks\":\"\"},\"baxis\":{\"gridcolor\":\"#506784\",\"linecolor\":\"#506784\",\"ticks\":\"\"},\"bgcolor\":\"rgb(17,17,17)\",\"caxis\":{\"gridcolor\":\"#506784\",\"linecolor\":\"#506784\",\"ticks\":\"\"}},\"title\":{\"x\":0.05},\"updatemenudefaults\":{\"bgcolor\":\"#506784\",\"borderwidth\":0},\"xaxis\":{\"automargin\":true,\"gridcolor\":\"#283442\",\"linecolor\":\"#506784\",\"ticks\":\"\",\"title\":{\"standoff\":15},\"zerolinecolor\":\"#283442\",\"zerolinewidth\":2},\"yaxis\":{\"automargin\":true,\"gridcolor\":\"#283442\",\"linecolor\":\"#506784\",\"ticks\":\"\",\"title\":{\"standoff\":15},\"zerolinecolor\":\"#283442\",\"zerolinewidth\":2}}},\"title\":{\"font\":{\"color\":\"#4D5663\"}},\"xaxis\":{\"gridcolor\":\"#E1E5ED\",\"showgrid\":true,\"tickfont\":{\"color\":\"#4D5663\"},\"title\":{\"font\":{\"color\":\"#4D5663\"},\"text\":\"\"},\"zerolinecolor\":\"#E1E5ED\"},\"yaxis\":{\"gridcolor\":\"#E1E5ED\",\"showgrid\":true,\"tickfont\":{\"color\":\"#4D5663\"},\"title\":{\"font\":{\"color\":\"#4D5663\"},\"text\":\"\"},\"zerolinecolor\":\"#E1E5ED\"}},                        {\"showLink\": true, \"linkText\": \"Export to plot.ly\", \"plotlyServerURL\": \"https://plot.ly\", \"responsive\": true}                    ).then(function(){\n                            \nvar gd = document.getElementById('1c701d8c-cf10-4229-9e72-046a7a248e77');\nvar x = new MutationObserver(function (mutations, observer) {{\n        var display = window.getComputedStyle(gd).display;\n        if (!display || display === 'none') {{\n            console.log([gd, 'removed!']);\n            Plotly.purge(gd);\n            observer.disconnect();\n        }}\n}});\n\n// Listen for the removal of the full notebook cells\nvar notebookContainer = gd.closest('#notebook-container');\nif (notebookContainer) {{\n    x.observe(notebookContainer, {childList: true});\n}}\n\n// Listen for the clearing of the current output cell\nvar outputEl = gd.closest('.output');\nif (outputEl) {{\n    x.observe(outputEl, {childList: true});\n}}\n\n                        })                };                });            </script>        </div>"
     },
     "metadata": {},
     "output_type": "display_data"
    }
   ],
   "source": [
    "import chart_studio.plotly as py\n",
    "import cufflinks as cf\n",
    "cf.go_offline(connected=True)\n",
    "\n",
    "survived = train[train['Survived'] == 1]['Cabin']\n",
    "dead = train[train['Survived'] == 0]['Cabin']\n",
    "df_temp1 = pd.concat([survived, dead], axis=1, keys=['Survived', 'Dead'])\n",
    "df_temp1.iplot(kind='histogram')"
   ],
   "metadata": {
    "collapsed": false
   }
  },
  {
   "cell_type": "markdown",
   "source": [
    "### 10. Ticket"
   ],
   "metadata": {
    "collapsed": false
   }
  },
  {
   "cell_type": "code",
   "execution_count": 180,
   "outputs": [
    {
     "data": {
      "text/plain": "array(['A/5 21171', 'PC 17599', 'STON/O2. 3101282', '113803', '373450',\n       '330877', '17463', '349909', '347742', '237736', 'PP 9549',\n       '113783', 'A/5. 2151', '347082', '350406', '248706', '382652',\n       '244373', '345763', '2649', '239865', '248698', '330923', '113788',\n       '347077', '2631', '19950', '330959', '349216', 'PC 17601',\n       'PC 17569', '335677', 'C.A. 24579', 'PC 17604', '113789', '2677',\n       'A./5. 2152', '345764', '2651', '7546', '11668', '349253',\n       'SC/Paris 2123', '330958', 'S.C./A.4. 23567', '370371', '14311',\n       '2662', '349237', '3101295', 'A/4. 39886', 'PC 17572', '2926',\n       '113509', '19947', 'C.A. 31026', '2697', 'C.A. 34651', 'CA 2144',\n       '2669', '113572', '36973', '347088', 'PC 17605', '2661',\n       'C.A. 29395', 'S.P. 3464', '3101281', '315151', 'C.A. 33111',\n       'S.O.C. 14879', '2680', '1601', '348123', '349208', '374746',\n       '248738', '364516', '345767', '345779', '330932', '113059',\n       'SO/C 14885', '3101278', 'W./C. 6608', 'SOTON/OQ 392086', '343275',\n       '343276', '347466', 'W.E.P. 5734', 'C.A. 2315', '364500', '374910',\n       'PC 17754', 'PC 17759', '231919', '244367', '349245', '349215',\n       '35281', '7540', '3101276', '349207', '343120', '312991', '349249',\n       '371110', '110465', '2665', '324669', '4136', '2627',\n       'STON/O 2. 3101294', '370369', 'PC 17558', 'A4. 54510', '27267',\n       '370372', 'C 17369', '2668', '347061', '349241',\n       'SOTON/O.Q. 3101307', 'A/5. 3337', '228414', 'C.A. 29178',\n       'SC/PARIS 2133', '11752', '7534', 'PC 17593', '2678', '347081',\n       'STON/O2. 3101279', '365222', '231945', 'C.A. 33112', '350043',\n       '230080', '244310', 'S.O.P. 1166', '113776', 'A.5. 11206',\n       'A/5. 851', 'Fa 265302', 'PC 17597', '35851', 'SOTON/OQ 392090',\n       '315037', 'CA. 2343', '371362', 'C.A. 33595', '347068', '315093',\n       '363291', '113505', 'PC 17318', '111240', 'STON/O 2. 3101280',\n       '17764', '350404', '4133', 'PC 17595', '250653', 'LINE',\n       'SC/PARIS 2131', '230136', '315153', '113767', '370365', '111428',\n       '364849', '349247', '234604', '28424', '350046', 'PC 17610',\n       '368703', '4579', '370370', '248747', '345770', '3101264', '2628',\n       'A/5 3540', '347054', '2699', '367231', '112277',\n       'SOTON/O.Q. 3101311', 'F.C.C. 13528', 'A/5 21174', '250646',\n       '367229', '35273', 'STON/O2. 3101283', '243847', '11813',\n       'W/C 14208', 'SOTON/OQ 392089', '220367', '21440', '349234',\n       '19943', 'PP 4348', 'SW/PP 751', 'A/5 21173', '236171', '347067',\n       '237442', 'C.A. 29566', 'W./C. 6609', '26707', 'C.A. 31921',\n       '28665', 'SCO/W 1585', '367230', 'W./C. 14263',\n       'STON/O 2. 3101275', '2694', '19928', '347071', '250649', '11751',\n       '244252', '362316', '113514', 'A/5. 3336', '370129', '2650',\n       'PC 17585', '110152', 'PC 17755', '230433', '384461', '110413',\n       '112059', '382649', 'C.A. 17248', '347083', 'PC 17582', 'PC 17760',\n       '113798', '250644', 'PC 17596', '370375', '13502', '347073',\n       '239853', 'C.A. 2673', '336439', '347464', '345778', 'A/5. 10482',\n       '113056', '349239', '345774', '349206', '237798', '370373',\n       '19877', '11967', 'SC/Paris 2163', '349236', '349233', 'PC 17612',\n       '2693', '113781', '19988', '9234', '367226', '226593', 'A/5 2466',\n       '17421', 'PC 17758', 'P/PP 3381', 'PC 17485', '11767', 'PC 17608',\n       '250651', '349243', 'F.C.C. 13529', '347470', '29011', '36928',\n       '16966', 'A/5 21172', '349219', '234818', '345364', '28551',\n       '111361', '113043', 'PC 17611', '349225', '7598', '113784',\n       '248740', '244361', '229236', '248733', '31418', '386525',\n       'C.A. 37671', '315088', '7267', '113510', '2695', '2647', '345783',\n       '237671', '330931', '330980', 'SC/PARIS 2167', '2691',\n       'SOTON/O.Q. 3101310', 'C 7076', '110813', '2626', '14313',\n       'PC 17477', '11765', '3101267', '323951', 'C 7077', '113503',\n       '2648', '347069', 'PC 17757', '2653', 'STON/O 2. 3101293',\n       '349227', '27849', '367655', 'SC 1748', '113760', '350034',\n       '3101277', '350052', '350407', '28403', '244278', '240929',\n       'STON/O 2. 3101289', '341826', '4137', '315096', '28664', '347064',\n       '29106', '312992', '349222', '394140', 'STON/O 2. 3101269',\n       '343095', '28220', '250652', '28228', '345773', '349254',\n       'A/5. 13032', '315082', '347080', 'A/4. 34244', '2003', '250655',\n       '364851', 'SOTON/O.Q. 392078', '110564', '376564', 'SC/AH 3085',\n       'STON/O 2. 3101274', '13507', 'C.A. 18723', '345769', '347076',\n       '230434', '65306', '33638', '113794', '2666', '113786', '65303',\n       '113051', '17453', 'A/5 2817', '349240', '13509', '17464',\n       'F.C.C. 13531', '371060', '19952', '364506', '111320', '234360',\n       'A/S 2816', 'SOTON/O.Q. 3101306', '113792', '36209', '323592',\n       '315089', 'SC/AH Basle 541', '7553', '31027', '3460', '350060',\n       '3101298', '239854', 'A/5 3594', '4134', '11771', 'A.5. 18509',\n       '65304', 'SOTON/OQ 3101317', '113787', 'PC 17609', 'A/4 45380',\n       '36947', 'C.A. 6212', '350035', '315086', '364846', '330909',\n       '4135', '26360', '111427', 'C 4001', '382651', 'SOTON/OQ 3101316',\n       'PC 17473', 'PC 17603', '349209', '36967', 'C.A. 34260', '226875',\n       '349242', '12749', '349252', '2624', '2700', '367232',\n       'W./C. 14258', 'PC 17483', '3101296', '29104', '2641', '2690',\n       '315084', '113050', 'PC 17761', '364498', '13568', 'WE/P 5735',\n       '2908', '693', 'SC/PARIS 2146', '244358', '330979', '2620',\n       '347085', '113807', '11755', '345572', '372622', '349251',\n       '218629', 'SOTON/OQ 392082', 'SOTON/O.Q. 392087', 'A/4 48871',\n       '349205', '2686', '350417', 'S.W./PP 752', '11769', 'PC 17474',\n       '14312', 'A/4. 20589', '358585', '243880', '2689',\n       'STON/O 2. 3101286', '237789', '13049', '3411', '237565', '13567',\n       '14973', 'A./5. 3235', 'STON/O 2. 3101273', 'A/5 3902', '364848',\n       'SC/AH 29037', '248727', '2664', '349214', '113796', '364511',\n       '111426', '349910', '349246', '113804', 'SOTON/O.Q. 3101305',\n       '370377', '364512', '220845', '31028', '2659', '11753', '350029',\n       '54636', '36963', '219533', '349224', '334912', '27042', '347743',\n       '13214', '112052', '237668', 'STON/O 2. 3101292', '350050',\n       '349231', '13213', 'S.O./P.P. 751', 'CA. 2314', '349221', '8475',\n       '330919', '365226', '349223', '29751', '2623', '5727', '349210',\n       'STON/O 2. 3101285', '234686', '312993', 'A/5 3536', '19996',\n       '29750', 'F.C. 12750', 'C.A. 24580', '244270', '239856', '349912',\n       '342826', '4138', '330935', '6563', '349228', '350036', '24160',\n       '17474', '349256', '2672', '113800', '248731', '363592', '35852',\n       '348121', 'PC 17475', '36864', '350025', '223596', 'PC 17476',\n       'PC 17482', '113028', '7545', '250647', '348124', '34218', '36568',\n       '347062', '350048', '12233', '250643', '113806', '315094', '36866',\n       '236853', 'STON/O2. 3101271', '239855', '28425', '233639',\n       '349201', '349218', '16988', '376566', 'STON/O 2. 3101288',\n       '250648', '113773', '335097', '29103', '392096', '345780',\n       '349204', '350042', '29108', '363294', 'SOTON/O2 3101272', '2663',\n       '347074', '112379', '364850', '8471', '345781', '350047',\n       'S.O./P.P. 3', '2674', '29105', '347078', '383121', '36865',\n       '2687', '113501', 'W./C. 6607', 'SOTON/O.Q. 3101312', '374887',\n       '3101265', '12460', 'PC 17600', '349203', '28213', '17465',\n       '349244', '2685', '2625', '347089', '347063', '112050', '347087',\n       '248723', '3474', '28206', '364499', '112058', 'STON/O2. 3101290',\n       'S.C./PARIS 2079', 'C 7075', '315098', '19972', '368323', '367228',\n       '2671', '347468', '2223', 'PC 17756', '315097', '392092', '11774',\n       'SOTON/O2 3101287', '2683', '315090', 'C.A. 5547', '349213',\n       '347060', 'PC 17592', '392091', '113055', '2629', '350026',\n       '28134', '17466', '233866', '236852', 'SC/PARIS 2149', 'PC 17590',\n       '345777', '349248', '695', '345765', '2667', '349212', '349217',\n       '349257', '7552', 'C.A./SOTON 34068', 'SOTON/OQ 392076', '211536',\n       '112053', '111369', '370376', '330911', '363272', '240276',\n       '315154', '7538', '330972', '2657', '349220', '694', '21228',\n       '24065', '233734', '2692', 'STON/O2. 3101270', '2696', 'C 17368',\n       'PC 17598', '2698', '113054', 'C.A. 31029', '13236', '2682',\n       '342712', '315087', '345768', '113778', 'SOTON/O.Q. 3101263',\n       '237249', 'STON/O 2. 3101291', 'PC 17594', '370374', '13695',\n       'SC/PARIS 2168', 'SC/A.3 2861', '349230', '348122', '349232',\n       '237216', '347090', '334914', 'F.C.C. 13534', '330963', '2543',\n       '382653', '349211', '3101297', 'PC 17562', '359306', '11770',\n       '248744', '368702', '19924', '349238', '240261', '2660', '330844',\n       'A/4 31416', '364856', '347072', '345498', '376563', '13905',\n       '350033', 'STON/O 2. 3101268', '347471', 'A./5. 3338', '11778',\n       '365235', '347070', '330920', '383162', '3410', '248734', '237734',\n       '330968', 'PC 17531', '329944', '2681', '13050', '367227',\n       '392095', '368783', '350045', '211535', '342441',\n       'STON/OQ. 369943', '113780', '2621', '349226', '350409', '2656',\n       '248659', 'SOTON/OQ 392083', '17475', 'SC/A4 23568', '113791',\n       '349255', '3701', '350405', 'S.O./P.P. 752', '347469', '110489',\n       'SOTON/O.Q. 3101315', '335432', '220844', '343271', '237393',\n       'PC 17591', '17770', '7548', 'S.O./P.P. 251', '2670', '2673',\n       '233478', '7935', '239059', 'S.O./P.P. 2', 'A/4 48873', '28221',\n       '111163', '235509', '347465', '347066', 'C.A. 31030', '65305',\n       'C.A. 34050', 'F.C. 12998', '9232', '28034', 'PC 17613', '349250',\n       'SOTON/O.Q. 3101308', '347091', '113038', '330924', '32302',\n       'SC/PARIS 2148', '342684', 'W./C. 14266', '350053', 'PC 17606',\n       '350054', '370368', '242963', '113795', '3101266', '330971',\n       '350416', '2679', '250650', '112377', '3470', 'SOTON/O2 3101284',\n       '13508', '7266', '345775', 'C.A. 42795', 'AQ/4 3130', '363611',\n       '28404', '345501', '350410', 'C.A. 34644', '349235', '112051',\n       'C.A. 49867', 'A. 2. 39186', '315095', '368573', '2676',\n       'SC 14888', 'CA 31352', 'W./C. 14260', '315085', '364859',\n       'A/5 21175', 'SOTON/O.Q. 3101314', '2655', 'A/5 1478', 'PC 17607',\n       '382650', '2652', '345771', '349202', '113801', '347467', '347079',\n       '237735', '315092', '383123', '112901', '315091', '2658',\n       'LP 1588', '368364', 'AQ/3. 30631', '28004', '350408', '347075',\n       '2654', '244368', '113790', 'SOTON/O.Q. 3101309', '236854',\n       'PC 17580', '2684', '349229', '110469', '244360', '2675', '2622',\n       'C.A. 15185', '350403', '348125', '237670', '2688', '248726',\n       'F.C.C. 13540', '113044', '1222', '368402', '315083', '112378',\n       'SC/PARIS 2147', '28133', '248746', '315152', '29107', '680',\n       '366713', '330910', 'SC/PARIS 2159', '349911', '244346', '364858',\n       'C.A. 30769', '371109', '347065', '21332', '17765',\n       'SC/PARIS 2166', '28666', '334915', '365237', '347086',\n       'A.5. 3236', 'SOTON/O.Q. 3101262', '359309'], dtype=object)"
     },
     "execution_count": 180,
     "metadata": {},
     "output_type": "execute_result"
    }
   ],
   "source": [
    "df['Ticket'].unique()"
   ],
   "metadata": {
    "collapsed": false
   }
  },
  {
   "cell_type": "code",
   "execution_count": 181,
   "outputs": [
    {
     "data": {
      "text/plain": "   PassengerId  Survived  Pclass  Sex  Age            Ticket  Fare Cabin  \\\n0            1       0.0       3    0  3.0         A/5 21171   0.0     U   \n1            2       1.0       1    1  4.0          PC 17599   3.0     C   \n2            3       1.0       3    1  3.0  STON/O2. 3101282   0.0     U   \n3            4       1.0       1    1  4.0            113803   2.0     C   \n4            5       0.0       3    0  4.0            373450   0.0     U   \n\n   Embarked  Initial  Family Ticket_Initial  \n0         0      0.0       2            A/5  \n1         1      2.0       2             PC  \n2         0      1.0       1       STON/O2.  \n3         0      2.0       2            NaN  \n4         0      0.0       1            NaN  ",
      "text/html": "<div>\n<style scoped>\n    .dataframe tbody tr th:only-of-type {\n        vertical-align: middle;\n    }\n\n    .dataframe tbody tr th {\n        vertical-align: top;\n    }\n\n    .dataframe thead th {\n        text-align: right;\n    }\n</style>\n<table border=\"1\" class=\"dataframe\">\n  <thead>\n    <tr style=\"text-align: right;\">\n      <th></th>\n      <th>PassengerId</th>\n      <th>Survived</th>\n      <th>Pclass</th>\n      <th>Sex</th>\n      <th>Age</th>\n      <th>Ticket</th>\n      <th>Fare</th>\n      <th>Cabin</th>\n      <th>Embarked</th>\n      <th>Initial</th>\n      <th>Family</th>\n      <th>Ticket_Initial</th>\n    </tr>\n  </thead>\n  <tbody>\n    <tr>\n      <th>0</th>\n      <td>1</td>\n      <td>0.0</td>\n      <td>3</td>\n      <td>0</td>\n      <td>3.0</td>\n      <td>A/5 21171</td>\n      <td>0.0</td>\n      <td>U</td>\n      <td>0</td>\n      <td>0.0</td>\n      <td>2</td>\n      <td>A/5</td>\n    </tr>\n    <tr>\n      <th>1</th>\n      <td>2</td>\n      <td>1.0</td>\n      <td>1</td>\n      <td>1</td>\n      <td>4.0</td>\n      <td>PC 17599</td>\n      <td>3.0</td>\n      <td>C</td>\n      <td>1</td>\n      <td>2.0</td>\n      <td>2</td>\n      <td>PC</td>\n    </tr>\n    <tr>\n      <th>2</th>\n      <td>3</td>\n      <td>1.0</td>\n      <td>3</td>\n      <td>1</td>\n      <td>3.0</td>\n      <td>STON/O2. 3101282</td>\n      <td>0.0</td>\n      <td>U</td>\n      <td>0</td>\n      <td>1.0</td>\n      <td>1</td>\n      <td>STON/O2.</td>\n    </tr>\n    <tr>\n      <th>3</th>\n      <td>4</td>\n      <td>1.0</td>\n      <td>1</td>\n      <td>1</td>\n      <td>4.0</td>\n      <td>113803</td>\n      <td>2.0</td>\n      <td>C</td>\n      <td>0</td>\n      <td>2.0</td>\n      <td>2</td>\n      <td>NaN</td>\n    </tr>\n    <tr>\n      <th>4</th>\n      <td>5</td>\n      <td>0.0</td>\n      <td>3</td>\n      <td>0</td>\n      <td>4.0</td>\n      <td>373450</td>\n      <td>0.0</td>\n      <td>U</td>\n      <td>0</td>\n      <td>0.0</td>\n      <td>1</td>\n      <td>NaN</td>\n    </tr>\n  </tbody>\n</table>\n</div>"
     },
     "execution_count": 181,
     "metadata": {},
     "output_type": "execute_result"
    }
   ],
   "source": [
    "df['Ticket_Initial'] = df['Ticket'].str.extract('([^ \\t\\n\\r\\f\\v]+) ')\n",
    "df.head()"
   ],
   "metadata": {
    "collapsed": false
   }
  },
  {
   "cell_type": "code",
   "execution_count": 182,
   "outputs": [],
   "source": [
    "df['Ticket_Num'] = df['Ticket'].str.extract('( [^ \\t\\n\\r\\f\\v]+)')"
   ],
   "metadata": {
    "collapsed": false
   }
  },
  {
   "cell_type": "code",
   "execution_count": 183,
   "outputs": [
    {
     "data": {
      "text/plain": "   PassengerId  Survived  Pclass  Sex  Age            Ticket  Fare Cabin  \\\n0            1       0.0       3    0  3.0         A/5 21171   0.0     U   \n1            2       1.0       1    1  4.0          PC 17599   3.0     C   \n2            3       1.0       3    1  3.0  STON/O2. 3101282   0.0     U   \n3            4       1.0       1    1  4.0            113803   2.0     C   \n4            5       0.0       3    0  4.0            373450   0.0     U   \n\n   Embarked  Initial  Family Ticket_Initial Ticket_Num  \n0         0      0.0       2            A/5      21171  \n1         1      2.0       2             PC      17599  \n2         0      1.0       1       STON/O2.    3101282  \n3         0      2.0       2            NaN        NaN  \n4         0      0.0       1            NaN        NaN  ",
      "text/html": "<div>\n<style scoped>\n    .dataframe tbody tr th:only-of-type {\n        vertical-align: middle;\n    }\n\n    .dataframe tbody tr th {\n        vertical-align: top;\n    }\n\n    .dataframe thead th {\n        text-align: right;\n    }\n</style>\n<table border=\"1\" class=\"dataframe\">\n  <thead>\n    <tr style=\"text-align: right;\">\n      <th></th>\n      <th>PassengerId</th>\n      <th>Survived</th>\n      <th>Pclass</th>\n      <th>Sex</th>\n      <th>Age</th>\n      <th>Ticket</th>\n      <th>Fare</th>\n      <th>Cabin</th>\n      <th>Embarked</th>\n      <th>Initial</th>\n      <th>Family</th>\n      <th>Ticket_Initial</th>\n      <th>Ticket_Num</th>\n    </tr>\n  </thead>\n  <tbody>\n    <tr>\n      <th>0</th>\n      <td>1</td>\n      <td>0.0</td>\n      <td>3</td>\n      <td>0</td>\n      <td>3.0</td>\n      <td>A/5 21171</td>\n      <td>0.0</td>\n      <td>U</td>\n      <td>0</td>\n      <td>0.0</td>\n      <td>2</td>\n      <td>A/5</td>\n      <td>21171</td>\n    </tr>\n    <tr>\n      <th>1</th>\n      <td>2</td>\n      <td>1.0</td>\n      <td>1</td>\n      <td>1</td>\n      <td>4.0</td>\n      <td>PC 17599</td>\n      <td>3.0</td>\n      <td>C</td>\n      <td>1</td>\n      <td>2.0</td>\n      <td>2</td>\n      <td>PC</td>\n      <td>17599</td>\n    </tr>\n    <tr>\n      <th>2</th>\n      <td>3</td>\n      <td>1.0</td>\n      <td>3</td>\n      <td>1</td>\n      <td>3.0</td>\n      <td>STON/O2. 3101282</td>\n      <td>0.0</td>\n      <td>U</td>\n      <td>0</td>\n      <td>1.0</td>\n      <td>1</td>\n      <td>STON/O2.</td>\n      <td>3101282</td>\n    </tr>\n    <tr>\n      <th>3</th>\n      <td>4</td>\n      <td>1.0</td>\n      <td>1</td>\n      <td>1</td>\n      <td>4.0</td>\n      <td>113803</td>\n      <td>2.0</td>\n      <td>C</td>\n      <td>0</td>\n      <td>2.0</td>\n      <td>2</td>\n      <td>NaN</td>\n      <td>NaN</td>\n    </tr>\n    <tr>\n      <th>4</th>\n      <td>5</td>\n      <td>0.0</td>\n      <td>3</td>\n      <td>0</td>\n      <td>4.0</td>\n      <td>373450</td>\n      <td>0.0</td>\n      <td>U</td>\n      <td>0</td>\n      <td>0.0</td>\n      <td>1</td>\n      <td>NaN</td>\n      <td>NaN</td>\n    </tr>\n  </tbody>\n</table>\n</div>"
     },
     "execution_count": 183,
     "metadata": {},
     "output_type": "execute_result"
    }
   ],
   "source": [
    "df.head()"
   ],
   "metadata": {
    "collapsed": false
   }
  },
  {
   "cell_type": "code",
   "execution_count": 113,
   "outputs": [],
   "source": [],
   "metadata": {
    "collapsed": false
   }
  },
  {
   "cell_type": "code",
   "execution_count": 114,
   "outputs": [
    {
     "data": {
      "text/plain": "   PassengerId  Survived  Pclass  Sex  Age            Ticket  Fare Cabin  \\\n0            1       0.0       3    0  3.0         A/5 21171   0.0     U   \n1            2       1.0       1    1  4.0          PC 17599   3.0     C   \n2            3       1.0       3    1  3.0  STON/O2. 3101282   0.0     U   \n3            4       1.0       1    1  4.0            113803   2.0     C   \n4            5       0.0       3    0  4.0            373450   0.0     U   \n\n   Embarked  Initial  Family Ticket_Initial Ticket_Num  \n0         0      0.0       2            A/5      21171  \n1         1      2.0       2             PC      17599  \n2         0      1.0       1       STON/O2.    3101282  \n3         0      2.0       2            NaN        NaN  \n4         0      0.0       1            NaN        NaN  ",
      "text/html": "<div>\n<style scoped>\n    .dataframe tbody tr th:only-of-type {\n        vertical-align: middle;\n    }\n\n    .dataframe tbody tr th {\n        vertical-align: top;\n    }\n\n    .dataframe thead th {\n        text-align: right;\n    }\n</style>\n<table border=\"1\" class=\"dataframe\">\n  <thead>\n    <tr style=\"text-align: right;\">\n      <th></th>\n      <th>PassengerId</th>\n      <th>Survived</th>\n      <th>Pclass</th>\n      <th>Sex</th>\n      <th>Age</th>\n      <th>Ticket</th>\n      <th>Fare</th>\n      <th>Cabin</th>\n      <th>Embarked</th>\n      <th>Initial</th>\n      <th>Family</th>\n      <th>Ticket_Initial</th>\n      <th>Ticket_Num</th>\n    </tr>\n  </thead>\n  <tbody>\n    <tr>\n      <th>0</th>\n      <td>1</td>\n      <td>0.0</td>\n      <td>3</td>\n      <td>0</td>\n      <td>3.0</td>\n      <td>A/5 21171</td>\n      <td>0.0</td>\n      <td>U</td>\n      <td>0</td>\n      <td>0.0</td>\n      <td>2</td>\n      <td>A/5</td>\n      <td>21171</td>\n    </tr>\n    <tr>\n      <th>1</th>\n      <td>2</td>\n      <td>1.0</td>\n      <td>1</td>\n      <td>1</td>\n      <td>4.0</td>\n      <td>PC 17599</td>\n      <td>3.0</td>\n      <td>C</td>\n      <td>1</td>\n      <td>2.0</td>\n      <td>2</td>\n      <td>PC</td>\n      <td>17599</td>\n    </tr>\n    <tr>\n      <th>2</th>\n      <td>3</td>\n      <td>1.0</td>\n      <td>3</td>\n      <td>1</td>\n      <td>3.0</td>\n      <td>STON/O2. 3101282</td>\n      <td>0.0</td>\n      <td>U</td>\n      <td>0</td>\n      <td>1.0</td>\n      <td>1</td>\n      <td>STON/O2.</td>\n      <td>3101282</td>\n    </tr>\n    <tr>\n      <th>3</th>\n      <td>4</td>\n      <td>1.0</td>\n      <td>1</td>\n      <td>1</td>\n      <td>4.0</td>\n      <td>113803</td>\n      <td>2.0</td>\n      <td>C</td>\n      <td>0</td>\n      <td>2.0</td>\n      <td>2</td>\n      <td>NaN</td>\n      <td>NaN</td>\n    </tr>\n    <tr>\n      <th>4</th>\n      <td>5</td>\n      <td>0.0</td>\n      <td>3</td>\n      <td>0</td>\n      <td>4.0</td>\n      <td>373450</td>\n      <td>0.0</td>\n      <td>U</td>\n      <td>0</td>\n      <td>0.0</td>\n      <td>1</td>\n      <td>NaN</td>\n      <td>NaN</td>\n    </tr>\n  </tbody>\n</table>\n</div>"
     },
     "execution_count": 114,
     "metadata": {},
     "output_type": "execute_result"
    }
   ],
   "source": [
    "df.head()"
   ],
   "metadata": {
    "collapsed": false
   }
  },
  {
   "cell_type": "code",
   "execution_count": 184,
   "outputs": [],
   "source": [
    "df['Ticket_Num'] = df['Ticket_Num'].fillna(df['Ticket'])"
   ],
   "metadata": {
    "collapsed": false
   }
  },
  {
   "cell_type": "code",
   "execution_count": 188,
   "outputs": [
    {
     "data": {
      "text/plain": "Empty DataFrame\nColumns: [PassengerId, Survived, Pclass, Sex, Age, Ticket, Fare, Cabin, Embarked, Initial, Family, Ticket_Initial, Ticket_Num]\nIndex: []",
      "text/html": "<div>\n<style scoped>\n    .dataframe tbody tr th:only-of-type {\n        vertical-align: middle;\n    }\n\n    .dataframe tbody tr th {\n        vertical-align: top;\n    }\n\n    .dataframe thead th {\n        text-align: right;\n    }\n</style>\n<table border=\"1\" class=\"dataframe\">\n  <thead>\n    <tr style=\"text-align: right;\">\n      <th></th>\n      <th>PassengerId</th>\n      <th>Survived</th>\n      <th>Pclass</th>\n      <th>Sex</th>\n      <th>Age</th>\n      <th>Ticket</th>\n      <th>Fare</th>\n      <th>Cabin</th>\n      <th>Embarked</th>\n      <th>Initial</th>\n      <th>Family</th>\n      <th>Ticket_Initial</th>\n      <th>Ticket_Num</th>\n    </tr>\n  </thead>\n  <tbody>\n  </tbody>\n</table>\n</div>"
     },
     "execution_count": 188,
     "metadata": {},
     "output_type": "execute_result"
    }
   ],
   "source": [
    "df[df['Ticket_Num'] == 'LINE']"
   ],
   "metadata": {
    "collapsed": false
   }
  },
  {
   "cell_type": "code",
   "execution_count": 189,
   "outputs": [],
   "source": [
    "df.loc[(df['Ticket_Num'] == 'LINE'),'Ticket_Initial'] = 'LINE'\n",
    "df.loc[(df['Ticket_Num'] == 'LINE'), 'Ticket_Num'] = 0"
   ],
   "metadata": {
    "collapsed": false
   }
  },
  {
   "cell_type": "code",
   "execution_count": 190,
   "outputs": [
    {
     "data": {
      "text/plain": "     PassengerId  Survived  Pclass  Sex  Age Ticket  Fare Cabin  Embarked  \\\n179          180       0.0       3    0  4.0   LINE   0.0     U         0   \n271          272       1.0       3    0  3.0   LINE   0.0     U         0   \n302          303       0.0       3    0  2.0   LINE   0.0     U         0   \n597          598       0.0       3    0  5.0   LINE   0.0     U         0   \n\n     Initial  Family Ticket_Initial Ticket_Num  \n179      0.0       1           LINE          0  \n271      0.0       1           LINE          0  \n302      0.0       1           LINE          0  \n597      0.0       1           LINE          0  ",
      "text/html": "<div>\n<style scoped>\n    .dataframe tbody tr th:only-of-type {\n        vertical-align: middle;\n    }\n\n    .dataframe tbody tr th {\n        vertical-align: top;\n    }\n\n    .dataframe thead th {\n        text-align: right;\n    }\n</style>\n<table border=\"1\" class=\"dataframe\">\n  <thead>\n    <tr style=\"text-align: right;\">\n      <th></th>\n      <th>PassengerId</th>\n      <th>Survived</th>\n      <th>Pclass</th>\n      <th>Sex</th>\n      <th>Age</th>\n      <th>Ticket</th>\n      <th>Fare</th>\n      <th>Cabin</th>\n      <th>Embarked</th>\n      <th>Initial</th>\n      <th>Family</th>\n      <th>Ticket_Initial</th>\n      <th>Ticket_Num</th>\n    </tr>\n  </thead>\n  <tbody>\n    <tr>\n      <th>179</th>\n      <td>180</td>\n      <td>0.0</td>\n      <td>3</td>\n      <td>0</td>\n      <td>4.0</td>\n      <td>LINE</td>\n      <td>0.0</td>\n      <td>U</td>\n      <td>0</td>\n      <td>0.0</td>\n      <td>1</td>\n      <td>LINE</td>\n      <td>0</td>\n    </tr>\n    <tr>\n      <th>271</th>\n      <td>272</td>\n      <td>1.0</td>\n      <td>3</td>\n      <td>0</td>\n      <td>3.0</td>\n      <td>LINE</td>\n      <td>0.0</td>\n      <td>U</td>\n      <td>0</td>\n      <td>0.0</td>\n      <td>1</td>\n      <td>LINE</td>\n      <td>0</td>\n    </tr>\n    <tr>\n      <th>302</th>\n      <td>303</td>\n      <td>0.0</td>\n      <td>3</td>\n      <td>0</td>\n      <td>2.0</td>\n      <td>LINE</td>\n      <td>0.0</td>\n      <td>U</td>\n      <td>0</td>\n      <td>0.0</td>\n      <td>1</td>\n      <td>LINE</td>\n      <td>0</td>\n    </tr>\n    <tr>\n      <th>597</th>\n      <td>598</td>\n      <td>0.0</td>\n      <td>3</td>\n      <td>0</td>\n      <td>5.0</td>\n      <td>LINE</td>\n      <td>0.0</td>\n      <td>U</td>\n      <td>0</td>\n      <td>0.0</td>\n      <td>1</td>\n      <td>LINE</td>\n      <td>0</td>\n    </tr>\n  </tbody>\n</table>\n</div>"
     },
     "execution_count": 190,
     "metadata": {},
     "output_type": "execute_result"
    }
   ],
   "source": [
    "df[df['Ticket_Initial'] == 'LINE']"
   ],
   "metadata": {
    "collapsed": false
   }
  },
  {
   "cell_type": "code",
   "execution_count": 191,
   "outputs": [
    {
     "data": {
      "text/plain": "     PassengerId  Survived  Pclass  Sex  Age           Ticket  Fare Cabin  \\\n473          474       1.0       2    1  3.0  SC/AH Basle 541   0.0     D   \n\n     Embarked  Initial  Family Ticket_Initial Ticket_Num  \n473         1      2.0       1          SC/AH      Basle  ",
      "text/html": "<div>\n<style scoped>\n    .dataframe tbody tr th:only-of-type {\n        vertical-align: middle;\n    }\n\n    .dataframe tbody tr th {\n        vertical-align: top;\n    }\n\n    .dataframe thead th {\n        text-align: right;\n    }\n</style>\n<table border=\"1\" class=\"dataframe\">\n  <thead>\n    <tr style=\"text-align: right;\">\n      <th></th>\n      <th>PassengerId</th>\n      <th>Survived</th>\n      <th>Pclass</th>\n      <th>Sex</th>\n      <th>Age</th>\n      <th>Ticket</th>\n      <th>Fare</th>\n      <th>Cabin</th>\n      <th>Embarked</th>\n      <th>Initial</th>\n      <th>Family</th>\n      <th>Ticket_Initial</th>\n      <th>Ticket_Num</th>\n    </tr>\n  </thead>\n  <tbody>\n    <tr>\n      <th>473</th>\n      <td>474</td>\n      <td>1.0</td>\n      <td>2</td>\n      <td>1</td>\n      <td>3.0</td>\n      <td>SC/AH Basle 541</td>\n      <td>0.0</td>\n      <td>D</td>\n      <td>1</td>\n      <td>2.0</td>\n      <td>1</td>\n      <td>SC/AH</td>\n      <td>Basle</td>\n    </tr>\n  </tbody>\n</table>\n</div>"
     },
     "execution_count": 191,
     "metadata": {},
     "output_type": "execute_result"
    }
   ],
   "source": [
    "df[df['Ticket_Num'] == ' Basle']"
   ],
   "metadata": {
    "collapsed": false
   }
  },
  {
   "cell_type": "code",
   "execution_count": 193,
   "outputs": [
    {
     "data": {
      "text/plain": "Empty DataFrame\nColumns: [PassengerId, Survived, Pclass, Sex, Age, Ticket, Fare, Cabin, Embarked, Initial, Family, Ticket_Initial, Ticket_Num]\nIndex: []",
      "text/html": "<div>\n<style scoped>\n    .dataframe tbody tr th:only-of-type {\n        vertical-align: middle;\n    }\n\n    .dataframe tbody tr th {\n        vertical-align: top;\n    }\n\n    .dataframe thead th {\n        text-align: right;\n    }\n</style>\n<table border=\"1\" class=\"dataframe\">\n  <thead>\n    <tr style=\"text-align: right;\">\n      <th></th>\n      <th>PassengerId</th>\n      <th>Survived</th>\n      <th>Pclass</th>\n      <th>Sex</th>\n      <th>Age</th>\n      <th>Ticket</th>\n      <th>Fare</th>\n      <th>Cabin</th>\n      <th>Embarked</th>\n      <th>Initial</th>\n      <th>Family</th>\n      <th>Ticket_Initial</th>\n      <th>Ticket_Num</th>\n    </tr>\n  </thead>\n  <tbody>\n  </tbody>\n</table>\n</div>"
     },
     "execution_count": 193,
     "metadata": {},
     "output_type": "execute_result"
    }
   ],
   "source": [
    "df.loc[(df['Ticket_Num'] ==  ' Basle'), 'Ticket_Num'] = 541\n",
    "df[df['Ticket_Num'] ==  ' Basle']"
   ],
   "metadata": {
    "collapsed": false
   }
  },
  {
   "cell_type": "markdown",
   "source": [
    "- str.replace( ) 함수는 조건에 맞는 것을 다른 것으로 대체 해주는 함수.\n",
    "- '[^A-Za-z]' 는 알파벳 문자가 아닌 문자를 뜻하는 정규 표현식.\n",
    "- repl = '' 이건 제거하겠다는 의미, 만약 ' '면 공백으로 대체됨.\n",
    "- regex=True 이거는 꼭 작성해줘야 정규표현식이 작동함."
   ],
   "metadata": {
    "collapsed": false
   }
  },
  {
   "cell_type": "markdown",
   "source": [
    "[연습]"
   ],
   "metadata": {
    "collapsed": false
   }
  },
  {
   "cell_type": "code",
   "execution_count": 194,
   "outputs": [
    {
     "data": {
      "text/plain": "   PassengerId  Survived  Pclass  Sex  Age            Ticket  Fare Cabin  \\\n0            1       0.0       3    0  3.0         A/5 21171   0.0     U   \n1            2       1.0       1    1  4.0          PC 17599   3.0     C   \n2            3       1.0       3    1  3.0  STON/O2. 3101282   0.0     U   \n3            4       1.0       1    1  4.0            113803   2.0     C   \n4            5       0.0       3    0  4.0            373450   0.0     U   \n\n   Embarked  Initial  Family Ticket_Initial Ticket_Num Ticket_initial_test  \\\n0         0      0.0       2            A/5      21171                   A   \n1         1      2.0       2             PC      17599                  PC   \n2         0      1.0       1       STON/O2.    3101282               STONO   \n3         0      2.0       2            NaN     113803                 NaN   \n4         0      0.0       1            NaN     373450                 NaN   \n\n  Ticket_initial2  \n0               A  \n1              PC  \n2              ST  \n3             NaN  \n4             NaN  ",
      "text/html": "<div>\n<style scoped>\n    .dataframe tbody tr th:only-of-type {\n        vertical-align: middle;\n    }\n\n    .dataframe tbody tr th {\n        vertical-align: top;\n    }\n\n    .dataframe thead th {\n        text-align: right;\n    }\n</style>\n<table border=\"1\" class=\"dataframe\">\n  <thead>\n    <tr style=\"text-align: right;\">\n      <th></th>\n      <th>PassengerId</th>\n      <th>Survived</th>\n      <th>Pclass</th>\n      <th>Sex</th>\n      <th>Age</th>\n      <th>Ticket</th>\n      <th>Fare</th>\n      <th>Cabin</th>\n      <th>Embarked</th>\n      <th>Initial</th>\n      <th>Family</th>\n      <th>Ticket_Initial</th>\n      <th>Ticket_Num</th>\n      <th>Ticket_initial_test</th>\n      <th>Ticket_initial2</th>\n    </tr>\n  </thead>\n  <tbody>\n    <tr>\n      <th>0</th>\n      <td>1</td>\n      <td>0.0</td>\n      <td>3</td>\n      <td>0</td>\n      <td>3.0</td>\n      <td>A/5 21171</td>\n      <td>0.0</td>\n      <td>U</td>\n      <td>0</td>\n      <td>0.0</td>\n      <td>2</td>\n      <td>A/5</td>\n      <td>21171</td>\n      <td>A</td>\n      <td>A</td>\n    </tr>\n    <tr>\n      <th>1</th>\n      <td>2</td>\n      <td>1.0</td>\n      <td>1</td>\n      <td>1</td>\n      <td>4.0</td>\n      <td>PC 17599</td>\n      <td>3.0</td>\n      <td>C</td>\n      <td>1</td>\n      <td>2.0</td>\n      <td>2</td>\n      <td>PC</td>\n      <td>17599</td>\n      <td>PC</td>\n      <td>PC</td>\n    </tr>\n    <tr>\n      <th>2</th>\n      <td>3</td>\n      <td>1.0</td>\n      <td>3</td>\n      <td>1</td>\n      <td>3.0</td>\n      <td>STON/O2. 3101282</td>\n      <td>0.0</td>\n      <td>U</td>\n      <td>0</td>\n      <td>1.0</td>\n      <td>1</td>\n      <td>STON/O2.</td>\n      <td>3101282</td>\n      <td>STONO</td>\n      <td>ST</td>\n    </tr>\n    <tr>\n      <th>3</th>\n      <td>4</td>\n      <td>1.0</td>\n      <td>1</td>\n      <td>1</td>\n      <td>4.0</td>\n      <td>113803</td>\n      <td>2.0</td>\n      <td>C</td>\n      <td>0</td>\n      <td>2.0</td>\n      <td>2</td>\n      <td>NaN</td>\n      <td>113803</td>\n      <td>NaN</td>\n      <td>NaN</td>\n    </tr>\n    <tr>\n      <th>4</th>\n      <td>5</td>\n      <td>0.0</td>\n      <td>3</td>\n      <td>0</td>\n      <td>4.0</td>\n      <td>373450</td>\n      <td>0.0</td>\n      <td>U</td>\n      <td>0</td>\n      <td>0.0</td>\n      <td>1</td>\n      <td>NaN</td>\n      <td>373450</td>\n      <td>NaN</td>\n      <td>NaN</td>\n    </tr>\n  </tbody>\n</table>\n</div>"
     },
     "execution_count": 194,
     "metadata": {},
     "output_type": "execute_result"
    }
   ],
   "source": [
    "df['Ticket_initial_test'] = df['Ticket_Initial'].str.replace(pat='[^A-Za-z]',\n",
    "                                                             repl='',\n",
    "                                                             regex=True)\n",
    "df['Ticket_initial2'] = df['Ticket_Initial'].str.replace(pat='[^A-Za-z]', repl='',\n",
    "                                                        regex=True).str[0:2]\n",
    "df.head()"
   ],
   "metadata": {
    "collapsed": false
   }
  },
  {
   "cell_type": "code",
   "execution_count": 195,
   "outputs": [
    {
     "data": {
      "text/plain": "<AxesSubplot: xlabel='Survived', ylabel='Count'>"
     },
     "execution_count": 195,
     "metadata": {},
     "output_type": "execute_result"
    },
    {
     "data": {
      "text/plain": "<Figure size 640x480 with 1 Axes>",
      "image/png": "[encoded data removed]"
     },
     "metadata": {},
     "output_type": "display_data"
    }
   ],
   "source": [
    "train = df[:ntrain]\n",
    "survived = train.loc[train['Survived'] == 1]['Ticket_initial2']\n",
    "dead = train.loc[train['Survived'] == 0]['Ticket_initial2']\n",
    "df_temp = pd.concat([survived, dead], axis=1, keys=['Survived', 'Dead'])\n",
    "sns.histplot(data=df_temp, x='Survived')"
   ],
   "metadata": {
    "collapsed": false
   }
  },
  {
   "cell_type": "code",
   "execution_count": 196,
   "outputs": [
    {
     "data": {
      "application/vnd.plotly.v1+json": {
       "data": [
        {
         "histfunc": "count",
         "histnorm": "",
         "marker": {
          "color": "rgba(255, 153, 51, 1.0)",
          "line": {
           "color": "#4D5663",
           "width": 1.3
          }
         },
         "name": "Survived",
         "opacity": 0.8,
         "orientation": "v",
         "x": [
          "PC",
          "ST",
          null,
          null,
          null,
          "PP",
          null,
          null,
          null,
          null,
          null,
          null,
          null,
          null,
          null,
          "PC",
          null,
          null,
          null,
          "SC",
          null,
          null,
          "PC",
          null,
          null,
          "CA",
          "CA",
          null,
          null,
          "CA",
          null,
          null,
          null,
          null,
          null,
          null,
          "SO",
          null,
          null,
          "PC",
          null,
          null,
          null,
          null,
          null,
          null,
          "C",
          null,
          null,
          null,
          null,
          "ST",
          null,
          null,
          null,
          "CA",
          null,
          null,
          null,
          null,
          null,
          null,
          null,
          null,
          null,
          null,
          "PC",
          "PC",
          null,
          "A",
          null,
          null,
          null,
          "FC",
          null,
          "ST",
          null,
          "SO",
          null,
          "SW",
          null,
          null,
          "CA",
          null,
          null,
          null,
          null,
          "PC",
          null,
          "PC",
          null,
          null,
          null,
          "PC",
          "PC",
          "LI",
          null,
          null,
          null,
          "CA",
          "A",
          null,
          null,
          null,
          null,
          null,
          null,
          "PC",
          null,
          null,
          null,
          null,
          null,
          "PC",
          "PC",
          null,
          "PC",
          null,
          null,
          null,
          null,
          null,
          null,
          "PC",
          null,
          null,
          null,
          null,
          "PC",
          null,
          null,
          null,
          null,
          null,
          null,
          null,
          "CA",
          null,
          null,
          null,
          null,
          null,
          null,
          "PC",
          null,
          "PC",
          "C",
          "PC",
          null,
          null,
          null,
          "SC",
          null,
          null,
          null,
          "PP",
          null,
          "ST",
          null,
          null,
          "ST",
          null,
          null,
          null,
          null,
          "SO",
          null,
          null,
          "SC",
          null,
          null,
          "FC",
          null,
          null,
          null,
          null,
          null,
          null,
          null,
          null,
          null,
          null,
          "FC",
          null,
          null,
          "CA",
          "SC",
          null,
          null,
          null,
          null,
          "CA",
          null,
          null,
          null,
          null,
          null,
          null,
          "PC",
          "PC",
          "CA",
          null,
          null,
          null,
          "WC",
          null,
          null,
          "FC",
          "PC",
          null,
          "WE",
          null,
          null,
          "SC",
          "CA",
          null,
          null,
          null,
          null,
          null,
          null,
          null,
          "SW",
          null,
          "PC",
          null,
          null,
          null,
          "ST",
          null,
          null,
          null,
          null,
          null,
          null,
          "PC",
          null,
          null,
          null,
          "SC",
          "PC",
          null,
          null,
          null,
          null,
          null,
          null,
          null,
          null,
          null,
          "PC",
          null,
          null,
          "PC",
          null,
          "CA",
          null,
          null,
          "PC",
          "ST",
          null,
          null,
          null,
          null,
          "PC",
          "PC",
          null,
          null,
          null,
          null,
          null,
          "PC",
          "PC",
          null,
          "PC",
          null,
          null,
          "PC",
          null,
          "PC",
          null,
          null,
          null,
          null,
          null,
          null,
          "PC",
          null,
          "PC",
          "ST",
          null,
          null,
          null,
          null,
          null,
          null,
          null,
          null,
          null,
          null,
          null,
          null,
          null,
          null,
          null,
          "CA",
          null,
          null,
          "CA",
          null,
          null,
          null,
          null,
          null,
          null,
          null,
          "SC",
          null,
          null,
          null,
          null,
          "PC",
          null,
          null,
          null,
          null,
          "PC",
          null,
          null,
          null,
          null,
          null,
          null,
          "SC",
          null,
          null,
          "PP",
          null,
          null,
          null,
          null,
          null,
          null,
          null,
          null,
          null,
          null,
          null,
          null,
          null,
          null,
          null,
          null,
          null,
          null,
          null,
          null,
          null,
          null,
          null,
          null,
          null,
          null,
          null,
          null,
          null,
          null,
          null,
          null,
          null,
          null,
          null,
          null,
          null,
          null,
          null,
          null,
          null,
          null,
          null,
          null,
          null,
          null,
          null,
          null,
          null,
          null,
          null,
          null,
          null,
          null,
          null,
          null,
          null,
          null,
          null,
          null,
          null,
          null,
          null,
          null,
          null,
          null,
          null,
          null,
          null,
          null,
          null,
          null,
          null,
          null,
          null,
          null,
          null,
          null,
          null,
          null,
          null,
          null,
          null,
          null,
          null,
          null,
          null,
          null,
          null,
          null,
          null,
          null,
          null,
          null,
          null,
          null,
          null,
          null,
          null,
          null,
          null,
          null,
          null,
          null,
          null,
          null,
          null,
          null,
          null,
          null,
          null,
          null,
          null,
          null,
          null,
          null,
          null,
          null,
          null,
          null,
          null,
          null,
          null,
          null,
          null,
          null,
          null,
          null,
          null,
          null,
          null,
          null,
          null,
          null,
          null,
          null,
          null,
          null,
          null,
          null,
          null,
          null,
          null,
          null,
          null,
          null,
          null,
          null,
          null,
          null,
          null,
          null,
          null,
          null,
          null,
          null,
          null,
          null,
          null,
          null,
          null,
          null,
          null,
          null,
          null,
          null,
          null,
          null,
          null,
          null,
          null,
          null,
          null,
          null,
          null,
          null,
          null,
          null,
          null,
          null,
          null,
          null,
          null,
          null,
          null,
          null,
          null,
          null,
          null,
          null,
          null,
          null,
          null,
          null,
          null,
          null,
          null,
          null,
          null,
          null,
          null,
          null,
          null,
          null,
          null,
          null,
          null,
          null,
          null,
          null,
          null,
          null,
          null,
          null,
          null,
          null,
          null,
          null,
          null,
          null,
          null,
          null,
          null,
          null,
          null,
          null,
          null,
          null,
          null,
          null,
          null,
          null,
          null,
          null,
          null,
          null,
          null,
          null,
          null,
          null,
          null,
          null,
          null,
          null,
          null,
          null,
          null,
          null,
          null,
          null,
          null,
          null,
          null,
          null,
          null,
          null,
          null,
          null,
          null,
          null,
          null,
          null,
          null,
          null,
          null,
          null,
          null,
          null,
          null,
          null,
          null,
          null,
          null,
          null,
          null,
          null,
          null,
          null,
          null,
          null,
          null,
          null,
          null,
          null,
          null,
          null,
          null,
          null,
          null,
          null,
          null,
          null,
          null,
          null,
          null,
          null,
          null,
          null,
          null,
          null,
          null,
          null,
          null,
          null,
          null,
          null,
          null,
          null,
          null,
          null,
          null,
          null,
          null,
          null,
          null,
          null,
          null,
          null,
          null,
          null,
          null,
          null,
          null,
          null,
          null,
          null,
          null,
          null,
          null,
          null,
          null,
          null,
          null,
          null,
          null,
          null,
          null,
          null,
          null,
          null,
          null,
          null,
          null,
          null,
          null,
          null,
          null,
          null,
          null,
          null,
          null,
          null,
          null,
          null,
          null,
          null,
          null,
          null,
          null,
          null,
          null,
          null,
          null,
          null,
          null,
          null,
          null,
          null,
          null,
          null,
          null,
          null,
          null,
          null,
          null,
          null,
          null,
          null,
          null,
          null,
          null,
          null,
          null,
          null,
          null,
          null,
          null,
          null,
          null,
          null,
          null,
          null,
          null,
          null,
          null,
          null,
          null,
          null,
          null,
          null,
          null,
          null,
          null,
          null,
          null,
          null,
          null,
          null,
          null,
          null,
          null,
          null,
          null,
          null,
          null,
          null,
          null,
          null,
          null,
          null,
          null,
          null,
          null,
          null,
          null,
          null,
          null,
          null,
          null,
          null,
          null,
          null,
          null,
          null,
          null,
          null,
          null,
          null,
          null,
          null,
          null,
          null,
          null,
          null,
          null,
          null,
          null,
          null,
          null,
          null,
          null,
          null,
          null,
          null,
          null,
          null,
          null,
          null,
          null,
          null,
          null,
          null,
          null,
          null,
          null,
          null,
          null,
          null,
          null,
          null,
          null,
          null,
          null,
          null,
          null,
          null,
          null,
          null,
          null,
          null,
          null,
          null,
          null,
          null,
          null,
          null,
          null,
          null,
          null,
          null,
          null,
          null,
          null,
          null,
          null,
          null,
          null,
          null,
          null,
          null,
          null,
          null,
          null,
          null,
          null,
          null,
          null,
          null,
          null,
          null,
          null,
          null,
          null,
          null,
          null,
          null,
          null,
          null,
          null,
          null,
          null,
          null,
          null,
          null,
          null,
          null,
          null,
          null,
          null,
          null,
          null,
          null,
          null,
          null,
          null,
          null,
          null,
          null,
          null,
          null,
          null,
          null,
          null,
          null,
          null,
          null,
          null,
          null,
          null,
          null,
          null,
          null,
          null,
          null
         ],
         "type": "histogram"
        },
        {
         "histfunc": "count",
         "histnorm": "",
         "marker": {
          "color": "rgba(55, 128, 191, 1.0)",
          "line": {
           "color": "#4D5663",
           "width": 1.3
          }
         },
         "name": "Dead",
         "opacity": 0.8,
         "orientation": "v",
         "x": [
          null,
          null,
          null,
          null,
          null,
          null,
          null,
          null,
          null,
          null,
          null,
          null,
          null,
          null,
          null,
          null,
          null,
          null,
          null,
          null,
          null,
          null,
          null,
          null,
          null,
          null,
          null,
          null,
          null,
          null,
          null,
          null,
          null,
          null,
          null,
          null,
          null,
          null,
          null,
          null,
          null,
          null,
          null,
          null,
          null,
          null,
          null,
          null,
          null,
          null,
          null,
          null,
          null,
          null,
          null,
          null,
          null,
          null,
          null,
          null,
          null,
          null,
          null,
          null,
          null,
          null,
          null,
          null,
          null,
          null,
          null,
          null,
          null,
          null,
          null,
          null,
          null,
          null,
          null,
          null,
          null,
          null,
          null,
          null,
          null,
          null,
          null,
          null,
          null,
          null,
          null,
          null,
          null,
          null,
          null,
          null,
          null,
          null,
          null,
          null,
          null,
          null,
          null,
          null,
          null,
          null,
          null,
          null,
          null,
          null,
          null,
          null,
          null,
          null,
          null,
          null,
          null,
          null,
          null,
          null,
          null,
          null,
          null,
          null,
          null,
          null,
          null,
          null,
          null,
          null,
          null,
          null,
          null,
          null,
          null,
          null,
          null,
          null,
          null,
          null,
          null,
          null,
          null,
          null,
          null,
          null,
          null,
          null,
          null,
          null,
          null,
          null,
          null,
          null,
          null,
          null,
          null,
          null,
          null,
          null,
          null,
          null,
          null,
          null,
          null,
          null,
          null,
          null,
          null,
          null,
          null,
          null,
          null,
          null,
          null,
          null,
          null,
          null,
          null,
          null,
          null,
          null,
          null,
          null,
          null,
          null,
          null,
          null,
          null,
          null,
          null,
          null,
          null,
          null,
          null,
          null,
          null,
          null,
          null,
          null,
          null,
          null,
          null,
          null,
          null,
          null,
          null,
          null,
          null,
          null,
          null,
          null,
          null,
          null,
          null,
          null,
          null,
          null,
          null,
          null,
          null,
          null,
          null,
          null,
          null,
          null,
          null,
          null,
          null,
          null,
          null,
          null,
          null,
          null,
          null,
          null,
          null,
          null,
          null,
          null,
          null,
          null,
          null,
          null,
          null,
          null,
          null,
          null,
          null,
          null,
          null,
          null,
          null,
          null,
          null,
          null,
          null,
          null,
          null,
          null,
          null,
          null,
          null,
          null,
          null,
          null,
          null,
          null,
          null,
          null,
          null,
          null,
          null,
          null,
          null,
          null,
          null,
          null,
          null,
          null,
          null,
          null,
          null,
          null,
          null,
          null,
          null,
          null,
          null,
          null,
          null,
          null,
          null,
          null,
          null,
          null,
          null,
          null,
          null,
          null,
          null,
          null,
          null,
          null,
          null,
          null,
          null,
          null,
          null,
          null,
          null,
          null,
          null,
          null,
          null,
          null,
          null,
          null,
          null,
          null,
          null,
          null,
          null,
          null,
          null,
          null,
          null,
          null,
          null,
          null,
          null,
          null,
          null,
          null,
          null,
          null,
          null,
          null,
          null,
          null,
          null,
          null,
          "A",
          null,
          null,
          null,
          null,
          "A",
          null,
          null,
          null,
          null,
          null,
          null,
          null,
          null,
          null,
          "PC",
          "CA",
          "PC",
          null,
          "A",
          null,
          null,
          null,
          null,
          "SC",
          null,
          null,
          null,
          null,
          "A",
          null,
          null,
          "CA",
          null,
          null,
          null,
          "PC",
          "SP",
          null,
          "CA",
          "CA",
          "SO",
          null,
          null,
          null,
          null,
          null,
          null,
          "WC",
          "SO",
          null,
          null,
          null,
          "WE",
          "CA",
          null,
          null,
          "PC",
          null,
          null,
          null,
          null,
          null,
          null,
          null,
          null,
          null,
          null,
          null,
          null,
          null,
          "ST",
          null,
          null,
          "PC",
          null,
          "SO",
          "A",
          null,
          null,
          null,
          null,
          null,
          "SO",
          "A",
          "CA",
          "SC",
          null,
          null,
          "PC",
          null,
          null,
          null,
          "CA",
          "WC",
          null,
          null,
          "SO",
          "A",
          "A",
          "Fa",
          "PC",
          "SO",
          null,
          "CA",
          null,
          null,
          null,
          null,
          null,
          "PC",
          null,
          null,
          null,
          "ST",
          null,
          null,
          null,
          "PC",
          null,
          "LI",
          "CA",
          "SC",
          null,
          null,
          null,
          null,
          null,
          null,
          null,
          null,
          null,
          "CA",
          null,
          null,
          null,
          null,
          "SO",
          "A",
          null,
          null,
          null,
          "WC",
          null,
          null,
          null,
          "PP",
          "A",
          null,
          null,
          null,
          null,
          "CA",
          "WC",
          null,
          null,
          "SC",
          null,
          "WC",
          "ST",
          null,
          null,
          null,
          null,
          null,
          null,
          null,
          "A",
          null,
          null,
          null,
          null,
          null,
          "CA",
          null,
          null,
          "PC",
          null,
          null,
          null,
          null,
          null,
          null,
          null,
          null,
          null,
          "SC",
          null,
          null,
          "PC",
          null,
          null,
          "LI",
          "A",
          "PP",
          null,
          null,
          "FC",
          null,
          "A",
          null,
          "CA",
          null,
          null,
          "PC",
          null,
          null,
          null,
          null,
          null,
          null,
          null,
          null,
          null,
          null,
          null,
          null,
          null,
          null,
          null,
          null,
          "SC",
          null,
          "SO",
          null,
          "C",
          null,
          null,
          "PC",
          null,
          null,
          null,
          null,
          "ST",
          null,
          "SO",
          "CA",
          null,
          null,
          null,
          null,
          null,
          null,
          null,
          null,
          "ST",
          null,
          null,
          null,
          null,
          null,
          null,
          null,
          null,
          null,
          null,
          null,
          null,
          "A",
          null,
          null,
          null,
          "A",
          null,
          "ST",
          null,
          "WC",
          null,
          "CA",
          null,
          null,
          "CA",
          null,
          null,
          "A",
          null,
          null,
          null,
          null,
          null,
          "AS",
          "SO",
          null,
          null,
          null,
          null,
          null,
          null,
          null,
          null,
          null,
          null,
          "CA",
          null,
          "A",
          null,
          null,
          "A",
          null,
          "SO",
          null,
          "PC",
          "A",
          null,
          "CA",
          null,
          null,
          null,
          null,
          null,
          null,
          "PC",
          "C",
          "SO",
          null,
          null,
          null,
          null,
          null,
          null,
          null,
          null,
          "PC",
          null,
          null,
          null,
          null,
          null,
          null,
          null,
          null,
          null,
          "PC",
          null,
          null,
          null,
          null,
          null,
          "PC",
          null,
          null,
          null,
          "SO",
          "SO",
          "A",
          null,
          null,
          null,
          "A",
          null,
          null,
          null,
          null,
          null,
          null,
          null,
          "A",
          "ST",
          "A",
          null,
          "SC",
          null,
          "LI",
          null,
          null,
          null,
          null,
          null,
          null,
          null,
          "SO",
          null,
          null,
          null,
          "A",
          null,
          null,
          null,
          null,
          null,
          null,
          null,
          null,
          null,
          null,
          null,
          "ST",
          "CA",
          null,
          null,
          null,
          null,
          null,
          "SO",
          null,
          null,
          null,
          "SO",
          null,
          null,
          null,
          null,
          null,
          null,
          null,
          "SO",
          null,
          null,
          "A",
          "FC",
          "CA",
          null,
          null,
          null,
          "CA",
          null,
          null,
          "CA",
          null,
          "SC",
          null,
          null,
          null,
          null,
          null,
          null,
          null,
          null,
          null,
          null,
          null,
          null,
          null,
          null,
          null,
          null,
          null,
          null,
          null,
          null,
          null,
          null,
          null,
          null,
          "ST",
          null,
          null,
          null,
          null,
          null,
          "WC",
          null,
          null,
          null,
          null,
          "WE",
          "CA",
          null,
          null,
          null,
          null,
          null,
          null,
          null,
          null,
          "SO",
          null,
          null,
          null,
          null,
          null,
          null,
          null,
          "SO",
          null,
          null,
          null,
          null,
          null,
          "WC",
          "SO",
          null,
          null,
          "PC",
          null,
          null,
          "CA",
          "PC",
          null,
          null,
          null,
          null,
          null,
          null,
          null,
          null,
          null,
          null,
          "A",
          null,
          null,
          null,
          null,
          "ST",
          "SC",
          "C",
          null,
          null,
          null,
          null,
          null,
          null,
          null,
          null,
          null,
          null,
          "SO",
          "SO",
          null,
          null,
          "CA",
          "CA",
          null,
          null,
          null,
          null,
          null,
          null,
          null,
          null,
          null,
          "CA",
          null,
          "PC",
          null,
          null,
          null,
          null,
          null,
          null,
          null,
          null,
          null,
          "CA",
          "SO",
          null,
          null,
          "WC",
          null
         ],
         "type": "histogram"
        }
       ],
       "layout": {
        "barmode": "overlay",
        "legend": {
         "bgcolor": "#F5F6F9",
         "font": {
          "color": "#4D5663"
         }
        },
        "paper_bgcolor": "#F5F6F9",
        "plot_bgcolor": "#F5F6F9",
        "template": {
         "data": {
          "barpolar": [
           {
            "marker": {
             "line": {
              "color": "rgb(17,17,17)",
              "width": 0.5
             },
             "pattern": {
              "fillmode": "overlay",
              "size": 10,
              "solidity": 0.2
             }
            },
            "type": "barpolar"
           }
          ],
          "bar": [
           {
            "error_x": {
             "color": "#f2f5fa"
            },
            "error_y": {
             "color": "#f2f5fa"
            },
            "marker": {
             "line": {
              "color": "rgb(17,17,17)",
              "width": 0.5
             },
             "pattern": {
              "fillmode": "overlay",
              "size": 10,
              "solidity": 0.2
             }
            },
            "type": "bar"
           }
          ],
          "carpet": [
           {
            "aaxis": {
             "endlinecolor": "#A2B1C6",
             "gridcolor": "#506784",
             "linecolor": "#506784",
             "minorgridcolor": "#506784",
             "startlinecolor": "#A2B1C6"
            },
            "baxis": {
             "endlinecolor": "#A2B1C6",
             "gridcolor": "#506784",
             "linecolor": "#506784",
             "minorgridcolor": "#506784",
             "startlinecolor": "#A2B1C6"
            },
            "type": "carpet"
           }
          ],
          "choropleth": [
           {
            "colorbar": {
             "outlinewidth": 0,
             "ticks": ""
            },
            "type": "choropleth"
           }
          ],
          "contourcarpet": [
           {
            "colorbar": {
             "outlinewidth": 0,
             "ticks": ""
            },
            "type": "contourcarpet"
           }
          ],
          "contour": [
           {
            "colorbar": {
             "outlinewidth": 0,
             "ticks": ""
            },
            "colorscale": [
             [
              0.0,
              "#0d0887"
             ],
             [
              0.1111111111111111,
              "#46039f"
             ],
             [
              0.2222222222222222,
              "#7201a8"
             ],
             [
              0.3333333333333333,
              "#9c179e"
             ],
             [
              0.4444444444444444,
              "#bd3786"
             ],
             [
              0.5555555555555556,
              "#d8576b"
             ],
             [
              0.6666666666666666,
              "#ed7953"
             ],
             [
              0.7777777777777778,
              "#fb9f3a"
             ],
             [
              0.8888888888888888,
              "#fdca26"
             ],
             [
              1.0,
              "#f0f921"
             ]
            ],
            "type": "contour"
           }
          ],
          "heatmapgl": [
           {
            "colorbar": {
             "outlinewidth": 0,
             "ticks": ""
            },
            "colorscale": [
             [
              0.0,
              "#0d0887"
             ],
             [
              0.1111111111111111,
              "#46039f"
             ],
             [
              0.2222222222222222,
              "#7201a8"
             ],
             [
              0.3333333333333333,
              "#9c179e"
             ],
             [
              0.4444444444444444,
              "#bd3786"
             ],
             [
              0.5555555555555556,
              "#d8576b"
             ],
             [
              0.6666666666666666,
              "#ed7953"
             ],
             [
              0.7777777777777778,
              "#fb9f3a"
             ],
             [
              0.8888888888888888,
              "#fdca26"
             ],
             [
              1.0,
              "#f0f921"
             ]
            ],
            "type": "heatmapgl"
           }
          ],
          "heatmap": [
           {
            "colorbar": {
             "outlinewidth": 0,
             "ticks": ""
            },
            "colorscale": [
             [
              0.0,
              "#0d0887"
             ],
             [
              0.1111111111111111,
              "#46039f"
             ],
             [
              0.2222222222222222,
              "#7201a8"
             ],
             [
              0.3333333333333333,
              "#9c179e"
             ],
             [
              0.4444444444444444,
              "#bd3786"
             ],
             [
              0.5555555555555556,
              "#d8576b"
             ],
             [
              0.6666666666666666,
              "#ed7953"
             ],
             [
              0.7777777777777778,
              "#fb9f3a"
             ],
             [
              0.8888888888888888,
              "#fdca26"
             ],
             [
              1.0,
              "#f0f921"
             ]
            ],
            "type": "heatmap"
           }
          ],
          "histogram2dcontour": [
           {
            "colorbar": {
             "outlinewidth": 0,
             "ticks": ""
            },
            "colorscale": [
             [
              0.0,
              "#0d0887"
             ],
             [
              0.1111111111111111,
              "#46039f"
             ],
             [
              0.2222222222222222,
              "#7201a8"
             ],
             [
              0.3333333333333333,
              "#9c179e"
             ],
             [
              0.4444444444444444,
              "#bd3786"
             ],
             [
              0.5555555555555556,
              "#d8576b"
             ],
             [
              0.6666666666666666,
              "#ed7953"
             ],
             [
              0.7777777777777778,
              "#fb9f3a"
             ],
             [
              0.8888888888888888,
              "#fdca26"
             ],
             [
              1.0,
              "#f0f921"
             ]
            ],
            "type": "histogram2dcontour"
           }
          ],
          "histogram2d": [
           {
            "colorbar": {
             "outlinewidth": 0,
             "ticks": ""
            },
            "colorscale": [
             [
              0.0,
              "#0d0887"
             ],
             [
              0.1111111111111111,
              "#46039f"
             ],
             [
              0.2222222222222222,
              "#7201a8"
             ],
             [
              0.3333333333333333,
              "#9c179e"
             ],
             [
              0.4444444444444444,
              "#bd3786"
             ],
             [
              0.5555555555555556,
              "#d8576b"
             ],
             [
              0.6666666666666666,
              "#ed7953"
             ],
             [
              0.7777777777777778,
              "#fb9f3a"
             ],
             [
              0.8888888888888888,
              "#fdca26"
             ],
             [
              1.0,
              "#f0f921"
             ]
            ],
            "type": "histogram2d"
           }
          ],
          "histogram": [
           {
            "marker": {
             "pattern": {
              "fillmode": "overlay",
              "size": 10,
              "solidity": 0.2
             }
            },
            "type": "histogram"
           }
          ],
          "mesh3d": [
           {
            "colorbar": {
             "outlinewidth": 0,
             "ticks": ""
            },
            "type": "mesh3d"
           }
          ],
          "parcoords": [
           {
            "line": {
             "colorbar": {
              "outlinewidth": 0,
              "ticks": ""
             }
            },
            "type": "parcoords"
           }
          ],
          "pie": [
           {
            "automargin": true,
            "type": "pie"
           }
          ],
          "scatter3d": [
           {
            "line": {
             "colorbar": {
              "outlinewidth": 0,
              "ticks": ""
             }
            },
            "marker": {
             "colorbar": {
              "outlinewidth": 0,
              "ticks": ""
             }
            },
            "type": "scatter3d"
           }
          ],
          "scattercarpet": [
           {
            "marker": {
             "colorbar": {
              "outlinewidth": 0,
              "ticks": ""
             }
            },
            "type": "scattercarpet"
           }
          ],
          "scattergeo": [
           {
            "marker": {
             "colorbar": {
              "outlinewidth": 0,
              "ticks": ""
             }
            },
            "type": "scattergeo"
           }
          ],
          "scattergl": [
           {
            "marker": {
             "line": {
              "color": "#283442"
             }
            },
            "type": "scattergl"
           }
          ],
          "scattermapbox": [
           {
            "marker": {
             "colorbar": {
              "outlinewidth": 0,
              "ticks": ""
             }
            },
            "type": "scattermapbox"
           }
          ],
          "scatterpolargl": [
           {
            "marker": {
             "colorbar": {
              "outlinewidth": 0,
              "ticks": ""
             }
            },
            "type": "scatterpolargl"
           }
          ],
          "scatterpolar": [
           {
            "marker": {
             "colorbar": {
              "outlinewidth": 0,
              "ticks": ""
             }
            },
            "type": "scatterpolar"
           }
          ],
          "scatter": [
           {
            "marker": {
             "line": {
              "color": "#283442"
             }
            },
            "type": "scatter"
           }
          ],
          "scatterternary": [
           {
            "marker": {
             "colorbar": {
              "outlinewidth": 0,
              "ticks": ""
             }
            },
            "type": "scatterternary"
           }
          ],
          "surface": [
           {
            "colorbar": {
             "outlinewidth": 0,
             "ticks": ""
            },
            "colorscale": [
             [
              0.0,
              "#0d0887"
             ],
             [
              0.1111111111111111,
              "#46039f"
             ],
             [
              0.2222222222222222,
              "#7201a8"
             ],
             [
              0.3333333333333333,
              "#9c179e"
             ],
             [
              0.4444444444444444,
              "#bd3786"
             ],
             [
              0.5555555555555556,
              "#d8576b"
             ],
             [
              0.6666666666666666,
              "#ed7953"
             ],
             [
              0.7777777777777778,
              "#fb9f3a"
             ],
             [
              0.8888888888888888,
              "#fdca26"
             ],
             [
              1.0,
              "#f0f921"
             ]
            ],
            "type": "surface"
           }
          ],
          "table": [
           {
            "cells": {
             "fill": {
              "color": "#506784"
             },
             "line": {
              "color": "rgb(17,17,17)"
             }
            },
            "header": {
             "fill": {
              "color": "#2a3f5f"
             },
             "line": {
              "color": "rgb(17,17,17)"
             }
            },
            "type": "table"
           }
          ]
         },
         "layout": {
          "annotationdefaults": {
           "arrowcolor": "#f2f5fa",
           "arrowhead": 0,
           "arrowwidth": 1
          },
          "autotypenumbers": "strict",
          "coloraxis": {
           "colorbar": {
            "outlinewidth": 0,
            "ticks": ""
           }
          },
          "colorscale": {
           "diverging": [
            [
             0,
             "#8e0152"
            ],
            [
             0.1,
             "#c51b7d"
            ],
            [
             0.2,
             "#de77ae"
            ],
            [
             0.3,
             "#f1b6da"
            ],
            [
             0.4,
             "#fde0ef"
            ],
            [
             0.5,
             "#f7f7f7"
            ],
            [
             0.6,
             "#e6f5d0"
            ],
            [
             0.7,
             "#b8e186"
            ],
            [
             0.8,
             "#7fbc41"
            ],
            [
             0.9,
             "#4d9221"
            ],
            [
             1,
             "#276419"
            ]
           ],
           "sequential": [
            [
             0.0,
             "#0d0887"
            ],
            [
             0.1111111111111111,
             "#46039f"
            ],
            [
             0.2222222222222222,
             "#7201a8"
            ],
            [
             0.3333333333333333,
             "#9c179e"
            ],
            [
             0.4444444444444444,
             "#bd3786"
            ],
            [
             0.5555555555555556,
             "#d8576b"
            ],
            [
             0.6666666666666666,
             "#ed7953"
            ],
            [
             0.7777777777777778,
             "#fb9f3a"
            ],
            [
             0.8888888888888888,
             "#fdca26"
            ],
            [
             1.0,
             "#f0f921"
            ]
           ],
           "sequentialminus": [
            [
             0.0,
             "#0d0887"
            ],
            [
             0.1111111111111111,
             "#46039f"
            ],
            [
             0.2222222222222222,
             "#7201a8"
            ],
            [
             0.3333333333333333,
             "#9c179e"
            ],
            [
             0.4444444444444444,
             "#bd3786"
            ],
            [
             0.5555555555555556,
             "#d8576b"
            ],
            [
             0.6666666666666666,
             "#ed7953"
            ],
            [
             0.7777777777777778,
             "#fb9f3a"
            ],
            [
             0.8888888888888888,
             "#fdca26"
            ],
            [
             1.0,
             "#f0f921"
            ]
           ]
          },
          "colorway": [
           "#636efa",
           "#EF553B",
           "#00cc96",
           "#ab63fa",
           "#FFA15A",
           "#19d3f3",
           "#FF6692",
           "#B6E880",
           "#FF97FF",
           "#FECB52"
          ],
          "font": {
           "color": "#f2f5fa"
          },
          "geo": {
           "bgcolor": "rgb(17,17,17)",
           "lakecolor": "rgb(17,17,17)",
           "landcolor": "rgb(17,17,17)",
           "showlakes": true,
           "showland": true,
           "subunitcolor": "#506784"
          },
          "hoverlabel": {
           "align": "left"
          },
          "hovermode": "closest",
          "mapbox": {
           "style": "dark"
          },
          "paper_bgcolor": "rgb(17,17,17)",
          "plot_bgcolor": "rgb(17,17,17)",
          "polar": {
           "angularaxis": {
            "gridcolor": "#506784",
            "linecolor": "#506784",
            "ticks": ""
           },
           "bgcolor": "rgb(17,17,17)",
           "radialaxis": {
            "gridcolor": "#506784",
            "linecolor": "#506784",
            "ticks": ""
           }
          },
          "scene": {
           "xaxis": {
            "backgroundcolor": "rgb(17,17,17)",
            "gridcolor": "#506784",
            "gridwidth": 2,
            "linecolor": "#506784",
            "showbackground": true,
            "ticks": "",
            "zerolinecolor": "#C8D4E3"
           },
           "yaxis": {
            "backgroundcolor": "rgb(17,17,17)",
            "gridcolor": "#506784",
            "gridwidth": 2,
            "linecolor": "#506784",
            "showbackground": true,
            "ticks": "",
            "zerolinecolor": "#C8D4E3"
           },
           "zaxis": {
            "backgroundcolor": "rgb(17,17,17)",
            "gridcolor": "#506784",
            "gridwidth": 2,
            "linecolor": "#506784",
            "showbackground": true,
            "ticks": "",
            "zerolinecolor": "#C8D4E3"
           }
          },
          "shapedefaults": {
           "line": {
            "color": "#f2f5fa"
           }
          },
          "sliderdefaults": {
           "bgcolor": "#C8D4E3",
           "bordercolor": "rgb(17,17,17)",
           "borderwidth": 1,
           "tickwidth": 0
          },
          "ternary": {
           "aaxis": {
            "gridcolor": "#506784",
            "linecolor": "#506784",
            "ticks": ""
           },
           "baxis": {
            "gridcolor": "#506784",
            "linecolor": "#506784",
            "ticks": ""
           },
           "bgcolor": "rgb(17,17,17)",
           "caxis": {
            "gridcolor": "#506784",
            "linecolor": "#506784",
            "ticks": ""
           }
          },
          "title": {
           "x": 0.05
          },
          "updatemenudefaults": {
           "bgcolor": "#506784",
           "borderwidth": 0
          },
          "xaxis": {
           "automargin": true,
           "gridcolor": "#283442",
           "linecolor": "#506784",
           "ticks": "",
           "title": {
            "standoff": 15
           },
           "zerolinecolor": "#283442",
           "zerolinewidth": 2
          },
          "yaxis": {
           "automargin": true,
           "gridcolor": "#283442",
           "linecolor": "#506784",
           "ticks": "",
           "title": {
            "standoff": 15
           },
           "zerolinecolor": "#283442",
           "zerolinewidth": 2
          }
         }
        },
        "title": {
         "font": {
          "color": "#4D5663"
         }
        },
        "xaxis": {
         "gridcolor": "#E1E5ED",
         "showgrid": true,
         "tickfont": {
          "color": "#4D5663"
         },
         "title": {
          "font": {
           "color": "#4D5663"
          },
          "text": ""
         },
         "zerolinecolor": "#E1E5ED"
        },
        "yaxis": {
         "gridcolor": "#E1E5ED",
         "showgrid": true,
         "tickfont": {
          "color": "#4D5663"
         },
         "title": {
          "font": {
           "color": "#4D5663"
          },
          "text": ""
         },
         "zerolinecolor": "#E1E5ED"
        }
       },
       "config": {
        "showLink": true,
        "linkText": "Export to plot.ly",
        "plotlyServerURL": "https://plot.ly"
       }
      },
      "text/html": "<div>                            <div id=\"57e0e62b-6575-4b55-b427-a47c5933720d\" class=\"plotly-graph-div\" style=\"height:525px; width:100%;\"></div>            <script type=\"text/javascript\">                require([\"plotly\"], function(Plotly) {                    window.PLOTLYENV=window.PLOTLYENV || {};\n                    window.PLOTLYENV.BASE_URL='https://plot.ly';                                    if (document.getElementById(\"57e0e62b-6575-4b55-b427-a47c5933720d\")) {                    Plotly.newPlot(                        \"57e0e62b-6575-4b55-b427-a47c5933720d\",                        [{\"histfunc\":\"count\",\"histnorm\":\"\",\"marker\":{\"color\":\"rgba(255, 153, 51, 1.0)\",\"line\":{\"color\":\"#4D5663\",\"width\":1.3}},\"name\":\"Survived\",\"opacity\":0.8,\"orientation\":\"v\",\"x\":[\"PC\",\"ST\",null,null,null,\"PP\",null,null,null,null,null,null,null,null,null,\"PC\",null,null,null,\"SC\",null,null,\"PC\",null,null,\"CA\",\"CA\",null,null,\"CA\",null,null,null,null,null,null,\"SO\",null,null,\"PC\",null,null,null,null,null,null,\"C\",null,null,null,null,\"ST\",null,null,null,\"CA\",null,null,null,null,null,null,null,null,null,null,\"PC\",\"PC\",null,\"A\",null,null,null,\"FC\",null,\"ST\",null,\"SO\",null,\"SW\",null,null,\"CA\",null,null,null,null,\"PC\",null,\"PC\",null,null,null,\"PC\",\"PC\",\"LI\",null,null,null,\"CA\",\"A\",null,null,null,null,null,null,\"PC\",null,null,null,null,null,\"PC\",\"PC\",null,\"PC\",null,null,null,null,null,null,\"PC\",null,null,null,null,\"PC\",null,null,null,null,null,null,null,\"CA\",null,null,null,null,null,null,\"PC\",null,\"PC\",\"C\",\"PC\",null,null,null,\"SC\",null,null,null,\"PP\",null,\"ST\",null,null,\"ST\",null,null,null,null,\"SO\",null,null,\"SC\",null,null,\"FC\",null,null,null,null,null,null,null,null,null,null,\"FC\",null,null,\"CA\",\"SC\",null,null,null,null,\"CA\",null,null,null,null,null,null,\"PC\",\"PC\",\"CA\",null,null,null,\"WC\",null,null,\"FC\",\"PC\",null,\"WE\",null,null,\"SC\",\"CA\",null,null,null,null,null,null,null,\"SW\",null,\"PC\",null,null,null,\"ST\",null,null,null,null,null,null,\"PC\",null,null,null,\"SC\",\"PC\",null,null,null,null,null,null,null,null,null,\"PC\",null,null,\"PC\",null,\"CA\",null,null,\"PC\",\"ST\",null,null,null,null,\"PC\",\"PC\",null,null,null,null,null,\"PC\",\"PC\",null,\"PC\",null,null,\"PC\",null,\"PC\",null,null,null,null,null,null,\"PC\",null,\"PC\",\"ST\",null,null,null,null,null,null,null,null,null,null,null,null,null,null,null,\"CA\",null,null,\"CA\",null,null,null,null,null,null,null,\"SC\",null,null,null,null,\"PC\",null,null,null,null,\"PC\",null,null,null,null,null,null,\"SC\",null,null,\"PP\",null,null,null,null,null,null,null,null,null,null,null,null,null,null,null,null,null,null,null,null,null,null,null,null,null,null,null,null,null,null,null,null,null,null,null,null,null,null,null,null,null,null,null,null,null,null,null,null,null,null,null,null,null,null,null,null,null,null,null,null,null,null,null,null,null,null,null,null,null,null,null,null,null,null,null,null,null,null,null,null,null,null,null,null,null,null,null,null,null,null,null,null,null,null,null,null,null,null,null,null,null,null,null,null,null,null,null,null,null,null,null,null,null,null,null,null,null,null,null,null,null,null,null,null,null,null,null,null,null,null,null,null,null,null,null,null,null,null,null,null,null,null,null,null,null,null,null,null,null,null,null,null,null,null,null,null,null,null,null,null,null,null,null,null,null,null,null,null,null,null,null,null,null,null,null,null,null,null,null,null,null,null,null,null,null,null,null,null,null,null,null,null,null,null,null,null,null,null,null,null,null,null,null,null,null,null,null,null,null,null,null,null,null,null,null,null,null,null,null,null,null,null,null,null,null,null,null,null,null,null,null,null,null,null,null,null,null,null,null,null,null,null,null,null,null,null,null,null,null,null,null,null,null,null,null,null,null,null,null,null,null,null,null,null,null,null,null,null,null,null,null,null,null,null,null,null,null,null,null,null,null,null,null,null,null,null,null,null,null,null,null,null,null,null,null,null,null,null,null,null,null,null,null,null,null,null,null,null,null,null,null,null,null,null,null,null,null,null,null,null,null,null,null,null,null,null,null,null,null,null,null,null,null,null,null,null,null,null,null,null,null,null,null,null,null,null,null,null,null,null,null,null,null,null,null,null,null,null,null,null,null,null,null,null,null,null,null,null,null,null,null,null,null,null,null,null,null,null,null,null,null,null,null,null,null,null,null,null,null,null,null,null,null,null,null,null,null,null,null,null,null,null,null,null,null,null,null,null,null,null,null,null,null,null,null,null,null,null,null,null,null,null,null,null,null,null,null,null,null,null,null,null,null,null,null,null,null,null,null,null,null,null,null,null,null,null,null,null,null,null,null,null,null,null,null,null,null,null,null,null,null,null,null,null,null,null,null,null,null,null,null,null,null,null,null,null,null,null,null,null,null,null,null,null,null,null,null,null,null,null,null,null,null,null,null,null,null,null,null,null,null,null,null,null,null,null,null,null,null,null,null,null,null,null,null,null,null,null,null,null,null,null,null,null,null,null,null,null,null,null,null,null,null,null,null,null,null,null,null,null,null,null,null,null,null,null,null,null,null,null,null,null,null,null],\"type\":\"histogram\"},{\"histfunc\":\"count\",\"histnorm\":\"\",\"marker\":{\"color\":\"rgba(55, 128, 191, 1.0)\",\"line\":{\"color\":\"#4D5663\",\"width\":1.3}},\"name\":\"Dead\",\"opacity\":0.8,\"orientation\":\"v\",\"x\":[null,null,null,null,null,null,null,null,null,null,null,null,null,null,null,null,null,null,null,null,null,null,null,null,null,null,null,null,null,null,null,null,null,null,null,null,null,null,null,null,null,null,null,null,null,null,null,null,null,null,null,null,null,null,null,null,null,null,null,null,null,null,null,null,null,null,null,null,null,null,null,null,null,null,null,null,null,null,null,null,null,null,null,null,null,null,null,null,null,null,null,null,null,null,null,null,null,null,null,null,null,null,null,null,null,null,null,null,null,null,null,null,null,null,null,null,null,null,null,null,null,null,null,null,null,null,null,null,null,null,null,null,null,null,null,null,null,null,null,null,null,null,null,null,null,null,null,null,null,null,null,null,null,null,null,null,null,null,null,null,null,null,null,null,null,null,null,null,null,null,null,null,null,null,null,null,null,null,null,null,null,null,null,null,null,null,null,null,null,null,null,null,null,null,null,null,null,null,null,null,null,null,null,null,null,null,null,null,null,null,null,null,null,null,null,null,null,null,null,null,null,null,null,null,null,null,null,null,null,null,null,null,null,null,null,null,null,null,null,null,null,null,null,null,null,null,null,null,null,null,null,null,null,null,null,null,null,null,null,null,null,null,null,null,null,null,null,null,null,null,null,null,null,null,null,null,null,null,null,null,null,null,null,null,null,null,null,null,null,null,null,null,null,null,null,null,null,null,null,null,null,null,null,null,null,null,null,null,null,null,null,null,null,null,null,null,null,null,null,null,null,null,null,null,null,null,null,null,null,null,null,null,null,null,null,null,null,null,null,null,null,null,\"A\",null,null,null,null,\"A\",null,null,null,null,null,null,null,null,null,\"PC\",\"CA\",\"PC\",null,\"A\",null,null,null,null,\"SC\",null,null,null,null,\"A\",null,null,\"CA\",null,null,null,\"PC\",\"SP\",null,\"CA\",\"CA\",\"SO\",null,null,null,null,null,null,\"WC\",\"SO\",null,null,null,\"WE\",\"CA\",null,null,\"PC\",null,null,null,null,null,null,null,null,null,null,null,null,null,\"ST\",null,null,\"PC\",null,\"SO\",\"A\",null,null,null,null,null,\"SO\",\"A\",\"CA\",\"SC\",null,null,\"PC\",null,null,null,\"CA\",\"WC\",null,null,\"SO\",\"A\",\"A\",\"Fa\",\"PC\",\"SO\",null,\"CA\",null,null,null,null,null,\"PC\",null,null,null,\"ST\",null,null,null,\"PC\",null,\"LI\",\"CA\",\"SC\",null,null,null,null,null,null,null,null,null,\"CA\",null,null,null,null,\"SO\",\"A\",null,null,null,\"WC\",null,null,null,\"PP\",\"A\",null,null,null,null,\"CA\",\"WC\",null,null,\"SC\",null,\"WC\",\"ST\",null,null,null,null,null,null,null,\"A\",null,null,null,null,null,\"CA\",null,null,\"PC\",null,null,null,null,null,null,null,null,null,\"SC\",null,null,\"PC\",null,null,\"LI\",\"A\",\"PP\",null,null,\"FC\",null,\"A\",null,\"CA\",null,null,\"PC\",null,null,null,null,null,null,null,null,null,null,null,null,null,null,null,null,\"SC\",null,\"SO\",null,\"C\",null,null,\"PC\",null,null,null,null,\"ST\",null,\"SO\",\"CA\",null,null,null,null,null,null,null,null,\"ST\",null,null,null,null,null,null,null,null,null,null,null,null,\"A\",null,null,null,\"A\",null,\"ST\",null,\"WC\",null,\"CA\",null,null,\"CA\",null,null,\"A\",null,null,null,null,null,\"AS\",\"SO\",null,null,null,null,null,null,null,null,null,null,\"CA\",null,\"A\",null,null,\"A\",null,\"SO\",null,\"PC\",\"A\",null,\"CA\",null,null,null,null,null,null,\"PC\",\"C\",\"SO\",null,null,null,null,null,null,null,null,\"PC\",null,null,null,null,null,null,null,null,null,\"PC\",null,null,null,null,null,\"PC\",null,null,null,\"SO\",\"SO\",\"A\",null,null,null,\"A\",null,null,null,null,null,null,null,\"A\",\"ST\",\"A\",null,\"SC\",null,\"LI\",null,null,null,null,null,null,null,\"SO\",null,null,null,\"A\",null,null,null,null,null,null,null,null,null,null,null,\"ST\",\"CA\",null,null,null,null,null,\"SO\",null,null,null,\"SO\",null,null,null,null,null,null,null,\"SO\",null,null,\"A\",\"FC\",\"CA\",null,null,null,\"CA\",null,null,\"CA\",null,\"SC\",null,null,null,null,null,null,null,null,null,null,null,null,null,null,null,null,null,null,null,null,null,null,null,null,\"ST\",null,null,null,null,null,\"WC\",null,null,null,null,\"WE\",\"CA\",null,null,null,null,null,null,null,null,\"SO\",null,null,null,null,null,null,null,\"SO\",null,null,null,null,null,\"WC\",\"SO\",null,null,\"PC\",null,null,\"CA\",\"PC\",null,null,null,null,null,null,null,null,null,null,\"A\",null,null,null,null,\"ST\",\"SC\",\"C\",null,null,null,null,null,null,null,null,null,null,\"SO\",\"SO\",null,null,\"CA\",\"CA\",null,null,null,null,null,null,null,null,null,\"CA\",null,\"PC\",null,null,null,null,null,null,null,null,null,\"CA\",\"SO\",null,null,\"WC\",null],\"type\":\"histogram\"}],                        {\"barmode\":\"overlay\",\"legend\":{\"bgcolor\":\"#F5F6F9\",\"font\":{\"color\":\"#4D5663\"}},\"paper_bgcolor\":\"#F5F6F9\",\"plot_bgcolor\":\"#F5F6F9\",\"template\":{\"data\":{\"barpolar\":[{\"marker\":{\"line\":{\"color\":\"rgb(17,17,17)\",\"width\":0.5},\"pattern\":{\"fillmode\":\"overlay\",\"size\":10,\"solidity\":0.2}},\"type\":\"barpolar\"}],\"bar\":[{\"error_x\":{\"color\":\"#f2f5fa\"},\"error_y\":{\"color\":\"#f2f5fa\"},\"marker\":{\"line\":{\"color\":\"rgb(17,17,17)\",\"width\":0.5},\"pattern\":{\"fillmode\":\"overlay\",\"size\":10,\"solidity\":0.2}},\"type\":\"bar\"}],\"carpet\":[{\"aaxis\":{\"endlinecolor\":\"#A2B1C6\",\"gridcolor\":\"#506784\",\"linecolor\":\"#506784\",\"minorgridcolor\":\"#506784\",\"startlinecolor\":\"#A2B1C6\"},\"baxis\":{\"endlinecolor\":\"#A2B1C6\",\"gridcolor\":\"#506784\",\"linecolor\":\"#506784\",\"minorgridcolor\":\"#506784\",\"startlinecolor\":\"#A2B1C6\"},\"type\":\"carpet\"}],\"choropleth\":[{\"colorbar\":{\"outlinewidth\":0,\"ticks\":\"\"},\"type\":\"choropleth\"}],\"contourcarpet\":[{\"colorbar\":{\"outlinewidth\":0,\"ticks\":\"\"},\"type\":\"contourcarpet\"}],\"contour\":[{\"colorbar\":{\"outlinewidth\":0,\"ticks\":\"\"},\"colorscale\":[[0.0,\"#0d0887\"],[0.1111111111111111,\"#46039f\"],[0.2222222222222222,\"#7201a8\"],[0.3333333333333333,\"#9c179e\"],[0.4444444444444444,\"#bd3786\"],[0.5555555555555556,\"#d8576b\"],[0.6666666666666666,\"#ed7953\"],[0.7777777777777778,\"#fb9f3a\"],[0.8888888888888888,\"#fdca26\"],[1.0,\"#f0f921\"]],\"type\":\"contour\"}],\"heatmapgl\":[{\"colorbar\":{\"outlinewidth\":0,\"ticks\":\"\"},\"colorscale\":[[0.0,\"#0d0887\"],[0.1111111111111111,\"#46039f\"],[0.2222222222222222,\"#7201a8\"],[0.3333333333333333,\"#9c179e\"],[0.4444444444444444,\"#bd3786\"],[0.5555555555555556,\"#d8576b\"],[0.6666666666666666,\"#ed7953\"],[0.7777777777777778,\"#fb9f3a\"],[0.8888888888888888,\"#fdca26\"],[1.0,\"#f0f921\"]],\"type\":\"heatmapgl\"}],\"heatmap\":[{\"colorbar\":{\"outlinewidth\":0,\"ticks\":\"\"},\"colorscale\":[[0.0,\"#0d0887\"],[0.1111111111111111,\"#46039f\"],[0.2222222222222222,\"#7201a8\"],[0.3333333333333333,\"#9c179e\"],[0.4444444444444444,\"#bd3786\"],[0.5555555555555556,\"#d8576b\"],[0.6666666666666666,\"#ed7953\"],[0.7777777777777778,\"#fb9f3a\"],[0.8888888888888888,\"#fdca26\"],[1.0,\"#f0f921\"]],\"type\":\"heatmap\"}],\"histogram2dcontour\":[{\"colorbar\":{\"outlinewidth\":0,\"ticks\":\"\"},\"colorscale\":[[0.0,\"#0d0887\"],[0.1111111111111111,\"#46039f\"],[0.2222222222222222,\"#7201a8\"],[0.3333333333333333,\"#9c179e\"],[0.4444444444444444,\"#bd3786\"],[0.5555555555555556,\"#d8576b\"],[0.6666666666666666,\"#ed7953\"],[0.7777777777777778,\"#fb9f3a\"],[0.8888888888888888,\"#fdca26\"],[1.0,\"#f0f921\"]],\"type\":\"histogram2dcontour\"}],\"histogram2d\":[{\"colorbar\":{\"outlinewidth\":0,\"ticks\":\"\"},\"colorscale\":[[0.0,\"#0d0887\"],[0.1111111111111111,\"#46039f\"],[0.2222222222222222,\"#7201a8\"],[0.3333333333333333,\"#9c179e\"],[0.4444444444444444,\"#bd3786\"],[0.5555555555555556,\"#d8576b\"],[0.6666666666666666,\"#ed7953\"],[0.7777777777777778,\"#fb9f3a\"],[0.8888888888888888,\"#fdca26\"],[1.0,\"#f0f921\"]],\"type\":\"histogram2d\"}],\"histogram\":[{\"marker\":{\"pattern\":{\"fillmode\":\"overlay\",\"size\":10,\"solidity\":0.2}},\"type\":\"histogram\"}],\"mesh3d\":[{\"colorbar\":{\"outlinewidth\":0,\"ticks\":\"\"},\"type\":\"mesh3d\"}],\"parcoords\":[{\"line\":{\"colorbar\":{\"outlinewidth\":0,\"ticks\":\"\"}},\"type\":\"parcoords\"}],\"pie\":[{\"automargin\":true,\"type\":\"pie\"}],\"scatter3d\":[{\"line\":{\"colorbar\":{\"outlinewidth\":0,\"ticks\":\"\"}},\"marker\":{\"colorbar\":{\"outlinewidth\":0,\"ticks\":\"\"}},\"type\":\"scatter3d\"}],\"scattercarpet\":[{\"marker\":{\"colorbar\":{\"outlinewidth\":0,\"ticks\":\"\"}},\"type\":\"scattercarpet\"}],\"scattergeo\":[{\"marker\":{\"colorbar\":{\"outlinewidth\":0,\"ticks\":\"\"}},\"type\":\"scattergeo\"}],\"scattergl\":[{\"marker\":{\"line\":{\"color\":\"#283442\"}},\"type\":\"scattergl\"}],\"scattermapbox\":[{\"marker\":{\"colorbar\":{\"outlinewidth\":0,\"ticks\":\"\"}},\"type\":\"scattermapbox\"}],\"scatterpolargl\":[{\"marker\":{\"colorbar\":{\"outlinewidth\":0,\"ticks\":\"\"}},\"type\":\"scatterpolargl\"}],\"scatterpolar\":[{\"marker\":{\"colorbar\":{\"outlinewidth\":0,\"ticks\":\"\"}},\"type\":\"scatterpolar\"}],\"scatter\":[{\"marker\":{\"line\":{\"color\":\"#283442\"}},\"type\":\"scatter\"}],\"scatterternary\":[{\"marker\":{\"colorbar\":{\"outlinewidth\":0,\"ticks\":\"\"}},\"type\":\"scatterternary\"}],\"surface\":[{\"colorbar\":{\"outlinewidth\":0,\"ticks\":\"\"},\"colorscale\":[[0.0,\"#0d0887\"],[0.1111111111111111,\"#46039f\"],[0.2222222222222222,\"#7201a8\"],[0.3333333333333333,\"#9c179e\"],[0.4444444444444444,\"#bd3786\"],[0.5555555555555556,\"#d8576b\"],[0.6666666666666666,\"#ed7953\"],[0.7777777777777778,\"#fb9f3a\"],[0.8888888888888888,\"#fdca26\"],[1.0,\"#f0f921\"]],\"type\":\"surface\"}],\"table\":[{\"cells\":{\"fill\":{\"color\":\"#506784\"},\"line\":{\"color\":\"rgb(17,17,17)\"}},\"header\":{\"fill\":{\"color\":\"#2a3f5f\"},\"line\":{\"color\":\"rgb(17,17,17)\"}},\"type\":\"table\"}]},\"layout\":{\"annotationdefaults\":{\"arrowcolor\":\"#f2f5fa\",\"arrowhead\":0,\"arrowwidth\":1},\"autotypenumbers\":\"strict\",\"coloraxis\":{\"colorbar\":{\"outlinewidth\":0,\"ticks\":\"\"}},\"colorscale\":{\"diverging\":[[0,\"#8e0152\"],[0.1,\"#c51b7d\"],[0.2,\"#de77ae\"],[0.3,\"#f1b6da\"],[0.4,\"#fde0ef\"],[0.5,\"#f7f7f7\"],[0.6,\"#e6f5d0\"],[0.7,\"#b8e186\"],[0.8,\"#7fbc41\"],[0.9,\"#4d9221\"],[1,\"#276419\"]],\"sequential\":[[0.0,\"#0d0887\"],[0.1111111111111111,\"#46039f\"],[0.2222222222222222,\"#7201a8\"],[0.3333333333333333,\"#9c179e\"],[0.4444444444444444,\"#bd3786\"],[0.5555555555555556,\"#d8576b\"],[0.6666666666666666,\"#ed7953\"],[0.7777777777777778,\"#fb9f3a\"],[0.8888888888888888,\"#fdca26\"],[1.0,\"#f0f921\"]],\"sequentialminus\":[[0.0,\"#0d0887\"],[0.1111111111111111,\"#46039f\"],[0.2222222222222222,\"#7201a8\"],[0.3333333333333333,\"#9c179e\"],[0.4444444444444444,\"#bd3786\"],[0.5555555555555556,\"#d8576b\"],[0.6666666666666666,\"#ed7953\"],[0.7777777777777778,\"#fb9f3a\"],[0.8888888888888888,\"#fdca26\"],[1.0,\"#f0f921\"]]},\"colorway\":[\"#636efa\",\"#EF553B\",\"#00cc96\",\"#ab63fa\",\"#FFA15A\",\"#19d3f3\",\"#FF6692\",\"#B6E880\",\"#FF97FF\",\"#FECB52\"],\"font\":{\"color\":\"#f2f5fa\"},\"geo\":{\"bgcolor\":\"rgb(17,17,17)\",\"lakecolor\":\"rgb(17,17,17)\",\"landcolor\":\"rgb(17,17,17)\",\"showlakes\":true,\"showland\":true,\"subunitcolor\":\"#506784\"},\"hoverlabel\":{\"align\":\"left\"},\"hovermode\":\"closest\",\"mapbox\":{\"style\":\"dark\"},\"paper_bgcolor\":\"rgb(17,17,17)\",\"plot_bgcolor\":\"rgb(17,17,17)\",\"polar\":{\"angularaxis\":{\"gridcolor\":\"#506784\",\"linecolor\":\"#506784\",\"ticks\":\"\"},\"bgcolor\":\"rgb(17,17,17)\",\"radialaxis\":{\"gridcolor\":\"#506784\",\"linecolor\":\"#506784\",\"ticks\":\"\"}},\"scene\":{\"xaxis\":{\"backgroundcolor\":\"rgb(17,17,17)\",\"gridcolor\":\"#506784\",\"gridwidth\":2,\"linecolor\":\"#506784\",\"showbackground\":true,\"ticks\":\"\",\"zerolinecolor\":\"#C8D4E3\"},\"yaxis\":{\"backgroundcolor\":\"rgb(17,17,17)\",\"gridcolor\":\"#506784\",\"gridwidth\":2,\"linecolor\":\"#506784\",\"showbackground\":true,\"ticks\":\"\",\"zerolinecolor\":\"#C8D4E3\"},\"zaxis\":{\"backgroundcolor\":\"rgb(17,17,17)\",\"gridcolor\":\"#506784\",\"gridwidth\":2,\"linecolor\":\"#506784\",\"showbackground\":true,\"ticks\":\"\",\"zerolinecolor\":\"#C8D4E3\"}},\"shapedefaults\":{\"line\":{\"color\":\"#f2f5fa\"}},\"sliderdefaults\":{\"bgcolor\":\"#C8D4E3\",\"bordercolor\":\"rgb(17,17,17)\",\"borderwidth\":1,\"tickwidth\":0},\"ternary\":{\"aaxis\":{\"gridcolor\":\"#506784\",\"linecolor\":\"#506784\",\"ticks\":\"\"},\"baxis\":{\"gridcolor\":\"#506784\",\"linecolor\":\"#506784\",\"ticks\":\"\"},\"bgcolor\":\"rgb(17,17,17)\",\"caxis\":{\"gridcolor\":\"#506784\",\"linecolor\":\"#506784\",\"ticks\":\"\"}},\"title\":{\"x\":0.05},\"updatemenudefaults\":{\"bgcolor\":\"#506784\",\"borderwidth\":0},\"xaxis\":{\"automargin\":true,\"gridcolor\":\"#283442\",\"linecolor\":\"#506784\",\"ticks\":\"\",\"title\":{\"standoff\":15},\"zerolinecolor\":\"#283442\",\"zerolinewidth\":2},\"yaxis\":{\"automargin\":true,\"gridcolor\":\"#283442\",\"linecolor\":\"#506784\",\"ticks\":\"\",\"title\":{\"standoff\":15},\"zerolinecolor\":\"#283442\",\"zerolinewidth\":2}}},\"title\":{\"font\":{\"color\":\"#4D5663\"}},\"xaxis\":{\"gridcolor\":\"#E1E5ED\",\"showgrid\":true,\"tickfont\":{\"color\":\"#4D5663\"},\"title\":{\"font\":{\"color\":\"#4D5663\"},\"text\":\"\"},\"zerolinecolor\":\"#E1E5ED\"},\"yaxis\":{\"gridcolor\":\"#E1E5ED\",\"showgrid\":true,\"tickfont\":{\"color\":\"#4D5663\"},\"title\":{\"font\":{\"color\":\"#4D5663\"},\"text\":\"\"},\"zerolinecolor\":\"#E1E5ED\"}},                        {\"showLink\": true, \"linkText\": \"Export to plot.ly\", \"plotlyServerURL\": \"https://plot.ly\", \"responsive\": true}                    ).then(function(){\n                            \nvar gd = document.getElementById('57e0e62b-6575-4b55-b427-a47c5933720d');\nvar x = new MutationObserver(function (mutations, observer) {{\n        var display = window.getComputedStyle(gd).display;\n        if (!display || display === 'none') {{\n            console.log([gd, 'removed!']);\n            Plotly.purge(gd);\n            observer.disconnect();\n        }}\n}});\n\n// Listen for the removal of the full notebook cells\nvar notebookContainer = gd.closest('#notebook-container');\nif (notebookContainer) {{\n    x.observe(notebookContainer, {childList: true});\n}}\n\n// Listen for the clearing of the current output cell\nvar outputEl = gd.closest('.output');\nif (outputEl) {{\n    x.observe(outputEl, {childList: true});\n}}\n\n                        })                };                });            </script>        </div>"
     },
     "metadata": {},
     "output_type": "display_data"
    }
   ],
   "source": [
    "df_temp.iplot(kind='histogram')"
   ],
   "metadata": {
    "collapsed": false
   }
  },
  {
   "cell_type": "code",
   "execution_count": 197,
   "outputs": [
    {
     "data": {
      "text/plain": "957"
     },
     "execution_count": 197,
     "metadata": {},
     "output_type": "execute_result"
    }
   ],
   "source": [
    "df['Ticket_initial2'].isnull().sum()"
   ],
   "metadata": {
    "collapsed": false
   }
  },
  {
   "cell_type": "code",
   "execution_count": 198,
   "outputs": [
    {
     "data": {
      "application/vnd.plotly.v1+json": {
       "data": [
        {
         "histfunc": "count",
         "histnorm": "",
         "marker": {
          "color": "rgba(255, 153, 51, 1.0)",
          "line": {
           "color": "#4D5663",
           "width": 1.3
          }
         },
         "name": "Survived",
         "opacity": 0.8,
         "orientation": "v",
         "x": [
          "PC",
          "ST",
          "UN",
          "UN",
          "UN",
          "PP",
          "UN",
          "UN",
          "UN",
          "UN",
          "UN",
          "UN",
          "UN",
          "UN",
          "UN",
          "PC",
          "UN",
          "UN",
          "UN",
          "SC",
          "UN",
          "UN",
          "PC",
          "UN",
          "UN",
          "CA",
          "CA",
          "UN",
          "UN",
          "CA",
          "UN",
          "UN",
          "UN",
          "UN",
          "UN",
          "UN",
          "SO",
          "UN",
          "UN",
          "PC",
          "UN",
          "UN",
          "UN",
          "UN",
          "UN",
          "UN",
          "C",
          "UN",
          "UN",
          "UN",
          "UN",
          "ST",
          "UN",
          "UN",
          "UN",
          "CA",
          "UN",
          "UN",
          "UN",
          "UN",
          "UN",
          "UN",
          "UN",
          "UN",
          "UN",
          "UN",
          "PC",
          "PC",
          "UN",
          "A",
          "UN",
          "UN",
          "UN",
          "FC",
          "UN",
          "ST",
          "UN",
          "SO",
          "UN",
          "SW",
          "UN",
          "UN",
          "CA",
          "UN",
          "UN",
          "UN",
          "UN",
          "PC",
          "UN",
          "PC",
          "UN",
          "UN",
          "UN",
          "PC",
          "PC",
          "LI",
          "UN",
          "UN",
          "UN",
          "CA",
          "A",
          "UN",
          "UN",
          "UN",
          "UN",
          "UN",
          "UN",
          "PC",
          "UN",
          "UN",
          "UN",
          "UN",
          "UN",
          "PC",
          "PC",
          "UN",
          "PC",
          "UN",
          "UN",
          "UN",
          "UN",
          "UN",
          "UN",
          "PC",
          "UN",
          "UN",
          "UN",
          "UN",
          "PC",
          "UN",
          "UN",
          "UN",
          "UN",
          "UN",
          "UN",
          "UN",
          "CA",
          "UN",
          "UN",
          "UN",
          "UN",
          "UN",
          "UN",
          "PC",
          "UN",
          "PC",
          "C",
          "PC",
          "UN",
          "UN",
          "UN",
          "SC",
          "UN",
          "UN",
          "UN",
          "PP",
          "UN",
          "ST",
          "UN",
          "UN",
          "ST",
          "UN",
          "UN",
          "UN",
          "UN",
          "SO",
          "UN",
          "UN",
          "SC",
          "UN",
          "UN",
          "FC",
          "UN",
          "UN",
          "UN",
          "UN",
          "UN",
          "UN",
          "UN",
          "UN",
          "UN",
          "UN",
          "FC",
          "UN",
          "UN",
          "CA",
          "SC",
          "UN",
          "UN",
          "UN",
          "UN",
          "CA",
          "UN",
          "UN",
          "UN",
          "UN",
          "UN",
          "UN",
          "PC",
          "PC",
          "CA",
          "UN",
          "UN",
          "UN",
          "WC",
          "UN",
          "UN",
          "FC",
          "PC",
          "UN",
          "WE",
          "UN",
          "UN",
          "SC",
          "CA",
          "UN",
          "UN",
          "UN",
          "UN",
          "UN",
          "UN",
          "UN",
          "SW",
          "UN",
          "PC",
          "UN",
          "UN",
          "UN",
          "ST",
          "UN",
          "UN",
          "UN",
          "UN",
          "UN",
          "UN",
          "PC",
          "UN",
          "UN",
          "UN",
          "SC",
          "PC",
          "UN",
          "UN",
          "UN",
          "UN",
          "UN",
          "UN",
          "UN",
          "UN",
          "UN",
          "PC",
          "UN",
          "UN",
          "PC",
          "UN",
          "CA",
          "UN",
          "UN",
          "PC",
          "ST",
          "UN",
          "UN",
          "UN",
          "UN",
          "PC",
          "PC",
          "UN",
          "UN",
          "UN",
          "UN",
          "UN",
          "PC",
          "PC",
          "UN",
          "PC",
          "UN",
          "UN",
          "PC",
          "UN",
          "PC",
          "UN",
          "UN",
          "UN",
          "UN",
          "UN",
          "UN",
          "PC",
          "UN",
          "PC",
          "ST",
          "UN",
          "UN",
          "UN",
          "UN",
          "UN",
          "UN",
          "UN",
          "UN",
          "UN",
          "UN",
          "UN",
          "UN",
          "UN",
          "UN",
          "UN",
          "CA",
          "UN",
          "UN",
          "CA",
          "UN",
          "UN",
          "UN",
          "UN",
          "UN",
          "UN",
          "UN",
          "SC",
          "UN",
          "UN",
          "UN",
          "UN",
          "PC",
          "UN",
          "UN",
          "UN",
          "UN",
          "PC",
          "UN",
          "UN",
          "UN",
          "UN",
          "UN",
          "UN",
          "SC",
          "UN",
          "UN",
          "PP",
          "UN",
          "UN",
          "UN",
          "UN",
          "UN",
          null,
          null,
          null,
          null,
          null,
          null,
          null,
          null,
          null,
          null,
          null,
          null,
          null,
          null,
          null,
          null,
          null,
          null,
          null,
          null,
          null,
          null,
          null,
          null,
          null,
          null,
          null,
          null,
          null,
          null,
          null,
          null,
          null,
          null,
          null,
          null,
          null,
          null,
          null,
          null,
          null,
          null,
          null,
          null,
          null,
          null,
          null,
          null,
          null,
          null,
          null,
          null,
          null,
          null,
          null,
          null,
          null,
          null,
          null,
          null,
          null,
          null,
          null,
          null,
          null,
          null,
          null,
          null,
          null,
          null,
          null,
          null,
          null,
          null,
          null,
          null,
          null,
          null,
          null,
          null,
          null,
          null,
          null,
          null,
          null,
          null,
          null,
          null,
          null,
          null,
          null,
          null,
          null,
          null,
          null,
          null,
          null,
          null,
          null,
          null,
          null,
          null,
          null,
          null,
          null,
          null,
          null,
          null,
          null,
          null,
          null,
          null,
          null,
          null,
          null,
          null,
          null,
          null,
          null,
          null,
          null,
          null,
          null,
          null,
          null,
          null,
          null,
          null,
          null,
          null,
          null,
          null,
          null,
          null,
          null,
          null,
          null,
          null,
          null,
          null,
          null,
          null,
          null,
          null,
          null,
          null,
          null,
          null,
          null,
          null,
          null,
          null,
          null,
          null,
          null,
          null,
          null,
          null,
          null,
          null,
          null,
          null,
          null,
          null,
          null,
          null,
          null,
          null,
          null,
          null,
          null,
          null,
          null,
          null,
          null,
          null,
          null,
          null,
          null,
          null,
          null,
          null,
          null,
          null,
          null,
          null,
          null,
          null,
          null,
          null,
          null,
          null,
          null,
          null,
          null,
          null,
          null,
          null,
          null,
          null,
          null,
          null,
          null,
          null,
          null,
          null,
          null,
          null,
          null,
          null,
          null,
          null,
          null,
          null,
          null,
          null,
          null,
          null,
          null,
          null,
          null,
          null,
          null,
          null,
          null,
          null,
          null,
          null,
          null,
          null,
          null,
          null,
          null,
          null,
          null,
          null,
          null,
          null,
          null,
          null,
          null,
          null,
          null,
          null,
          null,
          null,
          null,
          null,
          null,
          null,
          null,
          null,
          null,
          null,
          null,
          null,
          null,
          null,
          null,
          null,
          null,
          null,
          null,
          null,
          null,
          null,
          null,
          null,
          null,
          null,
          null,
          null,
          null,
          null,
          null,
          null,
          null,
          null,
          null,
          null,
          null,
          null,
          null,
          null,
          null,
          null,
          null,
          null,
          null,
          null,
          null,
          null,
          null,
          null,
          null,
          null,
          null,
          null,
          null,
          null,
          null,
          null,
          null,
          null,
          null,
          null,
          null,
          null,
          null,
          null,
          null,
          null,
          null,
          null,
          null,
          null,
          null,
          null,
          null,
          null,
          null,
          null,
          null,
          null,
          null,
          null,
          null,
          null,
          null,
          null,
          null,
          null,
          null,
          null,
          null,
          null,
          null,
          null,
          null,
          null,
          null,
          null,
          null,
          null,
          null,
          null,
          null,
          null,
          null,
          null,
          null,
          null,
          null,
          null,
          null,
          null,
          null,
          null,
          null,
          null,
          null,
          null,
          null,
          null,
          null,
          null,
          null,
          null,
          null,
          null,
          null,
          null,
          null,
          null,
          null,
          null,
          null,
          null,
          null,
          null,
          null,
          null,
          null,
          null,
          null,
          null,
          null,
          null,
          null,
          null,
          null,
          null,
          null,
          null,
          null,
          null,
          null,
          null,
          null,
          null,
          null,
          null,
          null,
          null,
          null,
          null,
          null,
          null,
          null,
          null,
          null,
          null,
          null,
          null,
          null,
          null,
          null,
          null,
          null,
          null,
          null,
          null,
          null,
          null,
          null,
          null,
          null,
          null,
          null,
          null,
          null,
          null,
          null,
          null,
          null,
          null,
          null,
          null,
          null,
          null,
          null,
          null,
          null,
          null,
          null,
          null,
          null,
          null,
          null,
          null,
          null,
          null,
          null,
          null,
          null,
          null,
          null,
          null,
          null,
          null,
          null,
          null,
          null,
          null,
          null,
          null,
          null,
          null,
          null,
          null,
          null,
          null,
          null,
          null,
          null,
          null,
          null,
          null,
          null,
          null,
          null,
          null,
          null,
          null,
          null,
          null,
          null,
          null,
          null,
          null,
          null,
          null,
          null,
          null,
          null,
          null,
          null,
          null,
          null,
          null,
          null,
          null,
          null,
          null,
          null,
          null,
          null,
          null,
          null,
          null,
          null,
          null,
          null,
          null,
          null,
          null,
          null,
          null,
          null,
          null,
          null,
          null,
          null,
          null,
          null,
          null,
          null,
          null,
          null,
          null,
          null,
          null,
          null,
          null,
          null,
          null,
          null,
          null,
          null,
          null,
          null,
          null,
          null,
          null,
          null,
          null,
          null,
          null,
          null
         ],
         "type": "histogram"
        },
        {
         "histfunc": "count",
         "histnorm": "",
         "marker": {
          "color": "rgba(55, 128, 191, 1.0)",
          "line": {
           "color": "#4D5663",
           "width": 1.3
          }
         },
         "name": "Dead",
         "opacity": 0.8,
         "orientation": "v",
         "x": [
          null,
          null,
          null,
          null,
          null,
          null,
          null,
          null,
          null,
          null,
          null,
          null,
          null,
          null,
          null,
          null,
          null,
          null,
          null,
          null,
          null,
          null,
          null,
          null,
          null,
          null,
          null,
          null,
          null,
          null,
          null,
          null,
          null,
          null,
          null,
          null,
          null,
          null,
          null,
          null,
          null,
          null,
          null,
          null,
          null,
          null,
          null,
          null,
          null,
          null,
          null,
          null,
          null,
          null,
          null,
          null,
          null,
          null,
          null,
          null,
          null,
          null,
          null,
          null,
          null,
          null,
          null,
          null,
          null,
          null,
          null,
          null,
          null,
          null,
          null,
          null,
          null,
          null,
          null,
          null,
          null,
          null,
          null,
          null,
          null,
          null,
          null,
          null,
          null,
          null,
          null,
          null,
          null,
          null,
          null,
          null,
          null,
          null,
          null,
          null,
          null,
          null,
          null,
          null,
          null,
          null,
          null,
          null,
          null,
          null,
          null,
          null,
          null,
          null,
          null,
          null,
          null,
          null,
          null,
          null,
          null,
          null,
          null,
          null,
          null,
          null,
          null,
          null,
          null,
          null,
          null,
          null,
          null,
          null,
          null,
          null,
          null,
          null,
          null,
          null,
          null,
          null,
          null,
          null,
          null,
          null,
          null,
          null,
          null,
          null,
          null,
          null,
          null,
          null,
          null,
          null,
          null,
          null,
          null,
          null,
          null,
          null,
          null,
          null,
          null,
          null,
          null,
          null,
          null,
          null,
          null,
          null,
          null,
          null,
          null,
          null,
          null,
          null,
          null,
          null,
          null,
          null,
          null,
          null,
          null,
          null,
          null,
          null,
          null,
          null,
          null,
          null,
          null,
          null,
          null,
          null,
          null,
          null,
          null,
          null,
          null,
          null,
          null,
          null,
          null,
          null,
          null,
          null,
          null,
          null,
          null,
          null,
          null,
          null,
          null,
          null,
          null,
          null,
          null,
          null,
          null,
          null,
          null,
          null,
          null,
          null,
          null,
          null,
          null,
          null,
          null,
          null,
          null,
          null,
          null,
          null,
          null,
          null,
          null,
          null,
          null,
          null,
          null,
          null,
          null,
          null,
          null,
          null,
          null,
          null,
          null,
          null,
          null,
          null,
          null,
          null,
          null,
          null,
          null,
          null,
          null,
          null,
          null,
          null,
          null,
          null,
          null,
          null,
          null,
          null,
          null,
          null,
          null,
          null,
          null,
          null,
          null,
          null,
          null,
          null,
          null,
          null,
          null,
          null,
          null,
          null,
          null,
          null,
          null,
          null,
          null,
          null,
          null,
          null,
          null,
          null,
          null,
          null,
          null,
          null,
          null,
          null,
          null,
          null,
          null,
          null,
          null,
          null,
          null,
          null,
          null,
          null,
          null,
          null,
          null,
          null,
          null,
          null,
          null,
          null,
          null,
          null,
          null,
          null,
          null,
          null,
          null,
          null,
          null,
          null,
          null,
          null,
          null,
          null,
          null,
          null,
          null,
          null,
          null,
          null,
          null,
          null,
          "A",
          "UN",
          "UN",
          "UN",
          "UN",
          "A",
          "UN",
          "UN",
          "UN",
          "UN",
          "UN",
          "UN",
          "UN",
          "UN",
          "UN",
          "PC",
          "CA",
          "PC",
          "UN",
          "A",
          "UN",
          "UN",
          "UN",
          "UN",
          "SC",
          "UN",
          "UN",
          "UN",
          "UN",
          "A",
          "UN",
          "UN",
          "CA",
          "UN",
          "UN",
          "UN",
          "PC",
          "SP",
          "UN",
          "CA",
          "CA",
          "SO",
          "UN",
          "UN",
          "UN",
          "UN",
          "UN",
          "UN",
          "WC",
          "SO",
          "UN",
          "UN",
          "UN",
          "WE",
          "CA",
          "UN",
          "UN",
          "PC",
          "UN",
          "UN",
          "UN",
          "UN",
          "UN",
          "UN",
          "UN",
          "UN",
          "UN",
          "UN",
          "UN",
          "UN",
          "UN",
          "ST",
          "UN",
          "UN",
          "PC",
          "UN",
          "SO",
          "A",
          "UN",
          "UN",
          "UN",
          "UN",
          "UN",
          "SO",
          "A",
          "CA",
          "SC",
          "UN",
          "UN",
          "PC",
          "UN",
          "UN",
          "UN",
          "CA",
          "WC",
          "UN",
          "UN",
          "SO",
          "A",
          "A",
          "Fa",
          "PC",
          "SO",
          "UN",
          "CA",
          "UN",
          "UN",
          "UN",
          "UN",
          "UN",
          "PC",
          "UN",
          "UN",
          "UN",
          "ST",
          "UN",
          "UN",
          "UN",
          "PC",
          "UN",
          "LI",
          "CA",
          "SC",
          "UN",
          "UN",
          "UN",
          "UN",
          "UN",
          "UN",
          "UN",
          "UN",
          "UN",
          "CA",
          "UN",
          "UN",
          "UN",
          "UN",
          "SO",
          "A",
          "UN",
          "UN",
          "UN",
          "WC",
          "UN",
          "UN",
          "UN",
          "PP",
          "A",
          "UN",
          "UN",
          "UN",
          "UN",
          "CA",
          "WC",
          "UN",
          "UN",
          "SC",
          "UN",
          "WC",
          "ST",
          "UN",
          "UN",
          "UN",
          "UN",
          "UN",
          "UN",
          "UN",
          "A",
          "UN",
          "UN",
          "UN",
          "UN",
          "UN",
          "CA",
          "UN",
          "UN",
          "PC",
          "UN",
          "UN",
          "UN",
          "UN",
          "UN",
          "UN",
          "UN",
          "UN",
          "UN",
          "SC",
          "UN",
          "UN",
          "PC",
          "UN",
          "UN",
          "LI",
          "A",
          "PP",
          "UN",
          "UN",
          "FC",
          "UN",
          "A",
          "UN",
          "CA",
          "UN",
          "UN",
          "PC",
          "UN",
          "UN",
          "UN",
          "UN",
          "UN",
          "UN",
          "UN",
          "UN",
          "UN",
          "UN",
          "UN",
          "UN",
          "UN",
          "UN",
          "UN",
          "UN",
          "SC",
          "UN",
          "SO",
          "UN",
          "C",
          "UN",
          "UN",
          "PC",
          "UN",
          "UN",
          "UN",
          "UN",
          "ST",
          "UN",
          "SO",
          "CA",
          "UN",
          "UN",
          "UN",
          "UN",
          "UN",
          "UN",
          "UN",
          "UN",
          "ST",
          "UN",
          "UN",
          "UN",
          "UN",
          "UN",
          "UN",
          "UN",
          "UN",
          "UN",
          "UN",
          "UN",
          "UN",
          "A",
          "UN",
          "UN",
          "UN",
          "A",
          "UN",
          "ST",
          "UN",
          "WC",
          "UN",
          "CA",
          "UN",
          "UN",
          "CA",
          "UN",
          "UN",
          "A",
          "UN",
          "UN",
          "UN",
          "UN",
          "UN",
          "AS",
          "SO",
          "UN",
          "UN",
          "UN",
          "UN",
          "UN",
          "UN",
          "UN",
          "UN",
          "UN",
          "UN",
          "CA",
          "UN",
          "A",
          "UN",
          "UN",
          "A",
          "UN",
          "SO",
          "UN",
          "PC",
          "A",
          "UN",
          "CA",
          "UN",
          "UN",
          "UN",
          "UN",
          "UN",
          "UN",
          "PC",
          "C",
          "SO",
          "UN",
          "UN",
          "UN",
          "UN",
          "UN",
          "UN",
          "UN",
          "UN",
          "PC",
          "UN",
          "UN",
          "UN",
          "UN",
          "UN",
          "UN",
          "UN",
          "UN",
          "UN",
          "PC",
          "UN",
          "UN",
          "UN",
          "UN",
          "UN",
          "PC",
          "UN",
          "UN",
          "UN",
          "SO",
          "SO",
          "A",
          "UN",
          "UN",
          "UN",
          "A",
          "UN",
          "UN",
          "UN",
          "UN",
          "UN",
          "UN",
          "UN",
          "A",
          "ST",
          "A",
          "UN",
          "SC",
          "UN",
          "LI",
          "UN",
          "UN",
          "UN",
          "UN",
          "UN",
          "UN",
          "UN",
          "SO",
          "UN",
          "UN",
          "UN",
          "A",
          "UN",
          "UN",
          "UN",
          "UN",
          "UN",
          "UN",
          "UN",
          "UN",
          "UN",
          "UN",
          "UN",
          "ST",
          "CA",
          "UN",
          "UN",
          "UN",
          "UN",
          "UN",
          "SO",
          "UN",
          "UN",
          "UN",
          "SO",
          "UN",
          "UN",
          "UN",
          "UN",
          "UN",
          "UN",
          "UN",
          "SO",
          "UN",
          "UN",
          "A",
          "FC",
          "CA",
          "UN",
          "UN",
          "UN",
          "CA",
          "UN",
          "UN",
          "CA",
          "UN",
          "SC",
          "UN",
          "UN",
          "UN",
          "UN",
          "UN",
          "UN",
          "UN",
          "UN",
          "UN",
          "UN",
          "UN",
          "UN",
          "UN",
          "UN",
          "UN",
          "UN",
          "UN",
          "UN",
          "UN",
          "UN",
          "UN",
          "UN",
          "UN",
          "UN",
          "ST",
          "UN",
          "UN",
          "UN",
          "UN",
          "UN",
          "WC",
          "UN",
          "UN",
          "UN",
          "UN",
          "WE",
          "CA",
          "UN",
          "UN",
          "UN",
          "UN",
          "UN",
          "UN",
          "UN",
          "UN",
          "SO",
          "UN",
          "UN",
          "UN",
          "UN",
          "UN",
          "UN",
          "UN",
          "SO",
          "UN",
          "UN",
          "UN",
          "UN",
          "UN",
          "WC",
          "SO",
          "UN",
          "UN",
          "PC",
          "UN",
          "UN",
          "CA",
          "PC",
          "UN",
          "UN",
          "UN",
          "UN",
          "UN",
          "UN",
          "UN",
          "UN",
          "UN",
          "UN",
          "A",
          "UN",
          "UN",
          "UN",
          "UN",
          "ST",
          "SC",
          "C",
          "UN",
          "UN",
          "UN",
          "UN",
          "UN",
          "UN",
          "UN",
          "UN",
          "UN",
          "UN",
          "SO",
          "SO",
          "UN",
          "UN",
          "CA",
          "CA",
          "UN",
          "UN",
          "UN",
          "UN",
          "UN",
          "UN",
          "UN",
          "UN",
          "UN",
          "CA",
          "UN",
          "PC",
          "UN",
          "UN",
          "UN",
          "UN",
          "UN",
          "UN",
          "UN",
          "UN",
          "UN",
          "CA",
          "SO",
          "UN",
          "UN",
          "WC",
          "UN"
         ],
         "type": "histogram"
        }
       ],
       "layout": {
        "barmode": "overlay",
        "legend": {
         "bgcolor": "#F5F6F9",
         "font": {
          "color": "#4D5663"
         }
        },
        "paper_bgcolor": "#F5F6F9",
        "plot_bgcolor": "#F5F6F9",
        "template": {
         "data": {
          "barpolar": [
           {
            "marker": {
             "line": {
              "color": "rgb(17,17,17)",
              "width": 0.5
             },
             "pattern": {
              "fillmode": "overlay",
              "size": 10,
              "solidity": 0.2
             }
            },
            "type": "barpolar"
           }
          ],
          "bar": [
           {
            "error_x": {
             "color": "#f2f5fa"
            },
            "error_y": {
             "color": "#f2f5fa"
            },
            "marker": {
             "line": {
              "color": "rgb(17,17,17)",
              "width": 0.5
             },
             "pattern": {
              "fillmode": "overlay",
              "size": 10,
              "solidity": 0.2
             }
            },
            "type": "bar"
           }
          ],
          "carpet": [
           {
            "aaxis": {
             "endlinecolor": "#A2B1C6",
             "gridcolor": "#506784",
             "linecolor": "#506784",
             "minorgridcolor": "#506784",
             "startlinecolor": "#A2B1C6"
            },
            "baxis": {
             "endlinecolor": "#A2B1C6",
             "gridcolor": "#506784",
             "linecolor": "#506784",
             "minorgridcolor": "#506784",
             "startlinecolor": "#A2B1C6"
            },
            "type": "carpet"
           }
          ],
          "choropleth": [
           {
            "colorbar": {
             "outlinewidth": 0,
             "ticks": ""
            },
            "type": "choropleth"
           }
          ],
          "contourcarpet": [
           {
            "colorbar": {
             "outlinewidth": 0,
             "ticks": ""
            },
            "type": "contourcarpet"
           }
          ],
          "contour": [
           {
            "colorbar": {
             "outlinewidth": 0,
             "ticks": ""
            },
            "colorscale": [
             [
              0.0,
              "#0d0887"
             ],
             [
              0.1111111111111111,
              "#46039f"
             ],
             [
              0.2222222222222222,
              "#7201a8"
             ],
             [
              0.3333333333333333,
              "#9c179e"
             ],
             [
              0.4444444444444444,
              "#bd3786"
             ],
             [
              0.5555555555555556,
              "#d8576b"
             ],
             [
              0.6666666666666666,
              "#ed7953"
             ],
             [
              0.7777777777777778,
              "#fb9f3a"
             ],
             [
              0.8888888888888888,
              "#fdca26"
             ],
             [
              1.0,
              "#f0f921"
             ]
            ],
            "type": "contour"
           }
          ],
          "heatmapgl": [
           {
            "colorbar": {
             "outlinewidth": 0,
             "ticks": ""
            },
            "colorscale": [
             [
              0.0,
              "#0d0887"
             ],
             [
              0.1111111111111111,
              "#46039f"
             ],
             [
              0.2222222222222222,
              "#7201a8"
             ],
             [
              0.3333333333333333,
              "#9c179e"
             ],
             [
              0.4444444444444444,
              "#bd3786"
             ],
             [
              0.5555555555555556,
              "#d8576b"
             ],
             [
              0.6666666666666666,
              "#ed7953"
             ],
             [
              0.7777777777777778,
              "#fb9f3a"
             ],
             [
              0.8888888888888888,
              "#fdca26"
             ],
             [
              1.0,
              "#f0f921"
             ]
            ],
            "type": "heatmapgl"
           }
          ],
          "heatmap": [
           {
            "colorbar": {
             "outlinewidth": 0,
             "ticks": ""
            },
            "colorscale": [
             [
              0.0,
              "#0d0887"
             ],
             [
              0.1111111111111111,
              "#46039f"
             ],
             [
              0.2222222222222222,
              "#7201a8"
             ],
             [
              0.3333333333333333,
              "#9c179e"
             ],
             [
              0.4444444444444444,
              "#bd3786"
             ],
             [
              0.5555555555555556,
              "#d8576b"
             ],
             [
              0.6666666666666666,
              "#ed7953"
             ],
             [
              0.7777777777777778,
              "#fb9f3a"
             ],
             [
              0.8888888888888888,
              "#fdca26"
             ],
             [
              1.0,
              "#f0f921"
             ]
            ],
            "type": "heatmap"
           }
          ],
          "histogram2dcontour": [
           {
            "colorbar": {
             "outlinewidth": 0,
             "ticks": ""
            },
            "colorscale": [
             [
              0.0,
              "#0d0887"
             ],
             [
              0.1111111111111111,
              "#46039f"
             ],
             [
              0.2222222222222222,
              "#7201a8"
             ],
             [
              0.3333333333333333,
              "#9c179e"
             ],
             [
              0.4444444444444444,
              "#bd3786"
             ],
             [
              0.5555555555555556,
              "#d8576b"
             ],
             [
              0.6666666666666666,
              "#ed7953"
             ],
             [
              0.7777777777777778,
              "#fb9f3a"
             ],
             [
              0.8888888888888888,
              "#fdca26"
             ],
             [
              1.0,
              "#f0f921"
             ]
            ],
            "type": "histogram2dcontour"
           }
          ],
          "histogram2d": [
           {
            "colorbar": {
             "outlinewidth": 0,
             "ticks": ""
            },
            "colorscale": [
             [
              0.0,
              "#0d0887"
             ],
             [
              0.1111111111111111,
              "#46039f"
             ],
             [
              0.2222222222222222,
              "#7201a8"
             ],
             [
              0.3333333333333333,
              "#9c179e"
             ],
             [
              0.4444444444444444,
              "#bd3786"
             ],
             [
              0.5555555555555556,
              "#d8576b"
             ],
             [
              0.6666666666666666,
              "#ed7953"
             ],
             [
              0.7777777777777778,
              "#fb9f3a"
             ],
             [
              0.8888888888888888,
              "#fdca26"
             ],
             [
              1.0,
              "#f0f921"
             ]
            ],
            "type": "histogram2d"
           }
          ],
          "histogram": [
           {
            "marker": {
             "pattern": {
              "fillmode": "overlay",
              "size": 10,
              "solidity": 0.2
             }
            },
            "type": "histogram"
           }
          ],
          "mesh3d": [
           {
            "colorbar": {
             "outlinewidth": 0,
             "ticks": ""
            },
            "type": "mesh3d"
           }
          ],
          "parcoords": [
           {
            "line": {
             "colorbar": {
              "outlinewidth": 0,
              "ticks": ""
             }
            },
            "type": "parcoords"
           }
          ],
          "pie": [
           {
            "automargin": true,
            "type": "pie"
           }
          ],
          "scatter3d": [
           {
            "line": {
             "colorbar": {
              "outlinewidth": 0,
              "ticks": ""
             }
            },
            "marker": {
             "colorbar": {
              "outlinewidth": 0,
              "ticks": ""
             }
            },
            "type": "scatter3d"
           }
          ],
          "scattercarpet": [
           {
            "marker": {
             "colorbar": {
              "outlinewidth": 0,
              "ticks": ""
             }
            },
            "type": "scattercarpet"
           }
          ],
          "scattergeo": [
           {
            "marker": {
             "colorbar": {
              "outlinewidth": 0,
              "ticks": ""
             }
            },
            "type": "scattergeo"
           }
          ],
          "scattergl": [
           {
            "marker": {
             "line": {
              "color": "#283442"
             }
            },
            "type": "scattergl"
           }
          ],
          "scattermapbox": [
           {
            "marker": {
             "colorbar": {
              "outlinewidth": 0,
              "ticks": ""
             }
            },
            "type": "scattermapbox"
           }
          ],
          "scatterpolargl": [
           {
            "marker": {
             "colorbar": {
              "outlinewidth": 0,
              "ticks": ""
             }
            },
            "type": "scatterpolargl"
           }
          ],
          "scatterpolar": [
           {
            "marker": {
             "colorbar": {
              "outlinewidth": 0,
              "ticks": ""
             }
            },
            "type": "scatterpolar"
           }
          ],
          "scatter": [
           {
            "marker": {
             "line": {
              "color": "#283442"
             }
            },
            "type": "scatter"
           }
          ],
          "scatterternary": [
           {
            "marker": {
             "colorbar": {
              "outlinewidth": 0,
              "ticks": ""
             }
            },
            "type": "scatterternary"
           }
          ],
          "surface": [
           {
            "colorbar": {
             "outlinewidth": 0,
             "ticks": ""
            },
            "colorscale": [
             [
              0.0,
              "#0d0887"
             ],
             [
              0.1111111111111111,
              "#46039f"
             ],
             [
              0.2222222222222222,
              "#7201a8"
             ],
             [
              0.3333333333333333,
              "#9c179e"
             ],
             [
              0.4444444444444444,
              "#bd3786"
             ],
             [
              0.5555555555555556,
              "#d8576b"
             ],
             [
              0.6666666666666666,
              "#ed7953"
             ],
             [
              0.7777777777777778,
              "#fb9f3a"
             ],
             [
              0.8888888888888888,
              "#fdca26"
             ],
             [
              1.0,
              "#f0f921"
             ]
            ],
            "type": "surface"
           }
          ],
          "table": [
           {
            "cells": {
             "fill": {
              "color": "#506784"
             },
             "line": {
              "color": "rgb(17,17,17)"
             }
            },
            "header": {
             "fill": {
              "color": "#2a3f5f"
             },
             "line": {
              "color": "rgb(17,17,17)"
             }
            },
            "type": "table"
           }
          ]
         },
         "layout": {
          "annotationdefaults": {
           "arrowcolor": "#f2f5fa",
           "arrowhead": 0,
           "arrowwidth": 1
          },
          "autotypenumbers": "strict",
          "coloraxis": {
           "colorbar": {
            "outlinewidth": 0,
            "ticks": ""
           }
          },
          "colorscale": {
           "diverging": [
            [
             0,
             "#8e0152"
            ],
            [
             0.1,
             "#c51b7d"
            ],
            [
             0.2,
             "#de77ae"
            ],
            [
             0.3,
             "#f1b6da"
            ],
            [
             0.4,
             "#fde0ef"
            ],
            [
             0.5,
             "#f7f7f7"
            ],
            [
             0.6,
             "#e6f5d0"
            ],
            [
             0.7,
             "#b8e186"
            ],
            [
             0.8,
             "#7fbc41"
            ],
            [
             0.9,
             "#4d9221"
            ],
            [
             1,
             "#276419"
            ]
           ],
           "sequential": [
            [
             0.0,
             "#0d0887"
            ],
            [
             0.1111111111111111,
             "#46039f"
            ],
            [
             0.2222222222222222,
             "#7201a8"
            ],
            [
             0.3333333333333333,
             "#9c179e"
            ],
            [
             0.4444444444444444,
             "#bd3786"
            ],
            [
             0.5555555555555556,
             "#d8576b"
            ],
            [
             0.6666666666666666,
             "#ed7953"
            ],
            [
             0.7777777777777778,
             "#fb9f3a"
            ],
            [
             0.8888888888888888,
             "#fdca26"
            ],
            [
             1.0,
             "#f0f921"
            ]
           ],
           "sequentialminus": [
            [
             0.0,
             "#0d0887"
            ],
            [
             0.1111111111111111,
             "#46039f"
            ],
            [
             0.2222222222222222,
             "#7201a8"
            ],
            [
             0.3333333333333333,
             "#9c179e"
            ],
            [
             0.4444444444444444,
             "#bd3786"
            ],
            [
             0.5555555555555556,
             "#d8576b"
            ],
            [
             0.6666666666666666,
             "#ed7953"
            ],
            [
             0.7777777777777778,
             "#fb9f3a"
            ],
            [
             0.8888888888888888,
             "#fdca26"
            ],
            [
             1.0,
             "#f0f921"
            ]
           ]
          },
          "colorway": [
           "#636efa",
           "#EF553B",
           "#00cc96",
           "#ab63fa",
           "#FFA15A",
           "#19d3f3",
           "#FF6692",
           "#B6E880",
           "#FF97FF",
           "#FECB52"
          ],
          "font": {
           "color": "#f2f5fa"
          },
          "geo": {
           "bgcolor": "rgb(17,17,17)",
           "lakecolor": "rgb(17,17,17)",
           "landcolor": "rgb(17,17,17)",
           "showlakes": true,
           "showland": true,
           "subunitcolor": "#506784"
          },
          "hoverlabel": {
           "align": "left"
          },
          "hovermode": "closest",
          "mapbox": {
           "style": "dark"
          },
          "paper_bgcolor": "rgb(17,17,17)",
          "plot_bgcolor": "rgb(17,17,17)",
          "polar": {
           "angularaxis": {
            "gridcolor": "#506784",
            "linecolor": "#506784",
            "ticks": ""
           },
           "bgcolor": "rgb(17,17,17)",
           "radialaxis": {
            "gridcolor": "#506784",
            "linecolor": "#506784",
            "ticks": ""
           }
          },
          "scene": {
           "xaxis": {
            "backgroundcolor": "rgb(17,17,17)",
            "gridcolor": "#506784",
            "gridwidth": 2,
            "linecolor": "#506784",
            "showbackground": true,
            "ticks": "",
            "zerolinecolor": "#C8D4E3"
           },
           "yaxis": {
            "backgroundcolor": "rgb(17,17,17)",
            "gridcolor": "#506784",
            "gridwidth": 2,
            "linecolor": "#506784",
            "showbackground": true,
            "ticks": "",
            "zerolinecolor": "#C8D4E3"
           },
           "zaxis": {
            "backgroundcolor": "rgb(17,17,17)",
            "gridcolor": "#506784",
            "gridwidth": 2,
            "linecolor": "#506784",
            "showbackground": true,
            "ticks": "",
            "zerolinecolor": "#C8D4E3"
           }
          },
          "shapedefaults": {
           "line": {
            "color": "#f2f5fa"
           }
          },
          "sliderdefaults": {
           "bgcolor": "#C8D4E3",
           "bordercolor": "rgb(17,17,17)",
           "borderwidth": 1,
           "tickwidth": 0
          },
          "ternary": {
           "aaxis": {
            "gridcolor": "#506784",
            "linecolor": "#506784",
            "ticks": ""
           },
           "baxis": {
            "gridcolor": "#506784",
            "linecolor": "#506784",
            "ticks": ""
           },
           "bgcolor": "rgb(17,17,17)",
           "caxis": {
            "gridcolor": "#506784",
            "linecolor": "#506784",
            "ticks": ""
           }
          },
          "title": {
           "x": 0.05
          },
          "updatemenudefaults": {
           "bgcolor": "#506784",
           "borderwidth": 0
          },
          "xaxis": {
           "automargin": true,
           "gridcolor": "#283442",
           "linecolor": "#506784",
           "ticks": "",
           "title": {
            "standoff": 15
           },
           "zerolinecolor": "#283442",
           "zerolinewidth": 2
          },
          "yaxis": {
           "automargin": true,
           "gridcolor": "#283442",
           "linecolor": "#506784",
           "ticks": "",
           "title": {
            "standoff": 15
           },
           "zerolinecolor": "#283442",
           "zerolinewidth": 2
          }
         }
        },
        "title": {
         "font": {
          "color": "#4D5663"
         }
        },
        "xaxis": {
         "gridcolor": "#E1E5ED",
         "showgrid": true,
         "tickfont": {
          "color": "#4D5663"
         },
         "title": {
          "font": {
           "color": "#4D5663"
          },
          "text": ""
         },
         "zerolinecolor": "#E1E5ED"
        },
        "yaxis": {
         "gridcolor": "#E1E5ED",
         "showgrid": true,
         "tickfont": {
          "color": "#4D5663"
         },
         "title": {
          "font": {
           "color": "#4D5663"
          },
          "text": ""
         },
         "zerolinecolor": "#E1E5ED"
        }
       },
       "config": {
        "showLink": true,
        "linkText": "Export to plot.ly",
        "plotlyServerURL": "https://plot.ly"
       }
      },
      "text/html": "<div>                            <div id=\"6a4317b1-ab72-4ad8-989c-ec6c4cbfc18d\" class=\"plotly-graph-div\" style=\"height:525px; width:100%;\"></div>            <script type=\"text/javascript\">                require([\"plotly\"], function(Plotly) {                    window.PLOTLYENV=window.PLOTLYENV || {};\n                    window.PLOTLYENV.BASE_URL='https://plot.ly';                                    if (document.getElementById(\"6a4317b1-ab72-4ad8-989c-ec6c4cbfc18d\")) {                    Plotly.newPlot(                        \"6a4317b1-ab72-4ad8-989c-ec6c4cbfc18d\",                        [{\"histfunc\":\"count\",\"histnorm\":\"\",\"marker\":{\"color\":\"rgba(255, 153, 51, 1.0)\",\"line\":{\"color\":\"#4D5663\",\"width\":1.3}},\"name\":\"Survived\",\"opacity\":0.8,\"orientation\":\"v\",\"x\":[\"PC\",\"ST\",\"UN\",\"UN\",\"UN\",\"PP\",\"UN\",\"UN\",\"UN\",\"UN\",\"UN\",\"UN\",\"UN\",\"UN\",\"UN\",\"PC\",\"UN\",\"UN\",\"UN\",\"SC\",\"UN\",\"UN\",\"PC\",\"UN\",\"UN\",\"CA\",\"CA\",\"UN\",\"UN\",\"CA\",\"UN\",\"UN\",\"UN\",\"UN\",\"UN\",\"UN\",\"SO\",\"UN\",\"UN\",\"PC\",\"UN\",\"UN\",\"UN\",\"UN\",\"UN\",\"UN\",\"C\",\"UN\",\"UN\",\"UN\",\"UN\",\"ST\",\"UN\",\"UN\",\"UN\",\"CA\",\"UN\",\"UN\",\"UN\",\"UN\",\"UN\",\"UN\",\"UN\",\"UN\",\"UN\",\"UN\",\"PC\",\"PC\",\"UN\",\"A\",\"UN\",\"UN\",\"UN\",\"FC\",\"UN\",\"ST\",\"UN\",\"SO\",\"UN\",\"SW\",\"UN\",\"UN\",\"CA\",\"UN\",\"UN\",\"UN\",\"UN\",\"PC\",\"UN\",\"PC\",\"UN\",\"UN\",\"UN\",\"PC\",\"PC\",\"LI\",\"UN\",\"UN\",\"UN\",\"CA\",\"A\",\"UN\",\"UN\",\"UN\",\"UN\",\"UN\",\"UN\",\"PC\",\"UN\",\"UN\",\"UN\",\"UN\",\"UN\",\"PC\",\"PC\",\"UN\",\"PC\",\"UN\",\"UN\",\"UN\",\"UN\",\"UN\",\"UN\",\"PC\",\"UN\",\"UN\",\"UN\",\"UN\",\"PC\",\"UN\",\"UN\",\"UN\",\"UN\",\"UN\",\"UN\",\"UN\",\"CA\",\"UN\",\"UN\",\"UN\",\"UN\",\"UN\",\"UN\",\"PC\",\"UN\",\"PC\",\"C\",\"PC\",\"UN\",\"UN\",\"UN\",\"SC\",\"UN\",\"UN\",\"UN\",\"PP\",\"UN\",\"ST\",\"UN\",\"UN\",\"ST\",\"UN\",\"UN\",\"UN\",\"UN\",\"SO\",\"UN\",\"UN\",\"SC\",\"UN\",\"UN\",\"FC\",\"UN\",\"UN\",\"UN\",\"UN\",\"UN\",\"UN\",\"UN\",\"UN\",\"UN\",\"UN\",\"FC\",\"UN\",\"UN\",\"CA\",\"SC\",\"UN\",\"UN\",\"UN\",\"UN\",\"CA\",\"UN\",\"UN\",\"UN\",\"UN\",\"UN\",\"UN\",\"PC\",\"PC\",\"CA\",\"UN\",\"UN\",\"UN\",\"WC\",\"UN\",\"UN\",\"FC\",\"PC\",\"UN\",\"WE\",\"UN\",\"UN\",\"SC\",\"CA\",\"UN\",\"UN\",\"UN\",\"UN\",\"UN\",\"UN\",\"UN\",\"SW\",\"UN\",\"PC\",\"UN\",\"UN\",\"UN\",\"ST\",\"UN\",\"UN\",\"UN\",\"UN\",\"UN\",\"UN\",\"PC\",\"UN\",\"UN\",\"UN\",\"SC\",\"PC\",\"UN\",\"UN\",\"UN\",\"UN\",\"UN\",\"UN\",\"UN\",\"UN\",\"UN\",\"PC\",\"UN\",\"UN\",\"PC\",\"UN\",\"CA\",\"UN\",\"UN\",\"PC\",\"ST\",\"UN\",\"UN\",\"UN\",\"UN\",\"PC\",\"PC\",\"UN\",\"UN\",\"UN\",\"UN\",\"UN\",\"PC\",\"PC\",\"UN\",\"PC\",\"UN\",\"UN\",\"PC\",\"UN\",\"PC\",\"UN\",\"UN\",\"UN\",\"UN\",\"UN\",\"UN\",\"PC\",\"UN\",\"PC\",\"ST\",\"UN\",\"UN\",\"UN\",\"UN\",\"UN\",\"UN\",\"UN\",\"UN\",\"UN\",\"UN\",\"UN\",\"UN\",\"UN\",\"UN\",\"UN\",\"CA\",\"UN\",\"UN\",\"CA\",\"UN\",\"UN\",\"UN\",\"UN\",\"UN\",\"UN\",\"UN\",\"SC\",\"UN\",\"UN\",\"UN\",\"UN\",\"PC\",\"UN\",\"UN\",\"UN\",\"UN\",\"PC\",\"UN\",\"UN\",\"UN\",\"UN\",\"UN\",\"UN\",\"SC\",\"UN\",\"UN\",\"PP\",\"UN\",\"UN\",\"UN\",\"UN\",\"UN\",null,null,null,null,null,null,null,null,null,null,null,null,null,null,null,null,null,null,null,null,null,null,null,null,null,null,null,null,null,null,null,null,null,null,null,null,null,null,null,null,null,null,null,null,null,null,null,null,null,null,null,null,null,null,null,null,null,null,null,null,null,null,null,null,null,null,null,null,null,null,null,null,null,null,null,null,null,null,null,null,null,null,null,null,null,null,null,null,null,null,null,null,null,null,null,null,null,null,null,null,null,null,null,null,null,null,null,null,null,null,null,null,null,null,null,null,null,null,null,null,null,null,null,null,null,null,null,null,null,null,null,null,null,null,null,null,null,null,null,null,null,null,null,null,null,null,null,null,null,null,null,null,null,null,null,null,null,null,null,null,null,null,null,null,null,null,null,null,null,null,null,null,null,null,null,null,null,null,null,null,null,null,null,null,null,null,null,null,null,null,null,null,null,null,null,null,null,null,null,null,null,null,null,null,null,null,null,null,null,null,null,null,null,null,null,null,null,null,null,null,null,null,null,null,null,null,null,null,null,null,null,null,null,null,null,null,null,null,null,null,null,null,null,null,null,null,null,null,null,null,null,null,null,null,null,null,null,null,null,null,null,null,null,null,null,null,null,null,null,null,null,null,null,null,null,null,null,null,null,null,null,null,null,null,null,null,null,null,null,null,null,null,null,null,null,null,null,null,null,null,null,null,null,null,null,null,null,null,null,null,null,null,null,null,null,null,null,null,null,null,null,null,null,null,null,null,null,null,null,null,null,null,null,null,null,null,null,null,null,null,null,null,null,null,null,null,null,null,null,null,null,null,null,null,null,null,null,null,null,null,null,null,null,null,null,null,null,null,null,null,null,null,null,null,null,null,null,null,null,null,null,null,null,null,null,null,null,null,null,null,null,null,null,null,null,null,null,null,null,null,null,null,null,null,null,null,null,null,null,null,null,null,null,null,null,null,null,null,null,null,null,null,null,null,null,null,null,null,null,null,null,null,null,null,null,null,null,null,null,null,null,null,null,null,null,null,null,null,null,null,null,null,null,null,null,null,null,null,null,null,null,null,null,null,null,null,null,null,null,null,null,null,null,null,null,null,null,null,null,null,null,null,null,null,null,null,null,null,null,null,null,null,null,null,null,null,null,null,null,null,null,null,null,null,null,null,null,null,null,null,null,null,null,null,null,null,null,null,null,null,null,null,null,null,null,null,null,null,null,null,null,null,null,null,null,null,null,null,null,null,null,null,null,null,null,null,null,null,null],\"type\":\"histogram\"},{\"histfunc\":\"count\",\"histnorm\":\"\",\"marker\":{\"color\":\"rgba(55, 128, 191, 1.0)\",\"line\":{\"color\":\"#4D5663\",\"width\":1.3}},\"name\":\"Dead\",\"opacity\":0.8,\"orientation\":\"v\",\"x\":[null,null,null,null,null,null,null,null,null,null,null,null,null,null,null,null,null,null,null,null,null,null,null,null,null,null,null,null,null,null,null,null,null,null,null,null,null,null,null,null,null,null,null,null,null,null,null,null,null,null,null,null,null,null,null,null,null,null,null,null,null,null,null,null,null,null,null,null,null,null,null,null,null,null,null,null,null,null,null,null,null,null,null,null,null,null,null,null,null,null,null,null,null,null,null,null,null,null,null,null,null,null,null,null,null,null,null,null,null,null,null,null,null,null,null,null,null,null,null,null,null,null,null,null,null,null,null,null,null,null,null,null,null,null,null,null,null,null,null,null,null,null,null,null,null,null,null,null,null,null,null,null,null,null,null,null,null,null,null,null,null,null,null,null,null,null,null,null,null,null,null,null,null,null,null,null,null,null,null,null,null,null,null,null,null,null,null,null,null,null,null,null,null,null,null,null,null,null,null,null,null,null,null,null,null,null,null,null,null,null,null,null,null,null,null,null,null,null,null,null,null,null,null,null,null,null,null,null,null,null,null,null,null,null,null,null,null,null,null,null,null,null,null,null,null,null,null,null,null,null,null,null,null,null,null,null,null,null,null,null,null,null,null,null,null,null,null,null,null,null,null,null,null,null,null,null,null,null,null,null,null,null,null,null,null,null,null,null,null,null,null,null,null,null,null,null,null,null,null,null,null,null,null,null,null,null,null,null,null,null,null,null,null,null,null,null,null,null,null,null,null,null,null,null,null,null,null,null,null,null,null,null,null,null,null,null,null,null,null,null,null,null,\"A\",\"UN\",\"UN\",\"UN\",\"UN\",\"A\",\"UN\",\"UN\",\"UN\",\"UN\",\"UN\",\"UN\",\"UN\",\"UN\",\"UN\",\"PC\",\"CA\",\"PC\",\"UN\",\"A\",\"UN\",\"UN\",\"UN\",\"UN\",\"SC\",\"UN\",\"UN\",\"UN\",\"UN\",\"A\",\"UN\",\"UN\",\"CA\",\"UN\",\"UN\",\"UN\",\"PC\",\"SP\",\"UN\",\"CA\",\"CA\",\"SO\",\"UN\",\"UN\",\"UN\",\"UN\",\"UN\",\"UN\",\"WC\",\"SO\",\"UN\",\"UN\",\"UN\",\"WE\",\"CA\",\"UN\",\"UN\",\"PC\",\"UN\",\"UN\",\"UN\",\"UN\",\"UN\",\"UN\",\"UN\",\"UN\",\"UN\",\"UN\",\"UN\",\"UN\",\"UN\",\"ST\",\"UN\",\"UN\",\"PC\",\"UN\",\"SO\",\"A\",\"UN\",\"UN\",\"UN\",\"UN\",\"UN\",\"SO\",\"A\",\"CA\",\"SC\",\"UN\",\"UN\",\"PC\",\"UN\",\"UN\",\"UN\",\"CA\",\"WC\",\"UN\",\"UN\",\"SO\",\"A\",\"A\",\"Fa\",\"PC\",\"SO\",\"UN\",\"CA\",\"UN\",\"UN\",\"UN\",\"UN\",\"UN\",\"PC\",\"UN\",\"UN\",\"UN\",\"ST\",\"UN\",\"UN\",\"UN\",\"PC\",\"UN\",\"LI\",\"CA\",\"SC\",\"UN\",\"UN\",\"UN\",\"UN\",\"UN\",\"UN\",\"UN\",\"UN\",\"UN\",\"CA\",\"UN\",\"UN\",\"UN\",\"UN\",\"SO\",\"A\",\"UN\",\"UN\",\"UN\",\"WC\",\"UN\",\"UN\",\"UN\",\"PP\",\"A\",\"UN\",\"UN\",\"UN\",\"UN\",\"CA\",\"WC\",\"UN\",\"UN\",\"SC\",\"UN\",\"WC\",\"ST\",\"UN\",\"UN\",\"UN\",\"UN\",\"UN\",\"UN\",\"UN\",\"A\",\"UN\",\"UN\",\"UN\",\"UN\",\"UN\",\"CA\",\"UN\",\"UN\",\"PC\",\"UN\",\"UN\",\"UN\",\"UN\",\"UN\",\"UN\",\"UN\",\"UN\",\"UN\",\"SC\",\"UN\",\"UN\",\"PC\",\"UN\",\"UN\",\"LI\",\"A\",\"PP\",\"UN\",\"UN\",\"FC\",\"UN\",\"A\",\"UN\",\"CA\",\"UN\",\"UN\",\"PC\",\"UN\",\"UN\",\"UN\",\"UN\",\"UN\",\"UN\",\"UN\",\"UN\",\"UN\",\"UN\",\"UN\",\"UN\",\"UN\",\"UN\",\"UN\",\"UN\",\"SC\",\"UN\",\"SO\",\"UN\",\"C\",\"UN\",\"UN\",\"PC\",\"UN\",\"UN\",\"UN\",\"UN\",\"ST\",\"UN\",\"SO\",\"CA\",\"UN\",\"UN\",\"UN\",\"UN\",\"UN\",\"UN\",\"UN\",\"UN\",\"ST\",\"UN\",\"UN\",\"UN\",\"UN\",\"UN\",\"UN\",\"UN\",\"UN\",\"UN\",\"UN\",\"UN\",\"UN\",\"A\",\"UN\",\"UN\",\"UN\",\"A\",\"UN\",\"ST\",\"UN\",\"WC\",\"UN\",\"CA\",\"UN\",\"UN\",\"CA\",\"UN\",\"UN\",\"A\",\"UN\",\"UN\",\"UN\",\"UN\",\"UN\",\"AS\",\"SO\",\"UN\",\"UN\",\"UN\",\"UN\",\"UN\",\"UN\",\"UN\",\"UN\",\"UN\",\"UN\",\"CA\",\"UN\",\"A\",\"UN\",\"UN\",\"A\",\"UN\",\"SO\",\"UN\",\"PC\",\"A\",\"UN\",\"CA\",\"UN\",\"UN\",\"UN\",\"UN\",\"UN\",\"UN\",\"PC\",\"C\",\"SO\",\"UN\",\"UN\",\"UN\",\"UN\",\"UN\",\"UN\",\"UN\",\"UN\",\"PC\",\"UN\",\"UN\",\"UN\",\"UN\",\"UN\",\"UN\",\"UN\",\"UN\",\"UN\",\"PC\",\"UN\",\"UN\",\"UN\",\"UN\",\"UN\",\"PC\",\"UN\",\"UN\",\"UN\",\"SO\",\"SO\",\"A\",\"UN\",\"UN\",\"UN\",\"A\",\"UN\",\"UN\",\"UN\",\"UN\",\"UN\",\"UN\",\"UN\",\"A\",\"ST\",\"A\",\"UN\",\"SC\",\"UN\",\"LI\",\"UN\",\"UN\",\"UN\",\"UN\",\"UN\",\"UN\",\"UN\",\"SO\",\"UN\",\"UN\",\"UN\",\"A\",\"UN\",\"UN\",\"UN\",\"UN\",\"UN\",\"UN\",\"UN\",\"UN\",\"UN\",\"UN\",\"UN\",\"ST\",\"CA\",\"UN\",\"UN\",\"UN\",\"UN\",\"UN\",\"SO\",\"UN\",\"UN\",\"UN\",\"SO\",\"UN\",\"UN\",\"UN\",\"UN\",\"UN\",\"UN\",\"UN\",\"SO\",\"UN\",\"UN\",\"A\",\"FC\",\"CA\",\"UN\",\"UN\",\"UN\",\"CA\",\"UN\",\"UN\",\"CA\",\"UN\",\"SC\",\"UN\",\"UN\",\"UN\",\"UN\",\"UN\",\"UN\",\"UN\",\"UN\",\"UN\",\"UN\",\"UN\",\"UN\",\"UN\",\"UN\",\"UN\",\"UN\",\"UN\",\"UN\",\"UN\",\"UN\",\"UN\",\"UN\",\"UN\",\"UN\",\"ST\",\"UN\",\"UN\",\"UN\",\"UN\",\"UN\",\"WC\",\"UN\",\"UN\",\"UN\",\"UN\",\"WE\",\"CA\",\"UN\",\"UN\",\"UN\",\"UN\",\"UN\",\"UN\",\"UN\",\"UN\",\"SO\",\"UN\",\"UN\",\"UN\",\"UN\",\"UN\",\"UN\",\"UN\",\"SO\",\"UN\",\"UN\",\"UN\",\"UN\",\"UN\",\"WC\",\"SO\",\"UN\",\"UN\",\"PC\",\"UN\",\"UN\",\"CA\",\"PC\",\"UN\",\"UN\",\"UN\",\"UN\",\"UN\",\"UN\",\"UN\",\"UN\",\"UN\",\"UN\",\"A\",\"UN\",\"UN\",\"UN\",\"UN\",\"ST\",\"SC\",\"C\",\"UN\",\"UN\",\"UN\",\"UN\",\"UN\",\"UN\",\"UN\",\"UN\",\"UN\",\"UN\",\"SO\",\"SO\",\"UN\",\"UN\",\"CA\",\"CA\",\"UN\",\"UN\",\"UN\",\"UN\",\"UN\",\"UN\",\"UN\",\"UN\",\"UN\",\"CA\",\"UN\",\"PC\",\"UN\",\"UN\",\"UN\",\"UN\",\"UN\",\"UN\",\"UN\",\"UN\",\"UN\",\"CA\",\"SO\",\"UN\",\"UN\",\"WC\",\"UN\"],\"type\":\"histogram\"}],                        {\"barmode\":\"overlay\",\"legend\":{\"bgcolor\":\"#F5F6F9\",\"font\":{\"color\":\"#4D5663\"}},\"paper_bgcolor\":\"#F5F6F9\",\"plot_bgcolor\":\"#F5F6F9\",\"template\":{\"data\":{\"barpolar\":[{\"marker\":{\"line\":{\"color\":\"rgb(17,17,17)\",\"width\":0.5},\"pattern\":{\"fillmode\":\"overlay\",\"size\":10,\"solidity\":0.2}},\"type\":\"barpolar\"}],\"bar\":[{\"error_x\":{\"color\":\"#f2f5fa\"},\"error_y\":{\"color\":\"#f2f5fa\"},\"marker\":{\"line\":{\"color\":\"rgb(17,17,17)\",\"width\":0.5},\"pattern\":{\"fillmode\":\"overlay\",\"size\":10,\"solidity\":0.2}},\"type\":\"bar\"}],\"carpet\":[{\"aaxis\":{\"endlinecolor\":\"#A2B1C6\",\"gridcolor\":\"#506784\",\"linecolor\":\"#506784\",\"minorgridcolor\":\"#506784\",\"startlinecolor\":\"#A2B1C6\"},\"baxis\":{\"endlinecolor\":\"#A2B1C6\",\"gridcolor\":\"#506784\",\"linecolor\":\"#506784\",\"minorgridcolor\":\"#506784\",\"startlinecolor\":\"#A2B1C6\"},\"type\":\"carpet\"}],\"choropleth\":[{\"colorbar\":{\"outlinewidth\":0,\"ticks\":\"\"},\"type\":\"choropleth\"}],\"contourcarpet\":[{\"colorbar\":{\"outlinewidth\":0,\"ticks\":\"\"},\"type\":\"contourcarpet\"}],\"contour\":[{\"colorbar\":{\"outlinewidth\":0,\"ticks\":\"\"},\"colorscale\":[[0.0,\"#0d0887\"],[0.1111111111111111,\"#46039f\"],[0.2222222222222222,\"#7201a8\"],[0.3333333333333333,\"#9c179e\"],[0.4444444444444444,\"#bd3786\"],[0.5555555555555556,\"#d8576b\"],[0.6666666666666666,\"#ed7953\"],[0.7777777777777778,\"#fb9f3a\"],[0.8888888888888888,\"#fdca26\"],[1.0,\"#f0f921\"]],\"type\":\"contour\"}],\"heatmapgl\":[{\"colorbar\":{\"outlinewidth\":0,\"ticks\":\"\"},\"colorscale\":[[0.0,\"#0d0887\"],[0.1111111111111111,\"#46039f\"],[0.2222222222222222,\"#7201a8\"],[0.3333333333333333,\"#9c179e\"],[0.4444444444444444,\"#bd3786\"],[0.5555555555555556,\"#d8576b\"],[0.6666666666666666,\"#ed7953\"],[0.7777777777777778,\"#fb9f3a\"],[0.8888888888888888,\"#fdca26\"],[1.0,\"#f0f921\"]],\"type\":\"heatmapgl\"}],\"heatmap\":[{\"colorbar\":{\"outlinewidth\":0,\"ticks\":\"\"},\"colorscale\":[[0.0,\"#0d0887\"],[0.1111111111111111,\"#46039f\"],[0.2222222222222222,\"#7201a8\"],[0.3333333333333333,\"#9c179e\"],[0.4444444444444444,\"#bd3786\"],[0.5555555555555556,\"#d8576b\"],[0.6666666666666666,\"#ed7953\"],[0.7777777777777778,\"#fb9f3a\"],[0.8888888888888888,\"#fdca26\"],[1.0,\"#f0f921\"]],\"type\":\"heatmap\"}],\"histogram2dcontour\":[{\"colorbar\":{\"outlinewidth\":0,\"ticks\":\"\"},\"colorscale\":[[0.0,\"#0d0887\"],[0.1111111111111111,\"#46039f\"],[0.2222222222222222,\"#7201a8\"],[0.3333333333333333,\"#9c179e\"],[0.4444444444444444,\"#bd3786\"],[0.5555555555555556,\"#d8576b\"],[0.6666666666666666,\"#ed7953\"],[0.7777777777777778,\"#fb9f3a\"],[0.8888888888888888,\"#fdca26\"],[1.0,\"#f0f921\"]],\"type\":\"histogram2dcontour\"}],\"histogram2d\":[{\"colorbar\":{\"outlinewidth\":0,\"ticks\":\"\"},\"colorscale\":[[0.0,\"#0d0887\"],[0.1111111111111111,\"#46039f\"],[0.2222222222222222,\"#7201a8\"],[0.3333333333333333,\"#9c179e\"],[0.4444444444444444,\"#bd3786\"],[0.5555555555555556,\"#d8576b\"],[0.6666666666666666,\"#ed7953\"],[0.7777777777777778,\"#fb9f3a\"],[0.8888888888888888,\"#fdca26\"],[1.0,\"#f0f921\"]],\"type\":\"histogram2d\"}],\"histogram\":[{\"marker\":{\"pattern\":{\"fillmode\":\"overlay\",\"size\":10,\"solidity\":0.2}},\"type\":\"histogram\"}],\"mesh3d\":[{\"colorbar\":{\"outlinewidth\":0,\"ticks\":\"\"},\"type\":\"mesh3d\"}],\"parcoords\":[{\"line\":{\"colorbar\":{\"outlinewidth\":0,\"ticks\":\"\"}},\"type\":\"parcoords\"}],\"pie\":[{\"automargin\":true,\"type\":\"pie\"}],\"scatter3d\":[{\"line\":{\"colorbar\":{\"outlinewidth\":0,\"ticks\":\"\"}},\"marker\":{\"colorbar\":{\"outlinewidth\":0,\"ticks\":\"\"}},\"type\":\"scatter3d\"}],\"scattercarpet\":[{\"marker\":{\"colorbar\":{\"outlinewidth\":0,\"ticks\":\"\"}},\"type\":\"scattercarpet\"}],\"scattergeo\":[{\"marker\":{\"colorbar\":{\"outlinewidth\":0,\"ticks\":\"\"}},\"type\":\"scattergeo\"}],\"scattergl\":[{\"marker\":{\"line\":{\"color\":\"#283442\"}},\"type\":\"scattergl\"}],\"scattermapbox\":[{\"marker\":{\"colorbar\":{\"outlinewidth\":0,\"ticks\":\"\"}},\"type\":\"scattermapbox\"}],\"scatterpolargl\":[{\"marker\":{\"colorbar\":{\"outlinewidth\":0,\"ticks\":\"\"}},\"type\":\"scatterpolargl\"}],\"scatterpolar\":[{\"marker\":{\"colorbar\":{\"outlinewidth\":0,\"ticks\":\"\"}},\"type\":\"scatterpolar\"}],\"scatter\":[{\"marker\":{\"line\":{\"color\":\"#283442\"}},\"type\":\"scatter\"}],\"scatterternary\":[{\"marker\":{\"colorbar\":{\"outlinewidth\":0,\"ticks\":\"\"}},\"type\":\"scatterternary\"}],\"surface\":[{\"colorbar\":{\"outlinewidth\":0,\"ticks\":\"\"},\"colorscale\":[[0.0,\"#0d0887\"],[0.1111111111111111,\"#46039f\"],[0.2222222222222222,\"#7201a8\"],[0.3333333333333333,\"#9c179e\"],[0.4444444444444444,\"#bd3786\"],[0.5555555555555556,\"#d8576b\"],[0.6666666666666666,\"#ed7953\"],[0.7777777777777778,\"#fb9f3a\"],[0.8888888888888888,\"#fdca26\"],[1.0,\"#f0f921\"]],\"type\":\"surface\"}],\"table\":[{\"cells\":{\"fill\":{\"color\":\"#506784\"},\"line\":{\"color\":\"rgb(17,17,17)\"}},\"header\":{\"fill\":{\"color\":\"#2a3f5f\"},\"line\":{\"color\":\"rgb(17,17,17)\"}},\"type\":\"table\"}]},\"layout\":{\"annotationdefaults\":{\"arrowcolor\":\"#f2f5fa\",\"arrowhead\":0,\"arrowwidth\":1},\"autotypenumbers\":\"strict\",\"coloraxis\":{\"colorbar\":{\"outlinewidth\":0,\"ticks\":\"\"}},\"colorscale\":{\"diverging\":[[0,\"#8e0152\"],[0.1,\"#c51b7d\"],[0.2,\"#de77ae\"],[0.3,\"#f1b6da\"],[0.4,\"#fde0ef\"],[0.5,\"#f7f7f7\"],[0.6,\"#e6f5d0\"],[0.7,\"#b8e186\"],[0.8,\"#7fbc41\"],[0.9,\"#4d9221\"],[1,\"#276419\"]],\"sequential\":[[0.0,\"#0d0887\"],[0.1111111111111111,\"#46039f\"],[0.2222222222222222,\"#7201a8\"],[0.3333333333333333,\"#9c179e\"],[0.4444444444444444,\"#bd3786\"],[0.5555555555555556,\"#d8576b\"],[0.6666666666666666,\"#ed7953\"],[0.7777777777777778,\"#fb9f3a\"],[0.8888888888888888,\"#fdca26\"],[1.0,\"#f0f921\"]],\"sequentialminus\":[[0.0,\"#0d0887\"],[0.1111111111111111,\"#46039f\"],[0.2222222222222222,\"#7201a8\"],[0.3333333333333333,\"#9c179e\"],[0.4444444444444444,\"#bd3786\"],[0.5555555555555556,\"#d8576b\"],[0.6666666666666666,\"#ed7953\"],[0.7777777777777778,\"#fb9f3a\"],[0.8888888888888888,\"#fdca26\"],[1.0,\"#f0f921\"]]},\"colorway\":[\"#636efa\",\"#EF553B\",\"#00cc96\",\"#ab63fa\",\"#FFA15A\",\"#19d3f3\",\"#FF6692\",\"#B6E880\",\"#FF97FF\",\"#FECB52\"],\"font\":{\"color\":\"#f2f5fa\"},\"geo\":{\"bgcolor\":\"rgb(17,17,17)\",\"lakecolor\":\"rgb(17,17,17)\",\"landcolor\":\"rgb(17,17,17)\",\"showlakes\":true,\"showland\":true,\"subunitcolor\":\"#506784\"},\"hoverlabel\":{\"align\":\"left\"},\"hovermode\":\"closest\",\"mapbox\":{\"style\":\"dark\"},\"paper_bgcolor\":\"rgb(17,17,17)\",\"plot_bgcolor\":\"rgb(17,17,17)\",\"polar\":{\"angularaxis\":{\"gridcolor\":\"#506784\",\"linecolor\":\"#506784\",\"ticks\":\"\"},\"bgcolor\":\"rgb(17,17,17)\",\"radialaxis\":{\"gridcolor\":\"#506784\",\"linecolor\":\"#506784\",\"ticks\":\"\"}},\"scene\":{\"xaxis\":{\"backgroundcolor\":\"rgb(17,17,17)\",\"gridcolor\":\"#506784\",\"gridwidth\":2,\"linecolor\":\"#506784\",\"showbackground\":true,\"ticks\":\"\",\"zerolinecolor\":\"#C8D4E3\"},\"yaxis\":{\"backgroundcolor\":\"rgb(17,17,17)\",\"gridcolor\":\"#506784\",\"gridwidth\":2,\"linecolor\":\"#506784\",\"showbackground\":true,\"ticks\":\"\",\"zerolinecolor\":\"#C8D4E3\"},\"zaxis\":{\"backgroundcolor\":\"rgb(17,17,17)\",\"gridcolor\":\"#506784\",\"gridwidth\":2,\"linecolor\":\"#506784\",\"showbackground\":true,\"ticks\":\"\",\"zerolinecolor\":\"#C8D4E3\"}},\"shapedefaults\":{\"line\":{\"color\":\"#f2f5fa\"}},\"sliderdefaults\":{\"bgcolor\":\"#C8D4E3\",\"bordercolor\":\"rgb(17,17,17)\",\"borderwidth\":1,\"tickwidth\":0},\"ternary\":{\"aaxis\":{\"gridcolor\":\"#506784\",\"linecolor\":\"#506784\",\"ticks\":\"\"},\"baxis\":{\"gridcolor\":\"#506784\",\"linecolor\":\"#506784\",\"ticks\":\"\"},\"bgcolor\":\"rgb(17,17,17)\",\"caxis\":{\"gridcolor\":\"#506784\",\"linecolor\":\"#506784\",\"ticks\":\"\"}},\"title\":{\"x\":0.05},\"updatemenudefaults\":{\"bgcolor\":\"#506784\",\"borderwidth\":0},\"xaxis\":{\"automargin\":true,\"gridcolor\":\"#283442\",\"linecolor\":\"#506784\",\"ticks\":\"\",\"title\":{\"standoff\":15},\"zerolinecolor\":\"#283442\",\"zerolinewidth\":2},\"yaxis\":{\"automargin\":true,\"gridcolor\":\"#283442\",\"linecolor\":\"#506784\",\"ticks\":\"\",\"title\":{\"standoff\":15},\"zerolinecolor\":\"#283442\",\"zerolinewidth\":2}}},\"title\":{\"font\":{\"color\":\"#4D5663\"}},\"xaxis\":{\"gridcolor\":\"#E1E5ED\",\"showgrid\":true,\"tickfont\":{\"color\":\"#4D5663\"},\"title\":{\"font\":{\"color\":\"#4D5663\"},\"text\":\"\"},\"zerolinecolor\":\"#E1E5ED\"},\"yaxis\":{\"gridcolor\":\"#E1E5ED\",\"showgrid\":true,\"tickfont\":{\"color\":\"#4D5663\"},\"title\":{\"font\":{\"color\":\"#4D5663\"},\"text\":\"\"},\"zerolinecolor\":\"#E1E5ED\"}},                        {\"showLink\": true, \"linkText\": \"Export to plot.ly\", \"plotlyServerURL\": \"https://plot.ly\", \"responsive\": true}                    ).then(function(){\n                            \nvar gd = document.getElementById('6a4317b1-ab72-4ad8-989c-ec6c4cbfc18d');\nvar x = new MutationObserver(function (mutations, observer) {{\n        var display = window.getComputedStyle(gd).display;\n        if (!display || display === 'none') {{\n            console.log([gd, 'removed!']);\n            Plotly.purge(gd);\n            observer.disconnect();\n        }}\n}});\n\n// Listen for the removal of the full notebook cells\nvar notebookContainer = gd.closest('#notebook-container');\nif (notebookContainer) {{\n    x.observe(notebookContainer, {childList: true});\n}}\n\n// Listen for the clearing of the current output cell\nvar outputEl = gd.closest('.output');\nif (outputEl) {{\n    x.observe(outputEl, {childList: true});\n}}\n\n                        })                };                });            </script>        </div>"
     },
     "metadata": {},
     "output_type": "display_data"
    }
   ],
   "source": [
    "df['Ticket_initial2'] = df['Ticket_initial2'].fillna('UN')\n",
    "\n",
    "train = df[:ntrain]\n",
    "survived = train[train['Survived'] == 1]['Ticket_initial2']\n",
    "dead = train[train['Survived'] == 0]['Ticket_initial2']\n",
    "df_temp1 = pd.concat([survived, dead], axis=1, keys=['Survived', 'Dead'])\n",
    "df_temp1.iplot(kind='histogram')"
   ],
   "metadata": {
    "collapsed": false
   }
  },
  {
   "cell_type": "code",
   "execution_count": 199,
   "outputs": [],
   "source": [
    "df['Ticket_initial2'] = df['Ticket_initial2'].factorize()[0]"
   ],
   "metadata": {
    "collapsed": false
   }
  },
  {
   "cell_type": "markdown",
   "source": [
    "### qcut() 과 cut()\n",
    "- pandas.qcut(나눌데이터컬럼, q=나눌 수, labels=각그룹이름(배열) 또는 False)\n",
    "  - 나눌데이터컬럼값의 분포를 기반으로, 균등 사이즈로 각 그룹으로 나눔\n",
    "- pandas.cut(나눌데이터컬럼, 나눌 수)\n",
    "  - 나눌데이터컬럼값을 기반으로 동일한 범위로, 각 그룹을 나눔"
   ],
   "metadata": {
    "collapsed": false
   }
  },
  {
   "cell_type": "code",
   "execution_count": 200,
   "outputs": [],
   "source": [
    "df['Ticket_Num_Cut'] = df['Ticket_Num'].astype('float')"
   ],
   "metadata": {
    "collapsed": false
   }
  },
  {
   "cell_type": "code",
   "execution_count": 201,
   "outputs": [],
   "source": [
    "df['Ticket_Num_Cut'] = pd.qcut(df['Ticket_Num_Cut'], q=10, labels=False)"
   ],
   "metadata": {
    "collapsed": false
   }
  },
  {
   "cell_type": "code",
   "execution_count": 203,
   "outputs": [
    {
     "data": {
      "text/plain": "   PassengerId  Survived  Pclass  Sex  Age            Ticket  Fare Cabin  \\\n0            1       0.0       3    0  3.0         A/5 21171   0.0     U   \n1            2       1.0       1    1  4.0          PC 17599   3.0     C   \n2            3       1.0       3    1  3.0  STON/O2. 3101282   0.0     U   \n3            4       1.0       1    1  4.0            113803   2.0     C   \n4            5       0.0       3    0  4.0            373450   0.0     U   \n\n   Embarked  Initial  Family Ticket_Initial Ticket_Num Ticket_initial_test  \\\n0         0      0.0       2            A/5      21171                   A   \n1         1      2.0       2             PC      17599                  PC   \n2         0      1.0       1       STON/O2.    3101282               STONO   \n3         0      2.0       2            NaN     113803                 NaN   \n4         0      0.0       1            NaN     373450                 NaN   \n\n   Ticket_initial2  Ticket_Num_Cut  \n0                0               3  \n1                1               3  \n2                2               9  \n3                3               5  \n4                3               9  ",
      "text/html": "<div>\n<style scoped>\n    .dataframe tbody tr th:only-of-type {\n        vertical-align: middle;\n    }\n\n    .dataframe tbody tr th {\n        vertical-align: top;\n    }\n\n    .dataframe thead th {\n        text-align: right;\n    }\n</style>\n<table border=\"1\" class=\"dataframe\">\n  <thead>\n    <tr style=\"text-align: right;\">\n      <th></th>\n      <th>PassengerId</th>\n      <th>Survived</th>\n      <th>Pclass</th>\n      <th>Sex</th>\n      <th>Age</th>\n      <th>Ticket</th>\n      <th>Fare</th>\n      <th>Cabin</th>\n      <th>Embarked</th>\n      <th>Initial</th>\n      <th>Family</th>\n      <th>Ticket_Initial</th>\n      <th>Ticket_Num</th>\n      <th>Ticket_initial_test</th>\n      <th>Ticket_initial2</th>\n      <th>Ticket_Num_Cut</th>\n    </tr>\n  </thead>\n  <tbody>\n    <tr>\n      <th>0</th>\n      <td>1</td>\n      <td>0.0</td>\n      <td>3</td>\n      <td>0</td>\n      <td>3.0</td>\n      <td>A/5 21171</td>\n      <td>0.0</td>\n      <td>U</td>\n      <td>0</td>\n      <td>0.0</td>\n      <td>2</td>\n      <td>A/5</td>\n      <td>21171</td>\n      <td>A</td>\n      <td>0</td>\n      <td>3</td>\n    </tr>\n    <tr>\n      <th>1</th>\n      <td>2</td>\n      <td>1.0</td>\n      <td>1</td>\n      <td>1</td>\n      <td>4.0</td>\n      <td>PC 17599</td>\n      <td>3.0</td>\n      <td>C</td>\n      <td>1</td>\n      <td>2.0</td>\n      <td>2</td>\n      <td>PC</td>\n      <td>17599</td>\n      <td>PC</td>\n      <td>1</td>\n      <td>3</td>\n    </tr>\n    <tr>\n      <th>2</th>\n      <td>3</td>\n      <td>1.0</td>\n      <td>3</td>\n      <td>1</td>\n      <td>3.0</td>\n      <td>STON/O2. 3101282</td>\n      <td>0.0</td>\n      <td>U</td>\n      <td>0</td>\n      <td>1.0</td>\n      <td>1</td>\n      <td>STON/O2.</td>\n      <td>3101282</td>\n      <td>STONO</td>\n      <td>2</td>\n      <td>9</td>\n    </tr>\n    <tr>\n      <th>3</th>\n      <td>4</td>\n      <td>1.0</td>\n      <td>1</td>\n      <td>1</td>\n      <td>4.0</td>\n      <td>113803</td>\n      <td>2.0</td>\n      <td>C</td>\n      <td>0</td>\n      <td>2.0</td>\n      <td>2</td>\n      <td>NaN</td>\n      <td>113803</td>\n      <td>NaN</td>\n      <td>3</td>\n      <td>5</td>\n    </tr>\n    <tr>\n      <th>4</th>\n      <td>5</td>\n      <td>0.0</td>\n      <td>3</td>\n      <td>0</td>\n      <td>4.0</td>\n      <td>373450</td>\n      <td>0.0</td>\n      <td>U</td>\n      <td>0</td>\n      <td>0.0</td>\n      <td>1</td>\n      <td>NaN</td>\n      <td>373450</td>\n      <td>NaN</td>\n      <td>3</td>\n      <td>9</td>\n    </tr>\n  </tbody>\n</table>\n</div>"
     },
     "execution_count": 203,
     "metadata": {},
     "output_type": "execute_result"
    }
   ],
   "source": [
    "df.head()"
   ],
   "metadata": {
    "collapsed": false
   }
  },
  {
   "cell_type": "code",
   "execution_count": 204,
   "outputs": [
    {
     "data": {
      "text/html": "        <script type=\"text/javascript\">\n        window.PlotlyConfig = {MathJaxConfig: 'local'};\n        if (window.MathJax && window.MathJax.Hub && window.MathJax.Hub.Config) {window.MathJax.Hub.Config({SVG: {font: \"STIX-Web\"}});}\n        if (typeof require !== 'undefined') {\n        require.undef(\"plotly\");\n        requirejs.config({\n            paths: {\n                'plotly': ['https://cdn.plot.ly/plotly-2.12.1.min']\n            }\n        });\n        require(['plotly'], function(Plotly) {\n            window._Plotly = Plotly;\n        });\n        }\n        </script>\n        "
     },
     "metadata": {},
     "output_type": "display_data"
    },
    {
     "data": {
      "application/vnd.plotly.v1+json": {
       "data": [
        {
         "histfunc": "count",
         "histnorm": "",
         "marker": {
          "color": "rgba(255, 153, 51, 1.0)",
          "line": {
           "color": "#4D5663",
           "width": 1.3
          }
         },
         "name": "Survived",
         "opacity": 0.8,
         "orientation": "v",
         "x": [
          3.0,
          9.0,
          5.0,
          7.0,
          6.0,
          2.0,
          5.0,
          6.0,
          6.0,
          0.0,
          6.0,
          7.0,
          5.0,
          7.0,
          7.0,
          3.0,
          7.0,
          1.0,
          0.0,
          0.0,
          7.0,
          2.0,
          3.0,
          1.0,
          3.0,
          4.0,
          4.0,
          5.0,
          1.0,
          4.0,
          9.0,
          0.0,
          6.0,
          8.0,
          7.0,
          7.0,
          2.0,
          9.0,
          3.0,
          3.0,
          6.0,
          7.0,
          6.0,
          9.0,
          4.0,
          0.0,
          2.0,
          1.0,
          5.0,
          2.0,
          7.0,
          9.0,
          8.0,
          5.0,
          4.0,
          4.0,
          8.0,
          5.0,
          7.0,
          5.0,
          6.0,
          9.0,
          5.0,
          6.0,
          8.0,
          5.0,
          3.0,
          3.0,
          9.0,
          1.0,
          1.0,
          9.0,
          5.0,
          2.0,
          4.0,
          9.0,
          2.0,
          9.0,
          3.0,
          0.0,
          4.0,
          7.0,
          4.0,
          9.0,
          6.0,
          2.0,
          0.0,
          3.0,
          5.0,
          3.0,
          5.0,
          7.0,
          7.0,
          3.0,
          3.0,
          0.0,
          6.0,
          9.0,
          2.0,
          1.0,
          2.0,
          7.0,
          6.0,
          9.0,
          3.0,
          2.0,
          3.0,
          3.0,
          2.0,
          9.0,
          5.0,
          5.0,
          2.0,
          3.0,
          3.0,
          2.0,
          3.0,
          7.0,
          6.0,
          4.0,
          2.0,
          6.0,
          6.0,
          3.0,
          4.0,
          8.0,
          5.0,
          9.0,
          3.0,
          2.0,
          2.0,
          5.0,
          3.0,
          6.0,
          4.0,
          9.0,
          4.0,
          5.0,
          7.0,
          7.0,
          5.0,
          0.0,
          2.0,
          3.0,
          2.0,
          3.0,
          1.0,
          3.0,
          0.0,
          5.0,
          4.0,
          0.0,
          5.0,
          8.0,
          4.0,
          2.0,
          6.0,
          0.0,
          4.0,
          3.0,
          0.0,
          4.0,
          6.0,
          0.0,
          6.0,
          9.0,
          5.0,
          9.0,
          1.0,
          5.0,
          4.0,
          2.0,
          6.0,
          5.0,
          4.0,
          6.0,
          5.0,
          1.0,
          5.0,
          2.0,
          8.0,
          2.0,
          2.0,
          3.0,
          1.0,
          4.0,
          0.0,
          9.0,
          1.0,
          2.0,
          3.0,
          4.0,
          4.0,
          5.0,
          4.0,
          5.0,
          0.0,
          9.0,
          2.0,
          3.0,
          4.0,
          5.0,
          2.0,
          5.0,
          2.0,
          4.0,
          1.0,
          2.0,
          3.0,
          2.0,
          1.0,
          1.0,
          1.0,
          0.0,
          4.0,
          2.0,
          0.0,
          7.0,
          2.0,
          5.0,
          7.0,
          8.0,
          0.0,
          2.0,
          2.0,
          2.0,
          6.0,
          2.0,
          0.0,
          6.0,
          2.0,
          5.0,
          2.0,
          4.0,
          6.0,
          3.0,
          6.0,
          5.0,
          5.0,
          0.0,
          3.0,
          9.0,
          5.0,
          5.0,
          2.0,
          0.0,
          2.0,
          4.0,
          2.0,
          6.0,
          3.0,
          0.0,
          1.0,
          3.0,
          2.0,
          0.0,
          6.0,
          7.0,
          3.0,
          0.0,
          3.0,
          4.0,
          6.0,
          1.0,
          3.0,
          3.0,
          3.0,
          2.0,
          8.0,
          0.0,
          4.0,
          3.0,
          2.0,
          5.0,
          3.0,
          5.0,
          1.0,
          3.0,
          3.0,
          3.0,
          4.0,
          6.0,
          5.0,
          4.0,
          4.0,
          3.0,
          3.0,
          2.0,
          3.0,
          0.0,
          6.0,
          4.0,
          9.0,
          5.0,
          6.0,
          5.0,
          1.0,
          5.0,
          2.0,
          4.0,
          8.0,
          3.0,
          1.0,
          2.0,
          9.0,
          0.0,
          2.0,
          8.0,
          4.0,
          5.0,
          0.0,
          7.0,
          5.0,
          2.0,
          6.0,
          9.0,
          0.0,
          9.0,
          5.0,
          1.0,
          4.0,
          3.0,
          0.0,
          2.0,
          5.0,
          2.0,
          3.0,
          9.0,
          4.0,
          5.0,
          1.0,
          2.0,
          6.0,
          0.0,
          7.0,
          2.0,
          1.0,
          1.0,
          2.0,
          5.0,
          5.0,
          5.0,
          null,
          null,
          null,
          null,
          null,
          null,
          null,
          null,
          null,
          null,
          null,
          null,
          null,
          null,
          null,
          null,
          null,
          null,
          null,
          null,
          null,
          null,
          null,
          null,
          null,
          null,
          null,
          null,
          null,
          null,
          null,
          null,
          null,
          null,
          null,
          null,
          null,
          null,
          null,
          null,
          null,
          null,
          null,
          null,
          null,
          null,
          null,
          null,
          null,
          null,
          null,
          null,
          null,
          null,
          null,
          null,
          null,
          null,
          null,
          null,
          null,
          null,
          null,
          null,
          null,
          null,
          null,
          null,
          null,
          null,
          null,
          null,
          null,
          null,
          null,
          null,
          null,
          null,
          null,
          null,
          null,
          null,
          null,
          null,
          null,
          null,
          null,
          null,
          null,
          null,
          null,
          null,
          null,
          null,
          null,
          null,
          null,
          null,
          null,
          null,
          null,
          null,
          null,
          null,
          null,
          null,
          null,
          null,
          null,
          null,
          null,
          null,
          null,
          null,
          null,
          null,
          null,
          null,
          null,
          null,
          null,
          null,
          null,
          null,
          null,
          null,
          null,
          null,
          null,
          null,
          null,
          null,
          null,
          null,
          null,
          null,
          null,
          null,
          null,
          null,
          null,
          null,
          null,
          null,
          null,
          null,
          null,
          null,
          null,
          null,
          null,
          null,
          null,
          null,
          null,
          null,
          null,
          null,
          null,
          null,
          null,
          null,
          null,
          null,
          null,
          null,
          null,
          null,
          null,
          null,
          null,
          null,
          null,
          null,
          null,
          null,
          null,
          null,
          null,
          null,
          null,
          null,
          null,
          null,
          null,
          null,
          null,
          null,
          null,
          null,
          null,
          null,
          null,
          null,
          null,
          null,
          null,
          null,
          null,
          null,
          null,
          null,
          null,
          null,
          null,
          null,
          null,
          null,
          null,
          null,
          null,
          null,
          null,
          null,
          null,
          null,
          null,
          null,
          null,
          null,
          null,
          null,
          null,
          null,
          null,
          null,
          null,
          null,
          null,
          null,
          null,
          null,
          null,
          null,
          null,
          null,
          null,
          null,
          null,
          null,
          null,
          null,
          null,
          null,
          null,
          null,
          null,
          null,
          null,
          null,
          null,
          null,
          null,
          null,
          null,
          null,
          null,
          null,
          null,
          null,
          null,
          null,
          null,
          null,
          null,
          null,
          null,
          null,
          null,
          null,
          null,
          null,
          null,
          null,
          null,
          null,
          null,
          null,
          null,
          null,
          null,
          null,
          null,
          null,
          null,
          null,
          null,
          null,
          null,
          null,
          null,
          null,
          null,
          null,
          null,
          null,
          null,
          null,
          null,
          null,
          null,
          null,
          null,
          null,
          null,
          null,
          null,
          null,
          null,
          null,
          null,
          null,
          null,
          null,
          null,
          null,
          null,
          null,
          null,
          null,
          null,
          null,
          null,
          null,
          null,
          null,
          null,
          null,
          null,
          null,
          null,
          null,
          null,
          null,
          null,
          null,
          null,
          null,
          null,
          null,
          null,
          null,
          null,
          null,
          null,
          null,
          null,
          null,
          null,
          null,
          null,
          null,
          null,
          null,
          null,
          null,
          null,
          null,
          null,
          null,
          null,
          null,
          null,
          null,
          null,
          null,
          null,
          null,
          null,
          null,
          null,
          null,
          null,
          null,
          null,
          null,
          null,
          null,
          null,
          null,
          null,
          null,
          null,
          null,
          null,
          null,
          null,
          null,
          null,
          null,
          null,
          null,
          null,
          null,
          null,
          null,
          null,
          null,
          null,
          null,
          null,
          null,
          null,
          null,
          null,
          null,
          null,
          null,
          null,
          null,
          null,
          null,
          null,
          null,
          null,
          null,
          null,
          null,
          null,
          null,
          null,
          null,
          null,
          null,
          null,
          null,
          null,
          null,
          null,
          null,
          null,
          null,
          null,
          null,
          null,
          null,
          null,
          null,
          null,
          null,
          null,
          null,
          null,
          null,
          null,
          null,
          null,
          null,
          null,
          null,
          null,
          null,
          null,
          null,
          null,
          null,
          null,
          null,
          null,
          null,
          null,
          null,
          null,
          null,
          null,
          null,
          null,
          null,
          null,
          null,
          null,
          null,
          null,
          null,
          null,
          null,
          null,
          null,
          null,
          null,
          null,
          null,
          null,
          null,
          null,
          null,
          null,
          null,
          null,
          null,
          null,
          null,
          null,
          null,
          null,
          null,
          null,
          null,
          null,
          null,
          null,
          null,
          null,
          null,
          null,
          null,
          null,
          null,
          null,
          null,
          null,
          null,
          null,
          null,
          null,
          null,
          null,
          null,
          null,
          null,
          null,
          null,
          null,
          null,
          null,
          null,
          null,
          null,
          null,
          null,
          null,
          null,
          null,
          null,
          null,
          null,
          null,
          null,
          null,
          null,
          null,
          null,
          null,
          null,
          null,
          null,
          null,
          null,
          null
         ],
         "type": "histogram"
        },
        {
         "histfunc": "count",
         "histnorm": "",
         "marker": {
          "color": "rgba(55, 128, 191, 1.0)",
          "line": {
           "color": "#4D5663",
           "width": 1.3
          }
         },
         "name": "Dead",
         "opacity": 0.8,
         "orientation": "v",
         "x": [
          null,
          null,
          null,
          null,
          null,
          null,
          null,
          null,
          null,
          null,
          null,
          null,
          null,
          null,
          null,
          null,
          null,
          null,
          null,
          null,
          null,
          null,
          null,
          null,
          null,
          null,
          null,
          null,
          null,
          null,
          null,
          null,
          null,
          null,
          null,
          null,
          null,
          null,
          null,
          null,
          null,
          null,
          null,
          null,
          null,
          null,
          null,
          null,
          null,
          null,
          null,
          null,
          null,
          null,
          null,
          null,
          null,
          null,
          null,
          null,
          null,
          null,
          null,
          null,
          null,
          null,
          null,
          null,
          null,
          null,
          null,
          null,
          null,
          null,
          null,
          null,
          null,
          null,
          null,
          null,
          null,
          null,
          null,
          null,
          null,
          null,
          null,
          null,
          null,
          null,
          null,
          null,
          null,
          null,
          null,
          null,
          null,
          null,
          null,
          null,
          null,
          null,
          null,
          null,
          null,
          null,
          null,
          null,
          null,
          null,
          null,
          null,
          null,
          null,
          null,
          null,
          null,
          null,
          null,
          null,
          null,
          null,
          null,
          null,
          null,
          null,
          null,
          null,
          null,
          null,
          null,
          null,
          null,
          null,
          null,
          null,
          null,
          null,
          null,
          null,
          null,
          null,
          null,
          null,
          null,
          null,
          null,
          null,
          null,
          null,
          null,
          null,
          null,
          null,
          null,
          null,
          null,
          null,
          null,
          null,
          null,
          null,
          null,
          null,
          null,
          null,
          null,
          null,
          null,
          null,
          null,
          null,
          null,
          null,
          null,
          null,
          null,
          null,
          null,
          null,
          null,
          null,
          null,
          null,
          null,
          null,
          null,
          null,
          null,
          null,
          null,
          null,
          null,
          null,
          null,
          null,
          null,
          null,
          null,
          null,
          null,
          null,
          null,
          null,
          null,
          null,
          null,
          null,
          null,
          null,
          null,
          null,
          null,
          null,
          null,
          null,
          null,
          null,
          null,
          null,
          null,
          null,
          null,
          null,
          null,
          null,
          null,
          null,
          null,
          null,
          null,
          null,
          null,
          null,
          null,
          null,
          null,
          null,
          null,
          null,
          null,
          null,
          null,
          null,
          null,
          null,
          null,
          null,
          null,
          null,
          null,
          null,
          null,
          null,
          null,
          null,
          null,
          null,
          null,
          null,
          null,
          null,
          null,
          null,
          null,
          null,
          null,
          null,
          null,
          null,
          null,
          null,
          null,
          null,
          null,
          null,
          null,
          null,
          null,
          null,
          null,
          null,
          null,
          null,
          null,
          null,
          null,
          null,
          null,
          null,
          null,
          null,
          null,
          null,
          null,
          null,
          null,
          null,
          null,
          null,
          null,
          null,
          null,
          null,
          null,
          null,
          null,
          null,
          null,
          null,
          null,
          null,
          null,
          null,
          null,
          null,
          null,
          null,
          null,
          null,
          null,
          null,
          null,
          null,
          null,
          null,
          null,
          null,
          null,
          null,
          null,
          null,
          null,
          null,
          null,
          null,
          null,
          null,
          null,
          null,
          null,
          null,
          3.0,
          9.0,
          6.0,
          2.0,
          8.0,
          0.0,
          7.0,
          8.0,
          9.0,
          7.0,
          6.0,
          8.0,
          0.0,
          3.0,
          8.0,
          3.0,
          4.0,
          3.0,
          5.0,
          0.0,
          7.0,
          2.0,
          2.0,
          8.0,
          3.0,
          9.0,
          1.0,
          8.0,
          9.0,
          4.0,
          5.0,
          1.0,
          0.0,
          1.0,
          4.0,
          7.0,
          3.0,
          1.0,
          6.0,
          4.0,
          0.0,
          2.0,
          1.0,
          7.0,
          8.0,
          9.0,
          7.0,
          5.0,
          1.0,
          9.0,
          7.0,
          7.0,
          7.0,
          1.0,
          0.0,
          8.0,
          9.0,
          3.0,
          6.0,
          8.0,
          8.0,
          4.0,
          2.0,
          9.0,
          8.0,
          8.0,
          5.0,
          1.0,
          6.0,
          1.0,
          0.0,
          0.0,
          9.0,
          2.0,
          3.0,
          7.0,
          2.0,
          4.0,
          6.0,
          4.0,
          9.0,
          7.0,
          8.0,
          9.0,
          1.0,
          4.0,
          0.0,
          5.0,
          2.0,
          3.0,
          1.0,
          8.0,
          6.0,
          4.0,
          1.0,
          5.0,
          6.0,
          0.0,
          2.0,
          0.0,
          6.0,
          3.0,
          9.0,
          6.0,
          0.0,
          9.0,
          7.0,
          6.0,
          9.0,
          7.0,
          2.0,
          0.0,
          5.0,
          9.0,
          0.0,
          3.0,
          8.0,
          1.0,
          3.0,
          6.0,
          0.0,
          0.0,
          0.0,
          7.0,
          5.0,
          8.0,
          8.0,
          4.0,
          9.0,
          1.0,
          6.0,
          7.0,
          0.0,
          9.0,
          0.0,
          7.0,
          9.0,
          9.0,
          3.0,
          6.0,
          9.0,
          6.0,
          2.0,
          5.0,
          3.0,
          8.0,
          1.0,
          3.0,
          6.0,
          1.0,
          7.0,
          6.0,
          4.0,
          1.0,
          4.0,
          4.0,
          0.0,
          1.0,
          2.0,
          0.0,
          1.0,
          3.0,
          7.0,
          6.0,
          8.0,
          7.0,
          5.0,
          1.0,
          9.0,
          9.0,
          5.0,
          5.0,
          9.0,
          2.0,
          9.0,
          5.0,
          3.0,
          7.0,
          6.0,
          9.0,
          7.0,
          7.0,
          7.0,
          5.0,
          8.0,
          8.0,
          0.0,
          8.0,
          8.0,
          3.0,
          1.0,
          5.0,
          0.0,
          0.0,
          1.0,
          6.0,
          8.0,
          2.0,
          4.0,
          3.0,
          8.0,
          0.0,
          7.0,
          5.0,
          3.0,
          7.0,
          8.0,
          5.0,
          5.0,
          6.0,
          6.0,
          5.0,
          6.0,
          2.0,
          5.0,
          1.0,
          8.0,
          0.0,
          7.0,
          6.0,
          7.0,
          0.0,
          1.0,
          9.0,
          9.0,
          1.0,
          9.0,
          6.0,
          3.0,
          8.0,
          5.0,
          0.0,
          7.0,
          0.0,
          8.0,
          2.0,
          0.0,
          9.0,
          9.0,
          8.0,
          8.0,
          4.0,
          6.0,
          7.0,
          1.0,
          9.0,
          6.0,
          4.0,
          7.0,
          6.0,
          1.0,
          8.0,
          9.0,
          6.0,
          7.0,
          4.0,
          7.0,
          8.0,
          2.0,
          6.0,
          7.0,
          9.0,
          4.0,
          8.0,
          0.0,
          2.0,
          1.0,
          3.0,
          3.0,
          7.0,
          7.0,
          4.0,
          4.0,
          5.0,
          1.0,
          2.0,
          9.0,
          8.0,
          5.0,
          6.0,
          1.0,
          9.0,
          6.0,
          5.0,
          4.0,
          6.0,
          6.0,
          2.0,
          5.0,
          4.0,
          1.0,
          8.0,
          0.0,
          6.0,
          1.0,
          1.0,
          2.0,
          3.0,
          4.0,
          9.0,
          5.0,
          3.0,
          4.0,
          0.0,
          1.0,
          5.0,
          8.0,
          6.0,
          8.0,
          7.0,
          1.0,
          3.0,
          1.0,
          9.0,
          8.0,
          4.0,
          9.0,
          8.0,
          8.0,
          0.0,
          1.0,
          9.0,
          3.0,
          9.0,
          4.0,
          0.0,
          1.0,
          6.0,
          5.0,
          8.0,
          7.0,
          7.0,
          3.0,
          0.0,
          8.0,
          6.0,
          7.0,
          5.0,
          3.0,
          9.0,
          8.0,
          5.0,
          9.0,
          9.0,
          4.0,
          8.0,
          8.0,
          1.0,
          3.0,
          8.0,
          1.0,
          4.0,
          2.0,
          1.0,
          6.0,
          2.0,
          1.0,
          0.0,
          1.0,
          8.0,
          4.0,
          7.0,
          0.0,
          1.0,
          8.0,
          5.0,
          8.0,
          8.0,
          8.0,
          7.0,
          9.0,
          9.0,
          8.0,
          7.0,
          1.0,
          4.0,
          1.0,
          8.0,
          4.0,
          4.0,
          5.0,
          8.0,
          7.0,
          7.0,
          5.0,
          7.0,
          0.0,
          4.0,
          9.0,
          9.0,
          8.0,
          7.0,
          8.0,
          0.0,
          8.0,
          2.0,
          8.0,
          2.0,
          8.0,
          8.0,
          4.0,
          4.0,
          0.0,
          1.0,
          8.0,
          2.0,
          6.0,
          6.0,
          1.0,
          2.0,
          4.0,
          6.0,
          8.0,
          7.0,
          0.0,
          7.0,
          1.0,
          0.0,
          4.0,
          0.0,
          9.0,
          8.0,
          8.0,
          1.0,
          5.0,
          6.0,
          8.0,
          2.0,
          7.0,
          1.0,
          4.0,
          8.0,
          6.0,
          5.0,
          2.0,
          6.0,
          7.0,
          4.0,
          7.0,
          8.0,
          2.0,
          6.0,
          6.0,
          6.0,
          9.0,
          1.0,
          6.0,
          4.0,
          6.0,
          4.0,
          1.0,
          8.0,
          8.0,
          3.0,
          9.0,
          1.0,
          1.0,
          5.0,
          7.0,
          7.0,
          8.0,
          8.0,
          4.0,
          8.0,
          8.0,
          9.0,
          7.0,
          5.0,
          8.0,
          9.0,
          2.0,
          7.0,
          8.0,
          0.0,
          1.0,
          7.0,
          9.0,
          4.0,
          5.0,
          1.0,
          9.0,
          9.0,
          9.0,
          3.0,
          2.0,
          6.0,
          0.0,
          3.0,
          8.0,
          4.0,
          1.0,
          7.0,
          6.0,
          7.0,
          5.0,
          7.0,
          6.0,
          1.0,
          4.0,
          4.0,
          7.0,
          8.0,
          5.0,
          9.0,
          0.0,
          1.0,
          7.0,
          3.0,
          9.0,
          9.0,
          0.0,
          1.0,
          7.0,
          0.0,
          6.0,
          9.0,
          9.0,
          0.0,
          1.0,
          6.0,
          1.0,
          0.0,
          8.0,
          6.0,
          7.0,
          7.0,
          1.0,
          6.0,
          0.0,
          8.0,
          4.0,
          0.0,
          6.0,
          3.0,
          7.0,
          8.0,
          0.0,
          7.0,
          2.0,
          8.0,
          8.0,
          8.0,
          2.0,
          4.0,
          9.0,
          9.0,
          5.0,
          1.0,
          9.0
         ],
         "type": "histogram"
        }
       ],
       "layout": {
        "barmode": "overlay",
        "legend": {
         "bgcolor": "#F5F6F9",
         "font": {
          "color": "#4D5663"
         }
        },
        "paper_bgcolor": "#F5F6F9",
        "plot_bgcolor": "#F5F6F9",
        "template": {
         "data": {
          "barpolar": [
           {
            "marker": {
             "line": {
              "color": "rgb(17,17,17)",
              "width": 0.5
             },
             "pattern": {
              "fillmode": "overlay",
              "size": 10,
              "solidity": 0.2
             }
            },
            "type": "barpolar"
           }
          ],
          "bar": [
           {
            "error_x": {
             "color": "#f2f5fa"
            },
            "error_y": {
             "color": "#f2f5fa"
            },
            "marker": {
             "line": {
              "color": "rgb(17,17,17)",
              "width": 0.5
             },
             "pattern": {
              "fillmode": "overlay",
              "size": 10,
              "solidity": 0.2
             }
            },
            "type": "bar"
           }
          ],
          "carpet": [
           {
            "aaxis": {
             "endlinecolor": "#A2B1C6",
             "gridcolor": "#506784",
             "linecolor": "#506784",
             "minorgridcolor": "#506784",
             "startlinecolor": "#A2B1C6"
            },
            "baxis": {
             "endlinecolor": "#A2B1C6",
             "gridcolor": "#506784",
             "linecolor": "#506784",
             "minorgridcolor": "#506784",
             "startlinecolor": "#A2B1C6"
            },
            "type": "carpet"
           }
          ],
          "choropleth": [
           {
            "colorbar": {
             "outlinewidth": 0,
             "ticks": ""
            },
            "type": "choropleth"
           }
          ],
          "contourcarpet": [
           {
            "colorbar": {
             "outlinewidth": 0,
             "ticks": ""
            },
            "type": "contourcarpet"
           }
          ],
          "contour": [
           {
            "colorbar": {
             "outlinewidth": 0,
             "ticks": ""
            },
            "colorscale": [
             [
              0.0,
              "#0d0887"
             ],
             [
              0.1111111111111111,
              "#46039f"
             ],
             [
              0.2222222222222222,
              "#7201a8"
             ],
             [
              0.3333333333333333,
              "#9c179e"
             ],
             [
              0.4444444444444444,
              "#bd3786"
             ],
             [
              0.5555555555555556,
              "#d8576b"
             ],
             [
              0.6666666666666666,
              "#ed7953"
             ],
             [
              0.7777777777777778,
              "#fb9f3a"
             ],
             [
              0.8888888888888888,
              "#fdca26"
             ],
             [
              1.0,
              "#f0f921"
             ]
            ],
            "type": "contour"
           }
          ],
          "heatmapgl": [
           {
            "colorbar": {
             "outlinewidth": 0,
             "ticks": ""
            },
            "colorscale": [
             [
              0.0,
              "#0d0887"
             ],
             [
              0.1111111111111111,
              "#46039f"
             ],
             [
              0.2222222222222222,
              "#7201a8"
             ],
             [
              0.3333333333333333,
              "#9c179e"
             ],
             [
              0.4444444444444444,
              "#bd3786"
             ],
             [
              0.5555555555555556,
              "#d8576b"
             ],
             [
              0.6666666666666666,
              "#ed7953"
             ],
             [
              0.7777777777777778,
              "#fb9f3a"
             ],
             [
              0.8888888888888888,
              "#fdca26"
             ],
             [
              1.0,
              "#f0f921"
             ]
            ],
            "type": "heatmapgl"
           }
          ],
          "heatmap": [
           {
            "colorbar": {
             "outlinewidth": 0,
             "ticks": ""
            },
            "colorscale": [
             [
              0.0,
              "#0d0887"
             ],
             [
              0.1111111111111111,
              "#46039f"
             ],
             [
              0.2222222222222222,
              "#7201a8"
             ],
             [
              0.3333333333333333,
              "#9c179e"
             ],
             [
              0.4444444444444444,
              "#bd3786"
             ],
             [
              0.5555555555555556,
              "#d8576b"
             ],
             [
              0.6666666666666666,
              "#ed7953"
             ],
             [
              0.7777777777777778,
              "#fb9f3a"
             ],
             [
              0.8888888888888888,
              "#fdca26"
             ],
             [
              1.0,
              "#f0f921"
             ]
            ],
            "type": "heatmap"
           }
          ],
          "histogram2dcontour": [
           {
            "colorbar": {
             "outlinewidth": 0,
             "ticks": ""
            },
            "colorscale": [
             [
              0.0,
              "#0d0887"
             ],
             [
              0.1111111111111111,
              "#46039f"
             ],
             [
              0.2222222222222222,
              "#7201a8"
             ],
             [
              0.3333333333333333,
              "#9c179e"
             ],
             [
              0.4444444444444444,
              "#bd3786"
             ],
             [
              0.5555555555555556,
              "#d8576b"
             ],
             [
              0.6666666666666666,
              "#ed7953"
             ],
             [
              0.7777777777777778,
              "#fb9f3a"
             ],
             [
              0.8888888888888888,
              "#fdca26"
             ],
             [
              1.0,
              "#f0f921"
             ]
            ],
            "type": "histogram2dcontour"
           }
          ],
          "histogram2d": [
           {
            "colorbar": {
             "outlinewidth": 0,
             "ticks": ""
            },
            "colorscale": [
             [
              0.0,
              "#0d0887"
             ],
             [
              0.1111111111111111,
              "#46039f"
             ],
             [
              0.2222222222222222,
              "#7201a8"
             ],
             [
              0.3333333333333333,
              "#9c179e"
             ],
             [
              0.4444444444444444,
              "#bd3786"
             ],
             [
              0.5555555555555556,
              "#d8576b"
             ],
             [
              0.6666666666666666,
              "#ed7953"
             ],
             [
              0.7777777777777778,
              "#fb9f3a"
             ],
             [
              0.8888888888888888,
              "#fdca26"
             ],
             [
              1.0,
              "#f0f921"
             ]
            ],
            "type": "histogram2d"
           }
          ],
          "histogram": [
           {
            "marker": {
             "pattern": {
              "fillmode": "overlay",
              "size": 10,
              "solidity": 0.2
             }
            },
            "type": "histogram"
           }
          ],
          "mesh3d": [
           {
            "colorbar": {
             "outlinewidth": 0,
             "ticks": ""
            },
            "type": "mesh3d"
           }
          ],
          "parcoords": [
           {
            "line": {
             "colorbar": {
              "outlinewidth": 0,
              "ticks": ""
             }
            },
            "type": "parcoords"
           }
          ],
          "pie": [
           {
            "automargin": true,
            "type": "pie"
           }
          ],
          "scatter3d": [
           {
            "line": {
             "colorbar": {
              "outlinewidth": 0,
              "ticks": ""
             }
            },
            "marker": {
             "colorbar": {
              "outlinewidth": 0,
              "ticks": ""
             }
            },
            "type": "scatter3d"
           }
          ],
          "scattercarpet": [
           {
            "marker": {
             "colorbar": {
              "outlinewidth": 0,
              "ticks": ""
             }
            },
            "type": "scattercarpet"
           }
          ],
          "scattergeo": [
           {
            "marker": {
             "colorbar": {
              "outlinewidth": 0,
              "ticks": ""
             }
            },
            "type": "scattergeo"
           }
          ],
          "scattergl": [
           {
            "marker": {
             "line": {
              "color": "#283442"
             }
            },
            "type": "scattergl"
           }
          ],
          "scattermapbox": [
           {
            "marker": {
             "colorbar": {
              "outlinewidth": 0,
              "ticks": ""
             }
            },
            "type": "scattermapbox"
           }
          ],
          "scatterpolargl": [
           {
            "marker": {
             "colorbar": {
              "outlinewidth": 0,
              "ticks": ""
             }
            },
            "type": "scatterpolargl"
           }
          ],
          "scatterpolar": [
           {
            "marker": {
             "colorbar": {
              "outlinewidth": 0,
              "ticks": ""
             }
            },
            "type": "scatterpolar"
           }
          ],
          "scatter": [
           {
            "marker": {
             "line": {
              "color": "#283442"
             }
            },
            "type": "scatter"
           }
          ],
          "scatterternary": [
           {
            "marker": {
             "colorbar": {
              "outlinewidth": 0,
              "ticks": ""
             }
            },
            "type": "scatterternary"
           }
          ],
          "surface": [
           {
            "colorbar": {
             "outlinewidth": 0,
             "ticks": ""
            },
            "colorscale": [
             [
              0.0,
              "#0d0887"
             ],
             [
              0.1111111111111111,
              "#46039f"
             ],
             [
              0.2222222222222222,
              "#7201a8"
             ],
             [
              0.3333333333333333,
              "#9c179e"
             ],
             [
              0.4444444444444444,
              "#bd3786"
             ],
             [
              0.5555555555555556,
              "#d8576b"
             ],
             [
              0.6666666666666666,
              "#ed7953"
             ],
             [
              0.7777777777777778,
              "#fb9f3a"
             ],
             [
              0.8888888888888888,
              "#fdca26"
             ],
             [
              1.0,
              "#f0f921"
             ]
            ],
            "type": "surface"
           }
          ],
          "table": [
           {
            "cells": {
             "fill": {
              "color": "#506784"
             },
             "line": {
              "color": "rgb(17,17,17)"
             }
            },
            "header": {
             "fill": {
              "color": "#2a3f5f"
             },
             "line": {
              "color": "rgb(17,17,17)"
             }
            },
            "type": "table"
           }
          ]
         },
         "layout": {
          "annotationdefaults": {
           "arrowcolor": "#f2f5fa",
           "arrowhead": 0,
           "arrowwidth": 1
          },
          "autotypenumbers": "strict",
          "coloraxis": {
           "colorbar": {
            "outlinewidth": 0,
            "ticks": ""
           }
          },
          "colorscale": {
           "diverging": [
            [
             0,
             "#8e0152"
            ],
            [
             0.1,
             "#c51b7d"
            ],
            [
             0.2,
             "#de77ae"
            ],
            [
             0.3,
             "#f1b6da"
            ],
            [
             0.4,
             "#fde0ef"
            ],
            [
             0.5,
             "#f7f7f7"
            ],
            [
             0.6,
             "#e6f5d0"
            ],
            [
             0.7,
             "#b8e186"
            ],
            [
             0.8,
             "#7fbc41"
            ],
            [
             0.9,
             "#4d9221"
            ],
            [
             1,
             "#276419"
            ]
           ],
           "sequential": [
            [
             0.0,
             "#0d0887"
            ],
            [
             0.1111111111111111,
             "#46039f"
            ],
            [
             0.2222222222222222,
             "#7201a8"
            ],
            [
             0.3333333333333333,
             "#9c179e"
            ],
            [
             0.4444444444444444,
             "#bd3786"
            ],
            [
             0.5555555555555556,
             "#d8576b"
            ],
            [
             0.6666666666666666,
             "#ed7953"
            ],
            [
             0.7777777777777778,
             "#fb9f3a"
            ],
            [
             0.8888888888888888,
             "#fdca26"
            ],
            [
             1.0,
             "#f0f921"
            ]
           ],
           "sequentialminus": [
            [
             0.0,
             "#0d0887"
            ],
            [
             0.1111111111111111,
             "#46039f"
            ],
            [
             0.2222222222222222,
             "#7201a8"
            ],
            [
             0.3333333333333333,
             "#9c179e"
            ],
            [
             0.4444444444444444,
             "#bd3786"
            ],
            [
             0.5555555555555556,
             "#d8576b"
            ],
            [
             0.6666666666666666,
             "#ed7953"
            ],
            [
             0.7777777777777778,
             "#fb9f3a"
            ],
            [
             0.8888888888888888,
             "#fdca26"
            ],
            [
             1.0,
             "#f0f921"
            ]
           ]
          },
          "colorway": [
           "#636efa",
           "#EF553B",
           "#00cc96",
           "#ab63fa",
           "#FFA15A",
           "#19d3f3",
           "#FF6692",
           "#B6E880",
           "#FF97FF",
           "#FECB52"
          ],
          "font": {
           "color": "#f2f5fa"
          },
          "geo": {
           "bgcolor": "rgb(17,17,17)",
           "lakecolor": "rgb(17,17,17)",
           "landcolor": "rgb(17,17,17)",
           "showlakes": true,
           "showland": true,
           "subunitcolor": "#506784"
          },
          "hoverlabel": {
           "align": "left"
          },
          "hovermode": "closest",
          "mapbox": {
           "style": "dark"
          },
          "paper_bgcolor": "rgb(17,17,17)",
          "plot_bgcolor": "rgb(17,17,17)",
          "polar": {
           "angularaxis": {
            "gridcolor": "#506784",
            "linecolor": "#506784",
            "ticks": ""
           },
           "bgcolor": "rgb(17,17,17)",
           "radialaxis": {
            "gridcolor": "#506784",
            "linecolor": "#506784",
            "ticks": ""
           }
          },
          "scene": {
           "xaxis": {
            "backgroundcolor": "rgb(17,17,17)",
            "gridcolor": "#506784",
            "gridwidth": 2,
            "linecolor": "#506784",
            "showbackground": true,
            "ticks": "",
            "zerolinecolor": "#C8D4E3"
           },
           "yaxis": {
            "backgroundcolor": "rgb(17,17,17)",
            "gridcolor": "#506784",
            "gridwidth": 2,
            "linecolor": "#506784",
            "showbackground": true,
            "ticks": "",
            "zerolinecolor": "#C8D4E3"
           },
           "zaxis": {
            "backgroundcolor": "rgb(17,17,17)",
            "gridcolor": "#506784",
            "gridwidth": 2,
            "linecolor": "#506784",
            "showbackground": true,
            "ticks": "",
            "zerolinecolor": "#C8D4E3"
           }
          },
          "shapedefaults": {
           "line": {
            "color": "#f2f5fa"
           }
          },
          "sliderdefaults": {
           "bgcolor": "#C8D4E3",
           "bordercolor": "rgb(17,17,17)",
           "borderwidth": 1,
           "tickwidth": 0
          },
          "ternary": {
           "aaxis": {
            "gridcolor": "#506784",
            "linecolor": "#506784",
            "ticks": ""
           },
           "baxis": {
            "gridcolor": "#506784",
            "linecolor": "#506784",
            "ticks": ""
           },
           "bgcolor": "rgb(17,17,17)",
           "caxis": {
            "gridcolor": "#506784",
            "linecolor": "#506784",
            "ticks": ""
           }
          },
          "title": {
           "x": 0.05
          },
          "updatemenudefaults": {
           "bgcolor": "#506784",
           "borderwidth": 0
          },
          "xaxis": {
           "automargin": true,
           "gridcolor": "#283442",
           "linecolor": "#506784",
           "ticks": "",
           "title": {
            "standoff": 15
           },
           "zerolinecolor": "#283442",
           "zerolinewidth": 2
          },
          "yaxis": {
           "automargin": true,
           "gridcolor": "#283442",
           "linecolor": "#506784",
           "ticks": "",
           "title": {
            "standoff": 15
           },
           "zerolinecolor": "#283442",
           "zerolinewidth": 2
          }
         }
        },
        "title": {
         "font": {
          "color": "#4D5663"
         }
        },
        "xaxis": {
         "gridcolor": "#E1E5ED",
         "showgrid": true,
         "tickfont": {
          "color": "#4D5663"
         },
         "title": {
          "font": {
           "color": "#4D5663"
          },
          "text": ""
         },
         "zerolinecolor": "#E1E5ED"
        },
        "yaxis": {
         "gridcolor": "#E1E5ED",
         "showgrid": true,
         "tickfont": {
          "color": "#4D5663"
         },
         "title": {
          "font": {
           "color": "#4D5663"
          },
          "text": ""
         },
         "zerolinecolor": "#E1E5ED"
        }
       },
       "config": {
        "showLink": true,
        "linkText": "Export to plot.ly",
        "plotlyServerURL": "https://plot.ly"
       }
      },
      "text/html": "<div>                            <div id=\"bf29e594-77a6-4c3d-a8ee-b7b9b5ce5c39\" class=\"plotly-graph-div\" style=\"height:525px; width:100%;\"></div>            <script type=\"text/javascript\">                require([\"plotly\"], function(Plotly) {                    window.PLOTLYENV=window.PLOTLYENV || {};\n                    window.PLOTLYENV.BASE_URL='https://plot.ly';                                    if (document.getElementById(\"bf29e594-77a6-4c3d-a8ee-b7b9b5ce5c39\")) {                    Plotly.newPlot(                        \"bf29e594-77a6-4c3d-a8ee-b7b9b5ce5c39\",                        [{\"histfunc\":\"count\",\"histnorm\":\"\",\"marker\":{\"color\":\"rgba(255, 153, 51, 1.0)\",\"line\":{\"color\":\"#4D5663\",\"width\":1.3}},\"name\":\"Survived\",\"opacity\":0.8,\"orientation\":\"v\",\"x\":[3.0,9.0,5.0,7.0,6.0,2.0,5.0,6.0,6.0,0.0,6.0,7.0,5.0,7.0,7.0,3.0,7.0,1.0,0.0,0.0,7.0,2.0,3.0,1.0,3.0,4.0,4.0,5.0,1.0,4.0,9.0,0.0,6.0,8.0,7.0,7.0,2.0,9.0,3.0,3.0,6.0,7.0,6.0,9.0,4.0,0.0,2.0,1.0,5.0,2.0,7.0,9.0,8.0,5.0,4.0,4.0,8.0,5.0,7.0,5.0,6.0,9.0,5.0,6.0,8.0,5.0,3.0,3.0,9.0,1.0,1.0,9.0,5.0,2.0,4.0,9.0,2.0,9.0,3.0,0.0,4.0,7.0,4.0,9.0,6.0,2.0,0.0,3.0,5.0,3.0,5.0,7.0,7.0,3.0,3.0,0.0,6.0,9.0,2.0,1.0,2.0,7.0,6.0,9.0,3.0,2.0,3.0,3.0,2.0,9.0,5.0,5.0,2.0,3.0,3.0,2.0,3.0,7.0,6.0,4.0,2.0,6.0,6.0,3.0,4.0,8.0,5.0,9.0,3.0,2.0,2.0,5.0,3.0,6.0,4.0,9.0,4.0,5.0,7.0,7.0,5.0,0.0,2.0,3.0,2.0,3.0,1.0,3.0,0.0,5.0,4.0,0.0,5.0,8.0,4.0,2.0,6.0,0.0,4.0,3.0,0.0,4.0,6.0,0.0,6.0,9.0,5.0,9.0,1.0,5.0,4.0,2.0,6.0,5.0,4.0,6.0,5.0,1.0,5.0,2.0,8.0,2.0,2.0,3.0,1.0,4.0,0.0,9.0,1.0,2.0,3.0,4.0,4.0,5.0,4.0,5.0,0.0,9.0,2.0,3.0,4.0,5.0,2.0,5.0,2.0,4.0,1.0,2.0,3.0,2.0,1.0,1.0,1.0,0.0,4.0,2.0,0.0,7.0,2.0,5.0,7.0,8.0,0.0,2.0,2.0,2.0,6.0,2.0,0.0,6.0,2.0,5.0,2.0,4.0,6.0,3.0,6.0,5.0,5.0,0.0,3.0,9.0,5.0,5.0,2.0,0.0,2.0,4.0,2.0,6.0,3.0,0.0,1.0,3.0,2.0,0.0,6.0,7.0,3.0,0.0,3.0,4.0,6.0,1.0,3.0,3.0,3.0,2.0,8.0,0.0,4.0,3.0,2.0,5.0,3.0,5.0,1.0,3.0,3.0,3.0,4.0,6.0,5.0,4.0,4.0,3.0,3.0,2.0,3.0,0.0,6.0,4.0,9.0,5.0,6.0,5.0,1.0,5.0,2.0,4.0,8.0,3.0,1.0,2.0,9.0,0.0,2.0,8.0,4.0,5.0,0.0,7.0,5.0,2.0,6.0,9.0,0.0,9.0,5.0,1.0,4.0,3.0,0.0,2.0,5.0,2.0,3.0,9.0,4.0,5.0,1.0,2.0,6.0,0.0,7.0,2.0,1.0,1.0,2.0,5.0,5.0,5.0,null,null,null,null,null,null,null,null,null,null,null,null,null,null,null,null,null,null,null,null,null,null,null,null,null,null,null,null,null,null,null,null,null,null,null,null,null,null,null,null,null,null,null,null,null,null,null,null,null,null,null,null,null,null,null,null,null,null,null,null,null,null,null,null,null,null,null,null,null,null,null,null,null,null,null,null,null,null,null,null,null,null,null,null,null,null,null,null,null,null,null,null,null,null,null,null,null,null,null,null,null,null,null,null,null,null,null,null,null,null,null,null,null,null,null,null,null,null,null,null,null,null,null,null,null,null,null,null,null,null,null,null,null,null,null,null,null,null,null,null,null,null,null,null,null,null,null,null,null,null,null,null,null,null,null,null,null,null,null,null,null,null,null,null,null,null,null,null,null,null,null,null,null,null,null,null,null,null,null,null,null,null,null,null,null,null,null,null,null,null,null,null,null,null,null,null,null,null,null,null,null,null,null,null,null,null,null,null,null,null,null,null,null,null,null,null,null,null,null,null,null,null,null,null,null,null,null,null,null,null,null,null,null,null,null,null,null,null,null,null,null,null,null,null,null,null,null,null,null,null,null,null,null,null,null,null,null,null,null,null,null,null,null,null,null,null,null,null,null,null,null,null,null,null,null,null,null,null,null,null,null,null,null,null,null,null,null,null,null,null,null,null,null,null,null,null,null,null,null,null,null,null,null,null,null,null,null,null,null,null,null,null,null,null,null,null,null,null,null,null,null,null,null,null,null,null,null,null,null,null,null,null,null,null,null,null,null,null,null,null,null,null,null,null,null,null,null,null,null,null,null,null,null,null,null,null,null,null,null,null,null,null,null,null,null,null,null,null,null,null,null,null,null,null,null,null,null,null,null,null,null,null,null,null,null,null,null,null,null,null,null,null,null,null,null,null,null,null,null,null,null,null,null,null,null,null,null,null,null,null,null,null,null,null,null,null,null,null,null,null,null,null,null,null,null,null,null,null,null,null,null,null,null,null,null,null,null,null,null,null,null,null,null,null,null,null,null,null,null,null,null,null,null,null,null,null,null,null,null,null,null,null,null,null,null,null,null,null,null,null,null,null,null,null,null,null,null,null,null,null,null,null,null,null,null,null,null,null,null,null,null,null,null,null,null,null,null,null,null,null,null,null,null,null,null,null,null,null,null,null,null,null,null,null,null,null,null,null,null,null,null,null,null,null,null,null,null,null,null,null,null,null,null,null,null,null,null,null,null,null,null,null,null,null,null,null,null,null,null],\"type\":\"histogram\"},{\"histfunc\":\"count\",\"histnorm\":\"\",\"marker\":{\"color\":\"rgba(55, 128, 191, 1.0)\",\"line\":{\"color\":\"#4D5663\",\"width\":1.3}},\"name\":\"Dead\",\"opacity\":0.8,\"orientation\":\"v\",\"x\":[null,null,null,null,null,null,null,null,null,null,null,null,null,null,null,null,null,null,null,null,null,null,null,null,null,null,null,null,null,null,null,null,null,null,null,null,null,null,null,null,null,null,null,null,null,null,null,null,null,null,null,null,null,null,null,null,null,null,null,null,null,null,null,null,null,null,null,null,null,null,null,null,null,null,null,null,null,null,null,null,null,null,null,null,null,null,null,null,null,null,null,null,null,null,null,null,null,null,null,null,null,null,null,null,null,null,null,null,null,null,null,null,null,null,null,null,null,null,null,null,null,null,null,null,null,null,null,null,null,null,null,null,null,null,null,null,null,null,null,null,null,null,null,null,null,null,null,null,null,null,null,null,null,null,null,null,null,null,null,null,null,null,null,null,null,null,null,null,null,null,null,null,null,null,null,null,null,null,null,null,null,null,null,null,null,null,null,null,null,null,null,null,null,null,null,null,null,null,null,null,null,null,null,null,null,null,null,null,null,null,null,null,null,null,null,null,null,null,null,null,null,null,null,null,null,null,null,null,null,null,null,null,null,null,null,null,null,null,null,null,null,null,null,null,null,null,null,null,null,null,null,null,null,null,null,null,null,null,null,null,null,null,null,null,null,null,null,null,null,null,null,null,null,null,null,null,null,null,null,null,null,null,null,null,null,null,null,null,null,null,null,null,null,null,null,null,null,null,null,null,null,null,null,null,null,null,null,null,null,null,null,null,null,null,null,null,null,null,null,null,null,null,null,null,null,null,null,null,null,null,null,null,null,null,null,null,null,null,null,null,null,null,3.0,9.0,6.0,2.0,8.0,0.0,7.0,8.0,9.0,7.0,6.0,8.0,0.0,3.0,8.0,3.0,4.0,3.0,5.0,0.0,7.0,2.0,2.0,8.0,3.0,9.0,1.0,8.0,9.0,4.0,5.0,1.0,0.0,1.0,4.0,7.0,3.0,1.0,6.0,4.0,0.0,2.0,1.0,7.0,8.0,9.0,7.0,5.0,1.0,9.0,7.0,7.0,7.0,1.0,0.0,8.0,9.0,3.0,6.0,8.0,8.0,4.0,2.0,9.0,8.0,8.0,5.0,1.0,6.0,1.0,0.0,0.0,9.0,2.0,3.0,7.0,2.0,4.0,6.0,4.0,9.0,7.0,8.0,9.0,1.0,4.0,0.0,5.0,2.0,3.0,1.0,8.0,6.0,4.0,1.0,5.0,6.0,0.0,2.0,0.0,6.0,3.0,9.0,6.0,0.0,9.0,7.0,6.0,9.0,7.0,2.0,0.0,5.0,9.0,0.0,3.0,8.0,1.0,3.0,6.0,0.0,0.0,0.0,7.0,5.0,8.0,8.0,4.0,9.0,1.0,6.0,7.0,0.0,9.0,0.0,7.0,9.0,9.0,3.0,6.0,9.0,6.0,2.0,5.0,3.0,8.0,1.0,3.0,6.0,1.0,7.0,6.0,4.0,1.0,4.0,4.0,0.0,1.0,2.0,0.0,1.0,3.0,7.0,6.0,8.0,7.0,5.0,1.0,9.0,9.0,5.0,5.0,9.0,2.0,9.0,5.0,3.0,7.0,6.0,9.0,7.0,7.0,7.0,5.0,8.0,8.0,0.0,8.0,8.0,3.0,1.0,5.0,0.0,0.0,1.0,6.0,8.0,2.0,4.0,3.0,8.0,0.0,7.0,5.0,3.0,7.0,8.0,5.0,5.0,6.0,6.0,5.0,6.0,2.0,5.0,1.0,8.0,0.0,7.0,6.0,7.0,0.0,1.0,9.0,9.0,1.0,9.0,6.0,3.0,8.0,5.0,0.0,7.0,0.0,8.0,2.0,0.0,9.0,9.0,8.0,8.0,4.0,6.0,7.0,1.0,9.0,6.0,4.0,7.0,6.0,1.0,8.0,9.0,6.0,7.0,4.0,7.0,8.0,2.0,6.0,7.0,9.0,4.0,8.0,0.0,2.0,1.0,3.0,3.0,7.0,7.0,4.0,4.0,5.0,1.0,2.0,9.0,8.0,5.0,6.0,1.0,9.0,6.0,5.0,4.0,6.0,6.0,2.0,5.0,4.0,1.0,8.0,0.0,6.0,1.0,1.0,2.0,3.0,4.0,9.0,5.0,3.0,4.0,0.0,1.0,5.0,8.0,6.0,8.0,7.0,1.0,3.0,1.0,9.0,8.0,4.0,9.0,8.0,8.0,0.0,1.0,9.0,3.0,9.0,4.0,0.0,1.0,6.0,5.0,8.0,7.0,7.0,3.0,0.0,8.0,6.0,7.0,5.0,3.0,9.0,8.0,5.0,9.0,9.0,4.0,8.0,8.0,1.0,3.0,8.0,1.0,4.0,2.0,1.0,6.0,2.0,1.0,0.0,1.0,8.0,4.0,7.0,0.0,1.0,8.0,5.0,8.0,8.0,8.0,7.0,9.0,9.0,8.0,7.0,1.0,4.0,1.0,8.0,4.0,4.0,5.0,8.0,7.0,7.0,5.0,7.0,0.0,4.0,9.0,9.0,8.0,7.0,8.0,0.0,8.0,2.0,8.0,2.0,8.0,8.0,4.0,4.0,0.0,1.0,8.0,2.0,6.0,6.0,1.0,2.0,4.0,6.0,8.0,7.0,0.0,7.0,1.0,0.0,4.0,0.0,9.0,8.0,8.0,1.0,5.0,6.0,8.0,2.0,7.0,1.0,4.0,8.0,6.0,5.0,2.0,6.0,7.0,4.0,7.0,8.0,2.0,6.0,6.0,6.0,9.0,1.0,6.0,4.0,6.0,4.0,1.0,8.0,8.0,3.0,9.0,1.0,1.0,5.0,7.0,7.0,8.0,8.0,4.0,8.0,8.0,9.0,7.0,5.0,8.0,9.0,2.0,7.0,8.0,0.0,1.0,7.0,9.0,4.0,5.0,1.0,9.0,9.0,9.0,3.0,2.0,6.0,0.0,3.0,8.0,4.0,1.0,7.0,6.0,7.0,5.0,7.0,6.0,1.0,4.0,4.0,7.0,8.0,5.0,9.0,0.0,1.0,7.0,3.0,9.0,9.0,0.0,1.0,7.0,0.0,6.0,9.0,9.0,0.0,1.0,6.0,1.0,0.0,8.0,6.0,7.0,7.0,1.0,6.0,0.0,8.0,4.0,0.0,6.0,3.0,7.0,8.0,0.0,7.0,2.0,8.0,8.0,8.0,2.0,4.0,9.0,9.0,5.0,1.0,9.0],\"type\":\"histogram\"}],                        {\"barmode\":\"overlay\",\"legend\":{\"bgcolor\":\"#F5F6F9\",\"font\":{\"color\":\"#4D5663\"}},\"paper_bgcolor\":\"#F5F6F9\",\"plot_bgcolor\":\"#F5F6F9\",\"template\":{\"data\":{\"barpolar\":[{\"marker\":{\"line\":{\"color\":\"rgb(17,17,17)\",\"width\":0.5},\"pattern\":{\"fillmode\":\"overlay\",\"size\":10,\"solidity\":0.2}},\"type\":\"barpolar\"}],\"bar\":[{\"error_x\":{\"color\":\"#f2f5fa\"},\"error_y\":{\"color\":\"#f2f5fa\"},\"marker\":{\"line\":{\"color\":\"rgb(17,17,17)\",\"width\":0.5},\"pattern\":{\"fillmode\":\"overlay\",\"size\":10,\"solidity\":0.2}},\"type\":\"bar\"}],\"carpet\":[{\"aaxis\":{\"endlinecolor\":\"#A2B1C6\",\"gridcolor\":\"#506784\",\"linecolor\":\"#506784\",\"minorgridcolor\":\"#506784\",\"startlinecolor\":\"#A2B1C6\"},\"baxis\":{\"endlinecolor\":\"#A2B1C6\",\"gridcolor\":\"#506784\",\"linecolor\":\"#506784\",\"minorgridcolor\":\"#506784\",\"startlinecolor\":\"#A2B1C6\"},\"type\":\"carpet\"}],\"choropleth\":[{\"colorbar\":{\"outlinewidth\":0,\"ticks\":\"\"},\"type\":\"choropleth\"}],\"contourcarpet\":[{\"colorbar\":{\"outlinewidth\":0,\"ticks\":\"\"},\"type\":\"contourcarpet\"}],\"contour\":[{\"colorbar\":{\"outlinewidth\":0,\"ticks\":\"\"},\"colorscale\":[[0.0,\"#0d0887\"],[0.1111111111111111,\"#46039f\"],[0.2222222222222222,\"#7201a8\"],[0.3333333333333333,\"#9c179e\"],[0.4444444444444444,\"#bd3786\"],[0.5555555555555556,\"#d8576b\"],[0.6666666666666666,\"#ed7953\"],[0.7777777777777778,\"#fb9f3a\"],[0.8888888888888888,\"#fdca26\"],[1.0,\"#f0f921\"]],\"type\":\"contour\"}],\"heatmapgl\":[{\"colorbar\":{\"outlinewidth\":0,\"ticks\":\"\"},\"colorscale\":[[0.0,\"#0d0887\"],[0.1111111111111111,\"#46039f\"],[0.2222222222222222,\"#7201a8\"],[0.3333333333333333,\"#9c179e\"],[0.4444444444444444,\"#bd3786\"],[0.5555555555555556,\"#d8576b\"],[0.6666666666666666,\"#ed7953\"],[0.7777777777777778,\"#fb9f3a\"],[0.8888888888888888,\"#fdca26\"],[1.0,\"#f0f921\"]],\"type\":\"heatmapgl\"}],\"heatmap\":[{\"colorbar\":{\"outlinewidth\":0,\"ticks\":\"\"},\"colorscale\":[[0.0,\"#0d0887\"],[0.1111111111111111,\"#46039f\"],[0.2222222222222222,\"#7201a8\"],[0.3333333333333333,\"#9c179e\"],[0.4444444444444444,\"#bd3786\"],[0.5555555555555556,\"#d8576b\"],[0.6666666666666666,\"#ed7953\"],[0.7777777777777778,\"#fb9f3a\"],[0.8888888888888888,\"#fdca26\"],[1.0,\"#f0f921\"]],\"type\":\"heatmap\"}],\"histogram2dcontour\":[{\"colorbar\":{\"outlinewidth\":0,\"ticks\":\"\"},\"colorscale\":[[0.0,\"#0d0887\"],[0.1111111111111111,\"#46039f\"],[0.2222222222222222,\"#7201a8\"],[0.3333333333333333,\"#9c179e\"],[0.4444444444444444,\"#bd3786\"],[0.5555555555555556,\"#d8576b\"],[0.6666666666666666,\"#ed7953\"],[0.7777777777777778,\"#fb9f3a\"],[0.8888888888888888,\"#fdca26\"],[1.0,\"#f0f921\"]],\"type\":\"histogram2dcontour\"}],\"histogram2d\":[{\"colorbar\":{\"outlinewidth\":0,\"ticks\":\"\"},\"colorscale\":[[0.0,\"#0d0887\"],[0.1111111111111111,\"#46039f\"],[0.2222222222222222,\"#7201a8\"],[0.3333333333333333,\"#9c179e\"],[0.4444444444444444,\"#bd3786\"],[0.5555555555555556,\"#d8576b\"],[0.6666666666666666,\"#ed7953\"],[0.7777777777777778,\"#fb9f3a\"],[0.8888888888888888,\"#fdca26\"],[1.0,\"#f0f921\"]],\"type\":\"histogram2d\"}],\"histogram\":[{\"marker\":{\"pattern\":{\"fillmode\":\"overlay\",\"size\":10,\"solidity\":0.2}},\"type\":\"histogram\"}],\"mesh3d\":[{\"colorbar\":{\"outlinewidth\":0,\"ticks\":\"\"},\"type\":\"mesh3d\"}],\"parcoords\":[{\"line\":{\"colorbar\":{\"outlinewidth\":0,\"ticks\":\"\"}},\"type\":\"parcoords\"}],\"pie\":[{\"automargin\":true,\"type\":\"pie\"}],\"scatter3d\":[{\"line\":{\"colorbar\":{\"outlinewidth\":0,\"ticks\":\"\"}},\"marker\":{\"colorbar\":{\"outlinewidth\":0,\"ticks\":\"\"}},\"type\":\"scatter3d\"}],\"scattercarpet\":[{\"marker\":{\"colorbar\":{\"outlinewidth\":0,\"ticks\":\"\"}},\"type\":\"scattercarpet\"}],\"scattergeo\":[{\"marker\":{\"colorbar\":{\"outlinewidth\":0,\"ticks\":\"\"}},\"type\":\"scattergeo\"}],\"scattergl\":[{\"marker\":{\"line\":{\"color\":\"#283442\"}},\"type\":\"scattergl\"}],\"scattermapbox\":[{\"marker\":{\"colorbar\":{\"outlinewidth\":0,\"ticks\":\"\"}},\"type\":\"scattermapbox\"}],\"scatterpolargl\":[{\"marker\":{\"colorbar\":{\"outlinewidth\":0,\"ticks\":\"\"}},\"type\":\"scatterpolargl\"}],\"scatterpolar\":[{\"marker\":{\"colorbar\":{\"outlinewidth\":0,\"ticks\":\"\"}},\"type\":\"scatterpolar\"}],\"scatter\":[{\"marker\":{\"line\":{\"color\":\"#283442\"}},\"type\":\"scatter\"}],\"scatterternary\":[{\"marker\":{\"colorbar\":{\"outlinewidth\":0,\"ticks\":\"\"}},\"type\":\"scatterternary\"}],\"surface\":[{\"colorbar\":{\"outlinewidth\":0,\"ticks\":\"\"},\"colorscale\":[[0.0,\"#0d0887\"],[0.1111111111111111,\"#46039f\"],[0.2222222222222222,\"#7201a8\"],[0.3333333333333333,\"#9c179e\"],[0.4444444444444444,\"#bd3786\"],[0.5555555555555556,\"#d8576b\"],[0.6666666666666666,\"#ed7953\"],[0.7777777777777778,\"#fb9f3a\"],[0.8888888888888888,\"#fdca26\"],[1.0,\"#f0f921\"]],\"type\":\"surface\"}],\"table\":[{\"cells\":{\"fill\":{\"color\":\"#506784\"},\"line\":{\"color\":\"rgb(17,17,17)\"}},\"header\":{\"fill\":{\"color\":\"#2a3f5f\"},\"line\":{\"color\":\"rgb(17,17,17)\"}},\"type\":\"table\"}]},\"layout\":{\"annotationdefaults\":{\"arrowcolor\":\"#f2f5fa\",\"arrowhead\":0,\"arrowwidth\":1},\"autotypenumbers\":\"strict\",\"coloraxis\":{\"colorbar\":{\"outlinewidth\":0,\"ticks\":\"\"}},\"colorscale\":{\"diverging\":[[0,\"#8e0152\"],[0.1,\"#c51b7d\"],[0.2,\"#de77ae\"],[0.3,\"#f1b6da\"],[0.4,\"#fde0ef\"],[0.5,\"#f7f7f7\"],[0.6,\"#e6f5d0\"],[0.7,\"#b8e186\"],[0.8,\"#7fbc41\"],[0.9,\"#4d9221\"],[1,\"#276419\"]],\"sequential\":[[0.0,\"#0d0887\"],[0.1111111111111111,\"#46039f\"],[0.2222222222222222,\"#7201a8\"],[0.3333333333333333,\"#9c179e\"],[0.4444444444444444,\"#bd3786\"],[0.5555555555555556,\"#d8576b\"],[0.6666666666666666,\"#ed7953\"],[0.7777777777777778,\"#fb9f3a\"],[0.8888888888888888,\"#fdca26\"],[1.0,\"#f0f921\"]],\"sequentialminus\":[[0.0,\"#0d0887\"],[0.1111111111111111,\"#46039f\"],[0.2222222222222222,\"#7201a8\"],[0.3333333333333333,\"#9c179e\"],[0.4444444444444444,\"#bd3786\"],[0.5555555555555556,\"#d8576b\"],[0.6666666666666666,\"#ed7953\"],[0.7777777777777778,\"#fb9f3a\"],[0.8888888888888888,\"#fdca26\"],[1.0,\"#f0f921\"]]},\"colorway\":[\"#636efa\",\"#EF553B\",\"#00cc96\",\"#ab63fa\",\"#FFA15A\",\"#19d3f3\",\"#FF6692\",\"#B6E880\",\"#FF97FF\",\"#FECB52\"],\"font\":{\"color\":\"#f2f5fa\"},\"geo\":{\"bgcolor\":\"rgb(17,17,17)\",\"lakecolor\":\"rgb(17,17,17)\",\"landcolor\":\"rgb(17,17,17)\",\"showlakes\":true,\"showland\":true,\"subunitcolor\":\"#506784\"},\"hoverlabel\":{\"align\":\"left\"},\"hovermode\":\"closest\",\"mapbox\":{\"style\":\"dark\"},\"paper_bgcolor\":\"rgb(17,17,17)\",\"plot_bgcolor\":\"rgb(17,17,17)\",\"polar\":{\"angularaxis\":{\"gridcolor\":\"#506784\",\"linecolor\":\"#506784\",\"ticks\":\"\"},\"bgcolor\":\"rgb(17,17,17)\",\"radialaxis\":{\"gridcolor\":\"#506784\",\"linecolor\":\"#506784\",\"ticks\":\"\"}},\"scene\":{\"xaxis\":{\"backgroundcolor\":\"rgb(17,17,17)\",\"gridcolor\":\"#506784\",\"gridwidth\":2,\"linecolor\":\"#506784\",\"showbackground\":true,\"ticks\":\"\",\"zerolinecolor\":\"#C8D4E3\"},\"yaxis\":{\"backgroundcolor\":\"rgb(17,17,17)\",\"gridcolor\":\"#506784\",\"gridwidth\":2,\"linecolor\":\"#506784\",\"showbackground\":true,\"ticks\":\"\",\"zerolinecolor\":\"#C8D4E3\"},\"zaxis\":{\"backgroundcolor\":\"rgb(17,17,17)\",\"gridcolor\":\"#506784\",\"gridwidth\":2,\"linecolor\":\"#506784\",\"showbackground\":true,\"ticks\":\"\",\"zerolinecolor\":\"#C8D4E3\"}},\"shapedefaults\":{\"line\":{\"color\":\"#f2f5fa\"}},\"sliderdefaults\":{\"bgcolor\":\"#C8D4E3\",\"bordercolor\":\"rgb(17,17,17)\",\"borderwidth\":1,\"tickwidth\":0},\"ternary\":{\"aaxis\":{\"gridcolor\":\"#506784\",\"linecolor\":\"#506784\",\"ticks\":\"\"},\"baxis\":{\"gridcolor\":\"#506784\",\"linecolor\":\"#506784\",\"ticks\":\"\"},\"bgcolor\":\"rgb(17,17,17)\",\"caxis\":{\"gridcolor\":\"#506784\",\"linecolor\":\"#506784\",\"ticks\":\"\"}},\"title\":{\"x\":0.05},\"updatemenudefaults\":{\"bgcolor\":\"#506784\",\"borderwidth\":0},\"xaxis\":{\"automargin\":true,\"gridcolor\":\"#283442\",\"linecolor\":\"#506784\",\"ticks\":\"\",\"title\":{\"standoff\":15},\"zerolinecolor\":\"#283442\",\"zerolinewidth\":2},\"yaxis\":{\"automargin\":true,\"gridcolor\":\"#283442\",\"linecolor\":\"#506784\",\"ticks\":\"\",\"title\":{\"standoff\":15},\"zerolinecolor\":\"#283442\",\"zerolinewidth\":2}}},\"title\":{\"font\":{\"color\":\"#4D5663\"}},\"xaxis\":{\"gridcolor\":\"#E1E5ED\",\"showgrid\":true,\"tickfont\":{\"color\":\"#4D5663\"},\"title\":{\"font\":{\"color\":\"#4D5663\"},\"text\":\"\"},\"zerolinecolor\":\"#E1E5ED\"},\"yaxis\":{\"gridcolor\":\"#E1E5ED\",\"showgrid\":true,\"tickfont\":{\"color\":\"#4D5663\"},\"title\":{\"font\":{\"color\":\"#4D5663\"},\"text\":\"\"},\"zerolinecolor\":\"#E1E5ED\"}},                        {\"showLink\": true, \"linkText\": \"Export to plot.ly\", \"plotlyServerURL\": \"https://plot.ly\", \"responsive\": true}                    ).then(function(){\n                            \nvar gd = document.getElementById('bf29e594-77a6-4c3d-a8ee-b7b9b5ce5c39');\nvar x = new MutationObserver(function (mutations, observer) {{\n        var display = window.getComputedStyle(gd).display;\n        if (!display || display === 'none') {{\n            console.log([gd, 'removed!']);\n            Plotly.purge(gd);\n            observer.disconnect();\n        }}\n}});\n\n// Listen for the removal of the full notebook cells\nvar notebookContainer = gd.closest('#notebook-container');\nif (notebookContainer) {{\n    x.observe(notebookContainer, {childList: true});\n}}\n\n// Listen for the clearing of the current output cell\nvar outputEl = gd.closest('.output');\nif (outputEl) {{\n    x.observe(outputEl, {childList: true});\n}}\n\n                        })                };                });            </script>        </div>"
     },
     "metadata": {},
     "output_type": "display_data"
    }
   ],
   "source": [
    "import chart_studio.plotly as py\n",
    "import cufflinks as cf\n",
    "cf.go_offline(connected=True)\n",
    "train = df[:ntrain]\n",
    "survived = train[train['Survived'] == 1]['Ticket_Num_Cut']\n",
    "dead = train[train['Survived'] == 0]['Ticket_Num_Cut']\n",
    "df_temp1 = pd.concat([survived, dead], axis=1, keys=['Survived', 'Dead'])\n",
    "df_temp1.iplot(kind='histogram')"
   ],
   "metadata": {
    "collapsed": false
   }
  },
  {
   "cell_type": "code",
   "execution_count": 205,
   "outputs": [
    {
     "data": {
      "text/plain": "   PassengerId  Survived  Pclass  Sex  Age            Ticket  Fare Cabin  \\\n0            1       0.0       3    0  3.0         A/5 21171   0.0     U   \n1            2       1.0       1    1  4.0          PC 17599   3.0     C   \n2            3       1.0       3    1  3.0  STON/O2. 3101282   0.0     U   \n3            4       1.0       1    1  4.0            113803   2.0     C   \n4            5       0.0       3    0  4.0            373450   0.0     U   \n\n   Embarked  Initial  Family Ticket_Initial Ticket_Num Ticket_initial_test  \\\n0         0      0.0       2            A/5      21171                   A   \n1         1      2.0       2             PC      17599                  PC   \n2         0      1.0       1       STON/O2.    3101282               STONO   \n3         0      2.0       2            NaN     113803                 NaN   \n4         0      0.0       1            NaN     373450                 NaN   \n\n   Ticket_initial2  Ticket_Num_Cut  \n0                0               3  \n1                1               3  \n2                2               9  \n3                3               5  \n4                3               9  ",
      "text/html": "<div>\n<style scoped>\n    .dataframe tbody tr th:only-of-type {\n        vertical-align: middle;\n    }\n\n    .dataframe tbody tr th {\n        vertical-align: top;\n    }\n\n    .dataframe thead th {\n        text-align: right;\n    }\n</style>\n<table border=\"1\" class=\"dataframe\">\n  <thead>\n    <tr style=\"text-align: right;\">\n      <th></th>\n      <th>PassengerId</th>\n      <th>Survived</th>\n      <th>Pclass</th>\n      <th>Sex</th>\n      <th>Age</th>\n      <th>Ticket</th>\n      <th>Fare</th>\n      <th>Cabin</th>\n      <th>Embarked</th>\n      <th>Initial</th>\n      <th>Family</th>\n      <th>Ticket_Initial</th>\n      <th>Ticket_Num</th>\n      <th>Ticket_initial_test</th>\n      <th>Ticket_initial2</th>\n      <th>Ticket_Num_Cut</th>\n    </tr>\n  </thead>\n  <tbody>\n    <tr>\n      <th>0</th>\n      <td>1</td>\n      <td>0.0</td>\n      <td>3</td>\n      <td>0</td>\n      <td>3.0</td>\n      <td>A/5 21171</td>\n      <td>0.0</td>\n      <td>U</td>\n      <td>0</td>\n      <td>0.0</td>\n      <td>2</td>\n      <td>A/5</td>\n      <td>21171</td>\n      <td>A</td>\n      <td>0</td>\n      <td>3</td>\n    </tr>\n    <tr>\n      <th>1</th>\n      <td>2</td>\n      <td>1.0</td>\n      <td>1</td>\n      <td>1</td>\n      <td>4.0</td>\n      <td>PC 17599</td>\n      <td>3.0</td>\n      <td>C</td>\n      <td>1</td>\n      <td>2.0</td>\n      <td>2</td>\n      <td>PC</td>\n      <td>17599</td>\n      <td>PC</td>\n      <td>1</td>\n      <td>3</td>\n    </tr>\n    <tr>\n      <th>2</th>\n      <td>3</td>\n      <td>1.0</td>\n      <td>3</td>\n      <td>1</td>\n      <td>3.0</td>\n      <td>STON/O2. 3101282</td>\n      <td>0.0</td>\n      <td>U</td>\n      <td>0</td>\n      <td>1.0</td>\n      <td>1</td>\n      <td>STON/O2.</td>\n      <td>3101282</td>\n      <td>STONO</td>\n      <td>2</td>\n      <td>9</td>\n    </tr>\n    <tr>\n      <th>3</th>\n      <td>4</td>\n      <td>1.0</td>\n      <td>1</td>\n      <td>1</td>\n      <td>4.0</td>\n      <td>113803</td>\n      <td>2.0</td>\n      <td>C</td>\n      <td>0</td>\n      <td>2.0</td>\n      <td>2</td>\n      <td>NaN</td>\n      <td>113803</td>\n      <td>NaN</td>\n      <td>3</td>\n      <td>5</td>\n    </tr>\n    <tr>\n      <th>4</th>\n      <td>5</td>\n      <td>0.0</td>\n      <td>3</td>\n      <td>0</td>\n      <td>4.0</td>\n      <td>373450</td>\n      <td>0.0</td>\n      <td>U</td>\n      <td>0</td>\n      <td>0.0</td>\n      <td>1</td>\n      <td>NaN</td>\n      <td>373450</td>\n      <td>NaN</td>\n      <td>3</td>\n      <td>9</td>\n    </tr>\n  </tbody>\n</table>\n</div>"
     },
     "execution_count": 205,
     "metadata": {},
     "output_type": "execute_result"
    }
   ],
   "source": [
    "df.head()"
   ],
   "metadata": {
    "collapsed": false
   }
  },
  {
   "cell_type": "code",
   "execution_count": 206,
   "outputs": [
    {
     "data": {
      "text/plain": "   PassengerId  Survived  Pclass  Sex  Age  Fare Cabin  Embarked  Initial  \\\n0            1       0.0       3    0  3.0   0.0     U         0      0.0   \n1            2       1.0       1    1  4.0   3.0     C         1      2.0   \n2            3       1.0       3    1  3.0   0.0     U         0      1.0   \n3            4       1.0       1    1  4.0   2.0     C         0      2.0   \n4            5       0.0       3    0  4.0   0.0     U         0      0.0   \n\n   Family  Ticket_initial2  Ticket_Num_Cut  \n0       2                0               3  \n1       2                1               3  \n2       1                2               9  \n3       2                3               5  \n4       1                3               9  ",
      "text/html": "<div>\n<style scoped>\n    .dataframe tbody tr th:only-of-type {\n        vertical-align: middle;\n    }\n\n    .dataframe tbody tr th {\n        vertical-align: top;\n    }\n\n    .dataframe thead th {\n        text-align: right;\n    }\n</style>\n<table border=\"1\" class=\"dataframe\">\n  <thead>\n    <tr style=\"text-align: right;\">\n      <th></th>\n      <th>PassengerId</th>\n      <th>Survived</th>\n      <th>Pclass</th>\n      <th>Sex</th>\n      <th>Age</th>\n      <th>Fare</th>\n      <th>Cabin</th>\n      <th>Embarked</th>\n      <th>Initial</th>\n      <th>Family</th>\n      <th>Ticket_initial2</th>\n      <th>Ticket_Num_Cut</th>\n    </tr>\n  </thead>\n  <tbody>\n    <tr>\n      <th>0</th>\n      <td>1</td>\n      <td>0.0</td>\n      <td>3</td>\n      <td>0</td>\n      <td>3.0</td>\n      <td>0.0</td>\n      <td>U</td>\n      <td>0</td>\n      <td>0.0</td>\n      <td>2</td>\n      <td>0</td>\n      <td>3</td>\n    </tr>\n    <tr>\n      <th>1</th>\n      <td>2</td>\n      <td>1.0</td>\n      <td>1</td>\n      <td>1</td>\n      <td>4.0</td>\n      <td>3.0</td>\n      <td>C</td>\n      <td>1</td>\n      <td>2.0</td>\n      <td>2</td>\n      <td>1</td>\n      <td>3</td>\n    </tr>\n    <tr>\n      <th>2</th>\n      <td>3</td>\n      <td>1.0</td>\n      <td>3</td>\n      <td>1</td>\n      <td>3.0</td>\n      <td>0.0</td>\n      <td>U</td>\n      <td>0</td>\n      <td>1.0</td>\n      <td>1</td>\n      <td>2</td>\n      <td>9</td>\n    </tr>\n    <tr>\n      <th>3</th>\n      <td>4</td>\n      <td>1.0</td>\n      <td>1</td>\n      <td>1</td>\n      <td>4.0</td>\n      <td>2.0</td>\n      <td>C</td>\n      <td>0</td>\n      <td>2.0</td>\n      <td>2</td>\n      <td>3</td>\n      <td>5</td>\n    </tr>\n    <tr>\n      <th>4</th>\n      <td>5</td>\n      <td>0.0</td>\n      <td>3</td>\n      <td>0</td>\n      <td>4.0</td>\n      <td>0.0</td>\n      <td>U</td>\n      <td>0</td>\n      <td>0.0</td>\n      <td>1</td>\n      <td>3</td>\n      <td>9</td>\n    </tr>\n  </tbody>\n</table>\n</div>"
     },
     "execution_count": 206,
     "metadata": {},
     "output_type": "execute_result"
    }
   ],
   "source": [
    "drop_features = ['Ticket', 'Ticket_Initial', 'Ticket_initial_test', 'Ticket_Num']\n",
    "df.drop(drop_features, axis=1, inplace=True)\n",
    "df.head()"
   ],
   "metadata": {
    "collapsed": false
   }
  },
  {
   "cell_type": "markdown",
   "source": [
    "### pickle\n",
    "- 데이터 구조나 객체등 어떤 데이터도 파일로 저장하고, 읽을 수 있음\n",
    "- 리스트를 저장하면, 해당 파일을 읽어서, 리스트 변수에 값을 넣을 수 있음"
   ],
   "metadata": {
    "collapsed": false
   }
  },
  {
   "cell_type": "code",
   "execution_count": 207,
   "outputs": [],
   "source": [
    "import pickle"
   ],
   "metadata": {
    "collapsed": false
   }
  },
  {
   "cell_type": "markdown",
   "source": [
    "#### pickle 사용법1: 파일에 저장된 리스트 데이터 읽어서, datas1 변수에 넣기\n",
    "- 파일 위치에는 전체 디렉토리와 해당 파일명까지 써주거나,\n",
    "- 파일명만 써주면, 주피터 노트북이 실행되는 해당 폴더 안에 있는 파일을 의미함\n",
    "\n",
    "```python\n",
    "with open(파일위치, 'rb') as pickle_filename:\n",
    "    datas1 = pickle.load(pickle_filename)\n",
    "```\n",
    "#### pickle 사용법2: 파일에 리스트 변수의 데이터를 저장하기\n",
    "\n",
    "```python\n",
    "with open(파일위치, 'wb') as pickle_filename:\n",
    "    pickle.dump(datas1, pickle_filename)\n",
    "```"
   ],
   "metadata": {
    "collapsed": false
   }
  },
  {
   "cell_type": "code",
   "execution_count": 208,
   "outputs": [],
   "source": [
    "with open('titanic_step1_feature_change.pickle', 'wb') as pickle_filename:\n",
    "    pickle.dump(df, pickle_filename)"
   ],
   "metadata": {
    "collapsed": false
   }
  },
  {
   "cell_type": "code",
   "execution_count": null,
   "outputs": [],
   "source": [],
   "metadata": {
    "collapsed": false
   }
  }
 ],
 "metadata": {
  "kernelspec": {
   "display_name": "Python 3",
   "language": "python",
   "name": "python3"
  },
  "language_info": {
   "codemirror_mode": {
    "name": "ipython",
    "version": 2
   },
   "file_extension": ".py",
   "mimetype": "text/x-python",
   "name": "python",
   "nbconvert_exporter": "python",
   "pygments_lexer": "ipython2",
   "version": "2.7.6"
  }
 },
 "nbformat": 4,
 "nbformat_minor": 0
}
